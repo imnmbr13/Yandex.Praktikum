{
 "cells": [
  {
   "cell_type": "markdown",
   "metadata": {
    "id": "E0vqbgi9ay0H"
   },
   "source": [
    "# Яндекс.Музыка"
   ]
  },
  {
   "cell_type": "markdown",
   "metadata": {
    "id": "VUC88oWjTJw2"
   },
   "source": [
    "Сравнение Москвы и Петербурга окружено мифами. Например:\n",
    " * Москва — мегаполис, подчинённый жёсткому ритму рабочей недели;\n",
    " * Петербург — культурная столица, со своими вкусами.\n",
    "\n",
    "На данных Яндекс.Музыки вы сравните поведение пользователей двух столиц.\n",
    "\n",
    "**Цель исследования** — проверьте три гипотезы:\n",
    "1. Активность пользователей зависит от дня недели. Причём в Москве и Петербурге это проявляется по-разному.\n",
    "2. В понедельник утром в Москве преобладают одни жанры, а в Петербурге — другие. Так же и вечером пятницы преобладают разные жанры — в зависимости от города. \n",
    "3. Москва и Петербург предпочитают разные жанры музыки. В Москве чаще слушают поп-музыку, в Петербурге — русский рэп.\n",
    "\n",
    "**Ход исследования**\n",
    "\n",
    "Данные о поведении пользователей вы получите из файла `yandex_music_project.csv`. О качестве данных ничего не известно. Поэтому перед проверкой гипотез понадобится обзор данных. \n",
    "\n",
    "Вы проверите данные на ошибки и оцените их влияние на исследование. Затем, на этапе предобработки вы поищете возможность исправить самые критичные ошибки данных.\n",
    " \n",
    "Таким образом, исследование пройдёт в три этапа:\n",
    " 1. Обзор данных.\n",
    " 2. Предобработка данных.\n",
    " 3. Проверка гипотез.\n",
    "\n"
   ]
  },
  {
   "cell_type": "markdown",
   "metadata": {
    "id": "Ml1hmfXC_Zcs"
   },
   "source": [
    "## Обзор данных\n",
    "\n",
    "Составьте первое представление о данных Яндекс.Музыки.\n",
    "\n",
    "\n"
   ]
  },
  {
   "cell_type": "markdown",
   "metadata": {
    "id": "57eAOGIz_Zcs"
   },
   "source": [
    "Основной инструмент аналитика — `pandas`. Импортируйте эту библиотеку."
   ]
  },
  {
   "cell_type": "code",
   "execution_count": 3,
   "metadata": {
    "id": "AXN7PHPN_Zcs"
   },
   "outputs": [],
   "source": [
    "import pandas as pd"
   ]
  },
  {
   "cell_type": "markdown",
   "metadata": {
    "id": "SG23P8tt_Zcs"
   },
   "source": [
    "Прочитайте файл `yandex_music_project.csv` из папки `/datasets` и сохраните его в переменной `df`:"
   ]
  },
  {
   "cell_type": "code",
   "execution_count": 4,
   "metadata": {
    "id": "fFVu7vqh_Zct"
   },
   "outputs": [],
   "source": [
    "# df = pd.read_csv('yandex_music_project.csv') # чтение файла с данными и сохранение в df\n",
    "df = pd.read_csv('/datasets/yandex_music_project.csv')"
   ]
  },
  {
   "cell_type": "markdown",
   "metadata": {
    "id": "rDoOMd3uTqnZ"
   },
   "source": [
    "Выведите на экран первые десять строк таблицы:"
   ]
  },
  {
   "cell_type": "code",
   "execution_count": 5,
   "metadata": {
    "id": "oWTVX3gW_Zct"
   },
   "outputs": [
    {
     "data": {
      "text/html": [
       "<div>\n",
       "<style scoped>\n",
       "    .dataframe tbody tr th:only-of-type {\n",
       "        vertical-align: middle;\n",
       "    }\n",
       "\n",
       "    .dataframe tbody tr th {\n",
       "        vertical-align: top;\n",
       "    }\n",
       "\n",
       "    .dataframe thead th {\n",
       "        text-align: right;\n",
       "    }\n",
       "</style>\n",
       "<table border=\"1\" class=\"dataframe\">\n",
       "  <thead>\n",
       "    <tr style=\"text-align: right;\">\n",
       "      <th></th>\n",
       "      <th>userID</th>\n",
       "      <th>Track</th>\n",
       "      <th>artist</th>\n",
       "      <th>genre</th>\n",
       "      <th>City</th>\n",
       "      <th>time</th>\n",
       "      <th>Day</th>\n",
       "    </tr>\n",
       "  </thead>\n",
       "  <tbody>\n",
       "    <tr>\n",
       "      <td>0</td>\n",
       "      <td>FFB692EC</td>\n",
       "      <td>Kamigata To Boots</td>\n",
       "      <td>The Mass Missile</td>\n",
       "      <td>rock</td>\n",
       "      <td>Saint-Petersburg</td>\n",
       "      <td>20:28:33</td>\n",
       "      <td>Wednesday</td>\n",
       "    </tr>\n",
       "    <tr>\n",
       "      <td>1</td>\n",
       "      <td>55204538</td>\n",
       "      <td>Delayed Because of Accident</td>\n",
       "      <td>Andreas Rönnberg</td>\n",
       "      <td>rock</td>\n",
       "      <td>Moscow</td>\n",
       "      <td>14:07:09</td>\n",
       "      <td>Friday</td>\n",
       "    </tr>\n",
       "    <tr>\n",
       "      <td>2</td>\n",
       "      <td>20EC38</td>\n",
       "      <td>Funiculì funiculà</td>\n",
       "      <td>Mario Lanza</td>\n",
       "      <td>pop</td>\n",
       "      <td>Saint-Petersburg</td>\n",
       "      <td>20:58:07</td>\n",
       "      <td>Wednesday</td>\n",
       "    </tr>\n",
       "    <tr>\n",
       "      <td>3</td>\n",
       "      <td>A3DD03C9</td>\n",
       "      <td>Dragons in the Sunset</td>\n",
       "      <td>Fire + Ice</td>\n",
       "      <td>folk</td>\n",
       "      <td>Saint-Petersburg</td>\n",
       "      <td>08:37:09</td>\n",
       "      <td>Monday</td>\n",
       "    </tr>\n",
       "    <tr>\n",
       "      <td>4</td>\n",
       "      <td>E2DC1FAE</td>\n",
       "      <td>Soul People</td>\n",
       "      <td>Space Echo</td>\n",
       "      <td>dance</td>\n",
       "      <td>Moscow</td>\n",
       "      <td>08:34:34</td>\n",
       "      <td>Monday</td>\n",
       "    </tr>\n",
       "    <tr>\n",
       "      <td>5</td>\n",
       "      <td>842029A1</td>\n",
       "      <td>Преданная</td>\n",
       "      <td>IMPERVTOR</td>\n",
       "      <td>rusrap</td>\n",
       "      <td>Saint-Petersburg</td>\n",
       "      <td>13:09:41</td>\n",
       "      <td>Friday</td>\n",
       "    </tr>\n",
       "    <tr>\n",
       "      <td>6</td>\n",
       "      <td>4CB90AA5</td>\n",
       "      <td>True</td>\n",
       "      <td>Roman Messer</td>\n",
       "      <td>dance</td>\n",
       "      <td>Moscow</td>\n",
       "      <td>13:00:07</td>\n",
       "      <td>Wednesday</td>\n",
       "    </tr>\n",
       "    <tr>\n",
       "      <td>7</td>\n",
       "      <td>F03E1C1F</td>\n",
       "      <td>Feeling This Way</td>\n",
       "      <td>Polina Griffith</td>\n",
       "      <td>dance</td>\n",
       "      <td>Moscow</td>\n",
       "      <td>20:47:49</td>\n",
       "      <td>Wednesday</td>\n",
       "    </tr>\n",
       "    <tr>\n",
       "      <td>8</td>\n",
       "      <td>8FA1D3BE</td>\n",
       "      <td>И вновь продолжается бой</td>\n",
       "      <td>NaN</td>\n",
       "      <td>ruspop</td>\n",
       "      <td>Moscow</td>\n",
       "      <td>09:17:40</td>\n",
       "      <td>Friday</td>\n",
       "    </tr>\n",
       "    <tr>\n",
       "      <td>9</td>\n",
       "      <td>E772D5C0</td>\n",
       "      <td>Pessimist</td>\n",
       "      <td>NaN</td>\n",
       "      <td>dance</td>\n",
       "      <td>Saint-Petersburg</td>\n",
       "      <td>21:20:49</td>\n",
       "      <td>Wednesday</td>\n",
       "    </tr>\n",
       "  </tbody>\n",
       "</table>\n",
       "</div>"
      ],
      "text/plain": [
       "     userID                        Track            artist   genre  \\\n",
       "0  FFB692EC            Kamigata To Boots  The Mass Missile    rock   \n",
       "1  55204538  Delayed Because of Accident  Andreas Rönnberg    rock   \n",
       "2    20EC38            Funiculì funiculà       Mario Lanza     pop   \n",
       "3  A3DD03C9        Dragons in the Sunset        Fire + Ice    folk   \n",
       "4  E2DC1FAE                  Soul People        Space Echo   dance   \n",
       "5  842029A1                    Преданная         IMPERVTOR  rusrap   \n",
       "6  4CB90AA5                         True      Roman Messer   dance   \n",
       "7  F03E1C1F             Feeling This Way   Polina Griffith   dance   \n",
       "8  8FA1D3BE     И вновь продолжается бой               NaN  ruspop   \n",
       "9  E772D5C0                    Pessimist               NaN   dance   \n",
       "\n",
       "             City        time        Day  \n",
       "0  Saint-Petersburg  20:28:33  Wednesday  \n",
       "1            Moscow  14:07:09     Friday  \n",
       "2  Saint-Petersburg  20:58:07  Wednesday  \n",
       "3  Saint-Petersburg  08:37:09     Monday  \n",
       "4            Moscow  08:34:34     Monday  \n",
       "5  Saint-Petersburg  13:09:41     Friday  \n",
       "6            Moscow  13:00:07  Wednesday  \n",
       "7            Moscow  20:47:49  Wednesday  \n",
       "8            Moscow  09:17:40     Friday  \n",
       "9  Saint-Petersburg  21:20:49  Wednesday  "
      ]
     },
     "execution_count": 5,
     "metadata": {},
     "output_type": "execute_result"
    }
   ],
   "source": [
    "df.head(10) # получение первых 10 строк таблицы df"
   ]
  },
  {
   "cell_type": "markdown",
   "metadata": {
    "id": "EO73Kwic_Zct"
   },
   "source": [
    "Одной командой получить общую информацию о таблице:"
   ]
  },
  {
   "cell_type": "code",
   "execution_count": 6,
   "metadata": {
    "id": "DSf2kIb-_Zct"
   },
   "outputs": [
    {
     "name": "stdout",
     "output_type": "stream",
     "text": [
      "<class 'pandas.core.frame.DataFrame'>\n",
      "RangeIndex: 65079 entries, 0 to 65078\n",
      "Data columns (total 7 columns):\n",
      "  userID    65079 non-null object\n",
      "Track       63848 non-null object\n",
      "artist      57876 non-null object\n",
      "genre       63881 non-null object\n",
      "  City      65079 non-null object\n",
      "time        65079 non-null object\n",
      "Day         65079 non-null object\n",
      "dtypes: object(7)\n",
      "memory usage: 3.5+ MB\n"
     ]
    }
   ],
   "source": [
    "df.info() # получение общей информации о данных в таблице df"
   ]
  },
  {
   "cell_type": "markdown",
   "metadata": {
    "id": "TaQ2Iwbr_Zct"
   },
   "source": [
    "Итак, в таблице семь столбцов. Тип данных во всех столбцах — `object`.\n",
    "\n",
    "Согласно документации к данным:\n",
    "* `userID` — идентификатор пользователя;\n",
    "* `Track` — название трека;  \n",
    "* `artist` — имя исполнителя;\n",
    "* `genre` — название жанра;\n",
    "* `City` — город пользователя;\n",
    "* `time` — время начала прослушивания;\n",
    "* `Day` — день недели.\n",
    "\n",
    "В названиях колонок видны три нарушения стиля:\n",
    "1. Строчные буквы сочетаются с прописными.\n",
    "2. Встречаются пробелы.\n",
    "3. Колонки названы без использования snake_case.\n",
    "\n",
    "\n",
    "\n",
    "Количество значений в столбцах различается. Значит, в данных есть пропущенные значения.\n"
   ]
  },
  {
   "cell_type": "markdown",
   "metadata": {
    "id": "MCB6-dXG_Zct"
   },
   "source": [
    "**Выводы**\n",
    "\n",
    "В каждой строке таблицы — данные о прослушанном треке. Часть колонок описывает саму композицию: название, исполнителя и жанр. Остальные данные рассказывают о пользователе: из какого он города, когда он слушал музыку. \n",
    "\n",
    "Предварительно можно утверждать, что, данных достаточно для проверки гипотез. Но встречаются пропуски в данных, а в названиях колонок — расхождения с хорошим стилем.\n",
    "\n",
    "Чтобы двигаться дальше, нужно устранить проблемы в данных."
   ]
  },
  {
   "cell_type": "markdown",
   "metadata": {
    "id": "SjYF6Ub9_Zct"
   },
   "source": [
    "## Предобработка данных\n",
    "Исправьте стиль в заголовках столбцов, исключите пропуски. Затем проверьте данные на дубликаты."
   ]
  },
  {
   "cell_type": "markdown",
   "metadata": {
    "id": "dIaKXr29_Zct"
   },
   "source": [
    "### Стиль заголовков\n",
    "Выведите на экран названия столбцов:"
   ]
  },
  {
   "cell_type": "code",
   "execution_count": 7,
   "metadata": {
    "id": "oKOTdF_Q_Zct"
   },
   "outputs": [
    {
     "data": {
      "text/plain": [
       "Index(['  userID', 'Track', 'artist', 'genre', '  City  ', 'time', 'Day'], dtype='object')"
      ]
     },
     "execution_count": 7,
     "metadata": {},
     "output_type": "execute_result"
    }
   ],
   "source": [
    "df.columns # перечень названий столбцов таблицы df"
   ]
  },
  {
   "cell_type": "markdown",
   "metadata": {
    "id": "zj5534cv_Zct"
   },
   "source": [
    "Приведите названия в соответствие с хорошим стилем:\n",
    "* несколько слов в названии запишите в «змеином_регистре»,\n",
    "* все символы сделайте строчными,\n",
    "* устраните пробелы.\n",
    "\n",
    "Для этого переименуйте колонки так:\n",
    "* `'  userID'` → `'user_id'`;\n",
    "* `'Track'` → `'track'`;\n",
    "* `'  City  '` → `'city'`;\n",
    "* `'Day'` → `'day'`."
   ]
  },
  {
   "cell_type": "code",
   "execution_count": 8,
   "metadata": {
    "id": "ISlFqs5y_Zct"
   },
   "outputs": [],
   "source": [
    "df = df.rename(columns = {'  userID' : 'user_id',\n",
    "                         'Track' : 'track',\n",
    "                         '  City  ' : 'city',\n",
    "                         'Day' : 'day'}) # переименование столбцов"
   ]
  },
  {
   "cell_type": "markdown",
   "metadata": {
    "id": "1dqbh00J_Zct"
   },
   "source": [
    "Проверьте результат. Для этого ещё раз выведите на экран названия столбцов:"
   ]
  },
  {
   "cell_type": "code",
   "execution_count": 9,
   "metadata": {
    "id": "d4NOAmTW_Zct"
   },
   "outputs": [
    {
     "data": {
      "text/plain": [
       "Index(['user_id', 'track', 'artist', 'genre', 'city', 'time', 'day'], dtype='object')"
      ]
     },
     "execution_count": 9,
     "metadata": {},
     "output_type": "execute_result"
    }
   ],
   "source": [
    "df.columns # проверка результатов - перечень названий столбцов"
   ]
  },
  {
   "cell_type": "markdown",
   "metadata": {
    "id": "5ISfbcfY_Zct"
   },
   "source": [
    "### Пропуски значений\n",
    "Сначала посчитайте, сколько в таблице пропущенных значений. Для этого достаточно двух методов `pandas`:"
   ]
  },
  {
   "cell_type": "code",
   "execution_count": 12,
   "metadata": {
    "id": "RskX29qr_Zct"
   },
   "outputs": [
    {
     "data": {
      "text/plain": [
       "user_id    0\n",
       "track      0\n",
       "artist     0\n",
       "genre      0\n",
       "city       0\n",
       "time       0\n",
       "day        0\n",
       "dtype: int64"
      ]
     },
     "execution_count": 12,
     "metadata": {},
     "output_type": "execute_result"
    }
   ],
   "source": [
    "df.isna().sum() # подсчёт пропусков"
   ]
  },
  {
   "cell_type": "markdown",
   "metadata": {
    "id": "qubhgnlO_Zct"
   },
   "source": [
    "Не все пропущенные значения влияют на исследование. Так в `track` и `artist` пропуски не важны для вашей работы. Достаточно заменить их явными обозначениями.\n",
    "\n",
    "Но пропуски в `genre` могут помешать сравнению музыкальных вкусов в Москве и Санкт-Петербурге. На практике было бы правильно установить причину пропусков и восстановить данные. Такой возможности нет в учебном проекте. Придётся:\n",
    "* заполнить и эти пропуски явными обозначениями,\n",
    "* оценить, насколько они повредят расчётам. "
   ]
  },
  {
   "cell_type": "markdown",
   "metadata": {
    "id": "fSv2laPA_Zct"
   },
   "source": [
    "Замените пропущенные значения в столбцах `track`, `artist` и `genre` на строку `'unknown'`. Для этого создайте список `columns_to_replace`, переберите его элементы циклом `for` и для каждого столбца выполните замену пропущенных значений:"
   ]
  },
  {
   "cell_type": "code",
   "execution_count": 13,
   "metadata": {
    "id": "KplB5qWs_Zct"
   },
   "outputs": [],
   "source": [
    "columns_to_replace = ['track', 'artist', 'genre']\n",
    "for i in columns_to_replace:\n",
    "    df[i] = df[i].fillna('unknown') # перебор названий столбцов в цикле и замена пропущенных значений на 'unknown'"
   ]
  },
  {
   "cell_type": "markdown",
   "metadata": {
    "id": "Ilsm-MZo_Zct"
   },
   "source": [
    "Убедитесь, что в таблице не осталось пропусков. Для этого ещё раз посчитайте пропущенные значения."
   ]
  },
  {
   "cell_type": "code",
   "execution_count": 14,
   "metadata": {
    "id": "Tq4nYRX4_Zct"
   },
   "outputs": [
    {
     "data": {
      "text/plain": [
       "user_id    0\n",
       "track      0\n",
       "artist     0\n",
       "genre      0\n",
       "city       0\n",
       "time       0\n",
       "day        0\n",
       "dtype: int64"
      ]
     },
     "execution_count": 14,
     "metadata": {},
     "output_type": "execute_result"
    }
   ],
   "source": [
    "df.isna().sum() # подсчёт пропусков"
   ]
  },
  {
   "cell_type": "markdown",
   "metadata": {
    "id": "BWKRtBJ3_Zct"
   },
   "source": [
    "### Дубликаты\n",
    "Посчитайте явные дубликаты в таблице одной командой:"
   ]
  },
  {
   "cell_type": "code",
   "execution_count": 15,
   "metadata": {
    "id": "36eES_S0_Zct"
   },
   "outputs": [
    {
     "data": {
      "text/plain": [
       "3826"
      ]
     },
     "execution_count": 15,
     "metadata": {},
     "output_type": "execute_result"
    }
   ],
   "source": [
    "df.duplicated().sum() # подсчёт явных дубликатов"
   ]
  },
  {
   "cell_type": "markdown",
   "metadata": {
    "id": "Ot25h6XR_Zct"
   },
   "source": [
    "Вызовите специальный метод `pandas`, чтобы удалить явные дубликаты:"
   ]
  },
  {
   "cell_type": "code",
   "execution_count": 16,
   "metadata": {
    "id": "exFHq6tt_Zct"
   },
   "outputs": [],
   "source": [
    "df = df.drop_duplicates().reset_index(drop = True) # удаление явных дубликатов (с удалением старых индексов и формированием новых)"
   ]
  },
  {
   "cell_type": "markdown",
   "metadata": {
    "id": "Im2YwBEG_Zct"
   },
   "source": [
    "Ещё раз посчитайте явные дубликаты в таблице — убедитесь, что полностью от них избавились:"
   ]
  },
  {
   "cell_type": "code",
   "execution_count": 17,
   "metadata": {
    "id": "-8PuNWQ0_Zct"
   },
   "outputs": [
    {
     "data": {
      "text/plain": [
       "0"
      ]
     },
     "execution_count": 17,
     "metadata": {},
     "output_type": "execute_result"
    }
   ],
   "source": [
    "df.duplicated().sum() # проверка на отсутствие дубликатов"
   ]
  },
  {
   "cell_type": "markdown",
   "metadata": {
    "id": "QlFBsxAr_Zct"
   },
   "source": [
    "Теперь избавьтесь от неявных дубликатов в колонке `genre`. Например, название одного и того же жанра может быть записано немного по-разному. Такие ошибки тоже повлияют на результат исследования."
   ]
  },
  {
   "cell_type": "markdown",
   "metadata": {
    "id": "eSjWwsOh_Zct"
   },
   "source": [
    "Выведите на экран список уникальных названий жанров, отсортированный в алфавитном порядке. Для этого:\n",
    "* извлеките нужный столбец датафрейма, \n",
    "* примените к нему метод сортировки,\n",
    "* для отсортированного столбца вызовите метод, который вернёт уникальные значения из столбца."
   ]
  },
  {
   "cell_type": "code",
   "execution_count": 18,
   "metadata": {
    "id": "JIUcqzZN_Zct"
   },
   "outputs": [],
   "source": [
    "genre_unique_name = df['genre'].sort_values().unique() # Просмотр уникальных названий жанров"
   ]
  },
  {
   "cell_type": "markdown",
   "metadata": {
    "id": "qej-Qmuo_Zct"
   },
   "source": [
    "Просмотрите список и найдите неявные дубликаты названия `hiphop`. Это могут быть названия с ошибками или альтернативные названия того же жанра.\n",
    "\n",
    "Вы увидите следующие неявные дубликаты:\n",
    "* *hip*,\n",
    "* *hop*,\n",
    "* *hip-hop*.\n",
    "\n",
    "Чтобы очистить от них таблицу, напишите функцию `replace_wrong_genres()` с двумя параметрами: \n",
    "* `wrong_genres` — список дубликатов,\n",
    "* `correct_genre` — строка с правильным значением.\n",
    "\n",
    "Функция должна исправить колонку `genre` в таблице `df`: заменить каждое значение из списка `wrong_genres` на значение из `correct_genre`."
   ]
  },
  {
   "cell_type": "code",
   "execution_count": 19,
   "metadata": {
    "id": "ErNDkmns_Zct"
   },
   "outputs": [],
   "source": [
    "def replace_wrong_genres(wrong_genres, correct_genre):\n",
    "    for genre in wrong_genres:\n",
    "        df['genre'] = df['genre'].replace(genre, correct_genre)\n",
    "# Функция для замены неявных дубликатов"
   ]
  },
  {
   "cell_type": "markdown",
   "metadata": {
    "id": "aDoBJxbA_Zct"
   },
   "source": [
    "Вызовите `replace_wrong_genres()` и передайте ей такие аргументы, чтобы она устранила неявные дубликаты: вместо `hip`, `hop` и `hip-hop` в таблице должно быть значение `hiphop`:"
   ]
  },
  {
   "cell_type": "code",
   "execution_count": 20,
   "metadata": {
    "id": "YN5i2hpmSo09"
   },
   "outputs": [],
   "source": [
    "wrong_genres = ['hip', 'hop', 'hip-hop']\n",
    "correct_genre = 'hiphop'\n",
    "replace_wrong_genres(wrong_genres, correct_genre)"
   ]
  },
  {
   "cell_type": "markdown",
   "metadata": {
    "id": "zQKF16_RG15m"
   },
   "source": [
    "Проверьте, что заменили неправильные названия:\n",
    "\n",
    "*   hip\n",
    "*   hop\n",
    "*   hip-hop\n",
    "\n",
    "Выведите отсортированный список уникальных значений столбца `genre`:"
   ]
  },
  {
   "cell_type": "code",
   "execution_count": 21,
   "metadata": {
    "id": "wvixALnFG15m"
   },
   "outputs": [
    {
     "data": {
      "text/plain": [
       "array(['acid', 'acoustic', 'action', 'adult', 'africa', 'afrikaans',\n",
       "       'alternative', 'alternativepunk', 'ambient', 'americana',\n",
       "       'animated', 'anime', 'arabesk', 'arabic', 'arena',\n",
       "       'argentinetango', 'art', 'audiobook', 'author', 'avantgarde',\n",
       "       'axé', 'baile', 'balkan', 'beats', 'bigroom', 'black', 'bluegrass',\n",
       "       'blues', 'bollywood', 'bossa', 'brazilian', 'breakbeat', 'breaks',\n",
       "       'broadway', 'cantautori', 'cantopop', 'canzone', 'caribbean',\n",
       "       'caucasian', 'celtic', 'chamber', 'chanson', 'children', 'chill',\n",
       "       'chinese', 'choral', 'christian', 'christmas', 'classical',\n",
       "       'classicmetal', 'club', 'colombian', 'comedy', 'conjazz',\n",
       "       'contemporary', 'country', 'cuban', 'dance', 'dancehall',\n",
       "       'dancepop', 'dark', 'death', 'deep', 'deutschrock', 'deutschspr',\n",
       "       'dirty', 'disco', 'dnb', 'documentary', 'downbeat', 'downtempo',\n",
       "       'drum', 'dub', 'dubstep', 'eastern', 'easy', 'electronic',\n",
       "       'electropop', 'emo', 'entehno', 'epicmetal', 'estrada', 'ethnic',\n",
       "       'eurofolk', 'european', 'experimental', 'extrememetal', 'fado',\n",
       "       'fairytail', 'film', 'fitness', 'flamenco', 'folk', 'folklore',\n",
       "       'folkmetal', 'folkrock', 'folktronica', 'forró', 'frankreich',\n",
       "       'französisch', 'french', 'funk', 'future', 'gangsta', 'garage',\n",
       "       'german', 'ghazal', 'gitarre', 'glitch', 'gospel', 'gothic',\n",
       "       'grime', 'grunge', 'gypsy', 'handsup', \"hard'n'heavy\", 'hardcore',\n",
       "       'hardstyle', 'hardtechno', 'hiphop', 'historisch', 'holiday',\n",
       "       'horror', 'house', 'hymn', 'idm', 'independent', 'indian', 'indie',\n",
       "       'indipop', 'industrial', 'inspirational', 'instrumental',\n",
       "       'international', 'irish', 'jam', 'japanese', 'jazz', 'jewish',\n",
       "       'jpop', 'jungle', 'k-pop', 'karadeniz', 'karaoke', 'kayokyoku',\n",
       "       'korean', 'laiko', 'latin', 'latino', 'leftfield', 'local',\n",
       "       'lounge', 'loungeelectronic', 'lovers', 'malaysian', 'mandopop',\n",
       "       'marschmusik', 'meditative', 'mediterranean', 'melodic', 'metal',\n",
       "       'metalcore', 'mexican', 'middle', 'minimal', 'miscellaneous',\n",
       "       'modern', 'mood', 'mpb', 'muslim', 'native', 'neoklassik', 'neue',\n",
       "       'new', 'newage', 'newwave', 'nu', 'nujazz', 'numetal', 'oceania',\n",
       "       'old', 'opera', 'orchestral', 'other', 'piano', 'podcasts', 'pop',\n",
       "       'popdance', 'popelectronic', 'popeurodance', 'poprussian', 'post',\n",
       "       'posthardcore', 'postrock', 'power', 'progmetal', 'progressive',\n",
       "       'psychedelic', 'punjabi', 'punk', 'quebecois', 'ragga', 'ram',\n",
       "       'rancheras', 'rap', 'rave', 'reggae', 'reggaeton', 'regional',\n",
       "       'relax', 'religious', 'retro', 'rhythm', 'rnb', 'rnr', 'rock',\n",
       "       'rockabilly', 'rockalternative', 'rockindie', 'rockother',\n",
       "       'romance', 'roots', 'ruspop', 'rusrap', 'rusrock', 'russian',\n",
       "       'salsa', 'samba', 'scenic', 'schlager', 'self', 'sertanejo',\n",
       "       'shanson', 'shoegazing', 'showtunes', 'singer', 'ska', 'skarock',\n",
       "       'slow', 'smooth', 'soft', 'soul', 'soulful', 'sound', 'soundtrack',\n",
       "       'southern', 'specialty', 'speech', 'spiritual', 'sport',\n",
       "       'stonerrock', 'surf', 'swing', 'synthpop', 'synthrock',\n",
       "       'sängerportrait', 'tango', 'tanzorchester', 'taraftar', 'tatar',\n",
       "       'tech', 'techno', 'teen', 'thrash', 'top', 'traditional',\n",
       "       'tradjazz', 'trance', 'tribal', 'trip', 'triphop', 'tropical',\n",
       "       'türk', 'türkçe', 'ukrrock', 'unknown', 'urban', 'uzbek',\n",
       "       'variété', 'vi', 'videogame', 'vocal', 'western', 'world',\n",
       "       'worldbeat', 'ïîï', 'электроника'], dtype=object)"
      ]
     },
     "metadata": {},
     "output_type": "display_data"
    }
   ],
   "source": [
    "genre_unique_name_hiphop = df['genre'].sort_values().unique() \n",
    "display(genre_unique_name_hiphop) #Проверка на неявные дубликаты"
   ]
  },
  {
   "cell_type": "markdown",
   "metadata": {
    "id": "jz6a9-7HQUDd"
   },
   "source": [
    "**Выводы**\n",
    "\n",
    "Предобработка обнаружила три проблемы в данных:\n",
    "\n",
    "- нарушения в стиле заголовков,\n",
    "- пропущенные значения,\n",
    "- дубликаты — явные и неявные.\n",
    "\n",
    "Вы исправили заголовки, чтобы упростить работу с таблицей. Без дубликатов исследование станет более точным.\n",
    "\n",
    "Пропущенные значения вы заменили на `'unknown'`. Ещё предстоит увидеть, не повредят ли исследованию пропуски в колонке `genre`.\n",
    "\n",
    "Теперь можно перейти к проверке гипотез. "
   ]
  },
  {
   "cell_type": "markdown",
   "metadata": {
    "id": "WttZHXH0SqKk"
   },
   "source": [
    "## Проверка гипотез"
   ]
  },
  {
   "cell_type": "markdown",
   "metadata": {
    "id": "Im936VVi_Zcu"
   },
   "source": [
    "### Сравнение поведения пользователей двух столиц"
   ]
  },
  {
   "cell_type": "markdown",
   "metadata": {
    "id": "nwt_MuaL_Zcu"
   },
   "source": [
    "Первая гипотеза утверждает, что пользователи по-разному слушают музыку в Москве и Санкт-Петербурге. Проверьте это предположение по данным о трёх днях недели — понедельнике, среде и пятнице. Для этого:\n",
    "\n",
    "* Разделите пользователей Москвы и Санкт-Петербурга\n",
    "* Сравните, сколько треков послушала каждая группа пользователей в понедельник, среду и пятницу.\n"
   ]
  },
  {
   "cell_type": "markdown",
   "metadata": {
    "id": "8Dw_YMmT_Zcu"
   },
   "source": [
    "Для тренировки сначала выполните каждый из расчётов по отдельности. \n",
    "\n",
    "Оцените активность пользователей в каждом городе. Сгруппируйте данные по городу и посчитайте прослушивания в каждой группе.\n",
    "\n"
   ]
  },
  {
   "cell_type": "code",
   "execution_count": 22,
   "metadata": {
    "id": "0_Qs96oh_Zcu"
   },
   "outputs": [
    {
     "name": "stdout",
     "output_type": "stream",
     "text": [
      "Прослушивания в Москве: 42741\n",
      "Прослушивания в Санкт-Петербурге: 18512\n"
     ]
    }
   ],
   "source": [
    "moscow_listening = df[df['city'] == 'Moscow']['city'].count() # Подсчёт прослушиваний в каждом городе\n",
    "spb_listening = df[df['city'] == 'Saint-Petersburg']['city'].count()\n",
    "print('Прослушивания в Москве:', moscow_listening)\n",
    "print('Прослушивания в Санкт-Петербурге:', spb_listening)"
   ]
  },
  {
   "cell_type": "markdown",
   "metadata": {
    "id": "dzli3w8o_Zcu"
   },
   "source": [
    "В Москве прослушиваний больше, чем в Петербурге. Из этого не следует, что московские пользователи чаще слушают музыку. Просто самих пользователей в Москве больше.\n",
    "\n",
    "Теперь сгруппируйте данные по дню недели и подсчитайте прослушивания в понедельник, среду и пятницу. Учтите, что в данных есть информация только о прослушиваниях только за эти дни.\n"
   ]
  },
  {
   "cell_type": "code",
   "execution_count": 33,
   "metadata": {
    "id": "uZMKjiJz_Zcu"
   },
   "outputs": [
    {
     "name": "stdout",
     "output_type": "stream",
     "text": [
      "В понедельник количество слушателей: 21354\n",
      "В среду количество слушателейт: 18059\n",
      "В пятницу количество слушателейт: 21840\n"
     ]
    }
   ],
   "source": [
    "listening_monday = df[df['day'] == 'Monday']['day'].count()\n",
    "listening_wednesday = df[df['day'] == 'Wednesday']['day'].count()\n",
    "listening_friday = df[df['day'] == 'Friday']['day'].count() # Подсчёт прослушиваний в каждый из трёх дней\n",
    "print('В понедельник количество слушателей:', listening_monday)\n",
    "print('В среду количество слушателейт:', listening_wednesday)\n",
    "print('В пятницу количество слушателейт:', listening_friday)\n"
   ]
  },
  {
   "cell_type": "markdown",
   "metadata": {
    "id": "cC2tNrlL_Zcu"
   },
   "source": [
    "В среднем пользователи из двух городов менее активны по средам. Но картина может измениться, если рассмотреть каждый город в отдельности."
   ]
  },
  {
   "cell_type": "markdown",
   "metadata": {
    "id": "POzs8bGa_Zcu"
   },
   "source": [
    "Вы видели, как работает группировка по городу и по дням недели. Теперь напишите функцию, которая объединит два эти расчёта.\n",
    "\n",
    "Создайте функцию `number_tracks()`, которая посчитает прослушивания для заданного дня и города. Ей понадобятся два параметра:\n",
    "* день недели,\n",
    "* название города.\n",
    "\n",
    "В функции сохраните в переменную строки исходной таблицы, у которых значение:\n",
    "  * в колонке `day` равно параметру `day`,\n",
    "  * в колонке `city` равно параметру `city`.\n",
    "\n",
    "Для этого примените последовательную фильтрацию с логической индексацией.\n",
    "\n",
    "Затем посчитайте значения в столбце `user_id` получившейся таблицы. Результат сохраните в новую переменную. Верните эту переменную из функции."
   ]
  },
  {
   "cell_type": "code",
   "execution_count": 40,
   "metadata": {
    "id": "Nz3GdQB1_Zcu"
   },
   "outputs": [],
   "source": [
    "'''<создание функции number_tracks()>'''\n",
    "def number_tracks(day, city):\n",
    "    '''Объявляется функция с двумя параметрами: day, city. В переменной track_list сохраняются \n",
    "     те строки таблицы df, для которых значение в столбце 'day' равно параметру day и одновременно значение\n",
    "     в столбце 'city' равно параметру city (используйте последовательную фильтрацию\n",
    "     с помощью логической индексации).'''\n",
    "    track_list = df[(df['day'] == day) & (df['city'] == city)]\n",
    "    '''В переменной track_list сохраняются те строки таблицы df, для которых \n",
    "    значение в столбце 'day' равно параметру day и одновременно значение\n",
    "    в столбце 'city' равно параметру city (используйте последовательную фильтрацию\n",
    "    с помощью логической индексации).\n",
    "    В переменной track_list_count сохраняется число значений столбца 'user_id',\n",
    "    рассчитанное методом count() для таблицы track_list.'''\n",
    "    track_list_count = track_list['user_id'].count()\n",
    "    '''Функция возвращает число - значение track_list_count.\n",
    "    Функция для подсчёта прослушиваний для конкретного города и дня.\n",
    "    С помощью последовательной фильтрации с логической индексацией она \n",
    "    сначала получит из исходной таблицы строки с нужным днём,\n",
    "    затем из результата отфильтрует строки с нужным городом,\n",
    "    методом count() посчитает количество значений в колонке user_id. \n",
    "    Это количество функция вернёт в качестве результата'''\n",
    "    return track_list_count\n"
   ]
  },
  {
   "cell_type": "markdown",
   "metadata": {
    "id": "ytf7xFrFJQ2r"
   },
   "source": [
    "Вызовите `number_tracks()` шесть раз, меняя значение параметров — так, чтобы получить данные для каждого города в каждый из трёх дней."
   ]
  },
  {
   "cell_type": "code",
   "execution_count": 41,
   "metadata": {
    "id": "rJcRATNQ_Zcu"
   },
   "outputs": [
    {
     "data": {
      "text/plain": [
       "15740"
      ]
     },
     "execution_count": 41,
     "metadata": {},
     "output_type": "execute_result"
    }
   ],
   "source": [
    "number_tracks('Monday', 'Moscow')  # количество прослушиваний в Москве по понедельникам"
   ]
  },
  {
   "cell_type": "code",
   "execution_count": 42,
   "metadata": {
    "id": "hq_ncZ5T_Zcu"
   },
   "outputs": [
    {
     "data": {
      "text/plain": [
       "5614"
      ]
     },
     "execution_count": 42,
     "metadata": {},
     "output_type": "execute_result"
    }
   ],
   "source": [
    "number_tracks('Monday', 'Saint-Petersburg') # количество прослушиваний в Санкт-Петербурге по понедельникам"
   ]
  },
  {
   "cell_type": "code",
   "execution_count": 43,
   "metadata": {
    "id": "_NTy2VPU_Zcu"
   },
   "outputs": [
    {
     "data": {
      "text/plain": [
       "11056"
      ]
     },
     "execution_count": 43,
     "metadata": {},
     "output_type": "execute_result"
    }
   ],
   "source": [
    "number_tracks('Wednesday', 'Moscow') # количество прослушиваний в Москве по средам"
   ]
  },
  {
   "cell_type": "code",
   "execution_count": 44,
   "metadata": {
    "id": "j2y3TAwo_Zcu"
   },
   "outputs": [
    {
     "data": {
      "text/plain": [
       "7003"
      ]
     },
     "execution_count": 44,
     "metadata": {},
     "output_type": "execute_result"
    }
   ],
   "source": [
    "number_tracks('Wednesday', 'Saint-Petersburg') # количество прослушиваний в Санкт-Петербурге по средам"
   ]
  },
  {
   "cell_type": "code",
   "execution_count": 45,
   "metadata": {
    "id": "vYDw5u_K_Zcu"
   },
   "outputs": [
    {
     "data": {
      "text/plain": [
       "15945"
      ]
     },
     "execution_count": 45,
     "metadata": {},
     "output_type": "execute_result"
    }
   ],
   "source": [
    "number_tracks('Friday', 'Moscow') # количество прослушиваний в Москве по пятницам"
   ]
  },
  {
   "cell_type": "code",
   "execution_count": 46,
   "metadata": {
    "id": "8_yzFtW3_Zcu"
   },
   "outputs": [
    {
     "data": {
      "text/plain": [
       "5895"
      ]
     },
     "execution_count": 46,
     "metadata": {},
     "output_type": "execute_result"
    }
   ],
   "source": [
    "number_tracks('Friday', 'Saint-Petersburg') # количество прослушиваний в Санкт-Петербурге по пятницам"
   ]
  },
  {
   "cell_type": "markdown",
   "metadata": {
    "id": "7QXffbO-_Zcu"
   },
   "source": [
    "Создайте c помощью конструктора `pd.DataFrame` таблицу, где\n",
    "* названия колонок — `['city', 'monday', 'wednesday', 'friday']`;\n",
    "* данные — результаты, которые вы получили с помощью `number_tracks`."
   ]
  },
  {
   "cell_type": "code",
   "execution_count": 47,
   "metadata": {
    "id": "APAcLpOr_Zcu"
   },
   "outputs": [
    {
     "data": {
      "text/html": [
       "<div>\n",
       "<style scoped>\n",
       "    .dataframe tbody tr th:only-of-type {\n",
       "        vertical-align: middle;\n",
       "    }\n",
       "\n",
       "    .dataframe tbody tr th {\n",
       "        vertical-align: top;\n",
       "    }\n",
       "\n",
       "    .dataframe thead th {\n",
       "        text-align: right;\n",
       "    }\n",
       "</style>\n",
       "<table border=\"1\" class=\"dataframe\">\n",
       "  <thead>\n",
       "    <tr style=\"text-align: right;\">\n",
       "      <th></th>\n",
       "      <th>city</th>\n",
       "      <th>monday</th>\n",
       "      <th>wednesday</th>\n",
       "      <th>friday</th>\n",
       "    </tr>\n",
       "  </thead>\n",
       "  <tbody>\n",
       "    <tr>\n",
       "      <td>0</td>\n",
       "      <td>Moscow</td>\n",
       "      <td>15740</td>\n",
       "      <td>11056</td>\n",
       "      <td>15945</td>\n",
       "    </tr>\n",
       "    <tr>\n",
       "      <td>1</td>\n",
       "      <td>Saint-Petersburg</td>\n",
       "      <td>5614</td>\n",
       "      <td>7003</td>\n",
       "      <td>5895</td>\n",
       "    </tr>\n",
       "  </tbody>\n",
       "</table>\n",
       "</div>"
      ],
      "text/plain": [
       "               city  monday  wednesday  friday\n",
       "0            Moscow   15740      11056   15945\n",
       "1  Saint-Petersburg    5614       7003    5895"
      ]
     },
     "metadata": {},
     "output_type": "display_data"
    }
   ],
   "source": [
    "cities_listening_columns = ['city', 'monday', 'wednesday', 'friday']\n",
    "cities_listening_line = [['Moscow', 15740, 11056, 15945],['Saint-Petersburg', 5614, 7003, 5895]]\n",
    "cities_listening = pd.DataFrame(data = cities_listening_line, columns = cities_listening_columns) # Таблица с результатами\n",
    "display(cities_listening)"
   ]
  },
  {
   "cell_type": "markdown",
   "metadata": {
    "id": "-EgPIHYu_Zcu"
   },
   "source": [
    "**Выводы**\n",
    "\n",
    "Данные показывают разницу поведения пользователей:\n",
    "\n",
    "- В Москве пик прослушиваний приходится на понедельник и пятницу, а в среду заметен спад.\n",
    "- В Петербурге, наоборот, больше слушают музыку по средам. Активность в понедельник и пятницу здесь почти в равной мере уступает среде.\n",
    "\n",
    "Значит, данные говорят в пользу первой гипотезы."
   ]
  },
  {
   "cell_type": "markdown",
   "metadata": {
    "id": "atZAxtq4_Zcu"
   },
   "source": [
    "### Музыка в начале и в конце недели"
   ]
  },
  {
   "cell_type": "markdown",
   "metadata": {
    "id": "eXrQqXFH_Zcu"
   },
   "source": [
    "Согласно второй гипотезе, утром в понедельник в Москве преобладают одни жанры, а в Петербурге — другие. Так же и вечером пятницы преобладают разные жанры — в зависимости от города."
   ]
  },
  {
   "cell_type": "markdown",
   "metadata": {
    "id": "S8UcW6Hw_Zcu"
   },
   "source": [
    "Сохраните таблицы с данными в две переменные:\n",
    "* по Москве — в `moscow_general`;\n",
    "* по Санкт-Петербургу — в `spb_general`."
   ]
  },
  {
   "cell_type": "code",
   "execution_count": 48,
   "metadata": {
    "id": "qeaFfM_P_Zcu"
   },
   "outputs": [
    {
     "data": {
      "text/html": [
       "<div>\n",
       "<style scoped>\n",
       "    .dataframe tbody tr th:only-of-type {\n",
       "        vertical-align: middle;\n",
       "    }\n",
       "\n",
       "    .dataframe tbody tr th {\n",
       "        vertical-align: top;\n",
       "    }\n",
       "\n",
       "    .dataframe thead th {\n",
       "        text-align: right;\n",
       "    }\n",
       "</style>\n",
       "<table border=\"1\" class=\"dataframe\">\n",
       "  <thead>\n",
       "    <tr style=\"text-align: right;\">\n",
       "      <th></th>\n",
       "      <th>user_id</th>\n",
       "      <th>track</th>\n",
       "      <th>artist</th>\n",
       "      <th>genre</th>\n",
       "      <th>city</th>\n",
       "      <th>time</th>\n",
       "      <th>day</th>\n",
       "    </tr>\n",
       "  </thead>\n",
       "  <tbody>\n",
       "    <tr>\n",
       "      <td>1</td>\n",
       "      <td>55204538</td>\n",
       "      <td>Delayed Because of Accident</td>\n",
       "      <td>Andreas Rönnberg</td>\n",
       "      <td>rock</td>\n",
       "      <td>Moscow</td>\n",
       "      <td>14:07:09</td>\n",
       "      <td>Friday</td>\n",
       "    </tr>\n",
       "    <tr>\n",
       "      <td>4</td>\n",
       "      <td>E2DC1FAE</td>\n",
       "      <td>Soul People</td>\n",
       "      <td>Space Echo</td>\n",
       "      <td>dance</td>\n",
       "      <td>Moscow</td>\n",
       "      <td>08:34:34</td>\n",
       "      <td>Monday</td>\n",
       "    </tr>\n",
       "    <tr>\n",
       "      <td>6</td>\n",
       "      <td>4CB90AA5</td>\n",
       "      <td>True</td>\n",
       "      <td>Roman Messer</td>\n",
       "      <td>dance</td>\n",
       "      <td>Moscow</td>\n",
       "      <td>13:00:07</td>\n",
       "      <td>Wednesday</td>\n",
       "    </tr>\n",
       "    <tr>\n",
       "      <td>7</td>\n",
       "      <td>F03E1C1F</td>\n",
       "      <td>Feeling This Way</td>\n",
       "      <td>Polina Griffith</td>\n",
       "      <td>dance</td>\n",
       "      <td>Moscow</td>\n",
       "      <td>20:47:49</td>\n",
       "      <td>Wednesday</td>\n",
       "    </tr>\n",
       "    <tr>\n",
       "      <td>8</td>\n",
       "      <td>8FA1D3BE</td>\n",
       "      <td>И вновь продолжается бой</td>\n",
       "      <td>unknown</td>\n",
       "      <td>ruspop</td>\n",
       "      <td>Moscow</td>\n",
       "      <td>09:17:40</td>\n",
       "      <td>Friday</td>\n",
       "    </tr>\n",
       "    <tr>\n",
       "      <td>...</td>\n",
       "      <td>...</td>\n",
       "      <td>...</td>\n",
       "      <td>...</td>\n",
       "      <td>...</td>\n",
       "      <td>...</td>\n",
       "      <td>...</td>\n",
       "      <td>...</td>\n",
       "    </tr>\n",
       "    <tr>\n",
       "      <td>61247</td>\n",
       "      <td>83A474E7</td>\n",
       "      <td>I Worship Only What You Bleed</td>\n",
       "      <td>The Black Dahlia Murder</td>\n",
       "      <td>extrememetal</td>\n",
       "      <td>Moscow</td>\n",
       "      <td>21:07:12</td>\n",
       "      <td>Monday</td>\n",
       "    </tr>\n",
       "    <tr>\n",
       "      <td>61248</td>\n",
       "      <td>729CBB09</td>\n",
       "      <td>My Name</td>\n",
       "      <td>McLean</td>\n",
       "      <td>rnb</td>\n",
       "      <td>Moscow</td>\n",
       "      <td>13:32:28</td>\n",
       "      <td>Wednesday</td>\n",
       "    </tr>\n",
       "    <tr>\n",
       "      <td>61250</td>\n",
       "      <td>C5E3A0D5</td>\n",
       "      <td>Jalopiina</td>\n",
       "      <td>unknown</td>\n",
       "      <td>industrial</td>\n",
       "      <td>Moscow</td>\n",
       "      <td>20:09:26</td>\n",
       "      <td>Friday</td>\n",
       "    </tr>\n",
       "    <tr>\n",
       "      <td>61251</td>\n",
       "      <td>321D0506</td>\n",
       "      <td>Freight Train</td>\n",
       "      <td>Chas McDevitt</td>\n",
       "      <td>rock</td>\n",
       "      <td>Moscow</td>\n",
       "      <td>21:43:59</td>\n",
       "      <td>Friday</td>\n",
       "    </tr>\n",
       "    <tr>\n",
       "      <td>61252</td>\n",
       "      <td>3A64EF84</td>\n",
       "      <td>Tell Me Sweet Little Lies</td>\n",
       "      <td>Monica Lopez</td>\n",
       "      <td>country</td>\n",
       "      <td>Moscow</td>\n",
       "      <td>21:59:46</td>\n",
       "      <td>Friday</td>\n",
       "    </tr>\n",
       "  </tbody>\n",
       "</table>\n",
       "<p>42741 rows × 7 columns</p>\n",
       "</div>"
      ],
      "text/plain": [
       "        user_id                          track                   artist  \\\n",
       "1      55204538    Delayed Because of Accident         Andreas Rönnberg   \n",
       "4      E2DC1FAE                    Soul People               Space Echo   \n",
       "6      4CB90AA5                           True             Roman Messer   \n",
       "7      F03E1C1F               Feeling This Way          Polina Griffith   \n",
       "8      8FA1D3BE       И вновь продолжается бой                  unknown   \n",
       "...         ...                            ...                      ...   \n",
       "61247  83A474E7  I Worship Only What You Bleed  The Black Dahlia Murder   \n",
       "61248  729CBB09                        My Name                   McLean   \n",
       "61250  C5E3A0D5                      Jalopiina                  unknown   \n",
       "61251  321D0506                  Freight Train            Chas McDevitt   \n",
       "61252  3A64EF84      Tell Me Sweet Little Lies             Monica Lopez   \n",
       "\n",
       "              genre    city      time        day  \n",
       "1              rock  Moscow  14:07:09     Friday  \n",
       "4             dance  Moscow  08:34:34     Monday  \n",
       "6             dance  Moscow  13:00:07  Wednesday  \n",
       "7             dance  Moscow  20:47:49  Wednesday  \n",
       "8            ruspop  Moscow  09:17:40     Friday  \n",
       "...             ...     ...       ...        ...  \n",
       "61247  extrememetal  Moscow  21:07:12     Monday  \n",
       "61248           rnb  Moscow  13:32:28  Wednesday  \n",
       "61250    industrial  Moscow  20:09:26     Friday  \n",
       "61251          rock  Moscow  21:43:59     Friday  \n",
       "61252       country  Moscow  21:59:46     Friday  \n",
       "\n",
       "[42741 rows x 7 columns]"
      ]
     },
     "metadata": {},
     "output_type": "display_data"
    }
   ],
   "source": [
    "moscow_general = df[df['city'] == 'Moscow'] # получение таблицы moscow_general из тех строк таблицы df, \n",
    "display(moscow_general)                                  # для которых значение в столбце 'city' равно 'Moscow'\n"
   ]
  },
  {
   "cell_type": "code",
   "execution_count": 49,
   "metadata": {
    "id": "ORaVRKto_Zcu"
   },
   "outputs": [],
   "source": [
    "spb_general = df[df['city'] == 'Saint-Petersburg'] # получение таблицы spb_general из тех строк таблицы df,\n",
    "# для которых значение в столбце 'city' равно 'Saint-Petersburg'\n"
   ]
  },
  {
   "cell_type": "markdown",
   "metadata": {
    "id": "MEJV-CX2_Zcu"
   },
   "source": [
    "Создайте функцию `genre_weekday()` с четырьмя параметрами:\n",
    "* таблица (датафрейм) с данными,\n",
    "* день недели,\n",
    "* начальная временная метка в формате 'hh:mm', \n",
    "* последняя временная метка в формате 'hh:mm'.\n",
    "\n",
    "Функция должна вернуть информацию о топ-10 жанров тех треков, которые прослушивали в указанный день, в промежутке между двумя отметками времени."
   ]
  },
  {
   "cell_type": "code",
   "execution_count": 50,
   "metadata": {
    "id": "laJT9BYl_Zcu"
   },
   "outputs": [],
   "source": [
    "def genre_weekday(table, day, time1, time2):\n",
    "     \n",
    "# Объявление функции genre_weekday() с параметрами table, day, time1, time2,\n",
    "# которая возвращает информацию о самых популярных жанрах в указанный день в\n",
    "# заданное время:\n",
    "# 1) в переменную genre_df сохраняются те строки переданного датафрейма table, для\n",
    "#    которых одновременно:\n",
    "#    - значение в столбце day равно значению аргумента day\n",
    "#    - значение в столбце time больше значения аргумента time1\n",
    "#    - значение в столбце time меньше значения аргумента time2\n",
    "#    Используйте последовательную фильтрацию с помощью логической индексации.\n",
    "     genre_df = table[(table['day'] == day) & (table['time'] > time1) & (table['time'] < time2)]\n",
    "# 2) сгруппировать датафрейм genre_df по столбцу genre, взять один из его\n",
    "#    столбцов и посчитать методом count() количество записей для каждого из\n",
    "#    присутствующих жанров, получившийся Series записать в переменную\n",
    "#    genre_df_count\n",
    "     genre_df_count = genre_df.groupby('genre')['city'].count()\n",
    "# 3) отсортировать genre_df_count по убыванию встречаемости и сохранить\n",
    "#    в переменную genre_df_sorted\n",
    "     genre_df_sorted = genre_df_count.sort_values(ascending = False)\n",
    "# 4) вернуть Series из 10 первых значений genre_df_sorted, это будут топ-10\n",
    "#    популярных жанров (в указанный день, в заданное время)\n",
    "     return genre_df_sorted.head(10)"
   ]
  },
  {
   "cell_type": "markdown",
   "metadata": {
    "id": "la2s2_PF_Zcu"
   },
   "source": [
    "Cравните результаты функции `genre_weekday()` для Москвы и Санкт-Петербурга в понедельник утром (с 7:00 до 11:00) и в пятницу вечером (с 17:00 до 23:00):"
   ]
  },
  {
   "cell_type": "code",
   "execution_count": 51,
   "metadata": {
    "id": "yz7itPUQ_Zcu"
   },
   "outputs": [
    {
     "data": {
      "text/plain": [
       "genre\n",
       "pop            781\n",
       "dance          549\n",
       "electronic     480\n",
       "rock           474\n",
       "hiphop         286\n",
       "ruspop         186\n",
       "world          181\n",
       "rusrap         175\n",
       "alternative    164\n",
       "unknown        161\n",
       "Name: city, dtype: int64"
      ]
     },
     "execution_count": 51,
     "metadata": {},
     "output_type": "execute_result"
    }
   ],
   "source": [
    "genre_weekday(moscow_general, 'Monday', '07:00', '11:00') # вызов функции для утра понедельника в Москве (вместо df — таблица moscow_general)\n",
    "# объекты, хранящие время, являются строками и сравниваются как строки\n",
    "# пример вызова: genre_weekday(moscow_general, 'Monday', '07:00', '11:00')"
   ]
  },
  {
   "cell_type": "code",
   "execution_count": 52,
   "metadata": {
    "id": "kwUcHPdy_Zcu"
   },
   "outputs": [
    {
     "data": {
      "text/plain": [
       "genre\n",
       "pop            218\n",
       "dance          182\n",
       "rock           162\n",
       "electronic     147\n",
       "hiphop          80\n",
       "ruspop          64\n",
       "alternative     58\n",
       "rusrap          55\n",
       "jazz            44\n",
       "classical       40\n",
       "Name: city, dtype: int64"
      ]
     },
     "execution_count": 52,
     "metadata": {},
     "output_type": "execute_result"
    }
   ],
   "source": [
    "genre_weekday(spb_general, 'Monday', '07:00', '11:00') # вызов функции для утра понедельника в Петербурге (вместо df — таблица spb_general)"
   ]
  },
  {
   "cell_type": "code",
   "execution_count": 53,
   "metadata": {
    "id": "EzXVRE1o_Zcu"
   },
   "outputs": [
    {
     "data": {
      "text/plain": [
       "genre\n",
       "pop            717\n",
       "dance          524\n",
       "rock           518\n",
       "electronic     485\n",
       "hiphop         238\n",
       "alternative    182\n",
       "world          172\n",
       "classical      172\n",
       "ruspop         149\n",
       "rusrap         133\n",
       "Name: city, dtype: int64"
      ]
     },
     "execution_count": 53,
     "metadata": {},
     "output_type": "execute_result"
    }
   ],
   "source": [
    "genre_weekday(moscow_general, 'Monday', '17:00', '23:00') # вызов функции для вечера пятницы в Москве"
   ]
  },
  {
   "cell_type": "code",
   "execution_count": 54,
   "metadata": {
    "id": "JZaEKu5v_Zcu"
   },
   "outputs": [
    {
     "data": {
      "text/plain": [
       "genre\n",
       "pop            263\n",
       "rock           208\n",
       "electronic     192\n",
       "dance          191\n",
       "hiphop         104\n",
       "alternative     72\n",
       "classical       71\n",
       "jazz            57\n",
       "rusrap          54\n",
       "ruspop          53\n",
       "Name: city, dtype: int64"
      ]
     },
     "execution_count": 54,
     "metadata": {},
     "output_type": "execute_result"
    }
   ],
   "source": [
    "genre_weekday(spb_general, 'Monday', '17:00', '23:00') # вызов функции для вечера пятницы в Петербурге"
   ]
  },
  {
   "cell_type": "markdown",
   "metadata": {
    "id": "wrCe4MNX_Zcu"
   },
   "source": [
    "**Выводы**\n",
    "\n",
    "Если сравнить топ-10 жанров в понедельник утром, можно сделать такие выводы:\n",
    "\n",
    "1. В Москве и Петербурге слушают похожую музыку. Единственное отличие — в московский рейтинг вошёл жанр “world”, а в петербургский — джаз и классика.\n",
    "\n",
    "2. В Москве пропущенных значений оказалось так много, что значение `'unknown'` заняло десятое место среди самых популярных жанров. Значит, пропущенные значения занимают существенную долю в данных и угрожают достоверности исследования.\n",
    "\n",
    "Вечер пятницы не меняет эту картину. Некоторые жанры поднимаются немного выше, другие спускаются, но в целом топ-10 остаётся тем же самым.\n",
    "\n",
    "Таким образом, вторая гипотеза подтвердилась лишь частично:\n",
    "* Пользователи слушают похожую музыку в начале недели и в конце.\n",
    "* Разница между Москвой и Петербургом не слишком выражена. В Москве чаще слушают русскую популярную музыку, в Петербурге — джаз.\n",
    "\n",
    "Однако пропуски в данных ставят под сомнение этот результат. В Москве их так много, что рейтинг топ-10 мог бы выглядеть иначе, если бы не утерянные  данные о жанрах."
   ]
  },
  {
   "cell_type": "markdown",
   "metadata": {
    "id": "JolODAqr_Zcu"
   },
   "source": [
    "### Жанровые предпочтения в Москве и Петербурге\n",
    "\n",
    "Гипотеза: Петербург — столица рэпа, музыку этого жанра там слушают чаще, чем в Москве.  А Москва — город контрастов, в котором, тем не менее, преобладает поп-музыка."
   ]
  },
  {
   "cell_type": "markdown",
   "metadata": {
    "id": "DlegSvaT_Zcu"
   },
   "source": [
    "Сгруппируйте таблицу `moscow_general` по жанру и посчитайте прослушивания треков каждого жанра методом `count()`. Затем отсортируйте результат в порядке убывания и сохраните его в таблице `moscow_genres`."
   ]
  },
  {
   "cell_type": "code",
   "execution_count": 55,
   "metadata": {
    "id": "r19lIPke_Zcu"
   },
   "outputs": [],
   "source": [
    "moscow_genres = moscow_general.groupby('genre')['genre'].count().sort_values(ascending = False) \n",
    "# одной строкой: группировка таблицы moscow_general по столбцу 'genre', \n",
    "# подсчёт числа значений 'genre' в этой группировке методом count(), \n",
    "# сортировка получившегося Series в порядке убывания и сохранение в moscow_genres\n"
   ]
  },
  {
   "cell_type": "markdown",
   "metadata": {
    "id": "6kMuomxTiIr8"
   },
   "source": [
    "Выведите на экран первые десять строк `moscow_genres`:"
   ]
  },
  {
   "cell_type": "code",
   "execution_count": 57,
   "metadata": {
    "id": "WhCSooF8_Zcv"
   },
   "outputs": [
    {
     "data": {
      "text/html": [
       "<div>\n",
       "<style scoped>\n",
       "    .dataframe tbody tr th:only-of-type {\n",
       "        vertical-align: middle;\n",
       "    }\n",
       "\n",
       "    .dataframe tbody tr th {\n",
       "        vertical-align: top;\n",
       "    }\n",
       "\n",
       "    .dataframe thead th {\n",
       "        text-align: right;\n",
       "    }\n",
       "</style>\n",
       "<table border=\"1\" class=\"dataframe\">\n",
       "  <thead>\n",
       "    <tr style=\"text-align: right;\">\n",
       "      <th></th>\n",
       "      <th>genre</th>\n",
       "    </tr>\n",
       "    <tr>\n",
       "      <th>genre</th>\n",
       "      <th></th>\n",
       "    </tr>\n",
       "  </thead>\n",
       "  <tbody>\n",
       "    <tr>\n",
       "      <td>pop</td>\n",
       "      <td>5892</td>\n",
       "    </tr>\n",
       "    <tr>\n",
       "      <td>dance</td>\n",
       "      <td>4435</td>\n",
       "    </tr>\n",
       "    <tr>\n",
       "      <td>rock</td>\n",
       "      <td>3965</td>\n",
       "    </tr>\n",
       "    <tr>\n",
       "      <td>electronic</td>\n",
       "      <td>3786</td>\n",
       "    </tr>\n",
       "    <tr>\n",
       "      <td>hiphop</td>\n",
       "      <td>2096</td>\n",
       "    </tr>\n",
       "    <tr>\n",
       "      <td>classical</td>\n",
       "      <td>1616</td>\n",
       "    </tr>\n",
       "    <tr>\n",
       "      <td>world</td>\n",
       "      <td>1432</td>\n",
       "    </tr>\n",
       "    <tr>\n",
       "      <td>alternative</td>\n",
       "      <td>1379</td>\n",
       "    </tr>\n",
       "    <tr>\n",
       "      <td>ruspop</td>\n",
       "      <td>1372</td>\n",
       "    </tr>\n",
       "    <tr>\n",
       "      <td>rusrap</td>\n",
       "      <td>1161</td>\n",
       "    </tr>\n",
       "  </tbody>\n",
       "</table>\n",
       "</div>"
      ],
      "text/plain": [
       "             genre\n",
       "genre             \n",
       "pop           5892\n",
       "dance         4435\n",
       "rock          3965\n",
       "electronic    3786\n",
       "hiphop        2096\n",
       "classical     1616\n",
       "world         1432\n",
       "alternative   1379\n",
       "ruspop        1372\n",
       "rusrap        1161"
      ]
     },
     "metadata": {},
     "output_type": "display_data"
    }
   ],
   "source": [
    "display(moscow_genres.to_frame().head(10)) # просмотр первых 10 строк moscow_genres"
   ]
  },
  {
   "cell_type": "markdown",
   "metadata": {
    "id": "cnPG2vnN_Zcv"
   },
   "source": [
    "Теперь повторите то же и для Петербурга.\n",
    "\n",
    "Сгруппируйте таблицу `spb_general` по жанру. Посчитайте прослушивания треков каждого жанра. Результат отсортируйте в порядке убывания и сохраните в таблице `spb_genres`:\n"
   ]
  },
  {
   "cell_type": "code",
   "execution_count": 59,
   "metadata": {
    "id": "gluLIpE7_Zcv"
   },
   "outputs": [],
   "source": [
    "spb_genres = spb_general .groupby('genre')['genre'].count().sort_values(ascending = False) \n",
    "# одной строкой: группировка таблицы spb_general по столбцу 'genre', \n",
    "# подсчёт числа значений 'genre' в этой группировке методом count(), \n",
    "# сортировка получившегося Series в порядке убывания и сохранение в spb_genres"
   ]
  },
  {
   "cell_type": "markdown",
   "metadata": {
    "id": "5Doha_ODgyQ8"
   },
   "source": [
    "Выведите на экран первые десять строк `spb_genres`:"
   ]
  },
  {
   "cell_type": "code",
   "execution_count": 61,
   "metadata": {
    "id": "uaGJHjVU_Zcv"
   },
   "outputs": [
    {
     "data": {
      "text/html": [
       "<div>\n",
       "<style scoped>\n",
       "    .dataframe tbody tr th:only-of-type {\n",
       "        vertical-align: middle;\n",
       "    }\n",
       "\n",
       "    .dataframe tbody tr th {\n",
       "        vertical-align: top;\n",
       "    }\n",
       "\n",
       "    .dataframe thead th {\n",
       "        text-align: right;\n",
       "    }\n",
       "</style>\n",
       "<table border=\"1\" class=\"dataframe\">\n",
       "  <thead>\n",
       "    <tr style=\"text-align: right;\">\n",
       "      <th></th>\n",
       "      <th>genre</th>\n",
       "    </tr>\n",
       "    <tr>\n",
       "      <th>genre</th>\n",
       "      <th></th>\n",
       "    </tr>\n",
       "  </thead>\n",
       "  <tbody>\n",
       "    <tr>\n",
       "      <td>pop</td>\n",
       "      <td>2431</td>\n",
       "    </tr>\n",
       "    <tr>\n",
       "      <td>dance</td>\n",
       "      <td>1932</td>\n",
       "    </tr>\n",
       "    <tr>\n",
       "      <td>rock</td>\n",
       "      <td>1879</td>\n",
       "    </tr>\n",
       "    <tr>\n",
       "      <td>electronic</td>\n",
       "      <td>1736</td>\n",
       "    </tr>\n",
       "    <tr>\n",
       "      <td>hiphop</td>\n",
       "      <td>960</td>\n",
       "    </tr>\n",
       "    <tr>\n",
       "      <td>alternative</td>\n",
       "      <td>649</td>\n",
       "    </tr>\n",
       "    <tr>\n",
       "      <td>classical</td>\n",
       "      <td>646</td>\n",
       "    </tr>\n",
       "    <tr>\n",
       "      <td>rusrap</td>\n",
       "      <td>564</td>\n",
       "    </tr>\n",
       "    <tr>\n",
       "      <td>ruspop</td>\n",
       "      <td>538</td>\n",
       "    </tr>\n",
       "    <tr>\n",
       "      <td>world</td>\n",
       "      <td>515</td>\n",
       "    </tr>\n",
       "  </tbody>\n",
       "</table>\n",
       "</div>"
      ],
      "text/plain": [
       "             genre\n",
       "genre             \n",
       "pop           2431\n",
       "dance         1932\n",
       "rock          1879\n",
       "electronic    1736\n",
       "hiphop         960\n",
       "alternative    649\n",
       "classical      646\n",
       "rusrap         564\n",
       "ruspop         538\n",
       "world          515"
      ]
     },
     "metadata": {},
     "output_type": "display_data"
    }
   ],
   "source": [
    "display(spb_genres.to_frame().head(10))# просмотр первых 10 строк spb_genres"
   ]
  },
  {
   "cell_type": "markdown",
   "metadata": {
    "id": "RY51YJYu_Zcv"
   },
   "source": [
    "**Выводы**"
   ]
  },
  {
   "cell_type": "markdown",
   "metadata": {
    "id": "nVhnJEm__Zcv"
   },
   "source": [
    "Гипотеза частично подтвердилась:\n",
    "* Поп-музыка — самый популярный жанр в Москве, как и предполагала гипотеза. Более того, в топ-10 жанров встречается близкий жанр — русская популярная музыка.\n",
    "* Вопреки ожиданиям, рэп одинаково популярен в Москве и Петербурге. \n"
   ]
  },
  {
   "cell_type": "markdown",
   "metadata": {
    "id": "ykKQ0N65_Zcv"
   },
   "source": [
    "## Итоги исследования"
   ]
  },
  {
   "cell_type": "markdown",
   "metadata": {
    "id": "tjUwbHb3_Zcv"
   },
   "source": [
    "Вы проверили три гипотезы и установили:\n",
    "\n",
    "1. День недели по-разному влияет на активность пользователей в Москве и Петербурге. \n",
    "\n",
    "Первая гипотеза полностью подтвердилась.\n",
    "\n",
    "2. Музыкальные предпочтения не сильно меняются в течение недели — будь то Москва или Петербург. Небольшие различия заметны в начале недели, по понедельникам:\n",
    "* в Москве слушают музыку жанра “world”,\n",
    "* в Петербурге — джаз и классику.\n",
    "\n",
    "Таким образом, вторая гипотеза подтвердилась лишь отчасти. Этот результат мог оказаться иным, если бы не пропуски в данных.\n",
    "\n",
    "3. Во вкусах пользователей Москвы и Петербурга больше общего чем различий. Вопреки ожиданиям, предпочтения жанров в Петербурге напоминают московские.\n",
    "\n",
    "Третья гипотеза не подтвердилась. Если различия в предпочтениях и существуют, на основной массе пользователей они незаметны.\n",
    "\n",
    "**На практике исследования содержат проверки статистических гипотез.**\n",
    "Из данных одного сервиса не всегда можно сделать вывод о всех жителях города.\n",
    "Проверки статистических гипотез покажут, насколько они достоверны, исходя из имеющихся данных. \n",
    "С методами проверок гипотез вы ещё познакомитесь в следующих темах."
   ]
  }
 ],
 "metadata": {
  "ExecuteTimeLog": [
   {
    "duration": 345,
    "start_time": "2021-12-20T08:19:24.065Z"
   },
   {
    "duration": 1096,
    "start_time": "2021-12-20T08:20:00.425Z"
   },
   {
    "duration": 1344,
    "start_time": "2021-12-20T08:21:38.859Z"
   },
   {
    "duration": 1051,
    "start_time": "2021-12-20T08:21:45.607Z"
   },
   {
    "duration": 1673,
    "start_time": "2021-12-20T10:29:48.226Z"
   },
   {
    "duration": 3,
    "start_time": "2021-12-20T10:29:49.907Z"
   },
   {
    "duration": 58,
    "start_time": "2021-12-20T10:29:49.913Z"
   },
   {
    "duration": 4,
    "start_time": "2021-12-20T10:29:49.974Z"
   },
   {
    "duration": 15,
    "start_time": "2021-12-20T10:29:49.980Z"
   },
   {
    "duration": 5,
    "start_time": "2021-12-20T10:29:49.998Z"
   },
   {
    "duration": 8,
    "start_time": "2021-12-20T10:29:50.007Z"
   },
   {
    "duration": 5,
    "start_time": "2021-12-20T10:29:50.018Z"
   },
   {
    "duration": 7,
    "start_time": "2021-12-20T10:29:50.025Z"
   },
   {
    "duration": 6,
    "start_time": "2021-12-20T10:29:50.034Z"
   },
   {
    "duration": 21,
    "start_time": "2021-12-20T10:29:50.042Z"
   },
   {
    "duration": 4,
    "start_time": "2021-12-20T10:29:50.065Z"
   },
   {
    "duration": 7,
    "start_time": "2021-12-20T10:29:50.071Z"
   },
   {
    "duration": 14,
    "start_time": "2021-12-20T10:29:50.080Z"
   },
   {
    "duration": 6,
    "start_time": "2021-12-20T10:29:50.096Z"
   },
   {
    "duration": 7,
    "start_time": "2021-12-20T10:29:50.104Z"
   },
   {
    "duration": 9,
    "start_time": "2021-12-20T10:29:50.113Z"
   },
   {
    "duration": 9,
    "start_time": "2021-12-20T10:29:50.124Z"
   },
   {
    "duration": 29,
    "start_time": "2021-12-20T10:29:50.135Z"
   },
   {
    "duration": 6,
    "start_time": "2021-12-20T10:29:50.167Z"
   },
   {
    "duration": 10,
    "start_time": "2021-12-20T10:29:50.176Z"
   },
   {
    "duration": 3,
    "start_time": "2021-12-20T10:29:50.191Z"
   },
   {
    "duration": 5,
    "start_time": "2021-12-20T10:29:50.197Z"
   },
   {
    "duration": 6,
    "start_time": "2021-12-20T10:29:50.205Z"
   },
   {
    "duration": 6,
    "start_time": "2021-12-20T10:29:50.213Z"
   },
   {
    "duration": 10,
    "start_time": "2021-12-20T10:29:50.221Z"
   },
   {
    "duration": 4,
    "start_time": "2021-12-20T10:29:50.263Z"
   },
   {
    "duration": 5,
    "start_time": "2021-12-20T10:29:50.269Z"
   },
   {
    "duration": 4,
    "start_time": "2021-12-20T10:29:50.277Z"
   },
   {
    "duration": 5,
    "start_time": "2021-12-20T10:29:50.283Z"
   },
   {
    "duration": 9,
    "start_time": "2021-12-20T10:29:50.290Z"
   },
   {
    "duration": 4,
    "start_time": "2021-12-20T10:29:50.302Z"
   },
   {
    "duration": 10,
    "start_time": "2021-12-20T10:29:50.308Z"
   },
   {
    "duration": 8,
    "start_time": "2021-12-20T10:29:50.321Z"
   },
   {
    "duration": 3,
    "start_time": "2021-12-20T10:29:50.364Z"
   },
   {
    "duration": 6,
    "start_time": "2021-12-20T10:29:50.369Z"
   },
   {
    "duration": 6,
    "start_time": "2021-12-20T10:29:50.378Z"
   },
   {
    "duration": 5,
    "start_time": "2021-12-20T10:29:50.386Z"
   },
   {
    "duration": 362,
    "start_time": "2021-12-20T10:30:52.984Z"
   },
   {
    "duration": 425,
    "start_time": "2021-12-20T10:31:28.508Z"
   },
   {
    "duration": 363,
    "start_time": "2021-12-20T10:31:37.607Z"
   },
   {
    "duration": 30,
    "start_time": "2021-12-20T10:31:49.263Z"
   },
   {
    "duration": 32,
    "start_time": "2021-12-20T10:34:01.062Z"
   },
   {
    "duration": 52,
    "start_time": "2021-12-20T11:41:46.435Z"
   },
   {
    "duration": 291,
    "start_time": "2021-12-20T11:47:06.122Z"
   },
   {
    "duration": 6,
    "start_time": "2021-12-20T11:47:15.085Z"
   },
   {
    "duration": 24,
    "start_time": "2021-12-20T11:56:34.582Z"
   },
   {
    "duration": 6,
    "start_time": "2021-12-20T11:56:44.725Z"
   },
   {
    "duration": 33,
    "start_time": "2021-12-20T11:57:57.327Z"
   },
   {
    "duration": 19,
    "start_time": "2021-12-20T12:01:34.270Z"
   },
   {
    "duration": 29,
    "start_time": "2021-12-20T12:01:36.372Z"
   },
   {
    "duration": 22,
    "start_time": "2021-12-20T12:02:07.594Z"
   },
   {
    "duration": 32,
    "start_time": "2021-12-20T12:02:09.134Z"
   },
   {
    "duration": 86,
    "start_time": "2021-12-20T12:06:51.871Z"
   },
   {
    "duration": 89,
    "start_time": "2021-12-20T12:07:57.147Z"
   },
   {
    "duration": 73,
    "start_time": "2021-12-20T12:08:05.804Z"
   },
   {
    "duration": 308,
    "start_time": "2021-12-20T12:32:20.030Z"
   },
   {
    "duration": 454,
    "start_time": "2021-12-20T12:32:55.261Z"
   },
   {
    "duration": 12,
    "start_time": "2021-12-20T12:33:05.466Z"
   },
   {
    "duration": 7,
    "start_time": "2021-12-20T12:33:13.408Z"
   },
   {
    "duration": 295,
    "start_time": "2021-12-20T12:33:49.386Z"
   },
   {
    "duration": 378,
    "start_time": "2021-12-20T12:34:24.517Z"
   },
   {
    "duration": 8,
    "start_time": "2021-12-20T12:35:04.175Z"
   },
   {
    "duration": 10,
    "start_time": "2021-12-20T12:35:16.297Z"
   },
   {
    "duration": 517,
    "start_time": "2021-12-20T12:35:33.675Z"
   },
   {
    "duration": 304,
    "start_time": "2021-12-20T12:36:58.473Z"
   },
   {
    "duration": 15,
    "start_time": "2021-12-20T12:37:29.282Z"
   },
   {
    "duration": 7,
    "start_time": "2021-12-20T12:38:07.916Z"
   },
   {
    "duration": 67,
    "start_time": "2021-12-20T12:38:31.033Z"
   },
   {
    "duration": 66,
    "start_time": "2021-12-20T12:38:43.389Z"
   },
   {
    "duration": 292,
    "start_time": "2021-12-20T12:46:46.015Z"
   },
   {
    "duration": 6,
    "start_time": "2021-12-20T12:48:01.776Z"
   },
   {
    "duration": 641,
    "start_time": "2021-12-20T12:48:03.344Z"
   },
   {
    "duration": 56,
    "start_time": "2021-12-20T12:48:49.275Z"
   },
   {
    "duration": 4,
    "start_time": "2021-12-20T12:51:09.066Z"
   },
   {
    "duration": 685,
    "start_time": "2021-12-20T12:51:11.893Z"
   },
   {
    "duration": 4,
    "start_time": "2021-12-20T12:51:49.126Z"
   },
   {
    "duration": 742,
    "start_time": "2021-12-20T12:52:00.430Z"
   },
   {
    "duration": 5,
    "start_time": "2021-12-20T12:52:54.503Z"
   },
   {
    "duration": 1318,
    "start_time": "2021-12-20T12:52:56.403Z"
   },
   {
    "duration": 4,
    "start_time": "2021-12-20T12:54:04.882Z"
   },
   {
    "duration": 590,
    "start_time": "2021-12-20T12:54:09.013Z"
   },
   {
    "duration": 5,
    "start_time": "2021-12-20T12:55:45.661Z"
   },
   {
    "duration": 870,
    "start_time": "2021-12-20T12:55:54.322Z"
   },
   {
    "duration": 617,
    "start_time": "2021-12-20T12:56:36.405Z"
   },
   {
    "duration": 5,
    "start_time": "2021-12-20T12:58:20.460Z"
   },
   {
    "duration": 14,
    "start_time": "2021-12-20T12:58:59.892Z"
   },
   {
    "duration": 17,
    "start_time": "2021-12-20T12:59:04.625Z"
   },
   {
    "duration": 17,
    "start_time": "2021-12-20T12:59:41.669Z"
   },
   {
    "duration": 59,
    "start_time": "2021-12-20T12:59:57.133Z"
   },
   {
    "duration": 63,
    "start_time": "2021-12-20T13:00:13.948Z"
   },
   {
    "duration": 60,
    "start_time": "2021-12-20T13:01:04.058Z"
   },
   {
    "duration": 416,
    "start_time": "2021-12-21T08:00:17.393Z"
   },
   {
    "duration": 436,
    "start_time": "2021-12-21T08:00:27.152Z"
   },
   {
    "duration": 297,
    "start_time": "2021-12-21T08:00:32.663Z"
   },
   {
    "duration": 308,
    "start_time": "2021-12-21T08:01:05.598Z"
   },
   {
    "duration": 286,
    "start_time": "2021-12-21T08:01:27.284Z"
   },
   {
    "duration": 302,
    "start_time": "2021-12-21T08:01:59.962Z"
   },
   {
    "duration": 322,
    "start_time": "2021-12-21T08:03:40.441Z"
   },
   {
    "duration": 298,
    "start_time": "2021-12-21T08:03:47.453Z"
   },
   {
    "duration": 889,
    "start_time": "2021-12-21T08:03:53.067Z"
   },
   {
    "duration": 637,
    "start_time": "2021-12-21T08:03:54.557Z"
   },
   {
    "duration": 26,
    "start_time": "2021-12-21T08:03:55.556Z"
   },
   {
    "duration": 36,
    "start_time": "2021-12-21T08:04:02.104Z"
   },
   {
    "duration": 6,
    "start_time": "2021-12-21T08:04:04.839Z"
   },
   {
    "duration": 23,
    "start_time": "2021-12-21T08:04:06.561Z"
   },
   {
    "duration": 6,
    "start_time": "2021-12-21T08:04:07.849Z"
   },
   {
    "duration": 34,
    "start_time": "2021-12-21T08:04:09.225Z"
   },
   {
    "duration": 28,
    "start_time": "2021-12-21T08:04:12.517Z"
   },
   {
    "duration": 30,
    "start_time": "2021-12-21T08:04:13.550Z"
   },
   {
    "duration": 94,
    "start_time": "2021-12-21T08:04:15.977Z"
   },
   {
    "duration": 98,
    "start_time": "2021-12-21T08:04:17.285Z"
   },
   {
    "duration": 88,
    "start_time": "2021-12-21T08:04:18.223Z"
   },
   {
    "duration": 90,
    "start_time": "2021-12-21T08:04:20.735Z"
   },
   {
    "duration": 6,
    "start_time": "2021-12-21T08:04:22.979Z"
   },
   {
    "duration": 19,
    "start_time": "2021-12-21T08:04:24.547Z"
   },
   {
    "duration": 93,
    "start_time": "2021-12-21T08:04:26.057Z"
   },
   {
    "duration": 94,
    "start_time": "2021-12-21T08:04:33.514Z"
   },
   {
    "duration": 98,
    "start_time": "2021-12-21T08:23:54.425Z"
   },
   {
    "duration": 15,
    "start_time": "2021-12-21T08:24:01.162Z"
   },
   {
    "duration": 26,
    "start_time": "2021-12-21T08:24:41.472Z"
   },
   {
    "duration": 26,
    "start_time": "2021-12-21T08:24:52.198Z"
   },
   {
    "duration": 19,
    "start_time": "2021-12-21T08:25:04.056Z"
   },
   {
    "duration": 19,
    "start_time": "2021-12-21T08:27:15.821Z"
   },
   {
    "duration": 22,
    "start_time": "2021-12-21T08:27:31.854Z"
   },
   {
    "duration": 32,
    "start_time": "2021-12-21T08:28:17.157Z"
   },
   {
    "duration": 29,
    "start_time": "2021-12-21T08:28:31.706Z"
   },
   {
    "duration": 31,
    "start_time": "2021-12-21T08:28:44.646Z"
   },
   {
    "duration": 32,
    "start_time": "2021-12-21T08:28:53.474Z"
   },
   {
    "duration": 35,
    "start_time": "2021-12-21T08:31:19.825Z"
   },
   {
    "duration": 1148,
    "start_time": "2021-12-21T08:36:25.995Z"
   },
   {
    "duration": 22,
    "start_time": "2021-12-21T08:38:38.482Z"
   },
   {
    "duration": 88,
    "start_time": "2021-12-21T08:43:46.595Z"
   },
   {
    "duration": 95,
    "start_time": "2021-12-21T08:44:07.440Z"
   },
   {
    "duration": 46,
    "start_time": "2021-12-21T08:48:31.157Z"
   },
   {
    "duration": 304,
    "start_time": "2021-12-21T09:39:31.057Z"
   },
   {
    "duration": 5,
    "start_time": "2021-12-21T09:39:47.478Z"
   },
   {
    "duration": 6296,
    "start_time": "2021-12-21T09:39:48.986Z"
   },
   {
    "duration": 6,
    "start_time": "2021-12-21T09:40:29.720Z"
   },
   {
    "duration": 4695,
    "start_time": "2021-12-21T09:40:31.884Z"
   },
   {
    "duration": 5,
    "start_time": "2021-12-21T09:41:17.346Z"
   },
   {
    "duration": 22,
    "start_time": "2021-12-21T09:41:19.510Z"
   },
   {
    "duration": 18,
    "start_time": "2021-12-21T09:42:47.183Z"
   },
   {
    "duration": 20,
    "start_time": "2021-12-21T09:42:48.197Z"
   },
   {
    "duration": 22,
    "start_time": "2021-12-21T09:42:48.914Z"
   },
   {
    "duration": 29,
    "start_time": "2021-12-21T09:42:49.513Z"
   },
   {
    "duration": 17,
    "start_time": "2021-12-21T09:42:50.079Z"
   },
   {
    "duration": 361,
    "start_time": "2021-12-21T09:47:19.086Z"
   },
   {
    "duration": 289,
    "start_time": "2021-12-21T09:48:24.926Z"
   },
   {
    "duration": 12,
    "start_time": "2021-12-21T09:50:02.242Z"
   },
   {
    "duration": 24,
    "start_time": "2021-12-21T09:50:39.983Z"
   },
   {
    "duration": 33,
    "start_time": "2021-12-21T09:57:06.030Z"
   },
   {
    "duration": 12,
    "start_time": "2021-12-21T09:58:04.002Z"
   },
   {
    "duration": 432,
    "start_time": "2021-12-21T10:18:39.100Z"
   },
   {
    "duration": 94,
    "start_time": "2021-12-21T10:18:45.552Z"
   },
   {
    "duration": 6,
    "start_time": "2021-12-21T10:19:21.708Z"
   },
   {
    "duration": 804,
    "start_time": "2021-12-21T10:19:24.525Z"
   },
   {
    "duration": 6,
    "start_time": "2021-12-21T10:19:36.704Z"
   },
   {
    "duration": 670,
    "start_time": "2021-12-21T10:19:37.951Z"
   },
   {
    "duration": 5,
    "start_time": "2021-12-21T10:22:12.766Z"
   },
   {
    "duration": 34,
    "start_time": "2021-12-21T10:22:13.884Z"
   },
   {
    "duration": 15,
    "start_time": "2021-12-21T10:22:33.191Z"
   },
   {
    "duration": 110,
    "start_time": "2021-12-21T10:22:33.302Z"
   },
   {
    "duration": 7,
    "start_time": "2021-12-21T10:23:13.907Z"
   },
   {
    "duration": 496,
    "start_time": "2021-12-21T10:23:26.320Z"
   },
   {
    "duration": 5,
    "start_time": "2021-12-21T10:23:34.215Z"
   },
   {
    "duration": 29,
    "start_time": "2021-12-21T10:23:35.151Z"
   },
   {
    "duration": 5,
    "start_time": "2021-12-21T10:24:57.799Z"
   },
   {
    "duration": 602,
    "start_time": "2021-12-21T10:24:58.876Z"
   },
   {
    "duration": 7,
    "start_time": "2021-12-21T10:26:10.144Z"
   },
   {
    "duration": 1065,
    "start_time": "2021-12-21T10:26:10.956Z"
   },
   {
    "duration": 5,
    "start_time": "2021-12-21T10:26:24.944Z"
   },
   {
    "duration": 677,
    "start_time": "2021-12-21T10:26:27.736Z"
   },
   {
    "duration": 5,
    "start_time": "2021-12-21T10:26:35.652Z"
   },
   {
    "duration": 20,
    "start_time": "2021-12-21T10:26:37.162Z"
   },
   {
    "duration": 5,
    "start_time": "2021-12-21T10:28:18.694Z"
   },
   {
    "duration": 741,
    "start_time": "2021-12-21T10:28:19.661Z"
   },
   {
    "duration": 5,
    "start_time": "2021-12-21T10:28:26.709Z"
   },
   {
    "duration": 38,
    "start_time": "2021-12-21T10:28:27.795Z"
   },
   {
    "duration": 5,
    "start_time": "2021-12-21T10:30:38.867Z"
   },
   {
    "duration": 7,
    "start_time": "2021-12-21T10:30:49.455Z"
   },
   {
    "duration": 15952,
    "start_time": "2021-12-21T10:30:50.552Z"
   },
   {
    "duration": 7,
    "start_time": "2021-12-21T10:31:42.029Z"
   },
   {
    "duration": 10876,
    "start_time": "2021-12-21T10:31:43.111Z"
   },
   {
    "duration": 7,
    "start_time": "2021-12-21T10:32:54.732Z"
   },
   {
    "duration": 8826,
    "start_time": "2021-12-21T10:32:55.987Z"
   },
   {
    "duration": 3,
    "start_time": "2021-12-21T10:34:26.206Z"
   },
   {
    "duration": 3,
    "start_time": "2021-12-21T10:34:26.716Z"
   },
   {
    "duration": 7,
    "start_time": "2021-12-21T10:34:32.247Z"
   },
   {
    "duration": 9700,
    "start_time": "2021-12-21T10:34:32.256Z"
   },
   {
    "duration": 5,
    "start_time": "2021-12-21T10:34:42.462Z"
   },
   {
    "duration": 8826,
    "start_time": "2021-12-21T10:34:43.382Z"
   },
   {
    "duration": 5,
    "start_time": "2021-12-21T10:34:55.952Z"
   },
   {
    "duration": 5,
    "start_time": "2021-12-21T10:35:07.057Z"
   },
   {
    "duration": 29,
    "start_time": "2021-12-21T10:35:07.914Z"
   },
   {
    "duration": 7,
    "start_time": "2021-12-21T10:35:34.528Z"
   },
   {
    "duration": 29,
    "start_time": "2021-12-21T10:35:35.412Z"
   },
   {
    "duration": 6,
    "start_time": "2021-12-21T10:35:45.544Z"
   },
   {
    "duration": 26,
    "start_time": "2021-12-21T10:35:46.474Z"
   },
   {
    "duration": 18,
    "start_time": "2021-12-21T10:36:54.187Z"
   },
   {
    "duration": 24,
    "start_time": "2021-12-21T10:36:58.549Z"
   },
   {
    "duration": 19,
    "start_time": "2021-12-21T10:37:01.298Z"
   },
   {
    "duration": 443,
    "start_time": "2021-12-21T11:19:48.281Z"
   },
   {
    "duration": 314,
    "start_time": "2021-12-21T11:21:18.010Z"
   },
   {
    "duration": 4371,
    "start_time": "2021-12-21T11:22:01.487Z"
   },
   {
    "duration": 4029,
    "start_time": "2021-12-21T11:22:06.140Z"
   },
   {
    "duration": 352,
    "start_time": "2021-12-21T11:23:01.315Z"
   },
   {
    "duration": 377,
    "start_time": "2021-12-21T11:23:53.079Z"
   },
   {
    "duration": 8,
    "start_time": "2021-12-21T11:24:17.178Z"
   },
   {
    "duration": 10,
    "start_time": "2021-12-21T11:24:56.156Z"
   },
   {
    "duration": 4522,
    "start_time": "2021-12-21T11:25:34.314Z"
   },
   {
    "duration": 7,
    "start_time": "2021-12-21T11:25:44.864Z"
   },
   {
    "duration": 7,
    "start_time": "2021-12-21T11:25:56.874Z"
   },
   {
    "duration": 12,
    "start_time": "2021-12-21T11:27:10.681Z"
   },
   {
    "duration": 13,
    "start_time": "2021-12-21T11:28:04.818Z"
   },
   {
    "duration": 14,
    "start_time": "2021-12-21T11:28:22.414Z"
   },
   {
    "duration": 10,
    "start_time": "2021-12-21T11:29:00.706Z"
   },
   {
    "duration": 6,
    "start_time": "2021-12-21T11:29:06.453Z"
   },
   {
    "duration": 11,
    "start_time": "2021-12-21T11:29:44.727Z"
   },
   {
    "duration": 6,
    "start_time": "2021-12-21T11:29:45.840Z"
   },
   {
    "duration": 4,
    "start_time": "2021-12-21T11:30:35.541Z"
   },
   {
    "duration": 4,
    "start_time": "2021-12-21T11:31:33.207Z"
   },
   {
    "duration": 596,
    "start_time": "2021-12-21T11:31:34.089Z"
   },
   {
    "duration": 16,
    "start_time": "2021-12-21T11:31:35.194Z"
   },
   {
    "duration": 34,
    "start_time": "2021-12-21T11:31:36.832Z"
   },
   {
    "duration": 6,
    "start_time": "2021-12-21T11:31:39.230Z"
   },
   {
    "duration": 23,
    "start_time": "2021-12-21T11:31:40.176Z"
   },
   {
    "duration": 6,
    "start_time": "2021-12-21T11:31:41.090Z"
   },
   {
    "duration": 32,
    "start_time": "2021-12-21T11:31:41.957Z"
   },
   {
    "duration": 22,
    "start_time": "2021-12-21T11:31:43.257Z"
   },
   {
    "duration": 28,
    "start_time": "2021-12-21T11:31:44.074Z"
   },
   {
    "duration": 80,
    "start_time": "2021-12-21T11:31:44.919Z"
   },
   {
    "duration": 87,
    "start_time": "2021-12-21T11:31:45.503Z"
   },
   {
    "duration": 73,
    "start_time": "2021-12-21T11:31:46.363Z"
   },
   {
    "duration": 58,
    "start_time": "2021-12-21T11:31:47.656Z"
   },
   {
    "duration": 10,
    "start_time": "2021-12-21T11:31:48.339Z"
   },
   {
    "duration": 14,
    "start_time": "2021-12-21T11:31:48.804Z"
   },
   {
    "duration": 59,
    "start_time": "2021-12-21T11:31:49.641Z"
   },
   {
    "duration": 35,
    "start_time": "2021-12-21T11:31:51.839Z"
   },
   {
    "duration": 42,
    "start_time": "2021-12-21T11:31:52.677Z"
   },
   {
    "duration": 5,
    "start_time": "2021-12-21T11:31:53.999Z"
   },
   {
    "duration": 20,
    "start_time": "2021-12-21T11:31:54.829Z"
   },
   {
    "duration": 19,
    "start_time": "2021-12-21T11:31:55.223Z"
   },
   {
    "duration": 18,
    "start_time": "2021-12-21T11:31:55.689Z"
   },
   {
    "duration": 18,
    "start_time": "2021-12-21T11:31:56.121Z"
   },
   {
    "duration": 21,
    "start_time": "2021-12-21T11:31:56.517Z"
   },
   {
    "duration": 19,
    "start_time": "2021-12-21T11:31:56.911Z"
   },
   {
    "duration": 13,
    "start_time": "2021-12-21T11:31:57.644Z"
   },
   {
    "duration": 31,
    "start_time": "2021-12-21T11:31:59.678Z"
   },
   {
    "duration": 13,
    "start_time": "2021-12-21T11:32:00.131Z"
   },
   {
    "duration": 6,
    "start_time": "2021-12-21T11:32:01.002Z"
   },
   {
    "duration": 24,
    "start_time": "2021-12-21T11:32:02.270Z"
   },
   {
    "duration": 22,
    "start_time": "2021-12-21T11:32:02.807Z"
   },
   {
    "duration": 11,
    "start_time": "2021-12-21T11:32:12.084Z"
   },
   {
    "duration": 9,
    "start_time": "2021-12-21T11:32:12.926Z"
   },
   {
    "duration": 7,
    "start_time": "2021-12-21T11:32:15.297Z"
   },
   {
    "duration": 8,
    "start_time": "2021-12-21T11:32:16.399Z"
   },
   {
    "duration": 9,
    "start_time": "2021-12-21T11:32:17.379Z"
   },
   {
    "duration": 640,
    "start_time": "2021-12-21T19:52:36.885Z"
   },
   {
    "duration": 7672,
    "start_time": "2021-12-21T19:52:37.527Z"
   },
   {
    "duration": 522,
    "start_time": "2021-12-21T19:52:44.681Z"
   },
   {
    "duration": 514,
    "start_time": "2021-12-21T19:52:44.691Z"
   },
   {
    "duration": 496,
    "start_time": "2021-12-21T19:52:44.711Z"
   },
   {
    "duration": 488,
    "start_time": "2021-12-21T19:52:44.720Z"
   },
   {
    "duration": 485,
    "start_time": "2021-12-21T19:52:44.725Z"
   },
   {
    "duration": 481,
    "start_time": "2021-12-21T19:52:44.730Z"
   },
   {
    "duration": 475,
    "start_time": "2021-12-21T19:52:44.738Z"
   },
   {
    "duration": 470,
    "start_time": "2021-12-21T19:52:44.744Z"
   },
   {
    "duration": 464,
    "start_time": "2021-12-21T19:52:44.751Z"
   },
   {
    "duration": 461,
    "start_time": "2021-12-21T19:52:44.756Z"
   },
   {
    "duration": 457,
    "start_time": "2021-12-21T19:52:44.761Z"
   },
   {
    "duration": 452,
    "start_time": "2021-12-21T19:52:44.767Z"
   },
   {
    "duration": 448,
    "start_time": "2021-12-21T19:52:44.772Z"
   },
   {
    "duration": 445,
    "start_time": "2021-12-21T19:52:44.776Z"
   },
   {
    "duration": 442,
    "start_time": "2021-12-21T19:52:44.781Z"
   },
   {
    "duration": 437,
    "start_time": "2021-12-21T19:52:44.787Z"
   },
   {
    "duration": 434,
    "start_time": "2021-12-21T19:52:44.792Z"
   },
   {
    "duration": 431,
    "start_time": "2021-12-21T19:52:44.796Z"
   },
   {
    "duration": 427,
    "start_time": "2021-12-21T19:52:44.802Z"
   },
   {
    "duration": 424,
    "start_time": "2021-12-21T19:52:44.806Z"
   },
   {
    "duration": 413,
    "start_time": "2021-12-21T19:52:44.818Z"
   },
   {
    "duration": 410,
    "start_time": "2021-12-21T19:52:44.822Z"
   },
   {
    "duration": 407,
    "start_time": "2021-12-21T19:52:44.826Z"
   },
   {
    "duration": 403,
    "start_time": "2021-12-21T19:52:44.830Z"
   },
   {
    "duration": 399,
    "start_time": "2021-12-21T19:52:44.835Z"
   },
   {
    "duration": 396,
    "start_time": "2021-12-21T19:52:44.839Z"
   },
   {
    "duration": 392,
    "start_time": "2021-12-21T19:52:44.844Z"
   },
   {
    "duration": 388,
    "start_time": "2021-12-21T19:52:44.849Z"
   },
   {
    "duration": 383,
    "start_time": "2021-12-21T19:52:44.854Z"
   },
   {
    "duration": 379,
    "start_time": "2021-12-21T19:52:44.859Z"
   },
   {
    "duration": 376,
    "start_time": "2021-12-21T19:52:44.863Z"
   },
   {
    "duration": 372,
    "start_time": "2021-12-21T19:52:44.868Z"
   },
   {
    "duration": 369,
    "start_time": "2021-12-21T19:52:44.872Z"
   },
   {
    "duration": 365,
    "start_time": "2021-12-21T19:52:44.877Z"
   },
   {
    "duration": 360,
    "start_time": "2021-12-21T19:52:44.882Z"
   },
   {
    "duration": 356,
    "start_time": "2021-12-21T19:52:44.887Z"
   },
   {
    "duration": 2028,
    "start_time": "2021-12-21T19:54:35.408Z"
   },
   {
    "duration": 2005,
    "start_time": "2021-12-21T19:54:38.419Z"
   },
   {
    "duration": 135,
    "start_time": "2021-12-21T19:54:45.718Z"
   },
   {
    "duration": 554,
    "start_time": "2021-12-21T19:55:03.376Z"
   },
   {
    "duration": 134,
    "start_time": "2021-12-21T19:55:03.932Z"
   },
   {
    "duration": 16,
    "start_time": "2021-12-21T19:55:04.069Z"
   },
   {
    "duration": 28,
    "start_time": "2021-12-21T19:55:04.087Z"
   },
   {
    "duration": 4,
    "start_time": "2021-12-21T19:55:04.117Z"
   },
   {
    "duration": 36,
    "start_time": "2021-12-21T19:55:04.123Z"
   },
   {
    "duration": 3,
    "start_time": "2021-12-21T19:55:04.161Z"
   },
   {
    "duration": 25,
    "start_time": "2021-12-21T19:55:04.166Z"
   },
   {
    "duration": 21,
    "start_time": "2021-12-21T19:55:04.192Z"
   },
   {
    "duration": 41,
    "start_time": "2021-12-21T19:55:04.215Z"
   },
   {
    "duration": 57,
    "start_time": "2021-12-21T19:55:04.257Z"
   },
   {
    "duration": 86,
    "start_time": "2021-12-21T19:55:04.316Z"
   },
   {
    "duration": 64,
    "start_time": "2021-12-21T19:55:04.404Z"
   },
   {
    "duration": 39,
    "start_time": "2021-12-21T19:55:04.470Z"
   },
   {
    "duration": 3,
    "start_time": "2021-12-21T19:55:04.510Z"
   },
   {
    "duration": 28,
    "start_time": "2021-12-21T19:55:04.515Z"
   },
   {
    "duration": 39,
    "start_time": "2021-12-21T19:55:04.545Z"
   },
   {
    "duration": 27,
    "start_time": "2021-12-21T19:55:04.585Z"
   },
   {
    "duration": 57,
    "start_time": "2021-12-21T19:55:04.613Z"
   },
   {
    "duration": 3,
    "start_time": "2021-12-21T19:55:04.672Z"
   },
   {
    "duration": 21,
    "start_time": "2021-12-21T19:55:04.677Z"
   },
   {
    "duration": 14,
    "start_time": "2021-12-21T19:55:04.699Z"
   },
   {
    "duration": 15,
    "start_time": "2021-12-21T19:55:04.742Z"
   },
   {
    "duration": 16,
    "start_time": "2021-12-21T19:55:04.759Z"
   },
   {
    "duration": 16,
    "start_time": "2021-12-21T19:55:04.776Z"
   },
   {
    "duration": 13,
    "start_time": "2021-12-21T19:55:04.794Z"
   },
   {
    "duration": 36,
    "start_time": "2021-12-21T19:55:04.809Z"
   },
   {
    "duration": 21,
    "start_time": "2021-12-21T19:55:04.847Z"
   },
   {
    "duration": 9,
    "start_time": "2021-12-21T19:55:04.870Z"
   },
   {
    "duration": 4,
    "start_time": "2021-12-21T19:55:04.880Z"
   },
   {
    "duration": 21,
    "start_time": "2021-12-21T19:55:04.885Z"
   },
   {
    "duration": 11,
    "start_time": "2021-12-21T19:55:04.907Z"
   },
   {
    "duration": 17,
    "start_time": "2021-12-21T19:55:04.941Z"
   },
   {
    "duration": 12,
    "start_time": "2021-12-21T19:55:04.959Z"
   },
   {
    "duration": 9,
    "start_time": "2021-12-21T19:55:04.972Z"
   },
   {
    "duration": 5,
    "start_time": "2021-12-21T19:55:04.982Z"
   },
   {
    "duration": 12,
    "start_time": "2021-12-21T19:55:04.989Z"
   },
   {
    "duration": 7,
    "start_time": "2021-12-21T19:55:05.002Z"
   },
   {
    "duration": 4,
    "start_time": "2021-12-21T19:55:33.771Z"
   },
   {
    "duration": 5,
    "start_time": "2021-12-21T19:55:37.261Z"
   },
   {
    "duration": 39,
    "start_time": "2021-12-21T19:55:49.395Z"
   },
   {
    "duration": 10,
    "start_time": "2021-12-21T19:55:52.010Z"
   },
   {
    "duration": 42,
    "start_time": "2021-12-21T19:55:52.869Z"
   },
   {
    "duration": 28,
    "start_time": "2021-12-21T19:55:56.401Z"
   },
   {
    "duration": 40,
    "start_time": "2021-12-21T19:55:57.289Z"
   },
   {
    "duration": 17,
    "start_time": "2021-12-21T19:56:00.323Z"
   },
   {
    "duration": 16,
    "start_time": "2021-12-21T19:56:00.760Z"
   },
   {
    "duration": 16,
    "start_time": "2021-12-21T19:56:01.214Z"
   },
   {
    "duration": 16,
    "start_time": "2021-12-21T19:56:01.651Z"
   },
   {
    "duration": 16,
    "start_time": "2021-12-21T19:56:02.083Z"
   },
   {
    "duration": 21,
    "start_time": "2021-12-21T19:56:07.223Z"
   },
   {
    "duration": 11,
    "start_time": "2021-12-21T19:56:07.650Z"
   },
   {
    "duration": 19,
    "start_time": "2021-12-21T19:56:10.406Z"
   },
   {
    "duration": 14,
    "start_time": "2021-12-21T19:56:10.828Z"
   },
   {
    "duration": 19,
    "start_time": "2021-12-21T19:56:11.270Z"
   },
   {
    "duration": 8,
    "start_time": "2021-12-21T19:56:14.264Z"
   },
   {
    "duration": 6,
    "start_time": "2021-12-21T19:56:16.894Z"
   },
   {
    "duration": 5,
    "start_time": "2021-12-21T19:56:17.762Z"
   },
   {
    "duration": 413,
    "start_time": "2021-12-22T07:53:54.480Z"
   },
   {
    "duration": -101,
    "start_time": "2021-12-22T07:53:55.000Z"
   },
   {
    "duration": -105,
    "start_time": "2021-12-22T07:53:55.006Z"
   },
   {
    "duration": -109,
    "start_time": "2021-12-22T07:53:55.012Z"
   },
   {
    "duration": -111,
    "start_time": "2021-12-22T07:53:55.016Z"
   },
   {
    "duration": -113,
    "start_time": "2021-12-22T07:53:55.020Z"
   },
   {
    "duration": -114,
    "start_time": "2021-12-22T07:53:55.024Z"
   },
   {
    "duration": -117,
    "start_time": "2021-12-22T07:53:55.029Z"
   },
   {
    "duration": -118,
    "start_time": "2021-12-22T07:53:55.032Z"
   },
   {
    "duration": -119,
    "start_time": "2021-12-22T07:53:55.035Z"
   },
   {
    "duration": -119,
    "start_time": "2021-12-22T07:53:55.038Z"
   },
   {
    "duration": -120,
    "start_time": "2021-12-22T07:53:55.041Z"
   },
   {
    "duration": -120,
    "start_time": "2021-12-22T07:53:55.043Z"
   },
   {
    "duration": -121,
    "start_time": "2021-12-22T07:53:55.046Z"
   },
   {
    "duration": -121,
    "start_time": "2021-12-22T07:53:55.048Z"
   },
   {
    "duration": -120,
    "start_time": "2021-12-22T07:53:55.050Z"
   },
   {
    "duration": -121,
    "start_time": "2021-12-22T07:53:55.053Z"
   },
   {
    "duration": -121,
    "start_time": "2021-12-22T07:53:55.055Z"
   },
   {
    "duration": -122,
    "start_time": "2021-12-22T07:53:55.057Z"
   },
   {
    "duration": -123,
    "start_time": "2021-12-22T07:53:55.060Z"
   },
   {
    "duration": -124,
    "start_time": "2021-12-22T07:53:55.062Z"
   },
   {
    "duration": -125,
    "start_time": "2021-12-22T07:53:55.064Z"
   },
   {
    "duration": -126,
    "start_time": "2021-12-22T07:53:55.066Z"
   },
   {
    "duration": -128,
    "start_time": "2021-12-22T07:53:55.069Z"
   },
   {
    "duration": -129,
    "start_time": "2021-12-22T07:53:55.071Z"
   },
   {
    "duration": -113,
    "start_time": "2021-12-22T07:53:55.073Z"
   },
   {
    "duration": -123,
    "start_time": "2021-12-22T07:53:55.085Z"
   },
   {
    "duration": -125,
    "start_time": "2021-12-22T07:53:55.089Z"
   },
   {
    "duration": -127,
    "start_time": "2021-12-22T07:53:55.093Z"
   },
   {
    "duration": -128,
    "start_time": "2021-12-22T07:53:55.096Z"
   },
   {
    "duration": -129,
    "start_time": "2021-12-22T07:53:55.099Z"
   },
   {
    "duration": -130,
    "start_time": "2021-12-22T07:53:55.102Z"
   },
   {
    "duration": -131,
    "start_time": "2021-12-22T07:53:55.105Z"
   },
   {
    "duration": -132,
    "start_time": "2021-12-22T07:53:55.108Z"
   },
   {
    "duration": -133,
    "start_time": "2021-12-22T07:53:55.111Z"
   },
   {
    "duration": -134,
    "start_time": "2021-12-22T07:53:55.114Z"
   },
   {
    "duration": 124,
    "start_time": "2021-12-22T07:54:19.705Z"
   },
   {
    "duration": 797,
    "start_time": "2021-12-22T08:07:21.096Z"
   },
   {
    "duration": 186,
    "start_time": "2021-12-22T08:07:22.947Z"
   },
   {
    "duration": 26,
    "start_time": "2021-12-22T08:07:25.209Z"
   },
   {
    "duration": 32,
    "start_time": "2021-12-22T08:07:29.553Z"
   },
   {
    "duration": 6,
    "start_time": "2021-12-22T08:08:40.146Z"
   },
   {
    "duration": 23,
    "start_time": "2021-12-22T08:08:40.960Z"
   },
   {
    "duration": 7,
    "start_time": "2021-12-22T08:08:44.223Z"
   },
   {
    "duration": 31,
    "start_time": "2021-12-22T08:08:47.308Z"
   },
   {
    "duration": 23,
    "start_time": "2021-12-22T08:10:14.284Z"
   },
   {
    "duration": 33,
    "start_time": "2021-12-22T08:14:05.692Z"
   },
   {
    "duration": 21,
    "start_time": "2021-12-22T08:14:07.497Z"
   },
   {
    "duration": 30,
    "start_time": "2021-12-22T08:14:09.910Z"
   },
   {
    "duration": 89,
    "start_time": "2021-12-22T08:14:11.202Z"
   },
   {
    "duration": 98,
    "start_time": "2021-12-22T08:14:14.635Z"
   },
   {
    "duration": 76,
    "start_time": "2021-12-22T08:14:16.124Z"
   },
   {
    "duration": 55,
    "start_time": "2021-12-22T08:14:19.186Z"
   },
   {
    "duration": 4,
    "start_time": "2021-12-22T08:14:23.426Z"
   },
   {
    "duration": 15,
    "start_time": "2021-12-22T08:14:27.478Z"
   },
   {
    "duration": 61,
    "start_time": "2021-12-22T08:14:30.326Z"
   },
   {
    "duration": 31,
    "start_time": "2021-12-22T08:14:39.180Z"
   },
   {
    "duration": 134,
    "start_time": "2021-12-22T08:15:06.982Z"
   },
   {
    "duration": 120,
    "start_time": "2021-12-22T08:15:13.477Z"
   },
   {
    "duration": 49,
    "start_time": "2021-12-22T08:16:38.889Z"
   },
   {
    "duration": 37,
    "start_time": "2021-12-22T08:16:56.514Z"
   },
   {
    "duration": 5,
    "start_time": "2021-12-22T08:17:51.753Z"
   },
   {
    "duration": 135,
    "start_time": "2021-12-22T08:18:35.493Z"
   },
   {
    "duration": 121,
    "start_time": "2021-12-22T08:18:39.571Z"
   },
   {
    "duration": 119,
    "start_time": "2021-12-22T08:18:56.112Z"
   },
   {
    "duration": 132,
    "start_time": "2021-12-22T08:19:15.229Z"
   },
   {
    "duration": 157,
    "start_time": "2021-12-22T08:19:50.624Z"
   },
   {
    "duration": 40,
    "start_time": "2021-12-22T08:19:59.926Z"
   },
   {
    "duration": 149,
    "start_time": "2021-12-22T08:20:01.801Z"
   },
   {
    "duration": 5,
    "start_time": "2021-12-22T08:23:02.483Z"
   },
   {
    "duration": 6,
    "start_time": "2021-12-22T08:29:08.757Z"
   },
   {
    "duration": 23,
    "start_time": "2021-12-22T08:29:13.862Z"
   },
   {
    "duration": 5,
    "start_time": "2021-12-22T08:30:02.949Z"
   },
   {
    "duration": 129,
    "start_time": "2021-12-22T08:30:27.967Z"
   },
   {
    "duration": 5,
    "start_time": "2021-12-22T08:30:37.478Z"
   },
   {
    "duration": 65,
    "start_time": "2021-12-22T08:30:38.605Z"
   },
   {
    "duration": 30,
    "start_time": "2021-12-22T08:30:39.166Z"
   },
   {
    "duration": 21,
    "start_time": "2021-12-22T08:30:39.672Z"
   },
   {
    "duration": 20,
    "start_time": "2021-12-22T08:30:40.167Z"
   },
   {
    "duration": 23,
    "start_time": "2021-12-22T08:30:40.782Z"
   },
   {
    "duration": 19,
    "start_time": "2021-12-22T08:30:41.321Z"
   },
   {
    "duration": 12,
    "start_time": "2021-12-22T08:30:57.331Z"
   },
   {
    "duration": 30,
    "start_time": "2021-12-22T08:30:59.162Z"
   },
   {
    "duration": 12,
    "start_time": "2021-12-22T08:30:59.365Z"
   },
   {
    "duration": 5,
    "start_time": "2021-12-22T08:30:59.825Z"
   },
   {
    "duration": 26,
    "start_time": "2021-12-22T08:31:00.780Z"
   },
   {
    "duration": 23,
    "start_time": "2021-12-22T08:31:01.221Z"
   },
   {
    "duration": 27,
    "start_time": "2021-12-22T08:31:01.987Z"
   },
   {
    "duration": 19,
    "start_time": "2021-12-22T08:31:02.619Z"
   },
   {
    "duration": 16,
    "start_time": "2021-12-22T08:31:06.325Z"
   },
   {
    "duration": 7,
    "start_time": "2021-12-22T08:31:08.580Z"
   },
   {
    "duration": 10,
    "start_time": "2021-12-22T08:31:21.690Z"
   },
   {
    "duration": 135,
    "start_time": "2021-12-22T08:32:18.941Z"
   },
   {
    "duration": 10,
    "start_time": "2021-12-22T08:32:41.451Z"
   },
   {
    "duration": 11,
    "start_time": "2021-12-22T08:32:42.399Z"
   },
   {
    "duration": 9,
    "start_time": "2021-12-22T08:32:48.635Z"
   }
  ],
  "colab": {
   "collapsed_sections": [
    "E0vqbgi9ay0H",
    "VUC88oWjTJw2"
   ],
   "name": "yandex_music_project_2021.2.ipynb",
   "provenance": []
  },
  "kernelspec": {
   "display_name": "Python 3 (ipykernel)",
   "language": "python",
   "name": "python3"
  },
  "language_info": {
   "codemirror_mode": {
    "name": "ipython",
    "version": 3
   },
   "file_extension": ".py",
   "mimetype": "text/x-python",
   "name": "python",
   "nbconvert_exporter": "python",
   "pygments_lexer": "ipython3",
   "version": "3.9.7"
  },
  "toc": {
   "base_numbering": 1,
   "nav_menu": {},
   "number_sections": true,
   "sideBar": true,
   "skip_h1_title": true,
   "title_cell": "Table of Contents",
   "title_sidebar": "Contents",
   "toc_cell": false,
   "toc_position": {},
   "toc_section_display": true,
   "toc_window_display": false
  }
 },
 "nbformat": 4,
 "nbformat_minor": 1
}
