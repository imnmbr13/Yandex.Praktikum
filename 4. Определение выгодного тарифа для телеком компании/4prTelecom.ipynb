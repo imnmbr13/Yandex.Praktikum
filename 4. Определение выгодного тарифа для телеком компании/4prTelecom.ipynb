{
 "cells": [
  {
   "cell_type": "markdown",
   "id": "94091375",
   "metadata": {},
   "source": [
    "# Предварительный анализ тарифов компании «Мегалайн»"
   ]
  },
  {
   "cell_type": "markdown",
   "id": "e1d7931d",
   "metadata": {},
   "source": [
    "Вы аналитик компании «Мегалайн» — федерального оператора сотовой связи. Клиентам предлагают два тарифных плана: «Смарт» и «Ультра». Чтобы скорректировать рекламный бюджет, коммерческий департамент хочет понять, какой тариф приносит больше денег.\n",
    "\n",
    "Вам предстоит сделать предварительный анализ тарифов на небольшой выборке клиентов. В вашем распоряжении данные 500 пользователей «Мегалайна»: кто они, откуда, каким тарифом пользуются, сколько звонков и сообщений каждый отправил за 2018 год. Нужно проанализировать поведение клиентов и сделать вывод — какой тариф лучше.\n",
    "\n",
    "**Описание тарифов:**\n",
    "\n",
    "**Тариф «Смарт»**\n",
    "1.\tЕжемесячная плата: 550 рублей\n",
    "2.\tВключено 500 минут разговора, 50 сообщений и 15 Гб интернет-трафика\n",
    "3.\tСтоимость услуг сверх тарифного пакета: *1. минута разговора: 3 рубля («Мегалайн» всегда округляет вверх значения минут и мегабайтов. Если пользователь проговорил всего 1 секунду, в тарифе засчитывается целая минута); 2. сообщение: 3 рубля; 3. 1 Гб интернет-трафика: 200 рублей.*\n",
    "\n",
    "**Тариф «Ультра»**\n",
    "1.\tЕжемесячная плата: 1950 рублей\n",
    "2.\tВключено 3000 минут разговора, 1000 сообщений и 30 Гб интернет-трафика\n",
    "3.\tСтоимость услуг сверх тарифного пакета: *1. минута разговора: 1 рубль; 2. сообщение: 1 рубль; 3. 1 Гб интернет-трафика: 150 рублей.*\n",
    "\n",
    "Примечание:\n",
    "«Мегалайн» всегда округляет секунды до минут, а мегабайты — до гигабайт. Каждый звонок округляется отдельно: даже если он длился всего 1 секунду, будет засчитан как 1 минута.\n",
    "Для веб-трафика отдельные сессии не считаются. Вместо этого общая сумма за месяц округляется в бо́льшую сторону. Если абонент использует 1025 мегабайт в этом месяце, с него возьмут плату за 2 гигабайта."
   ]
  },
  {
   "cell_type": "markdown",
   "id": "ce7efb6c",
   "metadata": {
    "toc": true
   },
   "source": [
    "<h1>Содержание<span class=\"tocSkip\"></span></h1>\n",
    "<div class=\"toc\"><ul class=\"toc-item\"><li><span><a href=\"#Изучение-данных-из-файлов\" data-toc-modified-id=\"Изучение-данных-из-файлов-1\"><span class=\"toc-item-num\">1&nbsp;&nbsp;</span>Изучение данных из файлов</a></span><ul class=\"toc-item\"><li><span><a href=\"#Таблица-users\" data-toc-modified-id=\"Таблица-users-1.1\"><span class=\"toc-item-num\">1.1&nbsp;&nbsp;</span>Таблица users</a></span></li><li><span><a href=\"#Таблица-calls\" data-toc-modified-id=\"Таблица-calls-1.2\"><span class=\"toc-item-num\">1.2&nbsp;&nbsp;</span>Таблица calls</a></span></li><li><span><a href=\"#Таблица-messages\" data-toc-modified-id=\"Таблица-messages-1.3\"><span class=\"toc-item-num\">1.3&nbsp;&nbsp;</span>Таблица messages</a></span></li><li><span><a href=\"#Таблица-internet\" data-toc-modified-id=\"Таблица-internet-1.4\"><span class=\"toc-item-num\">1.4&nbsp;&nbsp;</span>Таблица internet</a></span></li><li><span><a href=\"#Таблица-tariffs\" data-toc-modified-id=\"Таблица-tariffs-1.5\"><span class=\"toc-item-num\">1.5&nbsp;&nbsp;</span>Таблица tariffs</a></span></li><li><span><a href=\"#Вывод\" data-toc-modified-id=\"Вывод-1.6\"><span class=\"toc-item-num\">1.6&nbsp;&nbsp;</span>Вывод</a></span></li></ul></li><li><span><a href=\"#Предобработка-данных\" data-toc-modified-id=\"Предобработка-данных-2\"><span class=\"toc-item-num\">2&nbsp;&nbsp;</span>Предобработка данных</a></span><ul class=\"toc-item\"><li><span><a href=\"#Замена-типов-данных\" data-toc-modified-id=\"Замена-типов-данных-2.1\"><span class=\"toc-item-num\">2.1&nbsp;&nbsp;</span>Замена типов данных</a></span></li><li><span><a href=\"#Округление-величин\" data-toc-modified-id=\"Округление-величин-2.2\"><span class=\"toc-item-num\">2.2&nbsp;&nbsp;</span>Округление величин</a></span></li><li><span><a href=\"#Добавление-данных\" data-toc-modified-id=\"Добавление-данных-2.3\"><span class=\"toc-item-num\">2.3&nbsp;&nbsp;</span>Добавление данных</a></span></li><li><span><a href=\"#Вывод\" data-toc-modified-id=\"Вывод-2.4\"><span class=\"toc-item-num\">2.4&nbsp;&nbsp;</span>Вывод</a></span></li></ul></li><li><span><a href=\"#Расчеты-данных\" data-toc-modified-id=\"Расчеты-данных-3\"><span class=\"toc-item-num\">3&nbsp;&nbsp;</span>Расчеты данных</a></span><ul class=\"toc-item\"><li><span><a href=\"#Создание-сводных-таблиц-по-звонкам,-сообщениям-и-трафику\" data-toc-modified-id=\"Создание-сводных-таблиц-по-звонкам,-сообщениям-и-трафику-3.1\"><span class=\"toc-item-num\">3.1&nbsp;&nbsp;</span>Создание сводных таблиц по звонкам, сообщениям и трафику</a></span></li><li><span><a href=\"#Сведение-сводных-таблиц-в-одну-большую\" data-toc-modified-id=\"Сведение-сводных-таблиц-в-одну-большую-3.2\"><span class=\"toc-item-num\">3.2&nbsp;&nbsp;</span>Сведение сводных таблиц в одну большую</a></span></li><li><span><a href=\"#Подсчет-затрат-каждого-пользователя-тарифа\" data-toc-modified-id=\"Подсчет-затрат-каждого-пользователя-тарифа-3.3\"><span class=\"toc-item-num\">3.3&nbsp;&nbsp;</span>Подсчет затрат каждого пользователя тарифа</a></span></li><li><span><a href=\"#Вывод\" data-toc-modified-id=\"Вывод-3.4\"><span class=\"toc-item-num\">3.4&nbsp;&nbsp;</span>Вывод</a></span></li></ul></li><li><span><a href=\"#Анализ-данных\" data-toc-modified-id=\"Анализ-данных-4\"><span class=\"toc-item-num\">4&nbsp;&nbsp;</span>Анализ данных</a></span><ul class=\"toc-item\"><li><span><a href=\"#Общие-затраты-пользователей-тарифов\" data-toc-modified-id=\"Общие-затраты-пользователей-тарифов-4.1\"><span class=\"toc-item-num\">4.1&nbsp;&nbsp;</span>Общие затраты пользователей тарифов</a></span></li><li><span><a href=\"#Анализ-звонков,-трафика-и-сообщений-по-тарифам\" data-toc-modified-id=\"Анализ-звонков,-трафика-и-сообщений-по-тарифам-4.2\"><span class=\"toc-item-num\">4.2&nbsp;&nbsp;</span>Анализ звонков, трафика и сообщений по тарифам</a></span></li><li><span><a href=\"#Подсчет-среднего-и-пострение-графиков\" data-toc-modified-id=\"Подсчет-среднего-и-пострение-графиков-4.3\"><span class=\"toc-item-num\">4.3&nbsp;&nbsp;</span>Подсчет среднего и пострение графиков</a></span></li><li><span><a href=\"#Вычисление-дисперсии-и-отклонения,-построение-графиков-распределения\" data-toc-modified-id=\"Вычисление-дисперсии-и-отклонения,-построение-графиков-распределения-4.4\"><span class=\"toc-item-num\">4.4&nbsp;&nbsp;</span>Вычисление дисперсии и отклонения, построение графиков распределения</a></span></li><li><span><a href=\"#Вывод\" data-toc-modified-id=\"Вывод-4.5\"><span class=\"toc-item-num\">4.5&nbsp;&nbsp;</span>Вывод</a></span></li></ul></li><li><span><a href=\"#Проверка-гипотез\" data-toc-modified-id=\"Проверка-гипотез-5\"><span class=\"toc-item-num\">5&nbsp;&nbsp;</span>Проверка гипотез</a></span><ul class=\"toc-item\"><li><span><a href=\"#Средняя-выручка-пользователей-тарифов-«Ультра»-и-«Смарт»-различаются\" data-toc-modified-id=\"Средняя-выручка-пользователей-тарифов-«Ультра»-и-«Смарт»-различаются-5.1\"><span class=\"toc-item-num\">5.1&nbsp;&nbsp;</span>Средняя выручка пользователей тарифов «Ультра» и «Смарт» различаются</a></span></li><li><span><a href=\"#Cредняя-выручка-пользователи-из-Москвы-отличается-от-выручки-пользователей-из-других-регионов\" data-toc-modified-id=\"Cредняя-выручка-пользователи-из-Москвы-отличается-от-выручки-пользователей-из-других-регионов-5.2\"><span class=\"toc-item-num\">5.2&nbsp;&nbsp;</span>Cредняя выручка пользователи из Москвы отличается от выручки пользователей из других регионов</a></span></li><li><span><a href=\"#Вывод\" data-toc-modified-id=\"Вывод-5.3\"><span class=\"toc-item-num\">5.3&nbsp;&nbsp;</span>Вывод</a></span></li></ul></li><li><span><a href=\"#Общий-вывод\" data-toc-modified-id=\"Общий-вывод-6\"><span class=\"toc-item-num\">6&nbsp;&nbsp;</span>Общий вывод</a></span></li></ul></div>"
   ]
  },
  {
   "cell_type": "markdown",
   "id": "edf0e141",
   "metadata": {},
   "source": [
    "## Изучение данных из файлов"
   ]
  },
  {
   "cell_type": "markdown",
   "id": "aa64ae2d",
   "metadata": {},
   "source": [
    "Для начала импортируем библиотеки, необходимые для дальнецшего анализа."
   ]
  },
  {
   "cell_type": "code",
   "execution_count": 1,
   "id": "3f1bf51e",
   "metadata": {},
   "outputs": [],
   "source": [
    "import pandas as pd\n",
    "import math\n",
    "import warnings\n",
    "import numpy as np\n",
    "import matplotlib as mpl\n",
    "import matplotlib.pyplot as plt\n",
    "import seaborn as sns\n",
    "from scipy import stats as st\n",
    "warnings.simplefilter('ignore')"
   ]
  },
  {
   "cell_type": "markdown",
   "id": "57a0709a",
   "metadata": {},
   "source": [
    "В данных к анализу, мы имеем пять таблиц:\n",
    "* users (информация о пользователях)\n",
    "* calls (информация о звонках)\n",
    "* messages (информация о сообщениях)\n",
    "* internet (информация об интернет-сессиях)\n",
    "* tariffs (информация о тарифах)\n",
    "\n",
    "Прочитаем соответствующие таблицы поочередно, запишем их данные в переменные."
   ]
  },
  {
   "cell_type": "code",
   "execution_count": 2,
   "id": "9c031be9",
   "metadata": {},
   "outputs": [],
   "source": [
    "try:\n",
    "    users = pd.read_csv('../4 project/users.csv')\n",
    "    calls = pd.read_csv('../4 project/calls.csv')\n",
    "    messages = pd.read_csv('../4 project/messages.csv')\n",
    "    internet = pd.read_csv('../4 project/internet.csv')\n",
    "    tariffs = pd.read_csv('../4 project/tariffs.csv')\n",
    "except: \n",
    "    users = pd.read_csv('/datasets/users.csv')\n",
    "    calls = pd.read_csv('/datasets/calls.csv')\n",
    "    messages = pd.read_csv('/datasets/messages.csv')\n",
    "    internet = pd.read_csv('/datasets/internet.csv')\n",
    "    tariffs = pd.read_csv('/datasets/tariffs.csv')"
   ]
  },
  {
   "cell_type": "markdown",
   "id": "604b686b",
   "metadata": {},
   "source": [
    "### Таблица users"
   ]
  },
  {
   "cell_type": "markdown",
   "id": "228e2621",
   "metadata": {},
   "source": [
    "Согласно описанию таблица `users` (информация о пользователях) состоит из следующих столбцов:\n",
    "* `user_id` — уникальный идентификатор пользователя\n",
    "* `first_name` — имя пользователя\n",
    "* `last_name` — фамилия пользователя\n",
    "* `reg_date` — дата подключения тарифа (день, месяц, год)\n",
    "* `churn_date` — дата прекращения пользования тарифом (если значение пропущено, то тариф ещё действовал на момент выгрузки данных)\n",
    "* `city` — город проживания пользователя\n",
    "* `tariff` — название тарифного плана\n",
    "\n",
    "Запросим 5 различных строк, для ознакомления с данными."
   ]
  },
  {
   "cell_type": "code",
   "execution_count": 3,
   "id": "9136380a",
   "metadata": {
    "scrolled": false
   },
   "outputs": [
    {
     "data": {
      "text/html": [
       "<div>\n",
       "<style scoped>\n",
       "    .dataframe tbody tr th:only-of-type {\n",
       "        vertical-align: middle;\n",
       "    }\n",
       "\n",
       "    .dataframe tbody tr th {\n",
       "        vertical-align: top;\n",
       "    }\n",
       "\n",
       "    .dataframe thead th {\n",
       "        text-align: right;\n",
       "    }\n",
       "</style>\n",
       "<table border=\"1\" class=\"dataframe\">\n",
       "  <thead>\n",
       "    <tr style=\"text-align: right;\">\n",
       "      <th></th>\n",
       "      <th>user_id</th>\n",
       "      <th>age</th>\n",
       "      <th>churn_date</th>\n",
       "      <th>city</th>\n",
       "      <th>first_name</th>\n",
       "      <th>last_name</th>\n",
       "      <th>reg_date</th>\n",
       "      <th>tariff</th>\n",
       "    </tr>\n",
       "  </thead>\n",
       "  <tbody>\n",
       "    <tr>\n",
       "      <td>0</td>\n",
       "      <td>1000</td>\n",
       "      <td>52</td>\n",
       "      <td>NaN</td>\n",
       "      <td>Краснодар</td>\n",
       "      <td>Рафаил</td>\n",
       "      <td>Верещагин</td>\n",
       "      <td>2018-05-25</td>\n",
       "      <td>ultra</td>\n",
       "    </tr>\n",
       "    <tr>\n",
       "      <td>1</td>\n",
       "      <td>1001</td>\n",
       "      <td>41</td>\n",
       "      <td>NaN</td>\n",
       "      <td>Москва</td>\n",
       "      <td>Иван</td>\n",
       "      <td>Ежов</td>\n",
       "      <td>2018-11-01</td>\n",
       "      <td>smart</td>\n",
       "    </tr>\n",
       "    <tr>\n",
       "      <td>2</td>\n",
       "      <td>1002</td>\n",
       "      <td>59</td>\n",
       "      <td>NaN</td>\n",
       "      <td>Стерлитамак</td>\n",
       "      <td>Евгений</td>\n",
       "      <td>Абрамович</td>\n",
       "      <td>2018-06-17</td>\n",
       "      <td>smart</td>\n",
       "    </tr>\n",
       "    <tr>\n",
       "      <td>3</td>\n",
       "      <td>1003</td>\n",
       "      <td>23</td>\n",
       "      <td>NaN</td>\n",
       "      <td>Москва</td>\n",
       "      <td>Белла</td>\n",
       "      <td>Белякова</td>\n",
       "      <td>2018-08-17</td>\n",
       "      <td>ultra</td>\n",
       "    </tr>\n",
       "    <tr>\n",
       "      <td>4</td>\n",
       "      <td>1004</td>\n",
       "      <td>68</td>\n",
       "      <td>NaN</td>\n",
       "      <td>Новокузнецк</td>\n",
       "      <td>Татьяна</td>\n",
       "      <td>Авдеенко</td>\n",
       "      <td>2018-05-14</td>\n",
       "      <td>ultra</td>\n",
       "    </tr>\n",
       "  </tbody>\n",
       "</table>\n",
       "</div>"
      ],
      "text/plain": [
       "   user_id  age churn_date         city first_name  last_name    reg_date  \\\n",
       "0     1000   52        NaN    Краснодар     Рафаил  Верещагин  2018-05-25   \n",
       "1     1001   41        NaN       Москва       Иван       Ежов  2018-11-01   \n",
       "2     1002   59        NaN  Стерлитамак    Евгений  Абрамович  2018-06-17   \n",
       "3     1003   23        NaN       Москва      Белла   Белякова  2018-08-17   \n",
       "4     1004   68        NaN  Новокузнецк    Татьяна   Авдеенко  2018-05-14   \n",
       "\n",
       "  tariff  \n",
       "0  ultra  \n",
       "1  smart  \n",
       "2  smart  \n",
       "3  ultra  \n",
       "4  ultra  "
      ]
     },
     "execution_count": 3,
     "metadata": {},
     "output_type": "execute_result"
    }
   ],
   "source": [
    "users.head(5) #запросим 5 разных строк таблицы"
   ]
  },
  {
   "cell_type": "markdown",
   "id": "d347f209",
   "metadata": {},
   "source": [
    "Проверим, нет ли повторений в значениях `user_id`"
   ]
  },
  {
   "cell_type": "code",
   "execution_count": 4,
   "id": "51eb7822",
   "metadata": {},
   "outputs": [
    {
     "data": {
      "text/plain": [
       "500"
      ]
     },
     "execution_count": 4,
     "metadata": {},
     "output_type": "execute_result"
    }
   ],
   "source": [
    "users['user_id'].nunique() #запросим количество уникальных значений"
   ]
  },
  {
   "cell_type": "markdown",
   "id": "c26acf48",
   "metadata": {},
   "source": [
    "Нет, повторений нет, все данные ID уникальны.\n",
    "\n",
    "Запросим данные о самой таблице, количестве строк, столбцов, типов данных в них  и количество пропусков (если они имеются)."
   ]
  },
  {
   "cell_type": "code",
   "execution_count": 5,
   "id": "de05a758",
   "metadata": {},
   "outputs": [
    {
     "name": "stdout",
     "output_type": "stream",
     "text": [
      "<class 'pandas.core.frame.DataFrame'>\n",
      "RangeIndex: 500 entries, 0 to 499\n",
      "Data columns (total 8 columns):\n",
      "user_id       500 non-null int64\n",
      "age           500 non-null int64\n",
      "churn_date    38 non-null object\n",
      "city          500 non-null object\n",
      "first_name    500 non-null object\n",
      "last_name     500 non-null object\n",
      "reg_date      500 non-null object\n",
      "tariff        500 non-null object\n",
      "dtypes: int64(2), object(6)\n",
      "memory usage: 31.4+ KB\n"
     ]
    }
   ],
   "source": [
    "users.info() #посмотрим общую инфомрцию о таблице"
   ]
  },
  {
   "cell_type": "markdown",
   "id": "ba31b340",
   "metadata": {},
   "source": [
    "Таблица `users` состоит из 500 строк и 8 столбцов. Из выбивающихся параметров, можно заметить 462 пропуска в колонке `churn_date`. Если вернуться к описанию данных, то эта дата означает время прекращения пользования услугами, а если есть пропуск, то пользователь продолжает пользоваться. Заполнять такие пропуски мы не будем.\n",
    "Еще можно заметить несоответствие типа данных в `reg_date`, в дальнейших шагах приведем данный тип данных к *datetime*."
   ]
  },
  {
   "cell_type": "markdown",
   "id": "adf09e83",
   "metadata": {},
   "source": [
    "### Таблица calls"
   ]
  },
  {
   "cell_type": "markdown",
   "id": "6bb43320",
   "metadata": {},
   "source": [
    "Проделаем аналогичные манипуляции, как в предыдущем шаге."
   ]
  },
  {
   "cell_type": "markdown",
   "id": "fd8670e7",
   "metadata": {},
   "source": [
    "Согласно описанию таблица `calls` (информация о звонках) состоит из следующих столбцов:\n",
    "* `id` — уникальный номер звонка\n",
    "* `call_date` — дата звонка\n",
    "* `duration` — длительность звонка в минутах\n",
    "* `user_id` — идентификатор пользователя, сделавшего звонок\n",
    "\n",
    "Запросим 5 различных строк, для ознакомления с данными."
   ]
  },
  {
   "cell_type": "code",
   "execution_count": 6,
   "id": "b40a7b26",
   "metadata": {},
   "outputs": [
    {
     "data": {
      "text/html": [
       "<div>\n",
       "<style scoped>\n",
       "    .dataframe tbody tr th:only-of-type {\n",
       "        vertical-align: middle;\n",
       "    }\n",
       "\n",
       "    .dataframe tbody tr th {\n",
       "        vertical-align: top;\n",
       "    }\n",
       "\n",
       "    .dataframe thead th {\n",
       "        text-align: right;\n",
       "    }\n",
       "</style>\n",
       "<table border=\"1\" class=\"dataframe\">\n",
       "  <thead>\n",
       "    <tr style=\"text-align: right;\">\n",
       "      <th></th>\n",
       "      <th>id</th>\n",
       "      <th>call_date</th>\n",
       "      <th>duration</th>\n",
       "      <th>user_id</th>\n",
       "    </tr>\n",
       "  </thead>\n",
       "  <tbody>\n",
       "    <tr>\n",
       "      <td>127417</td>\n",
       "      <td>1326_280</td>\n",
       "      <td>2018-11-17</td>\n",
       "      <td>18.54</td>\n",
       "      <td>1326</td>\n",
       "    </tr>\n",
       "    <tr>\n",
       "      <td>7086</td>\n",
       "      <td>1019_28</td>\n",
       "      <td>2018-08-24</td>\n",
       "      <td>0.00</td>\n",
       "      <td>1019</td>\n",
       "    </tr>\n",
       "    <tr>\n",
       "      <td>144404</td>\n",
       "      <td>1364_116</td>\n",
       "      <td>2018-10-19</td>\n",
       "      <td>4.91</td>\n",
       "      <td>1364</td>\n",
       "    </tr>\n",
       "    <tr>\n",
       "      <td>28125</td>\n",
       "      <td>1070_0</td>\n",
       "      <td>2018-10-03</td>\n",
       "      <td>0.00</td>\n",
       "      <td>1070</td>\n",
       "    </tr>\n",
       "    <tr>\n",
       "      <td>80182</td>\n",
       "      <td>1200_85</td>\n",
       "      <td>2018-12-04</td>\n",
       "      <td>6.07</td>\n",
       "      <td>1200</td>\n",
       "    </tr>\n",
       "  </tbody>\n",
       "</table>\n",
       "</div>"
      ],
      "text/plain": [
       "              id   call_date  duration  user_id\n",
       "127417  1326_280  2018-11-17     18.54     1326\n",
       "7086     1019_28  2018-08-24      0.00     1019\n",
       "144404  1364_116  2018-10-19      4.91     1364\n",
       "28125     1070_0  2018-10-03      0.00     1070\n",
       "80182    1200_85  2018-12-04      6.07     1200"
      ]
     },
     "execution_count": 6,
     "metadata": {},
     "output_type": "execute_result"
    }
   ],
   "source": [
    "calls.sample(5) #запросим 5 разных строк таблицы"
   ]
  },
  {
   "cell_type": "code",
   "execution_count": 7,
   "id": "f78b8a15",
   "metadata": {},
   "outputs": [
    {
     "name": "stdout",
     "output_type": "stream",
     "text": [
      "<class 'pandas.core.frame.DataFrame'>\n",
      "RangeIndex: 202607 entries, 0 to 202606\n",
      "Data columns (total 4 columns):\n",
      "id           202607 non-null object\n",
      "call_date    202607 non-null object\n",
      "duration     202607 non-null float64\n",
      "user_id      202607 non-null int64\n",
      "dtypes: float64(1), int64(1), object(2)\n",
      "memory usage: 6.2+ MB\n"
     ]
    }
   ],
   "source": [
    "calls.info() #посмотрим общую инфомрцию о таблице"
   ]
  },
  {
   "cell_type": "markdown",
   "id": "e99b15f5",
   "metadata": {},
   "source": [
    "Запросим минимальную и максимальную дату в датасете, чтобы удостовериться, что данные за 2018 год (согласно оаписанию к данным)."
   ]
  },
  {
   "cell_type": "code",
   "execution_count": 8,
   "id": "33fbe3e8",
   "metadata": {},
   "outputs": [
    {
     "name": "stdout",
     "output_type": "stream",
     "text": [
      "2018-01-01\n",
      "2018-12-31\n"
     ]
    }
   ],
   "source": [
    "print(calls['call_date'].min()) #запросим минимальную и маскимальную дату в данных\n",
    "print(calls['call_date'].max())"
   ]
  },
  {
   "cell_type": "markdown",
   "id": "35896d43",
   "metadata": {},
   "source": [
    "Таблица `calls` состоит из 4 колонок и 202607 строк, пропусков данных нет. Данные только за 2018 год. В столбце `call_date` приведем данные к *datetime*,  в `duration` данные о звонках окргулим с учетом условий."
   ]
  },
  {
   "cell_type": "markdown",
   "id": "e68dfe0b",
   "metadata": {},
   "source": [
    "### Таблица messages"
   ]
  },
  {
   "cell_type": "markdown",
   "id": "212359d7",
   "metadata": {},
   "source": [
    "Таблица `messages` (информация о сообщениях) включает в себя:\n",
    "* `id` — уникальный номер звонка\n",
    "* `message_date` — дата сообщения\n",
    "* `user_id` — идентификатор пользователя, отправившего сообщение"
   ]
  },
  {
   "cell_type": "code",
   "execution_count": 9,
   "id": "465891f9",
   "metadata": {
    "scrolled": true
   },
   "outputs": [
    {
     "data": {
      "text/html": [
       "<div>\n",
       "<style scoped>\n",
       "    .dataframe tbody tr th:only-of-type {\n",
       "        vertical-align: middle;\n",
       "    }\n",
       "\n",
       "    .dataframe tbody tr th {\n",
       "        vertical-align: top;\n",
       "    }\n",
       "\n",
       "    .dataframe thead th {\n",
       "        text-align: right;\n",
       "    }\n",
       "</style>\n",
       "<table border=\"1\" class=\"dataframe\">\n",
       "  <thead>\n",
       "    <tr style=\"text-align: right;\">\n",
       "      <th></th>\n",
       "      <th>id</th>\n",
       "      <th>message_date</th>\n",
       "      <th>user_id</th>\n",
       "    </tr>\n",
       "  </thead>\n",
       "  <tbody>\n",
       "    <tr>\n",
       "      <td>10843</td>\n",
       "      <td>1045_422</td>\n",
       "      <td>2018-09-20</td>\n",
       "      <td>1045</td>\n",
       "    </tr>\n",
       "    <tr>\n",
       "      <td>2835</td>\n",
       "      <td>1007_145</td>\n",
       "      <td>2018-08-02</td>\n",
       "      <td>1007</td>\n",
       "    </tr>\n",
       "    <tr>\n",
       "      <td>24391</td>\n",
       "      <td>1100_148</td>\n",
       "      <td>2018-10-06</td>\n",
       "      <td>1100</td>\n",
       "    </tr>\n",
       "    <tr>\n",
       "      <td>57833</td>\n",
       "      <td>1253_342</td>\n",
       "      <td>2018-11-08</td>\n",
       "      <td>1253</td>\n",
       "    </tr>\n",
       "    <tr>\n",
       "      <td>42771</td>\n",
       "      <td>1186_184</td>\n",
       "      <td>2018-09-19</td>\n",
       "      <td>1186</td>\n",
       "    </tr>\n",
       "  </tbody>\n",
       "</table>\n",
       "</div>"
      ],
      "text/plain": [
       "             id message_date  user_id\n",
       "10843  1045_422   2018-09-20     1045\n",
       "2835   1007_145   2018-08-02     1007\n",
       "24391  1100_148   2018-10-06     1100\n",
       "57833  1253_342   2018-11-08     1253\n",
       "42771  1186_184   2018-09-19     1186"
      ]
     },
     "execution_count": 9,
     "metadata": {},
     "output_type": "execute_result"
    }
   ],
   "source": [
    "messages.sample(5) #запросим 5 разных строк таблицы"
   ]
  },
  {
   "cell_type": "code",
   "execution_count": 10,
   "id": "9927a316",
   "metadata": {},
   "outputs": [
    {
     "name": "stdout",
     "output_type": "stream",
     "text": [
      "2018-01-02\n",
      "2018-12-31\n"
     ]
    }
   ],
   "source": [
    "print(messages['message_date'].min()) #также проверим мнимальную и максимальную дату\n",
    "print(messages['message_date'].max())"
   ]
  },
  {
   "cell_type": "code",
   "execution_count": 11,
   "id": "6f8e1283",
   "metadata": {},
   "outputs": [
    {
     "name": "stdout",
     "output_type": "stream",
     "text": [
      "<class 'pandas.core.frame.DataFrame'>\n",
      "RangeIndex: 123036 entries, 0 to 123035\n",
      "Data columns (total 3 columns):\n",
      "id              123036 non-null object\n",
      "message_date    123036 non-null object\n",
      "user_id         123036 non-null int64\n",
      "dtypes: int64(1), object(2)\n",
      "memory usage: 2.8+ MB\n"
     ]
    }
   ],
   "source": [
    "messages.info() #посмотрим общую инфомрцию о таблице"
   ]
  },
  {
   "cell_type": "markdown",
   "id": "0d36a6a1",
   "metadata": {},
   "source": [
    "Таблица `messages` состоит из 3 колонок и 123036 строк. Данные содержат значения за 2018 год. Пропусков данных нет, `message_date` в дальнейшем приведем к типу данных *datetime*."
   ]
  },
  {
   "cell_type": "markdown",
   "id": "e0602723",
   "metadata": {},
   "source": [
    "### Таблица internet "
   ]
  },
  {
   "cell_type": "markdown",
   "id": "f373b12f",
   "metadata": {},
   "source": [
    "Таблица `internet` (информация об интернет-сессиях) включает в себя следующие столбцы:\n",
    "* `id` — уникальный номер сессии\n",
    "* `mb_used` — объём потраченного за сессию интернет-трафика (в мегабайтах)\n",
    "* `session_date` — дата интернет-сессии\n",
    "* `user_id` — идентификатор пользователя\n"
   ]
  },
  {
   "cell_type": "code",
   "execution_count": 12,
   "id": "a190eb21",
   "metadata": {},
   "outputs": [
    {
     "data": {
      "text/html": [
       "<div>\n",
       "<style scoped>\n",
       "    .dataframe tbody tr th:only-of-type {\n",
       "        vertical-align: middle;\n",
       "    }\n",
       "\n",
       "    .dataframe tbody tr th {\n",
       "        vertical-align: top;\n",
       "    }\n",
       "\n",
       "    .dataframe thead th {\n",
       "        text-align: right;\n",
       "    }\n",
       "</style>\n",
       "<table border=\"1\" class=\"dataframe\">\n",
       "  <thead>\n",
       "    <tr style=\"text-align: right;\">\n",
       "      <th></th>\n",
       "      <th>Unnamed: 0</th>\n",
       "      <th>id</th>\n",
       "      <th>mb_used</th>\n",
       "      <th>session_date</th>\n",
       "      <th>user_id</th>\n",
       "    </tr>\n",
       "  </thead>\n",
       "  <tbody>\n",
       "    <tr>\n",
       "      <td>17530</td>\n",
       "      <td>17530</td>\n",
       "      <td>1060_24</td>\n",
       "      <td>748.01</td>\n",
       "      <td>2018-12-24</td>\n",
       "      <td>1060</td>\n",
       "    </tr>\n",
       "    <tr>\n",
       "      <td>124937</td>\n",
       "      <td>124937</td>\n",
       "      <td>1421_122</td>\n",
       "      <td>314.72</td>\n",
       "      <td>2018-10-18</td>\n",
       "      <td>1421</td>\n",
       "    </tr>\n",
       "    <tr>\n",
       "      <td>131049</td>\n",
       "      <td>131049</td>\n",
       "      <td>1436_15</td>\n",
       "      <td>8.01</td>\n",
       "      <td>2018-08-17</td>\n",
       "      <td>1436</td>\n",
       "    </tr>\n",
       "    <tr>\n",
       "      <td>114988</td>\n",
       "      <td>114988</td>\n",
       "      <td>1388_5</td>\n",
       "      <td>628.20</td>\n",
       "      <td>2018-10-09</td>\n",
       "      <td>1388</td>\n",
       "    </tr>\n",
       "    <tr>\n",
       "      <td>18702</td>\n",
       "      <td>18702</td>\n",
       "      <td>1064_421</td>\n",
       "      <td>522.11</td>\n",
       "      <td>2018-05-28</td>\n",
       "      <td>1064</td>\n",
       "    </tr>\n",
       "  </tbody>\n",
       "</table>\n",
       "</div>"
      ],
      "text/plain": [
       "        Unnamed: 0        id  mb_used session_date  user_id\n",
       "17530        17530   1060_24   748.01   2018-12-24     1060\n",
       "124937      124937  1421_122   314.72   2018-10-18     1421\n",
       "131049      131049   1436_15     8.01   2018-08-17     1436\n",
       "114988      114988    1388_5   628.20   2018-10-09     1388\n",
       "18702        18702  1064_421   522.11   2018-05-28     1064"
      ]
     },
     "execution_count": 12,
     "metadata": {},
     "output_type": "execute_result"
    }
   ],
   "source": [
    "internet.sample(5) #запросим 5 разных строк таблицы"
   ]
  },
  {
   "cell_type": "code",
   "execution_count": 13,
   "id": "bf3854d0",
   "metadata": {
    "scrolled": true
   },
   "outputs": [
    {
     "name": "stdout",
     "output_type": "stream",
     "text": [
      "<class 'pandas.core.frame.DataFrame'>\n",
      "RangeIndex: 149396 entries, 0 to 149395\n",
      "Data columns (total 5 columns):\n",
      "Unnamed: 0      149396 non-null int64\n",
      "id              149396 non-null object\n",
      "mb_used         149396 non-null float64\n",
      "session_date    149396 non-null object\n",
      "user_id         149396 non-null int64\n",
      "dtypes: float64(1), int64(2), object(2)\n",
      "memory usage: 5.7+ MB\n"
     ]
    }
   ],
   "source": [
    "internet.info() #посмотрим общую инфомрцию о таблице"
   ]
  },
  {
   "cell_type": "markdown",
   "id": "09961674",
   "metadata": {},
   "source": [
    "Таблица состоит из 4 столбцов и 149396 строк, но при чтении мы наблюдаем дублированный столбец с индексами (его удалим). Пропусков в данных нет, но `session_date` приведем к *datetime*."
   ]
  },
  {
   "cell_type": "markdown",
   "id": "9d374b43",
   "metadata": {},
   "source": [
    "### Таблица tariffs "
   ]
  },
  {
   "cell_type": "markdown",
   "id": "905f8075",
   "metadata": {},
   "source": [
    "Таблица tariffs (информация о тарифах) содрежит следующие данные:\n",
    "* `tariff_name` — название тарифа\n",
    "* `rub_monthly_fee` — ежемесячная абонентская плата в рублях\n",
    "* `minutes_included` — количество минут разговора в месяц, включённых в абонентскую плату\n",
    "* `messages_included` — количество сообщений в месяц, включённых в абонентскую плату\n",
    "* `mb_per_month_included` — объём интернет-трафика, включённого в абонентскую плату (в мегабайтах)\n",
    "* `rub_per_minute` — стоимость минуты разговора сверх тарифного пакета (например, если в тарифе 100 минут разговора в месяц, то со 101 минуты будет взиматься плата)\n",
    "* `rub_per_message` — стоимость отправки сообщения сверх тарифного пакета\n",
    "* `rub_per_gb` — стоимость дополнительного гигабайта интернет-трафика сверх тарифного пакета (1 гигабайт = 1024 мегабайта)\n"
   ]
  },
  {
   "cell_type": "code",
   "execution_count": 14,
   "id": "995b3415",
   "metadata": {},
   "outputs": [
    {
     "data": {
      "text/html": [
       "<div>\n",
       "<style scoped>\n",
       "    .dataframe tbody tr th:only-of-type {\n",
       "        vertical-align: middle;\n",
       "    }\n",
       "\n",
       "    .dataframe tbody tr th {\n",
       "        vertical-align: top;\n",
       "    }\n",
       "\n",
       "    .dataframe thead th {\n",
       "        text-align: right;\n",
       "    }\n",
       "</style>\n",
       "<table border=\"1\" class=\"dataframe\">\n",
       "  <thead>\n",
       "    <tr style=\"text-align: right;\">\n",
       "      <th></th>\n",
       "      <th>messages_included</th>\n",
       "      <th>mb_per_month_included</th>\n",
       "      <th>minutes_included</th>\n",
       "      <th>rub_monthly_fee</th>\n",
       "      <th>rub_per_gb</th>\n",
       "      <th>rub_per_message</th>\n",
       "      <th>rub_per_minute</th>\n",
       "      <th>tariff_name</th>\n",
       "    </tr>\n",
       "  </thead>\n",
       "  <tbody>\n",
       "    <tr>\n",
       "      <td>0</td>\n",
       "      <td>50</td>\n",
       "      <td>15360</td>\n",
       "      <td>500</td>\n",
       "      <td>550</td>\n",
       "      <td>200</td>\n",
       "      <td>3</td>\n",
       "      <td>3</td>\n",
       "      <td>smart</td>\n",
       "    </tr>\n",
       "    <tr>\n",
       "      <td>1</td>\n",
       "      <td>1000</td>\n",
       "      <td>30720</td>\n",
       "      <td>3000</td>\n",
       "      <td>1950</td>\n",
       "      <td>150</td>\n",
       "      <td>1</td>\n",
       "      <td>1</td>\n",
       "      <td>ultra</td>\n",
       "    </tr>\n",
       "  </tbody>\n",
       "</table>\n",
       "</div>"
      ],
      "text/plain": [
       "   messages_included  mb_per_month_included  minutes_included  \\\n",
       "0                 50                  15360               500   \n",
       "1               1000                  30720              3000   \n",
       "\n",
       "   rub_monthly_fee  rub_per_gb  rub_per_message  rub_per_minute tariff_name  \n",
       "0              550         200                3               3       smart  \n",
       "1             1950         150                1               1       ultra  "
      ]
     },
     "execution_count": 14,
     "metadata": {},
     "output_type": "execute_result"
    }
   ],
   "source": [
    "tariffs.head() #запросим первые строки таблицы"
   ]
  },
  {
   "cell_type": "code",
   "execution_count": 15,
   "id": "146043d3",
   "metadata": {},
   "outputs": [
    {
     "name": "stdout",
     "output_type": "stream",
     "text": [
      "<class 'pandas.core.frame.DataFrame'>\n",
      "RangeIndex: 2 entries, 0 to 1\n",
      "Data columns (total 8 columns):\n",
      "messages_included        2 non-null int64\n",
      "mb_per_month_included    2 non-null int64\n",
      "minutes_included         2 non-null int64\n",
      "rub_monthly_fee          2 non-null int64\n",
      "rub_per_gb               2 non-null int64\n",
      "rub_per_message          2 non-null int64\n",
      "rub_per_minute           2 non-null int64\n",
      "tariff_name              2 non-null object\n",
      "dtypes: int64(7), object(1)\n",
      "memory usage: 256.0+ bytes\n"
     ]
    }
   ],
   "source": [
    "tariffs.info() #посмотрим общую инфомрцию о таблице"
   ]
  },
  {
   "cell_type": "markdown",
   "id": "71f7fa69",
   "metadata": {},
   "source": [
    "В этой таблице все отлично, 8 колонок, всего 2 строки, пропусков нет, данные в правильном виде."
   ]
  },
  {
   "cell_type": "markdown",
   "id": "02f86773",
   "metadata": {},
   "source": [
    "### Вывод"
   ]
  },
  {
   "cell_type": "markdown",
   "id": "070c8538",
   "metadata": {},
   "source": [
    "Прочитав данные мы можем сделать следующие выводы:\n",
    "\n",
    "по составу таблиц и пропускам:\n",
    "* таблица `users` - 500 строк, 8 столбцов, 462 пропуска в `churn_date` (заполнять не будем);\n",
    "* таблица `calls` - 202607 строк и 4 колонок, пропусков нет;\n",
    "* таблица `messages` - 123036 строк и 3 колонки, пропусков нет; \n",
    "* таблица `internet` - 149396 строк и 4 столбца, пропусков нет, но есть дубль-столбец (его удалим);\n",
    "* таблица `tariffs` - 2 строки и 8 колонок, пропусков нет.\n",
    "\n",
    "по соответсвию типов данных:\n",
    "* таблица `users` - `reg_date` приведем к *datetime*;\n",
    "* таблица `calls` - `call_date` приведем к *datetime*, в `duration` данные о звонках округлим;\n",
    "* таблица `messages` - `message_date` приведем к *datetime*;\n",
    "* таблица `internet` - `session_date` приведем к *datetime*;\n",
    "* таблица `tariffs` - все данные в нужном формате.\n"
   ]
  },
  {
   "cell_type": "markdown",
   "id": "f07e3976",
   "metadata": {},
   "source": [
    "## Предобработка данных"
   ]
  },
  {
   "cell_type": "markdown",
   "id": "785a49f4",
   "metadata": {},
   "source": [
    "### Замена типов данных"
   ]
  },
  {
   "cell_type": "markdown",
   "id": "f006cb02",
   "metadata": {},
   "source": [
    "Заменим тип данных *object* на *datetime*, в таблицах и столбцах. Для этого напишем функцию и применим ее на соответвующие данные. Проверим данные."
   ]
  },
  {
   "cell_type": "code",
   "execution_count": 16,
   "id": "a1492ecf",
   "metadata": {},
   "outputs": [],
   "source": [
    "def date_change(table, column): #передаем в фунцкию название таблицы и столбца для смена типа данных\n",
    "    table[column] = pd.to_datetime(table[column], format = '%Y-%m-%d')\n",
    "    print()\n",
    "    table.info()"
   ]
  },
  {
   "cell_type": "code",
   "execution_count": 17,
   "id": "66ab1fe7",
   "metadata": {},
   "outputs": [
    {
     "name": "stdout",
     "output_type": "stream",
     "text": [
      "\n",
      "<class 'pandas.core.frame.DataFrame'>\n",
      "RangeIndex: 500 entries, 0 to 499\n",
      "Data columns (total 8 columns):\n",
      "user_id       500 non-null int64\n",
      "age           500 non-null int64\n",
      "churn_date    38 non-null object\n",
      "city          500 non-null object\n",
      "first_name    500 non-null object\n",
      "last_name     500 non-null object\n",
      "reg_date      500 non-null datetime64[ns]\n",
      "tariff        500 non-null object\n",
      "dtypes: datetime64[ns](1), int64(2), object(5)\n",
      "memory usage: 31.4+ KB\n",
      "\n",
      "<class 'pandas.core.frame.DataFrame'>\n",
      "RangeIndex: 500 entries, 0 to 499\n",
      "Data columns (total 8 columns):\n",
      "user_id       500 non-null int64\n",
      "age           500 non-null int64\n",
      "churn_date    38 non-null datetime64[ns]\n",
      "city          500 non-null object\n",
      "first_name    500 non-null object\n",
      "last_name     500 non-null object\n",
      "reg_date      500 non-null datetime64[ns]\n",
      "tariff        500 non-null object\n",
      "dtypes: datetime64[ns](2), int64(2), object(4)\n",
      "memory usage: 31.4+ KB\n",
      "\n",
      "<class 'pandas.core.frame.DataFrame'>\n",
      "RangeIndex: 202607 entries, 0 to 202606\n",
      "Data columns (total 4 columns):\n",
      "id           202607 non-null object\n",
      "call_date    202607 non-null datetime64[ns]\n",
      "duration     202607 non-null float64\n",
      "user_id      202607 non-null int64\n",
      "dtypes: datetime64[ns](1), float64(1), int64(1), object(1)\n",
      "memory usage: 6.2+ MB\n",
      "\n",
      "<class 'pandas.core.frame.DataFrame'>\n",
      "RangeIndex: 123036 entries, 0 to 123035\n",
      "Data columns (total 3 columns):\n",
      "id              123036 non-null object\n",
      "message_date    123036 non-null datetime64[ns]\n",
      "user_id         123036 non-null int64\n",
      "dtypes: datetime64[ns](1), int64(1), object(1)\n",
      "memory usage: 2.8+ MB\n",
      "\n",
      "<class 'pandas.core.frame.DataFrame'>\n",
      "RangeIndex: 149396 entries, 0 to 149395\n",
      "Data columns (total 5 columns):\n",
      "Unnamed: 0      149396 non-null int64\n",
      "id              149396 non-null object\n",
      "mb_used         149396 non-null float64\n",
      "session_date    149396 non-null datetime64[ns]\n",
      "user_id         149396 non-null int64\n",
      "dtypes: datetime64[ns](1), float64(1), int64(2), object(1)\n",
      "memory usage: 5.7+ MB\n"
     ]
    }
   ],
   "source": [
    "date_change(users, 'reg_date') #применяем нашу функцию на нужных столбцах \n",
    "date_change(users, 'churn_date')\n",
    "date_change(calls,'call_date')\n",
    "date_change(messages,'message_date')\n",
    "date_change(internet,'session_date')"
   ]
  },
  {
   "cell_type": "markdown",
   "id": "d4c19fd9",
   "metadata": {},
   "source": [
    "Проверим смену типов данных."
   ]
  },
  {
   "cell_type": "markdown",
   "id": "19ddb2f6",
   "metadata": {},
   "source": [
    "Замена данных произошла успешно, а теперь удалим столбец `Unnamed: 0` из таблицы `internet`, который содержал повтор индексов. Проверим результат."
   ]
  },
  {
   "cell_type": "code",
   "execution_count": 18,
   "id": "b5d32e4d",
   "metadata": {},
   "outputs": [],
   "source": [
    "internet = internet.drop('Unnamed: 0', axis = 1) #удаляем столбец"
   ]
  },
  {
   "cell_type": "code",
   "execution_count": 19,
   "id": "91131f8c",
   "metadata": {},
   "outputs": [
    {
     "data": {
      "text/html": [
       "<div>\n",
       "<style scoped>\n",
       "    .dataframe tbody tr th:only-of-type {\n",
       "        vertical-align: middle;\n",
       "    }\n",
       "\n",
       "    .dataframe tbody tr th {\n",
       "        vertical-align: top;\n",
       "    }\n",
       "\n",
       "    .dataframe thead th {\n",
       "        text-align: right;\n",
       "    }\n",
       "</style>\n",
       "<table border=\"1\" class=\"dataframe\">\n",
       "  <thead>\n",
       "    <tr style=\"text-align: right;\">\n",
       "      <th></th>\n",
       "      <th>id</th>\n",
       "      <th>mb_used</th>\n",
       "      <th>session_date</th>\n",
       "      <th>user_id</th>\n",
       "    </tr>\n",
       "  </thead>\n",
       "  <tbody>\n",
       "    <tr>\n",
       "      <td>0</td>\n",
       "      <td>1000_0</td>\n",
       "      <td>112.95</td>\n",
       "      <td>2018-11-25</td>\n",
       "      <td>1000</td>\n",
       "    </tr>\n",
       "    <tr>\n",
       "      <td>1</td>\n",
       "      <td>1000_1</td>\n",
       "      <td>1052.81</td>\n",
       "      <td>2018-09-07</td>\n",
       "      <td>1000</td>\n",
       "    </tr>\n",
       "    <tr>\n",
       "      <td>2</td>\n",
       "      <td>1000_2</td>\n",
       "      <td>1197.26</td>\n",
       "      <td>2018-06-25</td>\n",
       "      <td>1000</td>\n",
       "    </tr>\n",
       "    <tr>\n",
       "      <td>3</td>\n",
       "      <td>1000_3</td>\n",
       "      <td>550.27</td>\n",
       "      <td>2018-08-22</td>\n",
       "      <td>1000</td>\n",
       "    </tr>\n",
       "    <tr>\n",
       "      <td>4</td>\n",
       "      <td>1000_4</td>\n",
       "      <td>302.56</td>\n",
       "      <td>2018-09-24</td>\n",
       "      <td>1000</td>\n",
       "    </tr>\n",
       "  </tbody>\n",
       "</table>\n",
       "</div>"
      ],
      "text/plain": [
       "       id  mb_used session_date  user_id\n",
       "0  1000_0   112.95   2018-11-25     1000\n",
       "1  1000_1  1052.81   2018-09-07     1000\n",
       "2  1000_2  1197.26   2018-06-25     1000\n",
       "3  1000_3   550.27   2018-08-22     1000\n",
       "4  1000_4   302.56   2018-09-24     1000"
      ]
     },
     "execution_count": 19,
     "metadata": {},
     "output_type": "execute_result"
    }
   ],
   "source": [
    "internet.head(5) #проверим результат"
   ]
  },
  {
   "cell_type": "markdown",
   "id": "6c54f189",
   "metadata": {},
   "source": [
    "По условиям к анализу, у компании округляются звонки в большую сторону. С помощью функции округлим все звонки."
   ]
  },
  {
   "cell_type": "markdown",
   "id": "e5622d9d",
   "metadata": {},
   "source": [
    "### Округление величин"
   ]
  },
  {
   "cell_type": "markdown",
   "id": "1a4b9f17",
   "metadata": {},
   "source": [
    "По условиям к анализу звонки округляются до минут, даже если звонок был несколько секунд, произведем такое округление."
   ]
  },
  {
   "cell_type": "code",
   "execution_count": 20,
   "id": "34c6f4f1",
   "metadata": {},
   "outputs": [],
   "source": [
    "calls['duration'] = np.ceil(calls['duration'])"
   ]
  },
  {
   "cell_type": "code",
   "execution_count": 21,
   "id": "ecd3f917",
   "metadata": {},
   "outputs": [
    {
     "data": {
      "text/html": [
       "<div>\n",
       "<style scoped>\n",
       "    .dataframe tbody tr th:only-of-type {\n",
       "        vertical-align: middle;\n",
       "    }\n",
       "\n",
       "    .dataframe tbody tr th {\n",
       "        vertical-align: top;\n",
       "    }\n",
       "\n",
       "    .dataframe thead th {\n",
       "        text-align: right;\n",
       "    }\n",
       "</style>\n",
       "<table border=\"1\" class=\"dataframe\">\n",
       "  <thead>\n",
       "    <tr style=\"text-align: right;\">\n",
       "      <th></th>\n",
       "      <th>id</th>\n",
       "      <th>call_date</th>\n",
       "      <th>duration</th>\n",
       "      <th>user_id</th>\n",
       "    </tr>\n",
       "  </thead>\n",
       "  <tbody>\n",
       "    <tr>\n",
       "      <td>0</td>\n",
       "      <td>1000_0</td>\n",
       "      <td>2018-07-25</td>\n",
       "      <td>0.0</td>\n",
       "      <td>1000</td>\n",
       "    </tr>\n",
       "    <tr>\n",
       "      <td>1</td>\n",
       "      <td>1000_1</td>\n",
       "      <td>2018-08-17</td>\n",
       "      <td>0.0</td>\n",
       "      <td>1000</td>\n",
       "    </tr>\n",
       "    <tr>\n",
       "      <td>2</td>\n",
       "      <td>1000_2</td>\n",
       "      <td>2018-06-11</td>\n",
       "      <td>3.0</td>\n",
       "      <td>1000</td>\n",
       "    </tr>\n",
       "    <tr>\n",
       "      <td>3</td>\n",
       "      <td>1000_3</td>\n",
       "      <td>2018-09-21</td>\n",
       "      <td>14.0</td>\n",
       "      <td>1000</td>\n",
       "    </tr>\n",
       "    <tr>\n",
       "      <td>4</td>\n",
       "      <td>1000_4</td>\n",
       "      <td>2018-12-15</td>\n",
       "      <td>6.0</td>\n",
       "      <td>1000</td>\n",
       "    </tr>\n",
       "  </tbody>\n",
       "</table>\n",
       "</div>"
      ],
      "text/plain": [
       "       id  call_date  duration  user_id\n",
       "0  1000_0 2018-07-25       0.0     1000\n",
       "1  1000_1 2018-08-17       0.0     1000\n",
       "2  1000_2 2018-06-11       3.0     1000\n",
       "3  1000_3 2018-09-21      14.0     1000\n",
       "4  1000_4 2018-12-15       6.0     1000"
      ]
     },
     "execution_count": 21,
     "metadata": {},
     "output_type": "execute_result"
    }
   ],
   "source": [
    "calls.head(5) #проверим результат"
   ]
  },
  {
   "cell_type": "markdown",
   "id": "499bcabf",
   "metadata": {},
   "source": [
    "### Добавление данных"
   ]
  },
  {
   "cell_type": "markdown",
   "id": "ea3e063e",
   "metadata": {},
   "source": [
    "Добавим, с помощью функции, столбцы с месяцем в таблицах `calls`, `messages`, `internet`."
   ]
  },
  {
   "cell_type": "code",
   "execution_count": 22,
   "id": "7f22a181",
   "metadata": {},
   "outputs": [],
   "source": [
    "#добавим колонку month в таблицу, исходя из полной даты в самой таблице\n",
    "def month_number(table, column): \n",
    "    table['month'] = pd.DatetimeIndex(table[column]).month\n",
    "    display(table.head(5))"
   ]
  },
  {
   "cell_type": "code",
   "execution_count": 23,
   "id": "22f52ca5",
   "metadata": {},
   "outputs": [
    {
     "data": {
      "text/html": [
       "<div>\n",
       "<style scoped>\n",
       "    .dataframe tbody tr th:only-of-type {\n",
       "        vertical-align: middle;\n",
       "    }\n",
       "\n",
       "    .dataframe tbody tr th {\n",
       "        vertical-align: top;\n",
       "    }\n",
       "\n",
       "    .dataframe thead th {\n",
       "        text-align: right;\n",
       "    }\n",
       "</style>\n",
       "<table border=\"1\" class=\"dataframe\">\n",
       "  <thead>\n",
       "    <tr style=\"text-align: right;\">\n",
       "      <th></th>\n",
       "      <th>id</th>\n",
       "      <th>call_date</th>\n",
       "      <th>duration</th>\n",
       "      <th>user_id</th>\n",
       "      <th>month</th>\n",
       "    </tr>\n",
       "  </thead>\n",
       "  <tbody>\n",
       "    <tr>\n",
       "      <td>0</td>\n",
       "      <td>1000_0</td>\n",
       "      <td>2018-07-25</td>\n",
       "      <td>0.0</td>\n",
       "      <td>1000</td>\n",
       "      <td>7</td>\n",
       "    </tr>\n",
       "    <tr>\n",
       "      <td>1</td>\n",
       "      <td>1000_1</td>\n",
       "      <td>2018-08-17</td>\n",
       "      <td>0.0</td>\n",
       "      <td>1000</td>\n",
       "      <td>8</td>\n",
       "    </tr>\n",
       "    <tr>\n",
       "      <td>2</td>\n",
       "      <td>1000_2</td>\n",
       "      <td>2018-06-11</td>\n",
       "      <td>3.0</td>\n",
       "      <td>1000</td>\n",
       "      <td>6</td>\n",
       "    </tr>\n",
       "    <tr>\n",
       "      <td>3</td>\n",
       "      <td>1000_3</td>\n",
       "      <td>2018-09-21</td>\n",
       "      <td>14.0</td>\n",
       "      <td>1000</td>\n",
       "      <td>9</td>\n",
       "    </tr>\n",
       "    <tr>\n",
       "      <td>4</td>\n",
       "      <td>1000_4</td>\n",
       "      <td>2018-12-15</td>\n",
       "      <td>6.0</td>\n",
       "      <td>1000</td>\n",
       "      <td>12</td>\n",
       "    </tr>\n",
       "  </tbody>\n",
       "</table>\n",
       "</div>"
      ],
      "text/plain": [
       "       id  call_date  duration  user_id  month\n",
       "0  1000_0 2018-07-25       0.0     1000      7\n",
       "1  1000_1 2018-08-17       0.0     1000      8\n",
       "2  1000_2 2018-06-11       3.0     1000      6\n",
       "3  1000_3 2018-09-21      14.0     1000      9\n",
       "4  1000_4 2018-12-15       6.0     1000     12"
      ]
     },
     "metadata": {},
     "output_type": "display_data"
    },
    {
     "data": {
      "text/html": [
       "<div>\n",
       "<style scoped>\n",
       "    .dataframe tbody tr th:only-of-type {\n",
       "        vertical-align: middle;\n",
       "    }\n",
       "\n",
       "    .dataframe tbody tr th {\n",
       "        vertical-align: top;\n",
       "    }\n",
       "\n",
       "    .dataframe thead th {\n",
       "        text-align: right;\n",
       "    }\n",
       "</style>\n",
       "<table border=\"1\" class=\"dataframe\">\n",
       "  <thead>\n",
       "    <tr style=\"text-align: right;\">\n",
       "      <th></th>\n",
       "      <th>id</th>\n",
       "      <th>message_date</th>\n",
       "      <th>user_id</th>\n",
       "      <th>month</th>\n",
       "    </tr>\n",
       "  </thead>\n",
       "  <tbody>\n",
       "    <tr>\n",
       "      <td>0</td>\n",
       "      <td>1000_0</td>\n",
       "      <td>2018-06-27</td>\n",
       "      <td>1000</td>\n",
       "      <td>6</td>\n",
       "    </tr>\n",
       "    <tr>\n",
       "      <td>1</td>\n",
       "      <td>1000_1</td>\n",
       "      <td>2018-10-08</td>\n",
       "      <td>1000</td>\n",
       "      <td>10</td>\n",
       "    </tr>\n",
       "    <tr>\n",
       "      <td>2</td>\n",
       "      <td>1000_2</td>\n",
       "      <td>2018-08-04</td>\n",
       "      <td>1000</td>\n",
       "      <td>8</td>\n",
       "    </tr>\n",
       "    <tr>\n",
       "      <td>3</td>\n",
       "      <td>1000_3</td>\n",
       "      <td>2018-06-16</td>\n",
       "      <td>1000</td>\n",
       "      <td>6</td>\n",
       "    </tr>\n",
       "    <tr>\n",
       "      <td>4</td>\n",
       "      <td>1000_4</td>\n",
       "      <td>2018-12-05</td>\n",
       "      <td>1000</td>\n",
       "      <td>12</td>\n",
       "    </tr>\n",
       "  </tbody>\n",
       "</table>\n",
       "</div>"
      ],
      "text/plain": [
       "       id message_date  user_id  month\n",
       "0  1000_0   2018-06-27     1000      6\n",
       "1  1000_1   2018-10-08     1000     10\n",
       "2  1000_2   2018-08-04     1000      8\n",
       "3  1000_3   2018-06-16     1000      6\n",
       "4  1000_4   2018-12-05     1000     12"
      ]
     },
     "metadata": {},
     "output_type": "display_data"
    },
    {
     "data": {
      "text/html": [
       "<div>\n",
       "<style scoped>\n",
       "    .dataframe tbody tr th:only-of-type {\n",
       "        vertical-align: middle;\n",
       "    }\n",
       "\n",
       "    .dataframe tbody tr th {\n",
       "        vertical-align: top;\n",
       "    }\n",
       "\n",
       "    .dataframe thead th {\n",
       "        text-align: right;\n",
       "    }\n",
       "</style>\n",
       "<table border=\"1\" class=\"dataframe\">\n",
       "  <thead>\n",
       "    <tr style=\"text-align: right;\">\n",
       "      <th></th>\n",
       "      <th>id</th>\n",
       "      <th>mb_used</th>\n",
       "      <th>session_date</th>\n",
       "      <th>user_id</th>\n",
       "      <th>month</th>\n",
       "    </tr>\n",
       "  </thead>\n",
       "  <tbody>\n",
       "    <tr>\n",
       "      <td>0</td>\n",
       "      <td>1000_0</td>\n",
       "      <td>112.95</td>\n",
       "      <td>2018-11-25</td>\n",
       "      <td>1000</td>\n",
       "      <td>11</td>\n",
       "    </tr>\n",
       "    <tr>\n",
       "      <td>1</td>\n",
       "      <td>1000_1</td>\n",
       "      <td>1052.81</td>\n",
       "      <td>2018-09-07</td>\n",
       "      <td>1000</td>\n",
       "      <td>9</td>\n",
       "    </tr>\n",
       "    <tr>\n",
       "      <td>2</td>\n",
       "      <td>1000_2</td>\n",
       "      <td>1197.26</td>\n",
       "      <td>2018-06-25</td>\n",
       "      <td>1000</td>\n",
       "      <td>6</td>\n",
       "    </tr>\n",
       "    <tr>\n",
       "      <td>3</td>\n",
       "      <td>1000_3</td>\n",
       "      <td>550.27</td>\n",
       "      <td>2018-08-22</td>\n",
       "      <td>1000</td>\n",
       "      <td>8</td>\n",
       "    </tr>\n",
       "    <tr>\n",
       "      <td>4</td>\n",
       "      <td>1000_4</td>\n",
       "      <td>302.56</td>\n",
       "      <td>2018-09-24</td>\n",
       "      <td>1000</td>\n",
       "      <td>9</td>\n",
       "    </tr>\n",
       "  </tbody>\n",
       "</table>\n",
       "</div>"
      ],
      "text/plain": [
       "       id  mb_used session_date  user_id  month\n",
       "0  1000_0   112.95   2018-11-25     1000     11\n",
       "1  1000_1  1052.81   2018-09-07     1000      9\n",
       "2  1000_2  1197.26   2018-06-25     1000      6\n",
       "3  1000_3   550.27   2018-08-22     1000      8\n",
       "4  1000_4   302.56   2018-09-24     1000      9"
      ]
     },
     "metadata": {},
     "output_type": "display_data"
    }
   ],
   "source": [
    "month_number(calls,'call_date') #применяем нашу функцию на нужных таблицах\n",
    "month_number(messages,'message_date')\n",
    "month_number(internet,'session_date')"
   ]
  },
  {
   "cell_type": "markdown",
   "id": "a5c5857f",
   "metadata": {},
   "source": [
    "### Вывод"
   ]
  },
  {
   "cell_type": "markdown",
   "id": "e1807e59",
   "metadata": {},
   "source": [
    "Типы данных успешно заменены, необходимые данные добавлены, начнем анализ данных."
   ]
  },
  {
   "cell_type": "markdown",
   "id": "e16f28b9",
   "metadata": {},
   "source": [
    "## Расчеты данных"
   ]
  },
  {
   "cell_type": "markdown",
   "id": "c7f2970a",
   "metadata": {},
   "source": [
    "### Создание сводных таблиц по звонкам, сообщениям и трафику"
   ]
  },
  {
   "cell_type": "markdown",
   "id": "3cb98285",
   "metadata": {},
   "source": [
    "Создадим функцию для автоматического созданию сводных таблиц. Сводные таблицы будем создавать на основе `user_id` и `month`, в параметрах к фунции будем передавать значения, необходимые для подсчета и операцию подсчета."
   ]
  },
  {
   "cell_type": "code",
   "execution_count": 24,
   "id": "101af59d",
   "metadata": {},
   "outputs": [],
   "source": [
    "#создаем функцию с необходимыми параметрами\n",
    "def pt_all(table, values, func):\n",
    "    data = table.pivot_table(index = ['user_id','month'], values = values, aggfunc = func)\n",
    "    data.reset_index(inplace=True)\n",
    "    return data"
   ]
  },
  {
   "cell_type": "code",
   "execution_count": 25,
   "id": "c679c43e",
   "metadata": {},
   "outputs": [],
   "source": [
    "calls_count = pt_all(calls, 'duration', 'count') #передаем для работы функции соответствующие параметры\n",
    "calls_duration = pt_all(calls, 'duration', 'sum')\n",
    "messages_count = pt_all(messages, 'id', 'count')\n",
    "internet_sum = pt_all(internet, 'mb_used', 'sum')"
   ]
  },
  {
   "cell_type": "markdown",
   "id": "0b6dbee5",
   "metadata": {},
   "source": [
    "Проверим результат работы функции, выведем на экран получившиеся таблицы."
   ]
  },
  {
   "cell_type": "code",
   "execution_count": 26,
   "id": "3fc9a7c6",
   "metadata": {
    "scrolled": false
   },
   "outputs": [
    {
     "data": {
      "text/html": [
       "<div>\n",
       "<style scoped>\n",
       "    .dataframe tbody tr th:only-of-type {\n",
       "        vertical-align: middle;\n",
       "    }\n",
       "\n",
       "    .dataframe tbody tr th {\n",
       "        vertical-align: top;\n",
       "    }\n",
       "\n",
       "    .dataframe thead th {\n",
       "        text-align: right;\n",
       "    }\n",
       "</style>\n",
       "<table border=\"1\" class=\"dataframe\">\n",
       "  <thead>\n",
       "    <tr style=\"text-align: right;\">\n",
       "      <th></th>\n",
       "      <th>user_id</th>\n",
       "      <th>month</th>\n",
       "      <th>mb_used</th>\n",
       "    </tr>\n",
       "  </thead>\n",
       "  <tbody>\n",
       "    <tr>\n",
       "      <td>0</td>\n",
       "      <td>1000</td>\n",
       "      <td>5</td>\n",
       "      <td>2253.49</td>\n",
       "    </tr>\n",
       "    <tr>\n",
       "      <td>1</td>\n",
       "      <td>1000</td>\n",
       "      <td>6</td>\n",
       "      <td>23233.77</td>\n",
       "    </tr>\n",
       "    <tr>\n",
       "      <td>2</td>\n",
       "      <td>1000</td>\n",
       "      <td>7</td>\n",
       "      <td>14003.64</td>\n",
       "    </tr>\n",
       "    <tr>\n",
       "      <td>3</td>\n",
       "      <td>1000</td>\n",
       "      <td>8</td>\n",
       "      <td>14055.93</td>\n",
       "    </tr>\n",
       "    <tr>\n",
       "      <td>4</td>\n",
       "      <td>1000</td>\n",
       "      <td>9</td>\n",
       "      <td>14568.91</td>\n",
       "    </tr>\n",
       "  </tbody>\n",
       "</table>\n",
       "</div>"
      ],
      "text/plain": [
       "   user_id  month   mb_used\n",
       "0     1000      5   2253.49\n",
       "1     1000      6  23233.77\n",
       "2     1000      7  14003.64\n",
       "3     1000      8  14055.93\n",
       "4     1000      9  14568.91"
      ]
     },
     "metadata": {},
     "output_type": "display_data"
    },
    {
     "data": {
      "text/html": [
       "<div>\n",
       "<style scoped>\n",
       "    .dataframe tbody tr th:only-of-type {\n",
       "        vertical-align: middle;\n",
       "    }\n",
       "\n",
       "    .dataframe tbody tr th {\n",
       "        vertical-align: top;\n",
       "    }\n",
       "\n",
       "    .dataframe thead th {\n",
       "        text-align: right;\n",
       "    }\n",
       "</style>\n",
       "<table border=\"1\" class=\"dataframe\">\n",
       "  <thead>\n",
       "    <tr style=\"text-align: right;\">\n",
       "      <th></th>\n",
       "      <th>user_id</th>\n",
       "      <th>month</th>\n",
       "      <th>duration</th>\n",
       "    </tr>\n",
       "  </thead>\n",
       "  <tbody>\n",
       "    <tr>\n",
       "      <td>0</td>\n",
       "      <td>1000</td>\n",
       "      <td>5</td>\n",
       "      <td>22</td>\n",
       "    </tr>\n",
       "    <tr>\n",
       "      <td>1</td>\n",
       "      <td>1000</td>\n",
       "      <td>6</td>\n",
       "      <td>43</td>\n",
       "    </tr>\n",
       "    <tr>\n",
       "      <td>2</td>\n",
       "      <td>1000</td>\n",
       "      <td>7</td>\n",
       "      <td>47</td>\n",
       "    </tr>\n",
       "    <tr>\n",
       "      <td>3</td>\n",
       "      <td>1000</td>\n",
       "      <td>8</td>\n",
       "      <td>52</td>\n",
       "    </tr>\n",
       "    <tr>\n",
       "      <td>4</td>\n",
       "      <td>1000</td>\n",
       "      <td>9</td>\n",
       "      <td>58</td>\n",
       "    </tr>\n",
       "  </tbody>\n",
       "</table>\n",
       "</div>"
      ],
      "text/plain": [
       "   user_id  month  duration\n",
       "0     1000      5        22\n",
       "1     1000      6        43\n",
       "2     1000      7        47\n",
       "3     1000      8        52\n",
       "4     1000      9        58"
      ]
     },
     "metadata": {},
     "output_type": "display_data"
    },
    {
     "data": {
      "text/html": [
       "<div>\n",
       "<style scoped>\n",
       "    .dataframe tbody tr th:only-of-type {\n",
       "        vertical-align: middle;\n",
       "    }\n",
       "\n",
       "    .dataframe tbody tr th {\n",
       "        vertical-align: top;\n",
       "    }\n",
       "\n",
       "    .dataframe thead th {\n",
       "        text-align: right;\n",
       "    }\n",
       "</style>\n",
       "<table border=\"1\" class=\"dataframe\">\n",
       "  <thead>\n",
       "    <tr style=\"text-align: right;\">\n",
       "      <th></th>\n",
       "      <th>user_id</th>\n",
       "      <th>month</th>\n",
       "      <th>duration</th>\n",
       "    </tr>\n",
       "  </thead>\n",
       "  <tbody>\n",
       "    <tr>\n",
       "      <td>0</td>\n",
       "      <td>1000</td>\n",
       "      <td>5</td>\n",
       "      <td>159.0</td>\n",
       "    </tr>\n",
       "    <tr>\n",
       "      <td>1</td>\n",
       "      <td>1000</td>\n",
       "      <td>6</td>\n",
       "      <td>172.0</td>\n",
       "    </tr>\n",
       "    <tr>\n",
       "      <td>2</td>\n",
       "      <td>1000</td>\n",
       "      <td>7</td>\n",
       "      <td>340.0</td>\n",
       "    </tr>\n",
       "    <tr>\n",
       "      <td>3</td>\n",
       "      <td>1000</td>\n",
       "      <td>8</td>\n",
       "      <td>408.0</td>\n",
       "    </tr>\n",
       "    <tr>\n",
       "      <td>4</td>\n",
       "      <td>1000</td>\n",
       "      <td>9</td>\n",
       "      <td>466.0</td>\n",
       "    </tr>\n",
       "  </tbody>\n",
       "</table>\n",
       "</div>"
      ],
      "text/plain": [
       "   user_id  month  duration\n",
       "0     1000      5     159.0\n",
       "1     1000      6     172.0\n",
       "2     1000      7     340.0\n",
       "3     1000      8     408.0\n",
       "4     1000      9     466.0"
      ]
     },
     "metadata": {},
     "output_type": "display_data"
    },
    {
     "data": {
      "text/html": [
       "<div>\n",
       "<style scoped>\n",
       "    .dataframe tbody tr th:only-of-type {\n",
       "        vertical-align: middle;\n",
       "    }\n",
       "\n",
       "    .dataframe tbody tr th {\n",
       "        vertical-align: top;\n",
       "    }\n",
       "\n",
       "    .dataframe thead th {\n",
       "        text-align: right;\n",
       "    }\n",
       "</style>\n",
       "<table border=\"1\" class=\"dataframe\">\n",
       "  <thead>\n",
       "    <tr style=\"text-align: right;\">\n",
       "      <th></th>\n",
       "      <th>user_id</th>\n",
       "      <th>month</th>\n",
       "      <th>id</th>\n",
       "    </tr>\n",
       "  </thead>\n",
       "  <tbody>\n",
       "    <tr>\n",
       "      <td>0</td>\n",
       "      <td>1000</td>\n",
       "      <td>5</td>\n",
       "      <td>22</td>\n",
       "    </tr>\n",
       "    <tr>\n",
       "      <td>1</td>\n",
       "      <td>1000</td>\n",
       "      <td>6</td>\n",
       "      <td>60</td>\n",
       "    </tr>\n",
       "    <tr>\n",
       "      <td>2</td>\n",
       "      <td>1000</td>\n",
       "      <td>7</td>\n",
       "      <td>75</td>\n",
       "    </tr>\n",
       "    <tr>\n",
       "      <td>3</td>\n",
       "      <td>1000</td>\n",
       "      <td>8</td>\n",
       "      <td>81</td>\n",
       "    </tr>\n",
       "    <tr>\n",
       "      <td>4</td>\n",
       "      <td>1000</td>\n",
       "      <td>9</td>\n",
       "      <td>57</td>\n",
       "    </tr>\n",
       "  </tbody>\n",
       "</table>\n",
       "</div>"
      ],
      "text/plain": [
       "   user_id  month  id\n",
       "0     1000      5  22\n",
       "1     1000      6  60\n",
       "2     1000      7  75\n",
       "3     1000      8  81\n",
       "4     1000      9  57"
      ]
     },
     "metadata": {},
     "output_type": "display_data"
    }
   ],
   "source": [
    "display(internet_sum.head(5)) #выведм по 5 строк каждой сводной таблицы для контроля\n",
    "display(calls_count.head(5))\n",
    "display(calls_duration.head(5))\n",
    "display(messages_count.head(5))"
   ]
  },
  {
   "cell_type": "markdown",
   "id": "a2c95d42",
   "metadata": {},
   "source": [
    "### Сведение сводных таблиц в одну большую"
   ]
  },
  {
   "cell_type": "markdown",
   "id": "2bebe01a",
   "metadata": {},
   "source": [
    "Теперь на основе сводной таблицы с количеством звонков, будем создавать одну большую сводную, постепенно присоединяя другие сводные таблицы"
   ]
  },
  {
   "cell_type": "code",
   "execution_count": 27,
   "id": "37615d5c",
   "metadata": {
    "scrolled": true
   },
   "outputs": [],
   "source": [
    "big_data = calls_count.merge(calls_duration, on = ['user_id','month'], how = 'outer',suffixes = ['_count', '_sum']) #присоединяем таблицу с длительностью звонков"
   ]
  },
  {
   "cell_type": "code",
   "execution_count": 28,
   "id": "b420f5c9",
   "metadata": {},
   "outputs": [],
   "source": [
    "big_data = big_data.merge(messages_count, on = ['user_id','month'], how = 'outer') #присоединяем таблицу с количеством сообщений\n",
    "big_data = big_data.merge(internet_sum, on = ['user_id','month'], how = 'outer') #присоединяем таблицу с использованием трафика"
   ]
  },
  {
   "cell_type": "code",
   "execution_count": 29,
   "id": "46cf2a23",
   "metadata": {
    "scrolled": true
   },
   "outputs": [
    {
     "data": {
      "text/html": [
       "<div>\n",
       "<style scoped>\n",
       "    .dataframe tbody tr th:only-of-type {\n",
       "        vertical-align: middle;\n",
       "    }\n",
       "\n",
       "    .dataframe tbody tr th {\n",
       "        vertical-align: top;\n",
       "    }\n",
       "\n",
       "    .dataframe thead th {\n",
       "        text-align: right;\n",
       "    }\n",
       "</style>\n",
       "<table border=\"1\" class=\"dataframe\">\n",
       "  <thead>\n",
       "    <tr style=\"text-align: right;\">\n",
       "      <th></th>\n",
       "      <th>user_id</th>\n",
       "      <th>month</th>\n",
       "      <th>calls_count</th>\n",
       "      <th>calls_sum</th>\n",
       "      <th>messages</th>\n",
       "      <th>mb_used</th>\n",
       "    </tr>\n",
       "  </thead>\n",
       "  <tbody>\n",
       "    <tr>\n",
       "      <td>0</td>\n",
       "      <td>1000</td>\n",
       "      <td>5</td>\n",
       "      <td>22.0</td>\n",
       "      <td>159.0</td>\n",
       "      <td>22.0</td>\n",
       "      <td>2253.49</td>\n",
       "    </tr>\n",
       "    <tr>\n",
       "      <td>1</td>\n",
       "      <td>1000</td>\n",
       "      <td>6</td>\n",
       "      <td>43.0</td>\n",
       "      <td>172.0</td>\n",
       "      <td>60.0</td>\n",
       "      <td>23233.77</td>\n",
       "    </tr>\n",
       "    <tr>\n",
       "      <td>2</td>\n",
       "      <td>1000</td>\n",
       "      <td>7</td>\n",
       "      <td>47.0</td>\n",
       "      <td>340.0</td>\n",
       "      <td>75.0</td>\n",
       "      <td>14003.64</td>\n",
       "    </tr>\n",
       "    <tr>\n",
       "      <td>3</td>\n",
       "      <td>1000</td>\n",
       "      <td>8</td>\n",
       "      <td>52.0</td>\n",
       "      <td>408.0</td>\n",
       "      <td>81.0</td>\n",
       "      <td>14055.93</td>\n",
       "    </tr>\n",
       "    <tr>\n",
       "      <td>4</td>\n",
       "      <td>1000</td>\n",
       "      <td>9</td>\n",
       "      <td>58.0</td>\n",
       "      <td>466.0</td>\n",
       "      <td>57.0</td>\n",
       "      <td>14568.91</td>\n",
       "    </tr>\n",
       "  </tbody>\n",
       "</table>\n",
       "</div>"
      ],
      "text/plain": [
       "   user_id  month  calls_count  calls_sum  messages   mb_used\n",
       "0     1000      5         22.0      159.0      22.0   2253.49\n",
       "1     1000      6         43.0      172.0      60.0  23233.77\n",
       "2     1000      7         47.0      340.0      75.0  14003.64\n",
       "3     1000      8         52.0      408.0      81.0  14055.93\n",
       "4     1000      9         58.0      466.0      57.0  14568.91"
      ]
     },
     "metadata": {},
     "output_type": "display_data"
    }
   ],
   "source": [
    "big_data.columns = ['user_id', 'month', 'calls_count','calls_sum', 'messages', 'mb_used'] #переименуем столбцы большой сводной таблицы\n",
    "display(big_data.head(5)) #выведем на экран первые пять строк таокй большой сводной таблицы"
   ]
  },
  {
   "cell_type": "markdown",
   "id": "9f831d2c",
   "metadata": {},
   "source": [
    "По условиям анализа, нам необходимо вычислить выручку каждого пользователя для соответсвующего тарифа, с учетом его потребления в зависимости от тарифа. Для этого присоединим к таблице `big_data` исходную таблицу `users`, у которой удалим ненужные нам столбцы."
   ]
  },
  {
   "cell_type": "code",
   "execution_count": 30,
   "id": "1c0ad661",
   "metadata": {
    "scrolled": true
   },
   "outputs": [
    {
     "data": {
      "text/html": [
       "<div>\n",
       "<style scoped>\n",
       "    .dataframe tbody tr th:only-of-type {\n",
       "        vertical-align: middle;\n",
       "    }\n",
       "\n",
       "    .dataframe tbody tr th {\n",
       "        vertical-align: top;\n",
       "    }\n",
       "\n",
       "    .dataframe thead th {\n",
       "        text-align: right;\n",
       "    }\n",
       "</style>\n",
       "<table border=\"1\" class=\"dataframe\">\n",
       "  <thead>\n",
       "    <tr style=\"text-align: right;\">\n",
       "      <th></th>\n",
       "      <th>user_id</th>\n",
       "      <th>month</th>\n",
       "      <th>calls_count</th>\n",
       "      <th>calls_sum</th>\n",
       "      <th>messages</th>\n",
       "      <th>mb_used</th>\n",
       "      <th>age</th>\n",
       "      <th>churn_date</th>\n",
       "      <th>city</th>\n",
       "      <th>first_name</th>\n",
       "      <th>last_name</th>\n",
       "      <th>reg_date</th>\n",
       "      <th>tariff</th>\n",
       "    </tr>\n",
       "  </thead>\n",
       "  <tbody>\n",
       "    <tr>\n",
       "      <td>0</td>\n",
       "      <td>1000</td>\n",
       "      <td>5.0</td>\n",
       "      <td>22.0</td>\n",
       "      <td>159.0</td>\n",
       "      <td>22.0</td>\n",
       "      <td>2253.49</td>\n",
       "      <td>52</td>\n",
       "      <td>NaT</td>\n",
       "      <td>Краснодар</td>\n",
       "      <td>Рафаил</td>\n",
       "      <td>Верещагин</td>\n",
       "      <td>2018-05-25</td>\n",
       "      <td>ultra</td>\n",
       "    </tr>\n",
       "    <tr>\n",
       "      <td>1</td>\n",
       "      <td>1000</td>\n",
       "      <td>6.0</td>\n",
       "      <td>43.0</td>\n",
       "      <td>172.0</td>\n",
       "      <td>60.0</td>\n",
       "      <td>23233.77</td>\n",
       "      <td>52</td>\n",
       "      <td>NaT</td>\n",
       "      <td>Краснодар</td>\n",
       "      <td>Рафаил</td>\n",
       "      <td>Верещагин</td>\n",
       "      <td>2018-05-25</td>\n",
       "      <td>ultra</td>\n",
       "    </tr>\n",
       "    <tr>\n",
       "      <td>2</td>\n",
       "      <td>1000</td>\n",
       "      <td>7.0</td>\n",
       "      <td>47.0</td>\n",
       "      <td>340.0</td>\n",
       "      <td>75.0</td>\n",
       "      <td>14003.64</td>\n",
       "      <td>52</td>\n",
       "      <td>NaT</td>\n",
       "      <td>Краснодар</td>\n",
       "      <td>Рафаил</td>\n",
       "      <td>Верещагин</td>\n",
       "      <td>2018-05-25</td>\n",
       "      <td>ultra</td>\n",
       "    </tr>\n",
       "    <tr>\n",
       "      <td>3</td>\n",
       "      <td>1000</td>\n",
       "      <td>8.0</td>\n",
       "      <td>52.0</td>\n",
       "      <td>408.0</td>\n",
       "      <td>81.0</td>\n",
       "      <td>14055.93</td>\n",
       "      <td>52</td>\n",
       "      <td>NaT</td>\n",
       "      <td>Краснодар</td>\n",
       "      <td>Рафаил</td>\n",
       "      <td>Верещагин</td>\n",
       "      <td>2018-05-25</td>\n",
       "      <td>ultra</td>\n",
       "    </tr>\n",
       "    <tr>\n",
       "      <td>4</td>\n",
       "      <td>1000</td>\n",
       "      <td>9.0</td>\n",
       "      <td>58.0</td>\n",
       "      <td>466.0</td>\n",
       "      <td>57.0</td>\n",
       "      <td>14568.91</td>\n",
       "      <td>52</td>\n",
       "      <td>NaT</td>\n",
       "      <td>Краснодар</td>\n",
       "      <td>Рафаил</td>\n",
       "      <td>Верещагин</td>\n",
       "      <td>2018-05-25</td>\n",
       "      <td>ultra</td>\n",
       "    </tr>\n",
       "  </tbody>\n",
       "</table>\n",
       "</div>"
      ],
      "text/plain": [
       "   user_id  month  calls_count  calls_sum  messages   mb_used  age churn_date  \\\n",
       "0     1000    5.0         22.0      159.0      22.0   2253.49   52        NaT   \n",
       "1     1000    6.0         43.0      172.0      60.0  23233.77   52        NaT   \n",
       "2     1000    7.0         47.0      340.0      75.0  14003.64   52        NaT   \n",
       "3     1000    8.0         52.0      408.0      81.0  14055.93   52        NaT   \n",
       "4     1000    9.0         58.0      466.0      57.0  14568.91   52        NaT   \n",
       "\n",
       "        city first_name  last_name   reg_date tariff  \n",
       "0  Краснодар     Рафаил  Верещагин 2018-05-25  ultra  \n",
       "1  Краснодар     Рафаил  Верещагин 2018-05-25  ultra  \n",
       "2  Краснодар     Рафаил  Верещагин 2018-05-25  ultra  \n",
       "3  Краснодар     Рафаил  Верещагин 2018-05-25  ultra  \n",
       "4  Краснодар     Рафаил  Верещагин 2018-05-25  ultra  "
      ]
     },
     "metadata": {},
     "output_type": "display_data"
    }
   ],
   "source": [
    "big_data = big_data.merge(users, on = 'user_id', how = 'outer') #произведем слияние таблиц\n",
    "display(big_data.head(5)) #проверим результат"
   ]
  },
  {
   "cell_type": "code",
   "execution_count": 31,
   "id": "e4dc6f0c",
   "metadata": {
    "scrolled": true
   },
   "outputs": [
    {
     "data": {
      "text/html": [
       "<div>\n",
       "<style scoped>\n",
       "    .dataframe tbody tr th:only-of-type {\n",
       "        vertical-align: middle;\n",
       "    }\n",
       "\n",
       "    .dataframe tbody tr th {\n",
       "        vertical-align: top;\n",
       "    }\n",
       "\n",
       "    .dataframe thead th {\n",
       "        text-align: right;\n",
       "    }\n",
       "</style>\n",
       "<table border=\"1\" class=\"dataframe\">\n",
       "  <thead>\n",
       "    <tr style=\"text-align: right;\">\n",
       "      <th></th>\n",
       "      <th>user_id</th>\n",
       "      <th>month</th>\n",
       "      <th>calls_count</th>\n",
       "      <th>calls_sum</th>\n",
       "      <th>messages</th>\n",
       "      <th>mb_used</th>\n",
       "      <th>city</th>\n",
       "      <th>tariff</th>\n",
       "    </tr>\n",
       "  </thead>\n",
       "  <tbody>\n",
       "    <tr>\n",
       "      <td>0</td>\n",
       "      <td>1000</td>\n",
       "      <td>5.0</td>\n",
       "      <td>22.0</td>\n",
       "      <td>159.0</td>\n",
       "      <td>22.0</td>\n",
       "      <td>2253.49</td>\n",
       "      <td>Краснодар</td>\n",
       "      <td>ultra</td>\n",
       "    </tr>\n",
       "    <tr>\n",
       "      <td>1</td>\n",
       "      <td>1000</td>\n",
       "      <td>6.0</td>\n",
       "      <td>43.0</td>\n",
       "      <td>172.0</td>\n",
       "      <td>60.0</td>\n",
       "      <td>23233.77</td>\n",
       "      <td>Краснодар</td>\n",
       "      <td>ultra</td>\n",
       "    </tr>\n",
       "    <tr>\n",
       "      <td>2</td>\n",
       "      <td>1000</td>\n",
       "      <td>7.0</td>\n",
       "      <td>47.0</td>\n",
       "      <td>340.0</td>\n",
       "      <td>75.0</td>\n",
       "      <td>14003.64</td>\n",
       "      <td>Краснодар</td>\n",
       "      <td>ultra</td>\n",
       "    </tr>\n",
       "    <tr>\n",
       "      <td>3</td>\n",
       "      <td>1000</td>\n",
       "      <td>8.0</td>\n",
       "      <td>52.0</td>\n",
       "      <td>408.0</td>\n",
       "      <td>81.0</td>\n",
       "      <td>14055.93</td>\n",
       "      <td>Краснодар</td>\n",
       "      <td>ultra</td>\n",
       "    </tr>\n",
       "    <tr>\n",
       "      <td>4</td>\n",
       "      <td>1000</td>\n",
       "      <td>9.0</td>\n",
       "      <td>58.0</td>\n",
       "      <td>466.0</td>\n",
       "      <td>57.0</td>\n",
       "      <td>14568.91</td>\n",
       "      <td>Краснодар</td>\n",
       "      <td>ultra</td>\n",
       "    </tr>\n",
       "  </tbody>\n",
       "</table>\n",
       "</div>"
      ],
      "text/plain": [
       "   user_id  month  calls_count  calls_sum  messages   mb_used       city  \\\n",
       "0     1000    5.0         22.0      159.0      22.0   2253.49  Краснодар   \n",
       "1     1000    6.0         43.0      172.0      60.0  23233.77  Краснодар   \n",
       "2     1000    7.0         47.0      340.0      75.0  14003.64  Краснодар   \n",
       "3     1000    8.0         52.0      408.0      81.0  14055.93  Краснодар   \n",
       "4     1000    9.0         58.0      466.0      57.0  14568.91  Краснодар   \n",
       "\n",
       "  tariff  \n",
       "0  ultra  \n",
       "1  ultra  \n",
       "2  ultra  \n",
       "3  ultra  \n",
       "4  ultra  "
      ]
     },
     "metadata": {},
     "output_type": "display_data"
    }
   ],
   "source": [
    "big_data.drop(['age', 'churn_date', 'first_name', 'last_name', 'reg_date'], axis=1, inplace=True) #удаляем ненужные для нас столбцы\n",
    "display(big_data.head(5)) #проверим результат"
   ]
  },
  {
   "cell_type": "markdown",
   "id": "47c48e42",
   "metadata": {},
   "source": [
    "### Подсчет затрат каждого пользователя тарифа"
   ]
  },
  {
   "cell_type": "markdown",
   "id": "9869f198",
   "metadata": {},
   "source": [
    "Можно увидеть пропуски, в столбцах `calls_coun`, `calls_sum`, `messages`, `mb_used`, это не означает, что при слияних были потеряны данные. Это показывает нам поведение клиентов, по количетсву пропусков можно видеть, что пользователи реже пользуются СМС и больше интернетом. Так как пустые значения в дальнейшем нам будут мешать, заполнить их нулевыми значениями."
   ]
  },
  {
   "cell_type": "code",
   "execution_count": 32,
   "id": "0690dca7",
   "metadata": {},
   "outputs": [],
   "source": [
    "big_data.loc[:,['calls_count', 'calls_sum', 'messages', 'mb_used']] = big_data.loc[:,['calls_count', 'calls_sum', 'messages', 'mb_used']].fillna(0)\n",
    "#заполним пустые значения на 0"
   ]
  },
  {
   "cell_type": "markdown",
   "id": "565e7a7b",
   "metadata": {},
   "source": [
    "Напишем функцию, которая будет подсчитывать количество затрат для каждого пользователя в зависимости от выбранного им тарифа."
   ]
  },
  {
   "cell_type": "code",
   "execution_count": 33,
   "id": "cbbbb77b",
   "metadata": {},
   "outputs": [],
   "source": [
    "def money_cost(row):\n",
    "    \n",
    "    messages=row['messages']\n",
    "    calls=row['calls_sum']\n",
    "    internet=row['mb_used']\n",
    "    tariff=row['tariff']\n",
    "    \n",
    "    if (tariff=='smart'): #создаем логику обращения к таблице tariff с выбором индекса тарифа\n",
    "        i=0\n",
    "    else:\n",
    "        i=1\n",
    "        \n",
    "    call_remains=tariffs['minutes_included'][i]-calls \n",
    "    if call_remains<0:\n",
    "        call_money=-call_remains*tariffs['rub_per_minute'][i]\n",
    "    else:\n",
    "        call_money=0\n",
    "         \n",
    "    internet_remains=tariffs['mb_per_month_included'][i]-internet\n",
    "    if internet_remains<0:\n",
    "        internet_money=round((-internet_remains/1024))*tariffs['rub_per_gb'][i]\n",
    "    else:\n",
    "        internet_money=0\n",
    "            \n",
    "    messages_remains=tariffs['messages_included'][i]-messages\n",
    "    if messages_remains<0:\n",
    "        messages_money=-messages_remains*tariffs['rub_per_message'][i]\n",
    "    else:\n",
    "        messages_money=0\n",
    "            \n",
    "    money_cost=call_money+internet_money+messages_money+tariffs['rub_monthly_fee'][i] #складываем полученные суммы\n",
    "    return money_cost     "
   ]
  },
  {
   "cell_type": "code",
   "execution_count": 34,
   "id": "f1a070ab",
   "metadata": {},
   "outputs": [],
   "source": [
    "big_data['money_cost']=big_data.apply(money_cost,axis=1) #применяем функцию на датасете"
   ]
  },
  {
   "cell_type": "code",
   "execution_count": 35,
   "id": "38495a32",
   "metadata": {
    "scrolled": true
   },
   "outputs": [
    {
     "data": {
      "text/html": [
       "<div>\n",
       "<style scoped>\n",
       "    .dataframe tbody tr th:only-of-type {\n",
       "        vertical-align: middle;\n",
       "    }\n",
       "\n",
       "    .dataframe tbody tr th {\n",
       "        vertical-align: top;\n",
       "    }\n",
       "\n",
       "    .dataframe thead th {\n",
       "        text-align: right;\n",
       "    }\n",
       "</style>\n",
       "<table border=\"1\" class=\"dataframe\">\n",
       "  <thead>\n",
       "    <tr style=\"text-align: right;\">\n",
       "      <th></th>\n",
       "      <th>user_id</th>\n",
       "      <th>month</th>\n",
       "      <th>calls_count</th>\n",
       "      <th>calls_sum</th>\n",
       "      <th>messages</th>\n",
       "      <th>mb_used</th>\n",
       "      <th>city</th>\n",
       "      <th>tariff</th>\n",
       "      <th>money_cost</th>\n",
       "    </tr>\n",
       "  </thead>\n",
       "  <tbody>\n",
       "    <tr>\n",
       "      <td>383</td>\n",
       "      <td>1060</td>\n",
       "      <td>12.0</td>\n",
       "      <td>184.0</td>\n",
       "      <td>1233.0</td>\n",
       "      <td>52.0</td>\n",
       "      <td>43931.36</td>\n",
       "      <td>Калуга</td>\n",
       "      <td>ultra</td>\n",
       "      <td>3900.0</td>\n",
       "    </tr>\n",
       "    <tr>\n",
       "      <td>1353</td>\n",
       "      <td>1215</td>\n",
       "      <td>8.0</td>\n",
       "      <td>29.0</td>\n",
       "      <td>217.0</td>\n",
       "      <td>10.0</td>\n",
       "      <td>7538.69</td>\n",
       "      <td>Рязань</td>\n",
       "      <td>smart</td>\n",
       "      <td>550.0</td>\n",
       "    </tr>\n",
       "    <tr>\n",
       "      <td>1678</td>\n",
       "      <td>1269</td>\n",
       "      <td>10.0</td>\n",
       "      <td>46.0</td>\n",
       "      <td>268.0</td>\n",
       "      <td>24.0</td>\n",
       "      <td>18208.47</td>\n",
       "      <td>Омск</td>\n",
       "      <td>smart</td>\n",
       "      <td>1150.0</td>\n",
       "    </tr>\n",
       "    <tr>\n",
       "      <td>86</td>\n",
       "      <td>1011</td>\n",
       "      <td>11.0</td>\n",
       "      <td>65.0</td>\n",
       "      <td>501.0</td>\n",
       "      <td>12.0</td>\n",
       "      <td>25300.98</td>\n",
       "      <td>Самара</td>\n",
       "      <td>smart</td>\n",
       "      <td>2553.0</td>\n",
       "    </tr>\n",
       "    <tr>\n",
       "      <td>1322</td>\n",
       "      <td>1209</td>\n",
       "      <td>8.0</td>\n",
       "      <td>40.0</td>\n",
       "      <td>252.0</td>\n",
       "      <td>88.0</td>\n",
       "      <td>22284.73</td>\n",
       "      <td>Омск</td>\n",
       "      <td>smart</td>\n",
       "      <td>2064.0</td>\n",
       "    </tr>\n",
       "  </tbody>\n",
       "</table>\n",
       "</div>"
      ],
      "text/plain": [
       "      user_id  month  calls_count  calls_sum  messages   mb_used    city  \\\n",
       "383      1060   12.0        184.0     1233.0      52.0  43931.36  Калуга   \n",
       "1353     1215    8.0         29.0      217.0      10.0   7538.69  Рязань   \n",
       "1678     1269   10.0         46.0      268.0      24.0  18208.47    Омск   \n",
       "86       1011   11.0         65.0      501.0      12.0  25300.98  Самара   \n",
       "1322     1209    8.0         40.0      252.0      88.0  22284.73    Омск   \n",
       "\n",
       "     tariff  money_cost  \n",
       "383   ultra      3900.0  \n",
       "1353  smart       550.0  \n",
       "1678  smart      1150.0  \n",
       "86    smart      2553.0  \n",
       "1322  smart      2064.0  "
      ]
     },
     "execution_count": 35,
     "metadata": {},
     "output_type": "execute_result"
    }
   ],
   "source": [
    "big_data.sample(5) #5 различных строк для контроля"
   ]
  },
  {
   "cell_type": "markdown",
   "id": "9cbf4113",
   "metadata": {},
   "source": [
    "Проверим количество пропусков:"
   ]
  },
  {
   "cell_type": "code",
   "execution_count": 36,
   "id": "5c4af4ff",
   "metadata": {
    "scrolled": true
   },
   "outputs": [
    {
     "data": {
      "text/plain": [
       "user_id        0\n",
       "month          2\n",
       "calls_count    0\n",
       "calls_sum      0\n",
       "messages       0\n",
       "mb_used        0\n",
       "city           0\n",
       "tariff         0\n",
       "money_cost     0\n",
       "dtype: int64"
      ]
     },
     "execution_count": 36,
     "metadata": {},
     "output_type": "execute_result"
    }
   ],
   "source": [
    "big_data.isna().sum()"
   ]
  },
  {
   "cell_type": "markdown",
   "id": "4fe23977",
   "metadata": {},
   "source": [
    "### Вывод"
   ]
  },
  {
   "cell_type": "markdown",
   "id": "c328d22d",
   "metadata": {},
   "source": [
    "Выполнив слияние таблиц, подсчитав нужные данные, убрав пустые значения, перейдем непосредственно к анализу."
   ]
  },
  {
   "cell_type": "markdown",
   "id": "51389fe0",
   "metadata": {},
   "source": [
    "## Анализ данных"
   ]
  },
  {
   "cell_type": "markdown",
   "id": "65684ab1",
   "metadata": {},
   "source": [
    "### Общие затраты пользователей тарифов"
   ]
  },
  {
   "cell_type": "markdown",
   "id": "fc7a388d",
   "metadata": {},
   "source": [
    "Посмотрим сколько тратят пользователи на том или ином тарифе, для наглядности построим график."
   ]
  },
  {
   "cell_type": "code",
   "execution_count": 37,
   "id": "93c8d854",
   "metadata": {
    "scrolled": false
   },
   "outputs": [
    {
     "data": {
      "text/plain": [
       "tariff\n",
       "smart    2740301.0\n",
       "ultra    2030550.0\n",
       "Name: money_cost, dtype: float64"
      ]
     },
     "execution_count": 37,
     "metadata": {},
     "output_type": "execute_result"
    }
   ],
   "source": [
    "big_data.groupby('tariff')['money_cost'].sum()"
   ]
  },
  {
   "cell_type": "markdown",
   "id": "3b755c5f",
   "metadata": {},
   "source": [
    "Представим это в виде гистограммы, для наглядности."
   ]
  },
  {
   "cell_type": "code",
   "execution_count": 38,
   "id": "e7cd86a3",
   "metadata": {
    "scrolled": true
   },
   "outputs": [
    {
     "data": {
      "image/png": "[encoded data removed]",
      "text/plain": [
       "<Figure size 432x288 with 1 Axes>"
      ]
     },
     "metadata": {
      "needs_background": "light"
     },
     "output_type": "display_data"
    }
   ],
   "source": [
    "big_data.groupby('tariff')['money_cost'].sum().plot(kind = 'bar', title = 'Общая выручка');"
   ]
  },
  {
   "cell_type": "markdown",
   "id": "22fd33e1",
   "metadata": {},
   "source": [
    "Как можно увидеть, за 2018 год, пользователи тарифа **Smart** потратили больше средств, чем пользователи тарифа **Ultra**. \n",
    "\n",
    "Посчитаем пользователей, которые выходят за лимиты своих тарифов и платят больше."
   ]
  },
  {
   "cell_type": "code",
   "execution_count": 39,
   "id": "82e53b6f",
   "metadata": {
    "scrolled": true
   },
   "outputs": [
    {
     "data": {
      "text/plain": [
       "128"
      ]
     },
     "execution_count": 39,
     "metadata": {},
     "output_type": "execute_result"
    }
   ],
   "source": [
    "big_data.query('tariff==\"ultra\" and money_cost >1950')['user_id'].count() #количество пользователей на тарифе Ultra, выходящие за лимиты"
   ]
  },
  {
   "cell_type": "code",
   "execution_count": 40,
   "id": "85a7ec6d",
   "metadata": {},
   "outputs": [
    {
     "data": {
      "text/plain": [
       "1625"
      ]
     },
     "execution_count": 40,
     "metadata": {},
     "output_type": "execute_result"
    }
   ],
   "source": [
    "big_data.query('tariff==\"smart\" and money_cost >550')['user_id'].count() #количество пользователей на тарифе Smart, выходящие за лимиты"
   ]
  },
  {
   "cell_type": "markdown",
   "id": "1b8b4be3",
   "metadata": {},
   "source": [
    "Можно увидеть подтверждение диаграммы, случаев, выходящих за лимиты на тарифе **Smart** - 1625, а на тарифе **Ultra** в 12 с лишним разом меньше - 128 таких случаев. Можно сделать предположение, о том, что пользователи **Ultra** реже выходят за лимиты пакета."
   ]
  },
  {
   "cell_type": "markdown",
   "id": "0f987914",
   "metadata": {},
   "source": [
    "Теперь же непосредственно перейдем к анализу звонков, сообщений и трафика.\n"
   ]
  },
  {
   "cell_type": "markdown",
   "id": "d35703d5",
   "metadata": {},
   "source": [
    "### Анализ звонков, трафика и сообщений по тарифам"
   ]
  },
  {
   "cell_type": "markdown",
   "id": "90fee150",
   "metadata": {},
   "source": [
    "Для удобства дальнейшего исследования, разделим нашу большую сводную таблицу на два, согласно тарифам."
   ]
  },
  {
   "cell_type": "code",
   "execution_count": 41,
   "id": "a23b4ba5",
   "metadata": {},
   "outputs": [],
   "source": [
    "month_sum = big_data.groupby(['tariff', 'month'])['calls_count','calls_sum', 'messages', 'mb_used', 'money_cost'].sum().reset_index()"
   ]
  },
  {
   "cell_type": "code",
   "execution_count": 42,
   "id": "24555040",
   "metadata": {},
   "outputs": [
    {
     "data": {
      "text/html": [
       "<div>\n",
       "<style scoped>\n",
       "    .dataframe tbody tr th:only-of-type {\n",
       "        vertical-align: middle;\n",
       "    }\n",
       "\n",
       "    .dataframe tbody tr th {\n",
       "        vertical-align: top;\n",
       "    }\n",
       "\n",
       "    .dataframe thead th {\n",
       "        text-align: right;\n",
       "    }\n",
       "</style>\n",
       "<table border=\"1\" class=\"dataframe\">\n",
       "  <thead>\n",
       "    <tr style=\"text-align: right;\">\n",
       "      <th></th>\n",
       "      <th>tariff</th>\n",
       "      <th>month</th>\n",
       "      <th>calls_count</th>\n",
       "      <th>calls_sum</th>\n",
       "      <th>messages</th>\n",
       "      <th>mb_used</th>\n",
       "      <th>money_cost</th>\n",
       "    </tr>\n",
       "  </thead>\n",
       "  <tbody>\n",
       "    <tr>\n",
       "      <td>0</td>\n",
       "      <td>smart</td>\n",
       "      <td>1.0</td>\n",
       "      <td>941.0</td>\n",
       "      <td>6931.0</td>\n",
       "      <td>620.0</td>\n",
       "      <td>289466.40</td>\n",
       "      <td>23925.0</td>\n",
       "    </tr>\n",
       "    <tr>\n",
       "      <td>1</td>\n",
       "      <td>smart</td>\n",
       "      <td>2.0</td>\n",
       "      <td>2331.0</td>\n",
       "      <td>17324.0</td>\n",
       "      <td>1397.0</td>\n",
       "      <td>672629.15</td>\n",
       "      <td>46601.0</td>\n",
       "    </tr>\n",
       "    <tr>\n",
       "      <td>2</td>\n",
       "      <td>smart</td>\n",
       "      <td>3.0</td>\n",
       "      <td>4183.0</td>\n",
       "      <td>30034.0</td>\n",
       "      <td>2453.0</td>\n",
       "      <td>1163020.25</td>\n",
       "      <td>85676.0</td>\n",
       "    </tr>\n",
       "    <tr>\n",
       "      <td>3</td>\n",
       "      <td>smart</td>\n",
       "      <td>4.0</td>\n",
       "      <td>5747.0</td>\n",
       "      <td>41119.0</td>\n",
       "      <td>3443.0</td>\n",
       "      <td>1507764.23</td>\n",
       "      <td>103066.0</td>\n",
       "    </tr>\n",
       "    <tr>\n",
       "      <td>4</td>\n",
       "      <td>smart</td>\n",
       "      <td>5.0</td>\n",
       "      <td>7789.0</td>\n",
       "      <td>54618.0</td>\n",
       "      <td>4762.0</td>\n",
       "      <td>2228530.99</td>\n",
       "      <td>160849.0</td>\n",
       "    </tr>\n",
       "    <tr>\n",
       "      <td>5</td>\n",
       "      <td>smart</td>\n",
       "      <td>6.0</td>\n",
       "      <td>9110.0</td>\n",
       "      <td>64885.0</td>\n",
       "      <td>5478.0</td>\n",
       "      <td>2590322.27</td>\n",
       "      <td>187859.0</td>\n",
       "    </tr>\n",
       "    <tr>\n",
       "      <td>6</td>\n",
       "      <td>smart</td>\n",
       "      <td>7.0</td>\n",
       "      <td>11402.0</td>\n",
       "      <td>82079.0</td>\n",
       "      <td>6784.0</td>\n",
       "      <td>3164373.22</td>\n",
       "      <td>233814.0</td>\n",
       "    </tr>\n",
       "    <tr>\n",
       "      <td>7</td>\n",
       "      <td>smart</td>\n",
       "      <td>8.0</td>\n",
       "      <td>13860.0</td>\n",
       "      <td>99045.0</td>\n",
       "      <td>7905.0</td>\n",
       "      <td>3903519.22</td>\n",
       "      <td>295540.0</td>\n",
       "    </tr>\n",
       "    <tr>\n",
       "      <td>8</td>\n",
       "      <td>smart</td>\n",
       "      <td>9.0</td>\n",
       "      <td>15482.0</td>\n",
       "      <td>111439.0</td>\n",
       "      <td>8746.0</td>\n",
       "      <td>4238930.49</td>\n",
       "      <td>310986.0</td>\n",
       "    </tr>\n",
       "    <tr>\n",
       "      <td>9</td>\n",
       "      <td>smart</td>\n",
       "      <td>10.0</td>\n",
       "      <td>17629.0</td>\n",
       "      <td>125284.0</td>\n",
       "      <td>9927.0</td>\n",
       "      <td>4926594.13</td>\n",
       "      <td>382267.0</td>\n",
       "    </tr>\n",
       "    <tr>\n",
       "      <td>10</td>\n",
       "      <td>smart</td>\n",
       "      <td>11.0</td>\n",
       "      <td>19435.0</td>\n",
       "      <td>137544.0</td>\n",
       "      <td>10768.0</td>\n",
       "      <td>5339040.14</td>\n",
       "      <td>403603.0</td>\n",
       "    </tr>\n",
       "    <tr>\n",
       "      <td>11</td>\n",
       "      <td>smart</td>\n",
       "      <td>12.0</td>\n",
       "      <td>22406.0</td>\n",
       "      <td>161275.0</td>\n",
       "      <td>12130.0</td>\n",
       "      <td>6104304.11</td>\n",
       "      <td>505565.0</td>\n",
       "    </tr>\n",
       "    <tr>\n",
       "      <td>12</td>\n",
       "      <td>ultra</td>\n",
       "      <td>1.0</td>\n",
       "      <td>535.0</td>\n",
       "      <td>3853.0</td>\n",
       "      <td>304.0</td>\n",
       "      <td>118266.13</td>\n",
       "      <td>17550.0</td>\n",
       "    </tr>\n",
       "    <tr>\n",
       "      <td>13</td>\n",
       "      <td>ultra</td>\n",
       "      <td>2.0</td>\n",
       "      <td>997.0</td>\n",
       "      <td>7131.0</td>\n",
       "      <td>527.0</td>\n",
       "      <td>282622.50</td>\n",
       "      <td>47400.0</td>\n",
       "    </tr>\n",
       "    <tr>\n",
       "      <td>14</td>\n",
       "      <td>ultra</td>\n",
       "      <td>3.0</td>\n",
       "      <td>2504.0</td>\n",
       "      <td>18117.0</td>\n",
       "      <td>1195.0</td>\n",
       "      <td>648815.36</td>\n",
       "      <td>74100.0</td>\n",
       "    </tr>\n",
       "    <tr>\n",
       "      <td>15</td>\n",
       "      <td>ultra</td>\n",
       "      <td>4.0</td>\n",
       "      <td>3525.0</td>\n",
       "      <td>25191.0</td>\n",
       "      <td>1736.0</td>\n",
       "      <td>925547.39</td>\n",
       "      <td>109650.0</td>\n",
       "    </tr>\n",
       "    <tr>\n",
       "      <td>16</td>\n",
       "      <td>ultra</td>\n",
       "      <td>5.0</td>\n",
       "      <td>4858.0</td>\n",
       "      <td>34192.0</td>\n",
       "      <td>2536.0</td>\n",
       "      <td>1297331.25</td>\n",
       "      <td>137700.0</td>\n",
       "    </tr>\n",
       "    <tr>\n",
       "      <td>17</td>\n",
       "      <td>ultra</td>\n",
       "      <td>6.0</td>\n",
       "      <td>5606.0</td>\n",
       "      <td>40295.0</td>\n",
       "      <td>3505.0</td>\n",
       "      <td>1589694.90</td>\n",
       "      <td>170550.0</td>\n",
       "    </tr>\n",
       "    <tr>\n",
       "      <td>18</td>\n",
       "      <td>ultra</td>\n",
       "      <td>7.0</td>\n",
       "      <td>6896.0</td>\n",
       "      <td>49667.0</td>\n",
       "      <td>4536.0</td>\n",
       "      <td>1865105.53</td>\n",
       "      <td>191850.0</td>\n",
       "    </tr>\n",
       "    <tr>\n",
       "      <td>19</td>\n",
       "      <td>ultra</td>\n",
       "      <td>8.0</td>\n",
       "      <td>7628.0</td>\n",
       "      <td>54653.0</td>\n",
       "      <td>5183.0</td>\n",
       "      <td>2094637.85</td>\n",
       "      <td>221400.0</td>\n",
       "    </tr>\n",
       "    <tr>\n",
       "      <td>20</td>\n",
       "      <td>ultra</td>\n",
       "      <td>9.0</td>\n",
       "      <td>8579.0</td>\n",
       "      <td>62036.0</td>\n",
       "      <td>6013.0</td>\n",
       "      <td>2208491.87</td>\n",
       "      <td>231450.0</td>\n",
       "    </tr>\n",
       "    <tr>\n",
       "      <td>21</td>\n",
       "      <td>ultra</td>\n",
       "      <td>10.0</td>\n",
       "      <td>9517.0</td>\n",
       "      <td>68644.0</td>\n",
       "      <td>7187.0</td>\n",
       "      <td>2465576.49</td>\n",
       "      <td>253050.0</td>\n",
       "    </tr>\n",
       "    <tr>\n",
       "      <td>22</td>\n",
       "      <td>ultra</td>\n",
       "      <td>11.0</td>\n",
       "      <td>10066.0</td>\n",
       "      <td>72545.0</td>\n",
       "      <td>7476.0</td>\n",
       "      <td>2651432.87</td>\n",
       "      <td>278700.0</td>\n",
       "    </tr>\n",
       "    <tr>\n",
       "      <td>23</td>\n",
       "      <td>ultra</td>\n",
       "      <td>12.0</td>\n",
       "      <td>11581.0</td>\n",
       "      <td>82400.0</td>\n",
       "      <td>8425.0</td>\n",
       "      <td>3029250.99</td>\n",
       "      <td>295200.0</td>\n",
       "    </tr>\n",
       "  </tbody>\n",
       "</table>\n",
       "</div>"
      ],
      "text/plain": [
       "   tariff  month  calls_count  calls_sum  messages     mb_used  money_cost\n",
       "0   smart    1.0        941.0     6931.0     620.0   289466.40     23925.0\n",
       "1   smart    2.0       2331.0    17324.0    1397.0   672629.15     46601.0\n",
       "2   smart    3.0       4183.0    30034.0    2453.0  1163020.25     85676.0\n",
       "3   smart    4.0       5747.0    41119.0    3443.0  1507764.23    103066.0\n",
       "4   smart    5.0       7789.0    54618.0    4762.0  2228530.99    160849.0\n",
       "5   smart    6.0       9110.0    64885.0    5478.0  2590322.27    187859.0\n",
       "6   smart    7.0      11402.0    82079.0    6784.0  3164373.22    233814.0\n",
       "7   smart    8.0      13860.0    99045.0    7905.0  3903519.22    295540.0\n",
       "8   smart    9.0      15482.0   111439.0    8746.0  4238930.49    310986.0\n",
       "9   smart   10.0      17629.0   125284.0    9927.0  4926594.13    382267.0\n",
       "10  smart   11.0      19435.0   137544.0   10768.0  5339040.14    403603.0\n",
       "11  smart   12.0      22406.0   161275.0   12130.0  6104304.11    505565.0\n",
       "12  ultra    1.0        535.0     3853.0     304.0   118266.13     17550.0\n",
       "13  ultra    2.0        997.0     7131.0     527.0   282622.50     47400.0\n",
       "14  ultra    3.0       2504.0    18117.0    1195.0   648815.36     74100.0\n",
       "15  ultra    4.0       3525.0    25191.0    1736.0   925547.39    109650.0\n",
       "16  ultra    5.0       4858.0    34192.0    2536.0  1297331.25    137700.0\n",
       "17  ultra    6.0       5606.0    40295.0    3505.0  1589694.90    170550.0\n",
       "18  ultra    7.0       6896.0    49667.0    4536.0  1865105.53    191850.0\n",
       "19  ultra    8.0       7628.0    54653.0    5183.0  2094637.85    221400.0\n",
       "20  ultra    9.0       8579.0    62036.0    6013.0  2208491.87    231450.0\n",
       "21  ultra   10.0       9517.0    68644.0    7187.0  2465576.49    253050.0\n",
       "22  ultra   11.0      10066.0    72545.0    7476.0  2651432.87    278700.0\n",
       "23  ultra   12.0      11581.0    82400.0    8425.0  3029250.99    295200.0"
      ]
     },
     "execution_count": 42,
     "metadata": {},
     "output_type": "execute_result"
    }
   ],
   "source": [
    "month_sum #проконтролируем результат"
   ]
  },
  {
   "cell_type": "markdown",
   "id": "c1ecc290",
   "metadata": {},
   "source": [
    "Далее разделим результат на 2 таблицы поменьше (согласно тарифам)"
   ]
  },
  {
   "cell_type": "code",
   "execution_count": 43,
   "id": "5eb3f1b0",
   "metadata": {},
   "outputs": [],
   "source": [
    "ultra = month_sum.query('tariff==\"ultra\"').reset_index() "
   ]
  },
  {
   "cell_type": "code",
   "execution_count": 44,
   "id": "2b0e4e56",
   "metadata": {
    "scrolled": true
   },
   "outputs": [
    {
     "data": {
      "text/html": [
       "<div>\n",
       "<style scoped>\n",
       "    .dataframe tbody tr th:only-of-type {\n",
       "        vertical-align: middle;\n",
       "    }\n",
       "\n",
       "    .dataframe tbody tr th {\n",
       "        vertical-align: top;\n",
       "    }\n",
       "\n",
       "    .dataframe thead th {\n",
       "        text-align: right;\n",
       "    }\n",
       "</style>\n",
       "<table border=\"1\" class=\"dataframe\">\n",
       "  <thead>\n",
       "    <tr style=\"text-align: right;\">\n",
       "      <th></th>\n",
       "      <th>index</th>\n",
       "      <th>tariff</th>\n",
       "      <th>month</th>\n",
       "      <th>calls_count</th>\n",
       "      <th>calls_sum</th>\n",
       "      <th>messages</th>\n",
       "      <th>mb_used</th>\n",
       "      <th>money_cost</th>\n",
       "    </tr>\n",
       "  </thead>\n",
       "  <tbody>\n",
       "    <tr>\n",
       "      <td>0</td>\n",
       "      <td>12</td>\n",
       "      <td>ultra</td>\n",
       "      <td>1.0</td>\n",
       "      <td>535.0</td>\n",
       "      <td>3853.0</td>\n",
       "      <td>304.0</td>\n",
       "      <td>118266.13</td>\n",
       "      <td>17550.0</td>\n",
       "    </tr>\n",
       "    <tr>\n",
       "      <td>1</td>\n",
       "      <td>13</td>\n",
       "      <td>ultra</td>\n",
       "      <td>2.0</td>\n",
       "      <td>997.0</td>\n",
       "      <td>7131.0</td>\n",
       "      <td>527.0</td>\n",
       "      <td>282622.50</td>\n",
       "      <td>47400.0</td>\n",
       "    </tr>\n",
       "    <tr>\n",
       "      <td>2</td>\n",
       "      <td>14</td>\n",
       "      <td>ultra</td>\n",
       "      <td>3.0</td>\n",
       "      <td>2504.0</td>\n",
       "      <td>18117.0</td>\n",
       "      <td>1195.0</td>\n",
       "      <td>648815.36</td>\n",
       "      <td>74100.0</td>\n",
       "    </tr>\n",
       "    <tr>\n",
       "      <td>3</td>\n",
       "      <td>15</td>\n",
       "      <td>ultra</td>\n",
       "      <td>4.0</td>\n",
       "      <td>3525.0</td>\n",
       "      <td>25191.0</td>\n",
       "      <td>1736.0</td>\n",
       "      <td>925547.39</td>\n",
       "      <td>109650.0</td>\n",
       "    </tr>\n",
       "    <tr>\n",
       "      <td>4</td>\n",
       "      <td>16</td>\n",
       "      <td>ultra</td>\n",
       "      <td>5.0</td>\n",
       "      <td>4858.0</td>\n",
       "      <td>34192.0</td>\n",
       "      <td>2536.0</td>\n",
       "      <td>1297331.25</td>\n",
       "      <td>137700.0</td>\n",
       "    </tr>\n",
       "    <tr>\n",
       "      <td>5</td>\n",
       "      <td>17</td>\n",
       "      <td>ultra</td>\n",
       "      <td>6.0</td>\n",
       "      <td>5606.0</td>\n",
       "      <td>40295.0</td>\n",
       "      <td>3505.0</td>\n",
       "      <td>1589694.90</td>\n",
       "      <td>170550.0</td>\n",
       "    </tr>\n",
       "    <tr>\n",
       "      <td>6</td>\n",
       "      <td>18</td>\n",
       "      <td>ultra</td>\n",
       "      <td>7.0</td>\n",
       "      <td>6896.0</td>\n",
       "      <td>49667.0</td>\n",
       "      <td>4536.0</td>\n",
       "      <td>1865105.53</td>\n",
       "      <td>191850.0</td>\n",
       "    </tr>\n",
       "    <tr>\n",
       "      <td>7</td>\n",
       "      <td>19</td>\n",
       "      <td>ultra</td>\n",
       "      <td>8.0</td>\n",
       "      <td>7628.0</td>\n",
       "      <td>54653.0</td>\n",
       "      <td>5183.0</td>\n",
       "      <td>2094637.85</td>\n",
       "      <td>221400.0</td>\n",
       "    </tr>\n",
       "    <tr>\n",
       "      <td>8</td>\n",
       "      <td>20</td>\n",
       "      <td>ultra</td>\n",
       "      <td>9.0</td>\n",
       "      <td>8579.0</td>\n",
       "      <td>62036.0</td>\n",
       "      <td>6013.0</td>\n",
       "      <td>2208491.87</td>\n",
       "      <td>231450.0</td>\n",
       "    </tr>\n",
       "    <tr>\n",
       "      <td>9</td>\n",
       "      <td>21</td>\n",
       "      <td>ultra</td>\n",
       "      <td>10.0</td>\n",
       "      <td>9517.0</td>\n",
       "      <td>68644.0</td>\n",
       "      <td>7187.0</td>\n",
       "      <td>2465576.49</td>\n",
       "      <td>253050.0</td>\n",
       "    </tr>\n",
       "    <tr>\n",
       "      <td>10</td>\n",
       "      <td>22</td>\n",
       "      <td>ultra</td>\n",
       "      <td>11.0</td>\n",
       "      <td>10066.0</td>\n",
       "      <td>72545.0</td>\n",
       "      <td>7476.0</td>\n",
       "      <td>2651432.87</td>\n",
       "      <td>278700.0</td>\n",
       "    </tr>\n",
       "    <tr>\n",
       "      <td>11</td>\n",
       "      <td>23</td>\n",
       "      <td>ultra</td>\n",
       "      <td>12.0</td>\n",
       "      <td>11581.0</td>\n",
       "      <td>82400.0</td>\n",
       "      <td>8425.0</td>\n",
       "      <td>3029250.99</td>\n",
       "      <td>295200.0</td>\n",
       "    </tr>\n",
       "  </tbody>\n",
       "</table>\n",
       "</div>"
      ],
      "text/plain": [
       "    index tariff  month  calls_count  calls_sum  messages     mb_used  \\\n",
       "0      12  ultra    1.0        535.0     3853.0     304.0   118266.13   \n",
       "1      13  ultra    2.0        997.0     7131.0     527.0   282622.50   \n",
       "2      14  ultra    3.0       2504.0    18117.0    1195.0   648815.36   \n",
       "3      15  ultra    4.0       3525.0    25191.0    1736.0   925547.39   \n",
       "4      16  ultra    5.0       4858.0    34192.0    2536.0  1297331.25   \n",
       "5      17  ultra    6.0       5606.0    40295.0    3505.0  1589694.90   \n",
       "6      18  ultra    7.0       6896.0    49667.0    4536.0  1865105.53   \n",
       "7      19  ultra    8.0       7628.0    54653.0    5183.0  2094637.85   \n",
       "8      20  ultra    9.0       8579.0    62036.0    6013.0  2208491.87   \n",
       "9      21  ultra   10.0       9517.0    68644.0    7187.0  2465576.49   \n",
       "10     22  ultra   11.0      10066.0    72545.0    7476.0  2651432.87   \n",
       "11     23  ultra   12.0      11581.0    82400.0    8425.0  3029250.99   \n",
       "\n",
       "    money_cost  \n",
       "0      17550.0  \n",
       "1      47400.0  \n",
       "2      74100.0  \n",
       "3     109650.0  \n",
       "4     137700.0  \n",
       "5     170550.0  \n",
       "6     191850.0  \n",
       "7     221400.0  \n",
       "8     231450.0  \n",
       "9     253050.0  \n",
       "10    278700.0  \n",
       "11    295200.0  "
      ]
     },
     "execution_count": 44,
     "metadata": {},
     "output_type": "execute_result"
    }
   ],
   "source": [
    "ultra #проконтролируем результат"
   ]
  },
  {
   "cell_type": "code",
   "execution_count": 45,
   "id": "67df717e",
   "metadata": {},
   "outputs": [],
   "source": [
    "smart = month_sum.query('tariff==\"smart\"').reset_index()"
   ]
  },
  {
   "cell_type": "code",
   "execution_count": 46,
   "id": "909d5fc8",
   "metadata": {},
   "outputs": [
    {
     "data": {
      "text/html": [
       "<div>\n",
       "<style scoped>\n",
       "    .dataframe tbody tr th:only-of-type {\n",
       "        vertical-align: middle;\n",
       "    }\n",
       "\n",
       "    .dataframe tbody tr th {\n",
       "        vertical-align: top;\n",
       "    }\n",
       "\n",
       "    .dataframe thead th {\n",
       "        text-align: right;\n",
       "    }\n",
       "</style>\n",
       "<table border=\"1\" class=\"dataframe\">\n",
       "  <thead>\n",
       "    <tr style=\"text-align: right;\">\n",
       "      <th></th>\n",
       "      <th>index</th>\n",
       "      <th>tariff</th>\n",
       "      <th>month</th>\n",
       "      <th>calls_count</th>\n",
       "      <th>calls_sum</th>\n",
       "      <th>messages</th>\n",
       "      <th>mb_used</th>\n",
       "      <th>money_cost</th>\n",
       "    </tr>\n",
       "  </thead>\n",
       "  <tbody>\n",
       "    <tr>\n",
       "      <td>0</td>\n",
       "      <td>0</td>\n",
       "      <td>smart</td>\n",
       "      <td>1.0</td>\n",
       "      <td>941.0</td>\n",
       "      <td>6931.0</td>\n",
       "      <td>620.0</td>\n",
       "      <td>289466.40</td>\n",
       "      <td>23925.0</td>\n",
       "    </tr>\n",
       "    <tr>\n",
       "      <td>1</td>\n",
       "      <td>1</td>\n",
       "      <td>smart</td>\n",
       "      <td>2.0</td>\n",
       "      <td>2331.0</td>\n",
       "      <td>17324.0</td>\n",
       "      <td>1397.0</td>\n",
       "      <td>672629.15</td>\n",
       "      <td>46601.0</td>\n",
       "    </tr>\n",
       "    <tr>\n",
       "      <td>2</td>\n",
       "      <td>2</td>\n",
       "      <td>smart</td>\n",
       "      <td>3.0</td>\n",
       "      <td>4183.0</td>\n",
       "      <td>30034.0</td>\n",
       "      <td>2453.0</td>\n",
       "      <td>1163020.25</td>\n",
       "      <td>85676.0</td>\n",
       "    </tr>\n",
       "    <tr>\n",
       "      <td>3</td>\n",
       "      <td>3</td>\n",
       "      <td>smart</td>\n",
       "      <td>4.0</td>\n",
       "      <td>5747.0</td>\n",
       "      <td>41119.0</td>\n",
       "      <td>3443.0</td>\n",
       "      <td>1507764.23</td>\n",
       "      <td>103066.0</td>\n",
       "    </tr>\n",
       "    <tr>\n",
       "      <td>4</td>\n",
       "      <td>4</td>\n",
       "      <td>smart</td>\n",
       "      <td>5.0</td>\n",
       "      <td>7789.0</td>\n",
       "      <td>54618.0</td>\n",
       "      <td>4762.0</td>\n",
       "      <td>2228530.99</td>\n",
       "      <td>160849.0</td>\n",
       "    </tr>\n",
       "    <tr>\n",
       "      <td>5</td>\n",
       "      <td>5</td>\n",
       "      <td>smart</td>\n",
       "      <td>6.0</td>\n",
       "      <td>9110.0</td>\n",
       "      <td>64885.0</td>\n",
       "      <td>5478.0</td>\n",
       "      <td>2590322.27</td>\n",
       "      <td>187859.0</td>\n",
       "    </tr>\n",
       "    <tr>\n",
       "      <td>6</td>\n",
       "      <td>6</td>\n",
       "      <td>smart</td>\n",
       "      <td>7.0</td>\n",
       "      <td>11402.0</td>\n",
       "      <td>82079.0</td>\n",
       "      <td>6784.0</td>\n",
       "      <td>3164373.22</td>\n",
       "      <td>233814.0</td>\n",
       "    </tr>\n",
       "    <tr>\n",
       "      <td>7</td>\n",
       "      <td>7</td>\n",
       "      <td>smart</td>\n",
       "      <td>8.0</td>\n",
       "      <td>13860.0</td>\n",
       "      <td>99045.0</td>\n",
       "      <td>7905.0</td>\n",
       "      <td>3903519.22</td>\n",
       "      <td>295540.0</td>\n",
       "    </tr>\n",
       "    <tr>\n",
       "      <td>8</td>\n",
       "      <td>8</td>\n",
       "      <td>smart</td>\n",
       "      <td>9.0</td>\n",
       "      <td>15482.0</td>\n",
       "      <td>111439.0</td>\n",
       "      <td>8746.0</td>\n",
       "      <td>4238930.49</td>\n",
       "      <td>310986.0</td>\n",
       "    </tr>\n",
       "    <tr>\n",
       "      <td>9</td>\n",
       "      <td>9</td>\n",
       "      <td>smart</td>\n",
       "      <td>10.0</td>\n",
       "      <td>17629.0</td>\n",
       "      <td>125284.0</td>\n",
       "      <td>9927.0</td>\n",
       "      <td>4926594.13</td>\n",
       "      <td>382267.0</td>\n",
       "    </tr>\n",
       "    <tr>\n",
       "      <td>10</td>\n",
       "      <td>10</td>\n",
       "      <td>smart</td>\n",
       "      <td>11.0</td>\n",
       "      <td>19435.0</td>\n",
       "      <td>137544.0</td>\n",
       "      <td>10768.0</td>\n",
       "      <td>5339040.14</td>\n",
       "      <td>403603.0</td>\n",
       "    </tr>\n",
       "    <tr>\n",
       "      <td>11</td>\n",
       "      <td>11</td>\n",
       "      <td>smart</td>\n",
       "      <td>12.0</td>\n",
       "      <td>22406.0</td>\n",
       "      <td>161275.0</td>\n",
       "      <td>12130.0</td>\n",
       "      <td>6104304.11</td>\n",
       "      <td>505565.0</td>\n",
       "    </tr>\n",
       "  </tbody>\n",
       "</table>\n",
       "</div>"
      ],
      "text/plain": [
       "    index tariff  month  calls_count  calls_sum  messages     mb_used  \\\n",
       "0       0  smart    1.0        941.0     6931.0     620.0   289466.40   \n",
       "1       1  smart    2.0       2331.0    17324.0    1397.0   672629.15   \n",
       "2       2  smart    3.0       4183.0    30034.0    2453.0  1163020.25   \n",
       "3       3  smart    4.0       5747.0    41119.0    3443.0  1507764.23   \n",
       "4       4  smart    5.0       7789.0    54618.0    4762.0  2228530.99   \n",
       "5       5  smart    6.0       9110.0    64885.0    5478.0  2590322.27   \n",
       "6       6  smart    7.0      11402.0    82079.0    6784.0  3164373.22   \n",
       "7       7  smart    8.0      13860.0    99045.0    7905.0  3903519.22   \n",
       "8       8  smart    9.0      15482.0   111439.0    8746.0  4238930.49   \n",
       "9       9  smart   10.0      17629.0   125284.0    9927.0  4926594.13   \n",
       "10     10  smart   11.0      19435.0   137544.0   10768.0  5339040.14   \n",
       "11     11  smart   12.0      22406.0   161275.0   12130.0  6104304.11   \n",
       "\n",
       "    money_cost  \n",
       "0      23925.0  \n",
       "1      46601.0  \n",
       "2      85676.0  \n",
       "3     103066.0  \n",
       "4     160849.0  \n",
       "5     187859.0  \n",
       "6     233814.0  \n",
       "7     295540.0  \n",
       "8     310986.0  \n",
       "9     382267.0  \n",
       "10    403603.0  \n",
       "11    505565.0  "
      ]
     },
     "execution_count": 46,
     "metadata": {},
     "output_type": "execute_result"
    }
   ],
   "source": [
    "smart #проконтролируем результат"
   ]
  },
  {
   "cell_type": "markdown",
   "id": "f7183a75",
   "metadata": {},
   "source": [
    "Теперь сравним полученные две таблицы, но чтобы это было наглядно и была понятна динамика, построим гистрограммы. Чтобы облегчить работу, создадим фукнцию построения графиков, а ей уже будем передавать необходимые параметры."
   ]
  },
  {
   "cell_type": "code",
   "execution_count": 47,
   "id": "0c45b0de",
   "metadata": {},
   "outputs": [],
   "source": [
    "def plot_hist(what, title): #функция построения графиков\n",
    "    plt.figure(figsize=(12, 5))\n",
    "    plt.bar(ultra['month'],ultra[what], alpha = 0.5, color = 'b',label='Тариф Ультра')\n",
    "    plt.bar(smart['month'],smart[what], alpha = 0.5, label='Тариф Смарт')\n",
    "    plt.legend(loc='upper left')\n",
    "    plt.grid()\n",
    "    plt.title(title)\n",
    "    plt.show()"
   ]
  },
  {
   "cell_type": "code",
   "execution_count": 48,
   "id": "e535f4f5",
   "metadata": {
    "scrolled": true
   },
   "outputs": [
    {
     "data": {
      "image/png": "[encoded data removed]",
      "text/plain": [
       "<Figure size 864x360 with 1 Axes>"
      ]
     },
     "metadata": {
      "needs_background": "light"
     },
     "output_type": "display_data"
    }
   ],
   "source": [
    "plot_hist('calls_count', 'Количество звонков') #вызываем функцию и передаем параметры"
   ]
  },
  {
   "cell_type": "markdown",
   "id": "7377caf1",
   "metadata": {},
   "source": [
    "Можно увидеть, что количество звонков пользователи тарифа **Ultra** совершают практически в два раза меньше, чем пользователи тарифа **Smart**."
   ]
  },
  {
   "cell_type": "code",
   "execution_count": 49,
   "id": "26f019ac",
   "metadata": {
    "scrolled": true
   },
   "outputs": [
    {
     "data": {
      "image/png": "[encoded data removed]",
      "text/plain": [
       "<Figure size 864x360 with 1 Axes>"
      ]
     },
     "metadata": {
      "needs_background": "light"
     },
     "output_type": "display_data"
    }
   ],
   "source": [
    "plot_hist('calls_sum', 'Продолжительность звонков') #вызываем функцию и передаем параметры"
   ]
  },
  {
   "cell_type": "markdown",
   "id": "cf2931f1",
   "metadata": {},
   "source": [
    "В разрезе продложительности звонков, наблюдаем такую же картину как и в предыдущем шаге. "
   ]
  },
  {
   "cell_type": "code",
   "execution_count": 50,
   "id": "339382da",
   "metadata": {
    "scrolled": true
   },
   "outputs": [
    {
     "data": {
      "image/png": "[encoded data removed]",
      "text/plain": [
       "<Figure size 864x360 with 1 Axes>"
      ]
     },
     "metadata": {
      "needs_background": "light"
     },
     "output_type": "display_data"
    }
   ],
   "source": [
    "plot_hist('messages', 'Количество сообщений') #вызываем функцию и передаем параметры"
   ]
  },
  {
   "cell_type": "markdown",
   "id": "16e60f03",
   "metadata": {},
   "source": [
    "Тут можно отметить, что в среднем, каждый пользователь тарифа **Ultra** больше используют смс, чем пользователь тарифа **Smart**. Но по общему количеству **Smart** впереди."
   ]
  },
  {
   "cell_type": "code",
   "execution_count": 51,
   "id": "ede1665e",
   "metadata": {},
   "outputs": [
    {
     "data": {
      "image/png": "[encoded data removed]",
      "text/plain": [
       "<Figure size 864x360 with 1 Axes>"
      ]
     },
     "metadata": {
      "needs_background": "light"
     },
     "output_type": "display_data"
    }
   ],
   "source": [
    "plot_hist('mb_used', 'Количество трафика') #вызываем функцию и передаем параметры"
   ]
  },
  {
   "cell_type": "markdown",
   "id": "fd99c316",
   "metadata": {},
   "source": [
    "Как можно увидеть, тут тоже без особоых изменений. **Smart** как всегда впереди."
   ]
  },
  {
   "cell_type": "code",
   "execution_count": 52,
   "id": "6d9e097e",
   "metadata": {},
   "outputs": [
    {
     "data": {
      "image/png": "[encoded data removed]",
      "text/plain": [
       "<Figure size 864x360 with 1 Axes>"
      ]
     },
     "metadata": {
      "needs_background": "light"
     },
     "output_type": "display_data"
    }
   ],
   "source": [
    "plot_hist('money_cost', 'Количество выручки') #вызываем функцию и передаем параметры"
   ]
  },
  {
   "cell_type": "markdown",
   "id": "ab79bbe2",
   "metadata": {},
   "source": [
    "А вот в плане выручки, **Ultra** держит первенство, практически квартал, затем объем выручки от **Smart** постепенно растет. \n",
    "\n",
    "Узнаем количество пользователей тарифов, чтобы понять такую динамику."
   ]
  },
  {
   "cell_type": "code",
   "execution_count": 53,
   "id": "4c911ffa",
   "metadata": {},
   "outputs": [
    {
     "data": {
      "text/plain": [
       "smart    351\n",
       "ultra    149\n",
       "Name: tariff, dtype: int64"
      ]
     },
     "execution_count": 53,
     "metadata": {},
     "output_type": "execute_result"
    }
   ],
   "source": [
    "users['tariff'].value_counts() #узнаем колчиество пользователей тарифов"
   ]
  },
  {
   "cell_type": "markdown",
   "id": "627139dc",
   "metadata": {},
   "source": [
    "Из построенных графиков, можно увидеть, что по количеству звонков, их продолжительности, количеству смс, использованному трафику пользователи тарифа **Smart** впереди. Лишь по приносимой выручке, в начале года оба тарифа приносят оператору практически одинаковую сумму ежемесячно, и только во втором полугодии можно говорить об определенном доминировании тарифа **Smart**. Такой расклад в первую очередь связан с количеством клиентов на тарифах (у **Smart** их 351, а у **Ultra** - 149), и увеличением базы абонентов из периода в период. "
   ]
  },
  {
   "cell_type": "markdown",
   "id": "ce42605f",
   "metadata": {},
   "source": [
    "### Подсчет среднего и пострение графиков"
   ]
  },
  {
   "cell_type": "markdown",
   "id": "b0e957f8",
   "metadata": {},
   "source": [
    "Так как из-за постепенного притока абонентов невозможно опеределить месячное потребление адекватно. Целесообразно было бы взять среднее значение в месяц. Но такое среднее может быть \"испорчено\" выбросами, построим \"ящик с усами\", чтоб посмотреть выбросы значений."
   ]
  },
  {
   "cell_type": "code",
   "execution_count": 54,
   "id": "31cf911f",
   "metadata": {
    "scrolled": false
   },
   "outputs": [
    {
     "data": {
      "image/png": "[encoded data removed]",
      "text/plain": [
       "<Figure size 1152x576 with 5 Axes>"
      ]
     },
     "metadata": {
      "needs_background": "light"
     },
     "output_type": "display_data"
    }
   ],
   "source": [
    "fig, (ax1, ax2, ax3, ax4,ax5) = plt.subplots(nrows=1, ncols=5, figsize=(16, 8)) #построим циклом 5 \"усатых\" ящиков для оценки выбросов\n",
    "p = {ax1:'calls_count', ax2:'calls_sum', ax3:'messages', ax4:'messages',ax5:'money_cost'}\n",
    "for ax in [ax1, ax2, ax3, ax4,ax5]: \n",
    "    ax.boxplot(big_data[p[ax]])\n",
    "    ax.grid()\n",
    "    ax.set_title(p[ax])\n",
    "\n",
    "fig.autofmt_xdate()"
   ]
  },
  {
   "cell_type": "markdown",
   "id": "7ff917b5",
   "metadata": {},
   "source": [
    "По данным графикам можно судить, что сильных выбросов негативно влияющих на данные - нет. Поэтому опеределим для каждого тарифа среднее потребление и сравним на графиках."
   ]
  },
  {
   "cell_type": "markdown",
   "id": "a9610f20",
   "metadata": {},
   "source": [
    "Теперь из таблицы `big_data` несколькими шагами посчитаем средные данные по столбцам, затем сгруппируем по тарифам и \"отрежем\"."
   ]
  },
  {
   "cell_type": "code",
   "execution_count": 55,
   "id": "e87a8d1b",
   "metadata": {},
   "outputs": [],
   "source": [
    "month_mean = big_data.groupby(['tariff', 'month'])['calls_count', 'calls_sum', 'messages', 'mb_used', 'money_cost'].mean().reset_index() \n",
    "ultra_mean = month_mean.query('tariff==\"ultra\"').reset_index()\n",
    "smart_mean = month_mean.query('tariff==\"smart\"').reset_index()"
   ]
  },
  {
   "cell_type": "code",
   "execution_count": 56,
   "id": "c637f383",
   "metadata": {
    "scrolled": true
   },
   "outputs": [
    {
     "data": {
      "text/html": [
       "<div>\n",
       "<style scoped>\n",
       "    .dataframe tbody tr th:only-of-type {\n",
       "        vertical-align: middle;\n",
       "    }\n",
       "\n",
       "    .dataframe tbody tr th {\n",
       "        vertical-align: top;\n",
       "    }\n",
       "\n",
       "    .dataframe thead th {\n",
       "        text-align: right;\n",
       "    }\n",
       "</style>\n",
       "<table border=\"1\" class=\"dataframe\">\n",
       "  <thead>\n",
       "    <tr style=\"text-align: right;\">\n",
       "      <th></th>\n",
       "      <th>index</th>\n",
       "      <th>tariff</th>\n",
       "      <th>month</th>\n",
       "      <th>calls_count</th>\n",
       "      <th>calls_sum</th>\n",
       "      <th>messages</th>\n",
       "      <th>mb_used</th>\n",
       "      <th>money_cost</th>\n",
       "    </tr>\n",
       "  </thead>\n",
       "  <tbody>\n",
       "    <tr>\n",
       "      <td>0</td>\n",
       "      <td>12</td>\n",
       "      <td>ultra</td>\n",
       "      <td>1.0</td>\n",
       "      <td>59.444444</td>\n",
       "      <td>428.111111</td>\n",
       "      <td>33.777778</td>\n",
       "      <td>13140.681111</td>\n",
       "      <td>1950.000000</td>\n",
       "    </tr>\n",
       "    <tr>\n",
       "      <td>1</td>\n",
       "      <td>13</td>\n",
       "      <td>ultra</td>\n",
       "      <td>2.0</td>\n",
       "      <td>41.541667</td>\n",
       "      <td>297.125000</td>\n",
       "      <td>21.958333</td>\n",
       "      <td>11775.937500</td>\n",
       "      <td>1975.000000</td>\n",
       "    </tr>\n",
       "    <tr>\n",
       "      <td>2</td>\n",
       "      <td>14</td>\n",
       "      <td>ultra</td>\n",
       "      <td>3.0</td>\n",
       "      <td>67.675676</td>\n",
       "      <td>489.648649</td>\n",
       "      <td>32.297297</td>\n",
       "      <td>17535.550270</td>\n",
       "      <td>2002.702703</td>\n",
       "    </tr>\n",
       "    <tr>\n",
       "      <td>3</td>\n",
       "      <td>15</td>\n",
       "      <td>ultra</td>\n",
       "      <td>4.0</td>\n",
       "      <td>64.090909</td>\n",
       "      <td>458.018182</td>\n",
       "      <td>31.563636</td>\n",
       "      <td>16828.134364</td>\n",
       "      <td>1993.636364</td>\n",
       "    </tr>\n",
       "    <tr>\n",
       "      <td>4</td>\n",
       "      <td>16</td>\n",
       "      <td>ultra</td>\n",
       "      <td>5.0</td>\n",
       "      <td>72.507463</td>\n",
       "      <td>510.328358</td>\n",
       "      <td>37.850746</td>\n",
       "      <td>19363.152985</td>\n",
       "      <td>2055.223881</td>\n",
       "    </tr>\n",
       "    <tr>\n",
       "      <td>5</td>\n",
       "      <td>17</td>\n",
       "      <td>ultra</td>\n",
       "      <td>6.0</td>\n",
       "      <td>66.738095</td>\n",
       "      <td>479.702381</td>\n",
       "      <td>41.726190</td>\n",
       "      <td>18924.939286</td>\n",
       "      <td>2030.357143</td>\n",
       "    </tr>\n",
       "    <tr>\n",
       "      <td>6</td>\n",
       "      <td>18</td>\n",
       "      <td>ultra</td>\n",
       "      <td>7.0</td>\n",
       "      <td>75.780220</td>\n",
       "      <td>545.791209</td>\n",
       "      <td>49.846154</td>\n",
       "      <td>20495.665165</td>\n",
       "      <td>2108.241758</td>\n",
       "    </tr>\n",
       "    <tr>\n",
       "      <td>7</td>\n",
       "      <td>19</td>\n",
       "      <td>ultra</td>\n",
       "      <td>8.0</td>\n",
       "      <td>71.289720</td>\n",
       "      <td>510.775701</td>\n",
       "      <td>48.439252</td>\n",
       "      <td>19576.054673</td>\n",
       "      <td>2069.158879</td>\n",
       "    </tr>\n",
       "    <tr>\n",
       "      <td>8</td>\n",
       "      <td>20</td>\n",
       "      <td>ultra</td>\n",
       "      <td>9.0</td>\n",
       "      <td>74.600000</td>\n",
       "      <td>539.443478</td>\n",
       "      <td>52.286957</td>\n",
       "      <td>19204.277130</td>\n",
       "      <td>2012.608696</td>\n",
       "    </tr>\n",
       "    <tr>\n",
       "      <td>9</td>\n",
       "      <td>21</td>\n",
       "      <td>ultra</td>\n",
       "      <td>10.0</td>\n",
       "      <td>77.373984</td>\n",
       "      <td>558.081301</td>\n",
       "      <td>58.430894</td>\n",
       "      <td>20045.337317</td>\n",
       "      <td>2057.317073</td>\n",
       "    </tr>\n",
       "    <tr>\n",
       "      <td>10</td>\n",
       "      <td>22</td>\n",
       "      <td>ultra</td>\n",
       "      <td>11.0</td>\n",
       "      <td>75.119403</td>\n",
       "      <td>541.380597</td>\n",
       "      <td>55.791045</td>\n",
       "      <td>19786.812463</td>\n",
       "      <td>2079.850746</td>\n",
       "    </tr>\n",
       "    <tr>\n",
       "      <td>11</td>\n",
       "      <td>23</td>\n",
       "      <td>ultra</td>\n",
       "      <td>12.0</td>\n",
       "      <td>83.316547</td>\n",
       "      <td>592.805755</td>\n",
       "      <td>60.611511</td>\n",
       "      <td>21793.172590</td>\n",
       "      <td>2123.741007</td>\n",
       "    </tr>\n",
       "  </tbody>\n",
       "</table>\n",
       "</div>"
      ],
      "text/plain": [
       "    index tariff  month  calls_count   calls_sum   messages       mb_used  \\\n",
       "0      12  ultra    1.0    59.444444  428.111111  33.777778  13140.681111   \n",
       "1      13  ultra    2.0    41.541667  297.125000  21.958333  11775.937500   \n",
       "2      14  ultra    3.0    67.675676  489.648649  32.297297  17535.550270   \n",
       "3      15  ultra    4.0    64.090909  458.018182  31.563636  16828.134364   \n",
       "4      16  ultra    5.0    72.507463  510.328358  37.850746  19363.152985   \n",
       "5      17  ultra    6.0    66.738095  479.702381  41.726190  18924.939286   \n",
       "6      18  ultra    7.0    75.780220  545.791209  49.846154  20495.665165   \n",
       "7      19  ultra    8.0    71.289720  510.775701  48.439252  19576.054673   \n",
       "8      20  ultra    9.0    74.600000  539.443478  52.286957  19204.277130   \n",
       "9      21  ultra   10.0    77.373984  558.081301  58.430894  20045.337317   \n",
       "10     22  ultra   11.0    75.119403  541.380597  55.791045  19786.812463   \n",
       "11     23  ultra   12.0    83.316547  592.805755  60.611511  21793.172590   \n",
       "\n",
       "     money_cost  \n",
       "0   1950.000000  \n",
       "1   1975.000000  \n",
       "2   2002.702703  \n",
       "3   1993.636364  \n",
       "4   2055.223881  \n",
       "5   2030.357143  \n",
       "6   2108.241758  \n",
       "7   2069.158879  \n",
       "8   2012.608696  \n",
       "9   2057.317073  \n",
       "10  2079.850746  \n",
       "11  2123.741007  "
      ]
     },
     "execution_count": 56,
     "metadata": {},
     "output_type": "execute_result"
    }
   ],
   "source": [
    "ultra_mean #выведем на экран результат для контроля"
   ]
  },
  {
   "cell_type": "code",
   "execution_count": 57,
   "id": "aa44f32e",
   "metadata": {},
   "outputs": [
    {
     "data": {
      "text/html": [
       "<div>\n",
       "<style scoped>\n",
       "    .dataframe tbody tr th:only-of-type {\n",
       "        vertical-align: middle;\n",
       "    }\n",
       "\n",
       "    .dataframe tbody tr th {\n",
       "        vertical-align: top;\n",
       "    }\n",
       "\n",
       "    .dataframe thead th {\n",
       "        text-align: right;\n",
       "    }\n",
       "</style>\n",
       "<table border=\"1\" class=\"dataframe\">\n",
       "  <thead>\n",
       "    <tr style=\"text-align: right;\">\n",
       "      <th></th>\n",
       "      <th>index</th>\n",
       "      <th>tariff</th>\n",
       "      <th>month</th>\n",
       "      <th>calls_count</th>\n",
       "      <th>calls_sum</th>\n",
       "      <th>messages</th>\n",
       "      <th>mb_used</th>\n",
       "      <th>money_cost</th>\n",
       "    </tr>\n",
       "  </thead>\n",
       "  <tbody>\n",
       "    <tr>\n",
       "      <td>0</td>\n",
       "      <td>0</td>\n",
       "      <td>smart</td>\n",
       "      <td>1.0</td>\n",
       "      <td>27.676471</td>\n",
       "      <td>203.852941</td>\n",
       "      <td>18.235294</td>\n",
       "      <td>8513.717647</td>\n",
       "      <td>703.676471</td>\n",
       "    </tr>\n",
       "    <tr>\n",
       "      <td>1</td>\n",
       "      <td>1</td>\n",
       "      <td>smart</td>\n",
       "      <td>2.0</td>\n",
       "      <td>40.189655</td>\n",
       "      <td>298.689655</td>\n",
       "      <td>24.086207</td>\n",
       "      <td>11597.054310</td>\n",
       "      <td>803.465517</td>\n",
       "    </tr>\n",
       "    <tr>\n",
       "      <td>2</td>\n",
       "      <td>2</td>\n",
       "      <td>smart</td>\n",
       "      <td>3.0</td>\n",
       "      <td>54.324675</td>\n",
       "      <td>390.051948</td>\n",
       "      <td>31.857143</td>\n",
       "      <td>15104.159091</td>\n",
       "      <td>1112.675325</td>\n",
       "    </tr>\n",
       "    <tr>\n",
       "      <td>3</td>\n",
       "      <td>3</td>\n",
       "      <td>smart</td>\n",
       "      <td>4.0</td>\n",
       "      <td>51.312500</td>\n",
       "      <td>367.133929</td>\n",
       "      <td>30.741071</td>\n",
       "      <td>13462.180625</td>\n",
       "      <td>920.232143</td>\n",
       "    </tr>\n",
       "    <tr>\n",
       "      <td>4</td>\n",
       "      <td>4</td>\n",
       "      <td>smart</td>\n",
       "      <td>5.0</td>\n",
       "      <td>55.241135</td>\n",
       "      <td>387.361702</td>\n",
       "      <td>33.773050</td>\n",
       "      <td>15805.184326</td>\n",
       "      <td>1140.773050</td>\n",
       "    </tr>\n",
       "    <tr>\n",
       "      <td>5</td>\n",
       "      <td>5</td>\n",
       "      <td>smart</td>\n",
       "      <td>6.0</td>\n",
       "      <td>55.548780</td>\n",
       "      <td>395.640244</td>\n",
       "      <td>33.402439</td>\n",
       "      <td>15794.647988</td>\n",
       "      <td>1145.481707</td>\n",
       "    </tr>\n",
       "    <tr>\n",
       "      <td>6</td>\n",
       "      <td>6</td>\n",
       "      <td>smart</td>\n",
       "      <td>7.0</td>\n",
       "      <td>56.726368</td>\n",
       "      <td>408.353234</td>\n",
       "      <td>33.751244</td>\n",
       "      <td>15743.150348</td>\n",
       "      <td>1163.253731</td>\n",
       "    </tr>\n",
       "    <tr>\n",
       "      <td>7</td>\n",
       "      <td>7</td>\n",
       "      <td>smart</td>\n",
       "      <td>8.0</td>\n",
       "      <td>58.978723</td>\n",
       "      <td>421.468085</td>\n",
       "      <td>33.638298</td>\n",
       "      <td>16610.720085</td>\n",
       "      <td>1257.617021</td>\n",
       "    </tr>\n",
       "    <tr>\n",
       "      <td>8</td>\n",
       "      <td>8</td>\n",
       "      <td>smart</td>\n",
       "      <td>9.0</td>\n",
       "      <td>59.546154</td>\n",
       "      <td>428.611538</td>\n",
       "      <td>33.638462</td>\n",
       "      <td>16303.578808</td>\n",
       "      <td>1196.100000</td>\n",
       "    </tr>\n",
       "    <tr>\n",
       "      <td>9</td>\n",
       "      <td>9</td>\n",
       "      <td>smart</td>\n",
       "      <td>10.0</td>\n",
       "      <td>59.962585</td>\n",
       "      <td>426.136054</td>\n",
       "      <td>33.765306</td>\n",
       "      <td>16757.122891</td>\n",
       "      <td>1300.227891</td>\n",
       "    </tr>\n",
       "    <tr>\n",
       "      <td>10</td>\n",
       "      <td>10</td>\n",
       "      <td>smart</td>\n",
       "      <td>11.0</td>\n",
       "      <td>61.503165</td>\n",
       "      <td>435.265823</td>\n",
       "      <td>34.075949</td>\n",
       "      <td>16895.696646</td>\n",
       "      <td>1277.224684</td>\n",
       "    </tr>\n",
       "    <tr>\n",
       "      <td>11</td>\n",
       "      <td>11</td>\n",
       "      <td>smart</td>\n",
       "      <td>12.0</td>\n",
       "      <td>66.486647</td>\n",
       "      <td>478.560831</td>\n",
       "      <td>35.994065</td>\n",
       "      <td>18113.662047</td>\n",
       "      <td>1500.192878</td>\n",
       "    </tr>\n",
       "  </tbody>\n",
       "</table>\n",
       "</div>"
      ],
      "text/plain": [
       "    index tariff  month  calls_count   calls_sum   messages       mb_used  \\\n",
       "0       0  smart    1.0    27.676471  203.852941  18.235294   8513.717647   \n",
       "1       1  smart    2.0    40.189655  298.689655  24.086207  11597.054310   \n",
       "2       2  smart    3.0    54.324675  390.051948  31.857143  15104.159091   \n",
       "3       3  smart    4.0    51.312500  367.133929  30.741071  13462.180625   \n",
       "4       4  smart    5.0    55.241135  387.361702  33.773050  15805.184326   \n",
       "5       5  smart    6.0    55.548780  395.640244  33.402439  15794.647988   \n",
       "6       6  smart    7.0    56.726368  408.353234  33.751244  15743.150348   \n",
       "7       7  smart    8.0    58.978723  421.468085  33.638298  16610.720085   \n",
       "8       8  smart    9.0    59.546154  428.611538  33.638462  16303.578808   \n",
       "9       9  smart   10.0    59.962585  426.136054  33.765306  16757.122891   \n",
       "10     10  smart   11.0    61.503165  435.265823  34.075949  16895.696646   \n",
       "11     11  smart   12.0    66.486647  478.560831  35.994065  18113.662047   \n",
       "\n",
       "     money_cost  \n",
       "0    703.676471  \n",
       "1    803.465517  \n",
       "2   1112.675325  \n",
       "3    920.232143  \n",
       "4   1140.773050  \n",
       "5   1145.481707  \n",
       "6   1163.253731  \n",
       "7   1257.617021  \n",
       "8   1196.100000  \n",
       "9   1300.227891  \n",
       "10  1277.224684  \n",
       "11  1500.192878  "
      ]
     },
     "execution_count": 57,
     "metadata": {},
     "output_type": "execute_result"
    }
   ],
   "source": [
    "smart_mean #выведем на экран результат для контроля"
   ]
  },
  {
   "cell_type": "markdown",
   "id": "de202e09",
   "metadata": {},
   "source": [
    "Напишем функцию построения графиков, передадим ей необходимые параметры и выходе получим график с нужными данными."
   ]
  },
  {
   "cell_type": "code",
   "execution_count": 58,
   "id": "c6982b8d",
   "metadata": {},
   "outputs": [],
   "source": [
    "def plot_hist2(what, title): #создадим функцию, рисующие графики по парметрам\n",
    "    plt.figure(figsize=(12, 5))\n",
    "    plt.bar(ultra_mean['month'],ultra_mean[what], alpha = 0.5, color = 'b',label='Тариф Ультра', width=0.5)\n",
    "    plt.bar(smart_mean['month'],smart_mean[what], alpha = 0.5, label='Тариф Смарт')\n",
    "    plt.legend(loc='upper left')\n",
    "    plt.grid()\n",
    "    plt.title(title)\n",
    "    plt.show()"
   ]
  },
  {
   "cell_type": "code",
   "execution_count": 59,
   "id": "b675e5f7",
   "metadata": {
    "scrolled": true
   },
   "outputs": [
    {
     "data": {
      "image/png": "[encoded data removed]",
      "text/plain": [
       "<Figure size 864x360 with 1 Axes>"
      ]
     },
     "metadata": {
      "needs_background": "light"
     },
     "output_type": "display_data"
    }
   ],
   "source": [
    "plot_hist2('calls_count','Среднее количество звонков') #передаем доплнительные параметры в функцию"
   ]
  },
  {
   "cell_type": "markdown",
   "id": "afbb5d18",
   "metadata": {},
   "source": [
    "А вот средние показатели уже отличются, так пользователи тарифа **Ultra** в среднем совершают бОльшее количество звонков чем клиенты на тарифе **Smart**."
   ]
  },
  {
   "cell_type": "code",
   "execution_count": 60,
   "id": "46b014e0",
   "metadata": {
    "scrolled": true
   },
   "outputs": [
    {
     "data": {
      "image/png": "[encoded data removed]",
      "text/plain": [
       "<Figure size 864x360 with 1 Axes>"
      ]
     },
     "metadata": {
      "needs_background": "light"
     },
     "output_type": "display_data"
    }
   ],
   "source": [
    "plot_hist2('calls_sum','Средняя продолжительность звонков') #передаем доплнительные параметры в функцию"
   ]
  },
  {
   "cell_type": "markdown",
   "id": "73d3f3ff",
   "metadata": {},
   "source": [
    "Тут динамика не отличается от предыдущего шага, лишь в феврале показатели продолжительности сравнялись."
   ]
  },
  {
   "cell_type": "code",
   "execution_count": 61,
   "id": "cd013c51",
   "metadata": {
    "scrolled": true
   },
   "outputs": [
    {
     "data": {
      "image/png": "[encoded data removed]",
      "text/plain": [
       "<Figure size 864x360 with 1 Axes>"
      ]
     },
     "metadata": {
      "needs_background": "light"
     },
     "output_type": "display_data"
    }
   ],
   "source": [
    "plot_hist2('messages','Среднее количество сообщений') #передаем доплнительные параметры в функцию"
   ]
  },
  {
   "cell_type": "markdown",
   "id": "19de6dfc",
   "metadata": {},
   "source": [
    "На данном графике можно увидеть, что в феврале пользователи тарифа **Smart** отправляли в среднем больше сообщений, чем на тарифе **Ultra**. Но в дальнешие месяцы наблюдается рост потребления услуги клиентов **Ultra**."
   ]
  },
  {
   "cell_type": "code",
   "execution_count": 62,
   "id": "d6818060",
   "metadata": {
    "scrolled": true
   },
   "outputs": [
    {
     "data": {
      "image/png": "[encoded data removed]",
      "text/plain": [
       "<Figure size 864x360 with 1 Axes>"
      ]
     },
     "metadata": {
      "needs_background": "light"
     },
     "output_type": "display_data"
    }
   ],
   "source": [
    "plot_hist2('mb_used','Среднее количество трафика') #передаем доплнительные параметры в функцию"
   ]
  },
  {
   "cell_type": "markdown",
   "id": "3dd01375",
   "metadata": {},
   "source": [
    "Опять же наблюдаем преобладание потребления трафика клиентами тарифами **Ultra**, но в феврале потребление сравнялось с клиентами тарифа **Smart**."
   ]
  },
  {
   "cell_type": "code",
   "execution_count": 63,
   "id": "8aba1aff",
   "metadata": {
    "scrolled": true
   },
   "outputs": [
    {
     "data": {
      "image/png": "[encoded data removed]",
      "text/plain": [
       "<Figure size 864x360 with 1 Axes>"
      ]
     },
     "metadata": {
      "needs_background": "light"
     },
     "output_type": "display_data"
    }
   ],
   "source": [
    "plot_hist2('money_cost', 'Среднее количество выручки') #передаем доплнительные параметры в функцию"
   ]
  },
  {
   "cell_type": "markdown",
   "id": "0f5dee73",
   "metadata": {},
   "source": [
    "В средней выручке, тут все однозначно, лидерство за тарифом **Ultra**.\n",
    "\n",
    "Динамика средних показателей отличается от общей. Если в общем анализе мы наблюдали абсолютное преобладание клиентов тарифа **Smart**, то средние показатели отразили совсем другую картину."
   ]
  },
  {
   "cell_type": "markdown",
   "id": "e0343563",
   "metadata": {},
   "source": [
    "### Вычисление дисперсии и отклонения, построение графиков распределения"
   ]
  },
  {
   "cell_type": "markdown",
   "id": "cfb43063",
   "metadata": {},
   "source": [
    "Подсчитаем среднее, дисперсию и отклонение, для этого напишем цикл, создающий датафрейм с показателями."
   ]
  },
  {
   "cell_type": "code",
   "execution_count": 64,
   "id": "582d9d39",
   "metadata": {},
   "outputs": [
    {
     "data": {
      "text/html": [
       "<div>\n",
       "<style scoped>\n",
       "    .dataframe tbody tr th:only-of-type {\n",
       "        vertical-align: middle;\n",
       "    }\n",
       "\n",
       "    .dataframe tbody tr th {\n",
       "        vertical-align: top;\n",
       "    }\n",
       "\n",
       "    .dataframe thead th {\n",
       "        text-align: right;\n",
       "    }\n",
       "</style>\n",
       "<table border=\"1\" class=\"dataframe\">\n",
       "  <thead>\n",
       "    <tr style=\"text-align: right;\">\n",
       "      <th></th>\n",
       "      <th>indicator</th>\n",
       "      <th>mean</th>\n",
       "      <th>median</th>\n",
       "      <th>var</th>\n",
       "      <th>std</th>\n",
       "      <th>tariff</th>\n",
       "    </tr>\n",
       "  </thead>\n",
       "  <tbody>\n",
       "    <tr>\n",
       "      <td>0</td>\n",
       "      <td>calls_count</td>\n",
       "      <td>54</td>\n",
       "      <td>56.1</td>\n",
       "      <td>109.6</td>\n",
       "      <td>10.5</td>\n",
       "      <td>smart</td>\n",
       "    </tr>\n",
       "    <tr>\n",
       "      <td>1</td>\n",
       "      <td>calls_count</td>\n",
       "      <td>69.1</td>\n",
       "      <td>71.9</td>\n",
       "      <td>116.7</td>\n",
       "      <td>10.8</td>\n",
       "      <td>ultra</td>\n",
       "    </tr>\n",
       "    <tr>\n",
       "      <td>2</td>\n",
       "      <td>calls_count</td>\n",
       "      <td>61.5</td>\n",
       "      <td>60.7</td>\n",
       "      <td>168.2</td>\n",
       "      <td>13</td>\n",
       "      <td>all</td>\n",
       "    </tr>\n",
       "    <tr>\n",
       "      <td>3</td>\n",
       "      <td>calls_sum</td>\n",
       "      <td>386.8</td>\n",
       "      <td>402</td>\n",
       "      <td>5221.8</td>\n",
       "      <td>72.3</td>\n",
       "      <td>smart</td>\n",
       "    </tr>\n",
       "    <tr>\n",
       "      <td>4</td>\n",
       "      <td>calls_sum</td>\n",
       "      <td>495.9</td>\n",
       "      <td>510.6</td>\n",
       "      <td>5998.5</td>\n",
       "      <td>77.5</td>\n",
       "      <td>ultra</td>\n",
       "    </tr>\n",
       "    <tr>\n",
       "      <td>5</td>\n",
       "      <td>calls_sum</td>\n",
       "      <td>441.3</td>\n",
       "      <td>431.9</td>\n",
       "      <td>8475.5</td>\n",
       "      <td>92.1</td>\n",
       "      <td>all</td>\n",
       "    </tr>\n",
       "    <tr>\n",
       "      <td>6</td>\n",
       "      <td>messages</td>\n",
       "      <td>31.4</td>\n",
       "      <td>33.6</td>\n",
       "      <td>26</td>\n",
       "      <td>5.1</td>\n",
       "      <td>smart</td>\n",
       "    </tr>\n",
       "    <tr>\n",
       "      <td>7</td>\n",
       "      <td>messages</td>\n",
       "      <td>43.7</td>\n",
       "      <td>45.1</td>\n",
       "      <td>151.8</td>\n",
       "      <td>12.3</td>\n",
       "      <td>ultra</td>\n",
       "    </tr>\n",
       "    <tr>\n",
       "      <td>8</td>\n",
       "      <td>messages</td>\n",
       "      <td>37.6</td>\n",
       "      <td>33.8</td>\n",
       "      <td>124.5</td>\n",
       "      <td>11.2</td>\n",
       "      <td>all</td>\n",
       "    </tr>\n",
       "    <tr>\n",
       "      <td>9</td>\n",
       "      <td>mb_used</td>\n",
       "      <td>15058.4</td>\n",
       "      <td>15799.9</td>\n",
       "      <td>7.13532e+06</td>\n",
       "      <td>2671.2</td>\n",
       "      <td>smart</td>\n",
       "    </tr>\n",
       "    <tr>\n",
       "      <td>10</td>\n",
       "      <td>mb_used</td>\n",
       "      <td>18205.8</td>\n",
       "      <td>19283.7</td>\n",
       "      <td>8.91574e+06</td>\n",
       "      <td>2985.9</td>\n",
       "      <td>ultra</td>\n",
       "    </tr>\n",
       "    <tr>\n",
       "      <td>11</td>\n",
       "      <td>mb_used</td>\n",
       "      <td>16632.1</td>\n",
       "      <td>16792.6</td>\n",
       "      <td>1.02608e+07</td>\n",
       "      <td>3203.2</td>\n",
       "      <td>all</td>\n",
       "    </tr>\n",
       "    <tr>\n",
       "      <td>12</td>\n",
       "      <td>money_cost</td>\n",
       "      <td>1126.7</td>\n",
       "      <td>1154.4</td>\n",
       "      <td>49305.8</td>\n",
       "      <td>222</td>\n",
       "      <td>smart</td>\n",
       "    </tr>\n",
       "    <tr>\n",
       "      <td>13</td>\n",
       "      <td>money_cost</td>\n",
       "      <td>2038.2</td>\n",
       "      <td>2042.8</td>\n",
       "      <td>2846.1</td>\n",
       "      <td>53.3</td>\n",
       "      <td>ultra</td>\n",
       "    </tr>\n",
       "    <tr>\n",
       "      <td>14</td>\n",
       "      <td>money_cost</td>\n",
       "      <td>1582.4</td>\n",
       "      <td>1725.1</td>\n",
       "      <td>241638</td>\n",
       "      <td>491.6</td>\n",
       "      <td>all</td>\n",
       "    </tr>\n",
       "  </tbody>\n",
       "</table>\n",
       "</div>"
      ],
      "text/plain": [
       "      indicator     mean   median          var     std tariff\n",
       "0   calls_count       54     56.1        109.6    10.5  smart\n",
       "1   calls_count     69.1     71.9        116.7    10.8  ultra\n",
       "2   calls_count     61.5     60.7        168.2      13    all\n",
       "3     calls_sum    386.8      402       5221.8    72.3  smart\n",
       "4     calls_sum    495.9    510.6       5998.5    77.5  ultra\n",
       "5     calls_sum    441.3    431.9       8475.5    92.1    all\n",
       "6      messages     31.4     33.6           26     5.1  smart\n",
       "7      messages     43.7     45.1        151.8    12.3  ultra\n",
       "8      messages     37.6     33.8        124.5    11.2    all\n",
       "9       mb_used  15058.4  15799.9  7.13532e+06  2671.2  smart\n",
       "10      mb_used  18205.8  19283.7  8.91574e+06  2985.9  ultra\n",
       "11      mb_used  16632.1  16792.6  1.02608e+07  3203.2    all\n",
       "12   money_cost   1126.7   1154.4      49305.8     222  smart\n",
       "13   money_cost   2038.2   2042.8       2846.1    53.3  ultra\n",
       "14   money_cost   1582.4   1725.1       241638   491.6    all"
      ]
     },
     "metadata": {},
     "output_type": "display_data"
    }
   ],
   "source": [
    "stat = pd.DataFrame(columns = ['indicator', 'mean', 'median','var', 'std', 'tariff']) #указываем названия столбцов у такого датафрейма\n",
    "\n",
    "count = 0 \n",
    "t = ['smart', 'ultra', 'all'] \n",
    "for i in ['calls_count', 'calls_sum','messages','mb_used','money_cost']: #указываем столбцы, в которых будем искать данные\n",
    "    tariff_count = 0\n",
    "    for df in [smart_mean, ultra_mean, month_mean]: #указываем таблицы, с втолбцах которых будем считать\n",
    "        stat.loc[count, 'indicator'] = i\n",
    "        stat.loc[count, 'mean'] = round(df[i].mean(),1)\n",
    "        stat.loc[count, 'median'] = round(df[i].median(),1)\n",
    "        stat.loc[count, 'var'] = round(np.var(df[i], ddof=1),1)\n",
    "        stat.loc[count, 'std'] = round(np.std(df[i], ddof=1),1) \n",
    "        stat.loc[count, 'tariff'] = t[tariff_count]\n",
    "        count +=1\n",
    "        tariff_count +=1\n",
    "display(stat)"
   ]
  },
  {
   "cell_type": "markdown",
   "id": "60598d1b",
   "metadata": {},
   "source": [
    "Построим гистрограммы распределния, для оценки распределения по столбцам `calls_count`, `calls_sum`, `messages`, `mb_used`, `money_cost`. Создадим функцию и ей передаим нужные параметры. \n",
    "\n",
    "Тариф **Smart** - <font color=\"blue\">будет на графике синим</font>\n",
    "\n",
    "Тариф **Ultra** - <font color=\"orange\">будет на графике персиковым</font>"
   ]
  },
  {
   "cell_type": "code",
   "execution_count": 65,
   "id": "9108014f",
   "metadata": {},
   "outputs": [],
   "source": [
    "def distplot(column, title): #создаем фукнцию для посторения графиков распределения\n",
    "    plt.figure(figsize=(15,7))\n",
    "    plt.title(title)\n",
    "    sns.distplot(big_data.loc[big_data['tariff'] == \"smart\",column])\n",
    "    sns.distplot(big_data.loc[big_data['tariff'] == \"ultra\",column])"
   ]
  },
  {
   "cell_type": "code",
   "execution_count": 66,
   "id": "a2559786",
   "metadata": {},
   "outputs": [
    {
     "data": {
      "image/png": "[encoded data removed]",
      "text/plain": [
       "<Figure size 1080x504 with 1 Axes>"
      ]
     },
     "metadata": {
      "needs_background": "light"
     },
     "output_type": "display_data"
    }
   ],
   "source": [
    "distplot('calls_count', 'Количество звонков') #передаем параметры и строим график"
   ]
  },
  {
   "cell_type": "markdown",
   "id": "36b344b7",
   "metadata": {},
   "source": [
    "<font color=\"blue\">Тариф **Smart**</font>  - пользователи совершают в среднем 60 звонков.\n",
    "\n",
    "<font color=\"orange\">Тариф **Ultra**</font> - пользователи соврешают в среднем 70 звонков, но ярких пиков, как таковых нет, распределение шире (диспресия больше), чем у другого тарифа."
   ]
  },
  {
   "cell_type": "code",
   "execution_count": 67,
   "id": "0e62e3e7",
   "metadata": {
    "scrolled": false
   },
   "outputs": [
    {
     "data": {
      "image/png": "[encoded data removed]",
      "text/plain": [
       "<Figure size 1080x504 with 1 Axes>"
      ]
     },
     "metadata": {
      "needs_background": "light"
     },
     "output_type": "display_data"
    }
   ],
   "source": [
    "distplot('calls_sum', 'Продолжительность звонков') #передаем параметры и строим график"
   ]
  },
  {
   "cell_type": "markdown",
   "id": "f5d70bd8",
   "metadata": {},
   "source": [
    "Тут можно увидеть похожесть графиков продолжительности звонка и их количества.\n",
    "\n",
    "<font color=\"blue\">Тариф **Smart**</font> - пользователи страются не выходить за лимит 500 минут (можно видеть равномерный подъем и резкий спуск после пика), ведь за выход за лимит приходится дополнительно оплачивать расходы. \n",
    "\n",
    "<font color=\"orange\">Тариф **Ultra**</font> - пользователи не достигают лимита в 3000 минут, и не делают акцент на длительности разговора поэтому распредление шире (дисперсия больше)."
   ]
  },
  {
   "cell_type": "code",
   "execution_count": 68,
   "id": "9e1fc6ac",
   "metadata": {
    "scrolled": false
   },
   "outputs": [
    {
     "data": {
      "image/png": "[encoded data removed]",
      "text/plain": [
       "<Figure size 1080x504 with 1 Axes>"
      ]
     },
     "metadata": {
      "needs_background": "light"
     },
     "output_type": "display_data"
    }
   ],
   "source": [
    "distplot('messages', 'Количество сообщений') #передаем параметры и строим график"
   ]
  },
  {
   "cell_type": "markdown",
   "id": "04178fc4",
   "metadata": {},
   "source": [
    "<font color=\"blue\">Тариф **Smart**</font> - пользователи реже пишут сообщения и стараются не выходить за лимит 50 сообщений в месяц.\n",
    "\n",
    "<font color=\"orange\">Тариф **Ultra**</font> - а тут пользователи не ограничивают себя в количестве сообщений, но за лимит в 1000 штук, не уходят."
   ]
  },
  {
   "cell_type": "code",
   "execution_count": 69,
   "id": "92fb4daa",
   "metadata": {
    "scrolled": false
   },
   "outputs": [
    {
     "data": {
      "image/png": "[encoded data removed]",
      "text/plain": [
       "<Figure size 1080x504 with 1 Axes>"
      ]
     },
     "metadata": {
      "needs_background": "light"
     },
     "output_type": "display_data"
    }
   ],
   "source": [
    "distplot('mb_used', 'Количество использованного трафика') #передаем параметры и строим график"
   ]
  },
  {
   "cell_type": "markdown",
   "id": "ac1e0a0b",
   "metadata": {},
   "source": [
    "Вот за что пользователи тарифа <font color=\"blue\">**Smart**</font> в большинстве своем переплачивают, как можно увидеть достаточно большое количество людей тратит больше, чем 15360 мегабайт в месяц. Пользователи тарифа <font color=\"orange\">**Ultra**</font> тоже выходят за свой лимит 30720 мегабайт в месяц, но достаточно редок."
   ]
  },
  {
   "cell_type": "code",
   "execution_count": 70,
   "id": "fe082656",
   "metadata": {
    "scrolled": false
   },
   "outputs": [
    {
     "data": {
      "image/png": "[encoded data removed]",
      "text/plain": [
       "<Figure size 1080x504 with 1 Axes>"
      ]
     },
     "metadata": {
      "needs_background": "light"
     },
     "output_type": "display_data"
    }
   ],
   "source": [
    "distplot('money_cost', 'Количество выручки') #передаем параметры и строим график"
   ]
  },
  {
   "cell_type": "markdown",
   "id": "e5fdc1ae",
   "metadata": {},
   "source": [
    "\n",
    "Большинство пользователей старается не выходить за лимиты и платить согласно тарифу (всплески около 550 и 1950), но есть также и те, кто выходит за рамки и платит больше (волны в районе значений 550-1950 и больше 1950). Пользователи тарифа <font color=\"blue\">**Smart**</font> чаще платят свех лимита, чем пользователи <font color=\"orange\">**Ultra**</font>."
   ]
  },
  {
   "cell_type": "markdown",
   "id": "92cab82c",
   "metadata": {},
   "source": [
    "### Вывод"
   ]
  },
  {
   "cell_type": "markdown",
   "id": "daddda44",
   "metadata": {},
   "source": [
    "* Звонки\n",
    "\n",
    "Большинство клиентов **Smart** укладываются в лимит 500 минут в месяц (так медианная составляет 402 мин.). Клиенты **Ultra** практически никогда не исчерпают свой лимит в 3000 минут (у них медианная составляет 510 минут). Из-за вновь добавляющихся абонентов, можно заметить увеличение количества и продолжительности звонков. Исключение – февраль 2018 года.\n",
    "* Сообщения\n",
    "\n",
    "Редко используемая опция. Но на тарифе **Ultra**, ее используют в целом чаще, чем на **Smart** (45 сообщений против 33). Но тем не менее за лимиты **Ultra** никто так и не вышел и лишь в феврале они писали больше, чем клиенты на другом тарифе.\n",
    "* Интернет\n",
    "\n",
    "На тарифе **Smart** клиенты часто превышают лимит (медианное значение 15799.9 Мб) и превалируют в потреблении трафика, исключение лишь – февраль 2018 года. Клиенты тарифа **Ultra**, в среднем не превышают свой лимит в 30720 мегабайт (их потребление - 19283.7 Мб).\n",
    "\n",
    "* Общая выручка\n",
    "\n",
    "Выручка от клиентов тарифа  **Smart** выше, чем от клиентов **Ultra**. Это объясняется тем, что их количественно больше (351 против 149), а также, что они часто выходят за лимиты (1625 случаев против 128) и платят не 550 рублей в месяц, а в среднем в два раза больше 1154 рублей. А вот **Ultra**, в среднем платят 2042 рубля (при 1950 абонентской плате), что подтверждает теорию о их редко перерасходе пакетных услуг.\n"
   ]
  },
  {
   "cell_type": "markdown",
   "id": "0c367397",
   "metadata": {},
   "source": [
    "## Проверка гипотез"
   ]
  },
  {
   "cell_type": "markdown",
   "id": "6b888605",
   "metadata": {},
   "source": [
    "### Средняя выручка пользователей тарифов «Ультра» и «Смарт» различаются"
   ]
  },
  {
   "cell_type": "markdown",
   "id": "0497e5fd",
   "metadata": {},
   "source": [
    "Начнем проверку гипотез, согласно анализу. Нулевая гипотеза для первого анализа будет звучать так:\n",
    "\n",
    "**Н0 - средняя выручка пользователей тарифов «Ultra» и «Smart» равны (не различаются);**\n",
    "\n",
    "создадим ей альтернативу:\n",
    "\n",
    "**Н1 - средняя выручка пользователей тарифов «Ultra» и «Smart» различаются.**\n"
   ]
  },
  {
   "cell_type": "markdown",
   "id": "5ae81b9d",
   "metadata": {},
   "source": [
    "Но предварительно выясним, равна ли дисперсия этих двух выборок, т.к. размеры выборок отличаются."
   ]
  },
  {
   "cell_type": "code",
   "execution_count": 71,
   "id": "fc961c62",
   "metadata": {},
   "outputs": [],
   "source": [
    "ultra_array = big_data.query('tariff ==\"ultra\"')['money_cost'] #выберем нужные данные по тарифам\n",
    "smart_array = big_data.query('tariff ==\"smart\"')['money_cost']"
   ]
  },
  {
   "cell_type": "code",
   "execution_count": 72,
   "id": "9430c517",
   "metadata": {},
   "outputs": [
    {
     "name": "stdout",
     "output_type": "stream",
     "text": [
      "Дисперсия Smart = 617400.9192561684 \n",
      "Дисперсия Ultra = 125386.12841443495\n"
     ]
    }
   ],
   "source": [
    "print('Дисперсия Smart =', np.var(smart_array), '\\nДисперсия Ultra =', np.var(ultra_array)) #подчистаем и выведем на экран дисперсию"
   ]
  },
  {
   "cell_type": "markdown",
   "id": "45487e2d",
   "metadata": {},
   "source": [
    "Так как дисперсия отличается в практически 5 раз, то справедливо при анализе поставить параметр `equal_var=False`. Порогом примем 5% "
   ]
  },
  {
   "cell_type": "code",
   "execution_count": 73,
   "id": "7109b01c",
   "metadata": {},
   "outputs": [
    {
     "name": "stdout",
     "output_type": "stream",
     "text": [
      "p-значение: 1.5653876591790328e-299\n",
      "Отвергаем нулевую гипотезу\n"
     ]
    }
   ],
   "source": [
    "alpha = 0.05 \n",
    "results = st.ttest_ind(ultra_array, smart_array, equal_var=False)\n",
    "print('p-значение:', results.pvalue)\n",
    "if (results.pvalue < alpha):\n",
    "    print('Отвергаем нулевую гипотезу')\n",
    "else:\n",
    "    print('Не отвергаем нулевую гипотезу')"
   ]
  },
  {
   "cell_type": "markdown",
   "id": "a991d441",
   "metadata": {},
   "source": [
    "С уверенностью можно сказать, гипотеза **Н0** о равенстве средней выручке двух тарифов - отверагется. \n",
    "\n",
    "Как мы наблюдали в предыдущих шагах, средние значения выручки по тарифам различаются почти в 2 раза. Если у пользователя подключен тариф \"Smart\" с абонентской платой в 550 рублей, то он скорее всего по итогам месяца заплатит гораздо больше из-за нехватки услуг в рамках тарифного пакета. А у пользователей \"Ultra\" это значение тяготеет к ежемесячной плате."
   ]
  },
  {
   "cell_type": "markdown",
   "id": "92f00c45",
   "metadata": {},
   "source": [
    "### Cредняя выручка пользователи из Москвы отличается от выручки пользователей из других регионов"
   ]
  },
  {
   "cell_type": "markdown",
   "id": "4419b5a0",
   "metadata": {},
   "source": [
    "Сформируем гипотезы:\n",
    "\n",
    "**Н0-средняя выручка пользователи из Москвы равна (не отличаются) выручке пользователей из других регионов**\n",
    "\n",
    "альтернатива бужет звучать так:\n",
    "\n",
    "**Н1-средняя выручка пользователи из Москвы отличается от выручки пользователей из других регионов**\n",
    "\n",
    "По аналогии с предыдущим шагом, пронализируем."
   ]
  },
  {
   "cell_type": "code",
   "execution_count": 74,
   "id": "f77e229c",
   "metadata": {},
   "outputs": [],
   "source": [
    "moscow_array = big_data.query('city ==\"Москва\"')['money_cost'] #выберем нужные данные по тарифам\n",
    "regions_array = big_data.query('city !=\"Москва\"')['money_cost']"
   ]
  },
  {
   "cell_type": "markdown",
   "id": "5bb8fb30",
   "metadata": {},
   "source": [
    "Определим для них значение дисперсии, для определения схожести выборки:"
   ]
  },
  {
   "cell_type": "code",
   "execution_count": 75,
   "id": "3b544a9a",
   "metadata": {},
   "outputs": [
    {
     "name": "stdout",
     "output_type": "stream",
     "text": [
      "Дисперсия города Москвы = 545295.0592653508 \n",
      "Дисперсия регионов = 629013.8839591661\n"
     ]
    }
   ],
   "source": [
    "print('Дисперсия города Москвы =', np.var(moscow_array), '\\nДисперсия регионов =', np.var(regions_array))"
   ]
  },
  {
   "cell_type": "markdown",
   "id": "21b9e364",
   "metadata": {},
   "source": [
    "Дисперсия не отличается в несколько раз, как в предыдщуем шаге, но тем не менее, она не равна. Значит параметр примет значение `equal_var=False`. Порогом также будет значение 5%."
   ]
  },
  {
   "cell_type": "code",
   "execution_count": 76,
   "id": "54f880a0",
   "metadata": {},
   "outputs": [
    {
     "name": "stdout",
     "output_type": "stream",
     "text": [
      "p-значение: 0.4650068964187739\n",
      "Не отвергаем нулевую гипотезу\n"
     ]
    }
   ],
   "source": [
    "alpha = 0.05 \n",
    "results = st.ttest_ind(moscow_array, regions_array, equal_var=False)\n",
    "print('p-значение:', results.pvalue)\n",
    "if (results.pvalue < alpha):\n",
    "    print('Отвергаем нулевую гипотезу')\n",
    "else:\n",
    "    print('Не отвергаем нулевую гипотезу')"
   ]
  },
  {
   "cell_type": "markdown",
   "id": "80076f63",
   "metadata": {},
   "source": [
    "Тут результат отличается от первого теста, и он не позволяет отвергнуть нулевую гипотезу, что доходы от пользователей из Москвы и из других регионов равны. Выручка в Москве практически не отличаются от других населенных пунктов."
   ]
  },
  {
   "cell_type": "markdown",
   "id": "b0b13594",
   "metadata": {},
   "source": [
    "### Вывод"
   ]
  },
  {
   "cell_type": "markdown",
   "id": "557c3164",
   "metadata": {},
   "source": [
    "Нами были проверены две гипотезы:\n",
    "\n",
    "1. Средняя выручка пользователей тарифов «Ультра» и «Смарт» различается.\n",
    "2. Средняя выручка пользователей из Москвы отличается от выручки пользователей из других регионов.\n",
    "\n",
    "\n",
    "Гипотеза 1 подтвердилась и говорит нам о том, что выручка по тарифам отличается.\n",
    "\n",
    "Гипотеза 2 была опровергнута, и говорит о том, что выручка от клиентов в Москве не отличается от клиентов в других регионах."
   ]
  },
  {
   "cell_type": "markdown",
   "id": "635cb9c4",
   "metadata": {},
   "source": [
    "## Общий вывод"
   ]
  },
  {
   "cell_type": "markdown",
   "id": "2da81453",
   "metadata": {},
   "source": [
    "* Данные\n",
    "\n",
    "Данные в исходных датафреймах были корректными, неадекватных пропусков не было, дубликатов тоже не нашли, мы лишь привели даты в столбцах к правильному типу данных. Сформировали одну большую сводную таблицу из нескольких, рассчитали искомые показатели и представили их наглядно на графиках.\n",
    "\n",
    "* Звонки\n",
    "\n",
    "Большинство клиентов **Smart** укладываются в лимит 500 минут в месяц (так медианная составляет 402 мин.). Клиенты **Ultra** практически никогда не исчерпывают свой лимит в 3000 минут (у них медианная составляет 510 минут). Надо отметить, что в тарифе **Smart** в январе и феврале мало звонят - в 1,5-2 раза меньше, чем в другие месяцы, это можно списать на вновь добавляющихся абонентов на протяжении года. Можно отметить, что расход минут постепенно возрастает из месяца в месяц.\n",
    "\n",
    "* Сообщения\n",
    "\n",
    "Редко используемая опция. Но на тарифе **Ultra**, ее используют в целом чаще, чем на **Smart** (45 сообщений против 33). Но тем не менее за лимиты **Ultra** никто так и не вышел. В феврале клиенты **Ultra** писали больше, чем клиенты на другом тарифе.\n",
    "\n",
    "* Интернет\n",
    "\n",
    "На тарифе **Smart** клиенты часто превышают лимит (медианное значение 15799.9 Мб) и превалируют в потреблении трафика, исключение лишь – февраль 2018 года. Клиенты тарифа **Ultra**, в среднем не превышают свой лимит в 30720 мегабайт (их потребление - 19283.7 Мб).\n",
    "\n",
    "* Общая выручка\n",
    "\n",
    "Выручка от клиентов тарифа  **Smart** выше, чем от клиентов **Ultra**. Это объясняется тем, что они часто выходят за лимиты и платят не 550 рублей в месяц, а в среднем в два раза больше 1154 рублей. А вот **Ultra**, в среднем платят 2042 рубля (при 1950 абонентской плате), что подтверждает теорию о их редком перерасходе пакетных услуг. \n",
    "\n",
    "Также мы проверели две гипотезы:\n",
    "\n",
    "1. Средняя выручка пользователей тарифов «Ультра» и «Смарт» различается.\n",
    "\n",
    "Эта гипотеза подтвердилась, так выручка от пользователей тарифа  **Smart** выше, чем от пользователей **Ultra**.\n",
    "\n",
    "2. Средняя выручка пользователей из Москвы отличается от выручки пользователей из других регионов.\n",
    "\n",
    "Эта гипотеза была опровергнута, и говорит о том, что выручка от клиентов в Москве не отличается от клиентов в других регионах.\n",
    "\n",
    "\n",
    "В конечном итоге можно направить силы  маркетинга для продвижения тарифа  **Smart**. Во-первых он привлекателей для пользователей с точки зрения абонентской платы (550 рублей против 1950). Во-вторых он приносит больше выручки для оператора, т.к. пользователи **Ultra** не исчерпывают свои лимиты и соответственно не доплачивают за доп. услуги. "
   ]
  }
 ],
 "metadata": {
  "ExecuteTimeLog": [
   {
    "duration": 1331,
    "start_time": "2022-02-13T17:10:39.515Z"
   },
   {
    "duration": 435,
    "start_time": "2022-02-13T17:10:40.849Z"
   },
   {
    "duration": 14,
    "start_time": "2022-02-13T17:10:41.287Z"
   },
   {
    "duration": 6,
    "start_time": "2022-02-13T17:10:41.308Z"
   },
   {
    "duration": 9,
    "start_time": "2022-02-13T17:10:41.315Z"
   },
   {
    "duration": 22,
    "start_time": "2022-02-13T17:10:41.326Z"
   },
   {
    "duration": 64,
    "start_time": "2022-02-13T17:10:41.351Z"
   },
   {
    "duration": 58,
    "start_time": "2022-02-13T17:10:41.417Z"
   },
   {
    "duration": 34,
    "start_time": "2022-02-13T17:10:41.480Z"
   },
   {
    "duration": 24,
    "start_time": "2022-02-13T17:10:41.517Z"
   },
   {
    "duration": 20,
    "start_time": "2022-02-13T17:10:41.544Z"
   },
   {
    "duration": 13,
    "start_time": "2022-02-13T17:10:41.566Z"
   },
   {
    "duration": 43,
    "start_time": "2022-02-13T17:10:41.581Z"
   },
   {
    "duration": 9,
    "start_time": "2022-02-13T17:10:41.626Z"
   },
   {
    "duration": 12,
    "start_time": "2022-02-13T17:10:41.637Z"
   },
   {
    "duration": 17,
    "start_time": "2022-02-13T17:10:41.651Z"
   },
   {
    "duration": 139,
    "start_time": "2022-02-13T17:10:41.707Z"
   },
   {
    "duration": 68,
    "start_time": "2022-02-13T17:10:41.848Z"
   },
   {
    "duration": 23,
    "start_time": "2022-02-13T17:10:41.918Z"
   },
   {
    "duration": 14,
    "start_time": "2022-02-13T17:10:41.943Z"
   },
   {
    "duration": 15,
    "start_time": "2022-02-13T17:10:42.008Z"
   },
   {
    "duration": 14,
    "start_time": "2022-02-13T17:10:42.025Z"
   },
   {
    "duration": 66,
    "start_time": "2022-02-13T17:10:42.042Z"
   },
   {
    "duration": 219,
    "start_time": "2022-02-13T17:10:42.110Z"
   },
   {
    "duration": 12,
    "start_time": "2022-02-13T17:10:42.331Z"
   },
   {
    "duration": 7,
    "start_time": "2022-02-13T17:10:42.346Z"
   },
   {
    "duration": 88,
    "start_time": "2022-02-13T17:10:42.359Z"
   },
   {
    "duration": 5,
    "start_time": "2022-02-13T17:10:42.452Z"
   },
   {
    "duration": 8,
    "start_time": "2022-02-13T17:10:42.459Z"
   },
   {
    "duration": 167,
    "start_time": "2022-02-13T17:10:42.469Z"
   },
   {
    "duration": 30,
    "start_time": "2022-02-13T17:10:42.638Z"
   },
   {
    "duration": 10,
    "start_time": "2022-02-13T17:10:42.670Z"
   },
   {
    "duration": 350,
    "start_time": "2022-02-13T17:10:42.709Z"
   },
   {
    "duration": -34,
    "start_time": "2022-02-13T17:10:43.095Z"
   },
   {
    "duration": -35,
    "start_time": "2022-02-13T17:10:43.097Z"
   },
   {
    "duration": -37,
    "start_time": "2022-02-13T17:10:43.100Z"
   },
   {
    "duration": -38,
    "start_time": "2022-02-13T17:10:43.102Z"
   },
   {
    "duration": -40,
    "start_time": "2022-02-13T17:10:43.104Z"
   },
   {
    "duration": -55,
    "start_time": "2022-02-13T17:10:43.120Z"
   },
   {
    "duration": -62,
    "start_time": "2022-02-13T17:10:43.128Z"
   },
   {
    "duration": -64,
    "start_time": "2022-02-13T17:10:43.131Z"
   },
   {
    "duration": -69,
    "start_time": "2022-02-13T17:10:43.137Z"
   },
   {
    "duration": -70,
    "start_time": "2022-02-13T17:10:43.139Z"
   },
   {
    "duration": -72,
    "start_time": "2022-02-13T17:10:43.142Z"
   },
   {
    "duration": -74,
    "start_time": "2022-02-13T17:10:43.144Z"
   },
   {
    "duration": -76,
    "start_time": "2022-02-13T17:10:43.147Z"
   },
   {
    "duration": -79,
    "start_time": "2022-02-13T17:10:43.151Z"
   },
   {
    "duration": -81,
    "start_time": "2022-02-13T17:10:43.154Z"
   },
   {
    "duration": -82,
    "start_time": "2022-02-13T17:10:43.156Z"
   },
   {
    "duration": -84,
    "start_time": "2022-02-13T17:10:43.159Z"
   },
   {
    "duration": -85,
    "start_time": "2022-02-13T17:10:43.161Z"
   },
   {
    "duration": -87,
    "start_time": "2022-02-13T17:10:43.164Z"
   },
   {
    "duration": -89,
    "start_time": "2022-02-13T17:10:43.167Z"
   },
   {
    "duration": -99,
    "start_time": "2022-02-13T17:10:43.177Z"
   },
   {
    "duration": -103,
    "start_time": "2022-02-13T17:10:43.182Z"
   },
   {
    "duration": -105,
    "start_time": "2022-02-13T17:10:43.185Z"
   },
   {
    "duration": -106,
    "start_time": "2022-02-13T17:10:43.187Z"
   },
   {
    "duration": -108,
    "start_time": "2022-02-13T17:10:43.190Z"
   },
   {
    "duration": -108,
    "start_time": "2022-02-13T17:10:43.192Z"
   },
   {
    "duration": -109,
    "start_time": "2022-02-13T17:10:43.194Z"
   },
   {
    "duration": -112,
    "start_time": "2022-02-13T17:10:43.197Z"
   },
   {
    "duration": -115,
    "start_time": "2022-02-13T17:10:43.201Z"
   },
   {
    "duration": -116,
    "start_time": "2022-02-13T17:10:43.203Z"
   },
   {
    "duration": -117,
    "start_time": "2022-02-13T17:10:43.205Z"
   },
   {
    "duration": -119,
    "start_time": "2022-02-13T17:10:43.208Z"
   },
   {
    "duration": -122,
    "start_time": "2022-02-13T17:10:43.212Z"
   },
   {
    "duration": -123,
    "start_time": "2022-02-13T17:10:43.214Z"
   },
   {
    "duration": -125,
    "start_time": "2022-02-13T17:10:43.217Z"
   },
   {
    "duration": -126,
    "start_time": "2022-02-13T17:10:43.219Z"
   },
   {
    "duration": -127,
    "start_time": "2022-02-13T17:10:43.221Z"
   },
   {
    "duration": -128,
    "start_time": "2022-02-13T17:10:43.223Z"
   },
   {
    "duration": -129,
    "start_time": "2022-02-13T17:10:43.225Z"
   },
   {
    "duration": -129,
    "start_time": "2022-02-13T17:10:43.226Z"
   },
   {
    "duration": -130,
    "start_time": "2022-02-13T17:10:43.228Z"
   },
   {
    "duration": -131,
    "start_time": "2022-02-13T17:10:43.230Z"
   },
   {
    "duration": -142,
    "start_time": "2022-02-13T17:10:43.242Z"
   },
   {
    "duration": -135,
    "start_time": "2022-02-13T17:10:43.245Z"
   },
   {
    "duration": -136,
    "start_time": "2022-02-13T17:10:43.248Z"
   },
   {
    "duration": -138,
    "start_time": "2022-02-13T17:10:43.251Z"
   },
   {
    "duration": -138,
    "start_time": "2022-02-13T17:10:43.253Z"
   },
   {
    "duration": -139,
    "start_time": "2022-02-13T17:10:43.255Z"
   },
   {
    "duration": 9,
    "start_time": "2022-02-13T17:11:41.812Z"
   },
   {
    "duration": 18,
    "start_time": "2022-02-13T17:11:48.476Z"
   },
   {
    "duration": 14,
    "start_time": "2022-02-13T17:12:42.666Z"
   },
   {
    "duration": 20,
    "start_time": "2022-02-13T17:12:43.850Z"
   },
   {
    "duration": 14,
    "start_time": "2022-02-13T17:12:44.666Z"
   },
   {
    "duration": 17,
    "start_time": "2022-02-13T17:12:53.861Z"
   },
   {
    "duration": 6,
    "start_time": "2022-02-13T17:13:04.820Z"
   },
   {
    "duration": 337,
    "start_time": "2022-02-13T17:13:05.570Z"
   },
   {
    "duration": 15,
    "start_time": "2022-02-13T17:13:05.909Z"
   },
   {
    "duration": 8,
    "start_time": "2022-02-13T17:13:05.967Z"
   },
   {
    "duration": 8,
    "start_time": "2022-02-13T17:13:06.291Z"
   },
   {
    "duration": 8,
    "start_time": "2022-02-13T17:13:07.113Z"
   },
   {
    "duration": 162,
    "start_time": "2022-02-13T17:13:07.800Z"
   },
   {
    "duration": 14,
    "start_time": "2022-02-13T17:13:07.965Z"
   },
   {
    "duration": 28,
    "start_time": "2022-02-13T17:13:07.981Z"
   },
   {
    "duration": 11,
    "start_time": "2022-02-13T17:13:08.258Z"
   },
   {
    "duration": 14,
    "start_time": "2022-02-13T17:13:08.402Z"
   },
   {
    "duration": 7,
    "start_time": "2022-02-13T17:13:08.705Z"
   },
   {
    "duration": 13,
    "start_time": "2022-02-13T17:13:08.889Z"
   },
   {
    "duration": 7,
    "start_time": "2022-02-13T17:13:09.065Z"
   },
   {
    "duration": 13,
    "start_time": "2022-02-13T17:13:09.254Z"
   },
   {
    "duration": 5,
    "start_time": "2022-02-13T17:13:09.560Z"
   },
   {
    "duration": 279,
    "start_time": "2022-02-13T17:13:09.712Z"
   },
   {
    "duration": 303,
    "start_time": "2022-02-13T17:13:10.025Z"
   },
   {
    "duration": 290,
    "start_time": "2022-02-13T17:13:10.332Z"
   },
   {
    "duration": 279,
    "start_time": "2022-02-13T17:13:10.673Z"
   },
   {
    "duration": 417,
    "start_time": "2022-02-13T17:13:11.001Z"
   },
   {
    "duration": 8,
    "start_time": "2022-02-13T17:13:11.420Z"
   },
   {
    "duration": 714,
    "start_time": "2022-02-13T17:13:11.994Z"
   },
   {
    "duration": 16,
    "start_time": "2022-02-13T17:13:12.710Z"
   },
   {
    "duration": 12,
    "start_time": "2022-02-13T17:13:12.777Z"
   },
   {
    "duration": 12,
    "start_time": "2022-02-13T17:13:12.994Z"
   },
   {
    "duration": 5,
    "start_time": "2022-02-13T17:13:13.394Z"
   },
   {
    "duration": 286,
    "start_time": "2022-02-13T17:13:13.587Z"
   },
   {
    "duration": 417,
    "start_time": "2022-02-13T17:13:13.953Z"
   },
   {
    "duration": 315,
    "start_time": "2022-02-13T17:13:14.375Z"
   },
   {
    "duration": 280,
    "start_time": "2022-02-13T17:13:14.964Z"
   },
   {
    "duration": 310,
    "start_time": "2022-02-13T17:13:15.246Z"
   },
   {
    "duration": 75,
    "start_time": "2022-02-13T17:13:15.559Z"
   },
   {
    "duration": 4,
    "start_time": "2022-02-13T17:13:15.636Z"
   },
   {
    "duration": 421,
    "start_time": "2022-02-13T17:13:15.642Z"
   },
   {
    "duration": 381,
    "start_time": "2022-02-13T17:13:16.066Z"
   },
   {
    "duration": 383,
    "start_time": "2022-02-13T17:13:16.449Z"
   },
   {
    "duration": 403,
    "start_time": "2022-02-13T17:13:16.834Z"
   },
   {
    "duration": 599,
    "start_time": "2022-02-13T17:13:17.239Z"
   },
   {
    "duration": 8,
    "start_time": "2022-02-13T17:13:18.706Z"
   },
   {
    "duration": 6,
    "start_time": "2022-02-13T17:13:18.896Z"
   },
   {
    "duration": 6,
    "start_time": "2022-02-13T17:13:19.226Z"
   },
   {
    "duration": 11,
    "start_time": "2022-02-13T17:13:20.122Z"
   },
   {
    "duration": 6,
    "start_time": "2022-02-13T17:13:20.441Z"
   },
   {
    "duration": 6,
    "start_time": "2022-02-13T17:13:20.787Z"
   },
   {
    "duration": 5,
    "start_time": "2022-02-14T04:05:01.060Z"
   },
   {
    "duration": 286,
    "start_time": "2022-02-14T04:05:02.363Z"
   },
   {
    "duration": 107,
    "start_time": "2022-02-14T04:16:42.208Z"
   },
   {
    "duration": 80,
    "start_time": "2022-02-14T04:20:34.640Z"
   },
   {
    "duration": 79,
    "start_time": "2022-02-14T04:21:36.962Z"
   },
   {
    "duration": 81,
    "start_time": "2022-02-14T04:29:32.974Z"
   },
   {
    "duration": 1505,
    "start_time": "2022-02-14T04:40:17.886Z"
   },
   {
    "duration": 505,
    "start_time": "2022-02-14T04:40:19.394Z"
   },
   {
    "duration": 19,
    "start_time": "2022-02-14T04:40:19.902Z"
   },
   {
    "duration": 13,
    "start_time": "2022-02-14T04:40:19.924Z"
   },
   {
    "duration": 11,
    "start_time": "2022-02-14T04:40:19.939Z"
   },
   {
    "duration": 27,
    "start_time": "2022-02-14T04:40:19.952Z"
   },
   {
    "duration": 55,
    "start_time": "2022-02-14T04:40:19.981Z"
   },
   {
    "duration": 37,
    "start_time": "2022-02-14T04:40:20.039Z"
   },
   {
    "duration": 13,
    "start_time": "2022-02-14T04:40:20.080Z"
   },
   {
    "duration": 56,
    "start_time": "2022-02-14T04:40:20.096Z"
   },
   {
    "duration": 19,
    "start_time": "2022-02-14T04:40:20.155Z"
   },
   {
    "duration": 16,
    "start_time": "2022-02-14T04:40:20.177Z"
   },
   {
    "duration": 55,
    "start_time": "2022-02-14T04:40:20.195Z"
   },
   {
    "duration": 11,
    "start_time": "2022-02-14T04:40:20.252Z"
   },
   {
    "duration": 11,
    "start_time": "2022-02-14T04:40:20.265Z"
   },
   {
    "duration": 5,
    "start_time": "2022-02-14T04:40:20.278Z"
   },
   {
    "duration": 181,
    "start_time": "2022-02-14T04:40:20.285Z"
   },
   {
    "duration": 12,
    "start_time": "2022-02-14T04:40:20.469Z"
   },
   {
    "duration": 17,
    "start_time": "2022-02-14T04:40:20.483Z"
   },
   {
    "duration": 162,
    "start_time": "2022-02-14T04:40:20.502Z"
   },
   {
    "duration": 11,
    "start_time": "2022-02-14T04:40:20.667Z"
   },
   {
    "duration": 10,
    "start_time": "2022-02-14T04:40:20.680Z"
   },
   {
    "duration": 87,
    "start_time": "2022-02-14T04:40:20.693Z"
   },
   {
    "duration": 27,
    "start_time": "2022-02-14T04:40:20.782Z"
   },
   {
    "duration": 21,
    "start_time": "2022-02-14T04:40:20.812Z"
   },
   {
    "duration": 151,
    "start_time": "2022-02-14T04:40:20.835Z"
   },
   {
    "duration": 44,
    "start_time": "2022-02-14T04:40:20.992Z"
   },
   {
    "duration": 10,
    "start_time": "2022-02-14T04:40:21.039Z"
   },
   {
    "duration": 19,
    "start_time": "2022-02-14T04:40:21.051Z"
   },
   {
    "duration": 14,
    "start_time": "2022-02-14T04:40:21.072Z"
   },
   {
    "duration": 82,
    "start_time": "2022-02-14T04:40:21.088Z"
   },
   {
    "duration": 215,
    "start_time": "2022-02-14T04:40:20.957Z"
   },
   {
    "duration": 214,
    "start_time": "2022-02-14T04:40:20.960Z"
   },
   {
    "duration": 207,
    "start_time": "2022-02-14T04:40:20.968Z"
   },
   {
    "duration": 182,
    "start_time": "2022-02-14T04:40:20.994Z"
   },
   {
    "duration": 181,
    "start_time": "2022-02-14T04:40:20.997Z"
   },
   {
    "duration": 179,
    "start_time": "2022-02-14T04:40:21.000Z"
   },
   {
    "duration": 178,
    "start_time": "2022-02-14T04:40:21.003Z"
   },
   {
    "duration": 175,
    "start_time": "2022-02-14T04:40:21.007Z"
   },
   {
    "duration": 174,
    "start_time": "2022-02-14T04:40:21.010Z"
   },
   {
    "duration": 172,
    "start_time": "2022-02-14T04:40:21.013Z"
   },
   {
    "duration": 134,
    "start_time": "2022-02-14T04:40:21.053Z"
   },
   {
    "duration": 131,
    "start_time": "2022-02-14T04:40:21.057Z"
   },
   {
    "duration": 123,
    "start_time": "2022-02-14T04:40:21.067Z"
   },
   {
    "duration": 120,
    "start_time": "2022-02-14T04:40:21.071Z"
   },
   {
    "duration": 118,
    "start_time": "2022-02-14T04:40:21.074Z"
   },
   {
    "duration": 117,
    "start_time": "2022-02-14T04:40:21.077Z"
   },
   {
    "duration": 116,
    "start_time": "2022-02-14T04:40:21.080Z"
   },
   {
    "duration": 114,
    "start_time": "2022-02-14T04:40:21.083Z"
   },
   {
    "duration": 113,
    "start_time": "2022-02-14T04:40:21.086Z"
   },
   {
    "duration": 111,
    "start_time": "2022-02-14T04:40:21.089Z"
   },
   {
    "duration": 96,
    "start_time": "2022-02-14T04:40:21.106Z"
   },
   {
    "duration": 94,
    "start_time": "2022-02-14T04:40:21.109Z"
   },
   {
    "duration": 92,
    "start_time": "2022-02-14T04:40:21.113Z"
   },
   {
    "duration": 86,
    "start_time": "2022-02-14T04:40:21.120Z"
   },
   {
    "duration": 85,
    "start_time": "2022-02-14T04:40:21.123Z"
   },
   {
    "duration": 82,
    "start_time": "2022-02-14T04:40:21.149Z"
   },
   {
    "duration": 81,
    "start_time": "2022-02-14T04:40:21.152Z"
   },
   {
    "duration": 78,
    "start_time": "2022-02-14T04:40:21.156Z"
   },
   {
    "duration": 73,
    "start_time": "2022-02-14T04:40:21.163Z"
   },
   {
    "duration": 71,
    "start_time": "2022-02-14T04:40:21.166Z"
   },
   {
    "duration": 69,
    "start_time": "2022-02-14T04:40:21.169Z"
   },
   {
    "duration": 66,
    "start_time": "2022-02-14T04:40:21.173Z"
   },
   {
    "duration": 61,
    "start_time": "2022-02-14T04:40:21.180Z"
   },
   {
    "duration": 59,
    "start_time": "2022-02-14T04:40:21.183Z"
   },
   {
    "duration": 58,
    "start_time": "2022-02-14T04:40:21.186Z"
   },
   {
    "duration": 56,
    "start_time": "2022-02-14T04:40:21.189Z"
   },
   {
    "duration": 50,
    "start_time": "2022-02-14T04:40:21.196Z"
   },
   {
    "duration": 49,
    "start_time": "2022-02-14T04:40:21.199Z"
   },
   {
    "duration": 47,
    "start_time": "2022-02-14T04:40:21.202Z"
   },
   {
    "duration": 44,
    "start_time": "2022-02-14T04:40:21.206Z"
   },
   {
    "duration": -11,
    "start_time": "2022-02-14T04:40:21.263Z"
   },
   {
    "duration": -13,
    "start_time": "2022-02-14T04:40:21.266Z"
   },
   {
    "duration": -14,
    "start_time": "2022-02-14T04:40:21.268Z"
   },
   {
    "duration": -15,
    "start_time": "2022-02-14T04:40:21.271Z"
   },
   {
    "duration": -16,
    "start_time": "2022-02-14T04:40:21.273Z"
   },
   {
    "duration": -18,
    "start_time": "2022-02-14T04:40:21.276Z"
   },
   {
    "duration": 89,
    "start_time": "2022-02-14T04:41:56.917Z"
   },
   {
    "duration": 32,
    "start_time": "2022-02-14T04:42:32.293Z"
   },
   {
    "duration": 4,
    "start_time": "2022-02-14T04:45:06.718Z"
   },
   {
    "duration": 89,
    "start_time": "2022-02-14T04:45:07.304Z"
   },
   {
    "duration": 1453,
    "start_time": "2022-02-14T04:48:44.441Z"
   },
   {
    "duration": 499,
    "start_time": "2022-02-14T04:48:45.897Z"
   },
   {
    "duration": 20,
    "start_time": "2022-02-14T04:48:46.400Z"
   },
   {
    "duration": 8,
    "start_time": "2022-02-14T04:48:46.432Z"
   },
   {
    "duration": 12,
    "start_time": "2022-02-14T04:48:46.443Z"
   },
   {
    "duration": 20,
    "start_time": "2022-02-14T04:48:46.458Z"
   },
   {
    "duration": 68,
    "start_time": "2022-02-14T04:48:46.480Z"
   },
   {
    "duration": 37,
    "start_time": "2022-02-14T04:48:46.551Z"
   },
   {
    "duration": 14,
    "start_time": "2022-02-14T04:48:46.592Z"
   },
   {
    "duration": 27,
    "start_time": "2022-02-14T04:48:46.632Z"
   },
   {
    "duration": 20,
    "start_time": "2022-02-14T04:48:46.661Z"
   },
   {
    "duration": 16,
    "start_time": "2022-02-14T04:48:46.683Z"
   },
   {
    "duration": 22,
    "start_time": "2022-02-14T04:48:46.733Z"
   },
   {
    "duration": 11,
    "start_time": "2022-02-14T04:48:46.758Z"
   },
   {
    "duration": 10,
    "start_time": "2022-02-14T04:48:46.771Z"
   },
   {
    "duration": 5,
    "start_time": "2022-02-14T04:48:46.783Z"
   },
   {
    "duration": 210,
    "start_time": "2022-02-14T04:48:46.790Z"
   },
   {
    "duration": 35,
    "start_time": "2022-02-14T04:48:47.003Z"
   },
   {
    "duration": 17,
    "start_time": "2022-02-14T04:48:47.040Z"
   },
   {
    "duration": 6,
    "start_time": "2022-02-14T04:48:47.060Z"
   },
   {
    "duration": 15,
    "start_time": "2022-02-14T04:48:47.069Z"
   },
   {
    "duration": 8,
    "start_time": "2022-02-14T04:48:47.086Z"
   },
   {
    "duration": 139,
    "start_time": "2022-02-14T04:48:47.096Z"
   },
   {
    "duration": 5,
    "start_time": "2022-02-14T04:48:47.239Z"
   },
   {
    "duration": 156,
    "start_time": "2022-02-14T04:48:47.247Z"
   },
   {
    "duration": 38,
    "start_time": "2022-02-14T04:48:47.406Z"
   },
   {
    "duration": 10,
    "start_time": "2022-02-14T04:48:47.452Z"
   },
   {
    "duration": 22,
    "start_time": "2022-02-14T04:48:47.465Z"
   },
   {
    "duration": 44,
    "start_time": "2022-02-14T04:48:47.489Z"
   },
   {
    "duration": 30,
    "start_time": "2022-02-14T04:48:47.536Z"
   },
   {
    "duration": 20,
    "start_time": "2022-02-14T04:48:47.568Z"
   },
   {
    "duration": 8,
    "start_time": "2022-02-14T04:48:47.590Z"
   },
   {
    "duration": 495,
    "start_time": "2022-02-14T04:48:47.632Z"
   },
   {
    "duration": 18,
    "start_time": "2022-02-14T04:48:48.131Z"
   },
   {
    "duration": 12,
    "start_time": "2022-02-14T04:48:48.151Z"
   },
   {
    "duration": 9,
    "start_time": "2022-02-14T04:48:48.165Z"
   },
   {
    "duration": 8,
    "start_time": "2022-02-14T04:48:48.176Z"
   },
   {
    "duration": 249,
    "start_time": "2022-02-14T04:48:48.186Z"
   },
   {
    "duration": 14,
    "start_time": "2022-02-14T04:48:48.438Z"
   },
   {
    "duration": 9,
    "start_time": "2022-02-14T04:48:48.454Z"
   },
   {
    "duration": 13,
    "start_time": "2022-02-14T04:48:48.465Z"
   },
   {
    "duration": 55,
    "start_time": "2022-02-14T04:48:48.480Z"
   },
   {
    "duration": 9,
    "start_time": "2022-02-14T04:48:48.537Z"
   },
   {
    "duration": 18,
    "start_time": "2022-02-14T04:48:48.548Z"
   },
   {
    "duration": 13,
    "start_time": "2022-02-14T04:48:48.569Z"
   },
   {
    "duration": 18,
    "start_time": "2022-02-14T04:48:48.584Z"
   },
   {
    "duration": 5,
    "start_time": "2022-02-14T04:48:48.632Z"
   },
   {
    "duration": 400,
    "start_time": "2022-02-14T04:48:48.640Z"
   },
   {
    "duration": 442,
    "start_time": "2022-02-14T04:48:49.042Z"
   },
   {
    "duration": 405,
    "start_time": "2022-02-14T04:48:49.487Z"
   },
   {
    "duration": 419,
    "start_time": "2022-02-14T04:48:49.895Z"
   },
   {
    "duration": 428,
    "start_time": "2022-02-14T04:48:50.316Z"
   },
   {
    "duration": 8,
    "start_time": "2022-02-14T04:48:50.747Z"
   },
   {
    "duration": 1008,
    "start_time": "2022-02-14T04:48:50.757Z"
   },
   {
    "duration": 20,
    "start_time": "2022-02-14T04:48:51.767Z"
   },
   {
    "duration": 17,
    "start_time": "2022-02-14T04:48:51.789Z"
   },
   {
    "duration": 42,
    "start_time": "2022-02-14T04:48:51.808Z"
   },
   {
    "duration": 8,
    "start_time": "2022-02-14T04:48:51.853Z"
   },
   {
    "duration": 443,
    "start_time": "2022-02-14T04:48:51.863Z"
   },
   {
    "duration": 432,
    "start_time": "2022-02-14T04:48:52.309Z"
   },
   {
    "duration": 433,
    "start_time": "2022-02-14T04:48:52.744Z"
   },
   {
    "duration": 410,
    "start_time": "2022-02-14T04:48:53.180Z"
   },
   {
    "duration": 434,
    "start_time": "2022-02-14T04:48:53.592Z"
   },
   {
    "duration": 84,
    "start_time": "2022-02-14T04:48:54.033Z"
   },
   {
    "duration": 5,
    "start_time": "2022-02-14T04:48:54.131Z"
   },
   {
    "duration": 586,
    "start_time": "2022-02-14T04:48:54.138Z"
   },
   {
    "duration": 548,
    "start_time": "2022-02-14T04:48:54.726Z"
   },
   {
    "duration": 576,
    "start_time": "2022-02-14T04:48:55.277Z"
   },
   {
    "duration": 642,
    "start_time": "2022-02-14T04:48:55.855Z"
   },
   {
    "duration": 725,
    "start_time": "2022-02-14T04:48:56.499Z"
   },
   {
    "duration": 16,
    "start_time": "2022-02-14T04:48:57.231Z"
   },
   {
    "duration": 8,
    "start_time": "2022-02-14T04:48:57.250Z"
   },
   {
    "duration": 19,
    "start_time": "2022-02-14T04:48:57.260Z"
   },
   {
    "duration": 14,
    "start_time": "2022-02-14T04:48:57.282Z"
   },
   {
    "duration": 37,
    "start_time": "2022-02-14T04:48:57.299Z"
   },
   {
    "duration": 9,
    "start_time": "2022-02-14T04:48:57.340Z"
   },
   {
    "duration": 101,
    "start_time": "2022-02-14T04:53:20.451Z"
   },
   {
    "duration": 1487,
    "start_time": "2022-02-14T04:56:47.708Z"
   },
   {
    "duration": 491,
    "start_time": "2022-02-14T04:56:49.198Z"
   },
   {
    "duration": 19,
    "start_time": "2022-02-14T04:56:49.693Z"
   },
   {
    "duration": 19,
    "start_time": "2022-02-14T04:56:49.715Z"
   },
   {
    "duration": 13,
    "start_time": "2022-02-14T04:56:49.736Z"
   },
   {
    "duration": 20,
    "start_time": "2022-02-14T04:56:49.752Z"
   },
   {
    "duration": 58,
    "start_time": "2022-02-14T04:56:49.774Z"
   },
   {
    "duration": 38,
    "start_time": "2022-02-14T04:56:49.836Z"
   },
   {
    "duration": 13,
    "start_time": "2022-02-14T04:56:49.877Z"
   },
   {
    "duration": 54,
    "start_time": "2022-02-14T04:56:49.892Z"
   },
   {
    "duration": 19,
    "start_time": "2022-02-14T04:56:49.948Z"
   },
   {
    "duration": 16,
    "start_time": "2022-02-14T04:56:49.970Z"
   },
   {
    "duration": 50,
    "start_time": "2022-02-14T04:56:49.988Z"
   },
   {
    "duration": 11,
    "start_time": "2022-02-14T04:56:50.041Z"
   },
   {
    "duration": 13,
    "start_time": "2022-02-14T04:56:50.055Z"
   },
   {
    "duration": 5,
    "start_time": "2022-02-14T04:56:50.071Z"
   },
   {
    "duration": 177,
    "start_time": "2022-02-14T04:56:50.079Z"
   },
   {
    "duration": 11,
    "start_time": "2022-02-14T04:56:50.258Z"
   },
   {
    "duration": 14,
    "start_time": "2022-02-14T04:56:50.271Z"
   },
   {
    "duration": 7,
    "start_time": "2022-02-14T04:56:50.287Z"
   },
   {
    "duration": 40,
    "start_time": "2022-02-14T04:56:50.296Z"
   },
   {
    "duration": 5,
    "start_time": "2022-02-14T04:56:50.338Z"
   },
   {
    "duration": 113,
    "start_time": "2022-02-14T04:56:50.349Z"
   },
   {
    "duration": 4,
    "start_time": "2022-02-14T04:56:50.466Z"
   },
   {
    "duration": 149,
    "start_time": "2022-02-14T04:56:50.472Z"
   },
   {
    "duration": 32,
    "start_time": "2022-02-14T04:56:50.623Z"
   },
   {
    "duration": 12,
    "start_time": "2022-02-14T04:56:50.658Z"
   },
   {
    "duration": 22,
    "start_time": "2022-02-14T04:56:50.672Z"
   },
   {
    "duration": 47,
    "start_time": "2022-02-14T04:56:50.697Z"
   },
   {
    "duration": 31,
    "start_time": "2022-02-14T04:56:50.746Z"
   },
   {
    "duration": 19,
    "start_time": "2022-02-14T04:56:50.779Z"
   },
   {
    "duration": 38,
    "start_time": "2022-02-14T04:56:50.800Z"
   },
   {
    "duration": 8,
    "start_time": "2022-02-14T04:56:50.840Z"
   },
   {
    "duration": 501,
    "start_time": "2022-02-14T04:56:50.850Z"
   },
   {
    "duration": 18,
    "start_time": "2022-02-14T04:56:51.353Z"
   },
   {
    "duration": 10,
    "start_time": "2022-02-14T04:56:51.374Z"
   },
   {
    "duration": 9,
    "start_time": "2022-02-14T04:56:51.386Z"
   },
   {
    "duration": 249,
    "start_time": "2022-02-14T04:56:51.397Z"
   },
   {
    "duration": 14,
    "start_time": "2022-02-14T04:56:51.648Z"
   },
   {
    "duration": 9,
    "start_time": "2022-02-14T04:56:51.664Z"
   },
   {
    "duration": 12,
    "start_time": "2022-02-14T04:56:51.676Z"
   },
   {
    "duration": 50,
    "start_time": "2022-02-14T04:56:51.690Z"
   },
   {
    "duration": 15,
    "start_time": "2022-02-14T04:56:51.742Z"
   },
   {
    "duration": 24,
    "start_time": "2022-02-14T04:56:51.760Z"
   },
   {
    "duration": 11,
    "start_time": "2022-02-14T04:56:51.787Z"
   },
   {
    "duration": 32,
    "start_time": "2022-02-14T04:56:51.801Z"
   },
   {
    "duration": 6,
    "start_time": "2022-02-14T04:56:51.835Z"
   },
   {
    "duration": 410,
    "start_time": "2022-02-14T04:56:51.843Z"
   },
   {
    "duration": 443,
    "start_time": "2022-02-14T04:56:52.255Z"
   },
   {
    "duration": 459,
    "start_time": "2022-02-14T04:56:52.700Z"
   },
   {
    "duration": 446,
    "start_time": "2022-02-14T04:56:53.161Z"
   },
   {
    "duration": 455,
    "start_time": "2022-02-14T04:56:53.610Z"
   },
   {
    "duration": 10,
    "start_time": "2022-02-14T04:56:54.068Z"
   },
   {
    "duration": 1105,
    "start_time": "2022-02-14T04:56:54.080Z"
   },
   {
    "duration": 19,
    "start_time": "2022-02-14T04:56:55.187Z"
   },
   {
    "duration": 33,
    "start_time": "2022-02-14T04:56:55.208Z"
   },
   {
    "duration": 16,
    "start_time": "2022-02-14T04:56:55.243Z"
   },
   {
    "duration": 5,
    "start_time": "2022-02-14T04:56:55.261Z"
   },
   {
    "duration": 439,
    "start_time": "2022-02-14T04:56:55.269Z"
   },
   {
    "duration": 427,
    "start_time": "2022-02-14T04:56:55.710Z"
   },
   {
    "duration": 426,
    "start_time": "2022-02-14T04:56:56.139Z"
   },
   {
    "duration": 417,
    "start_time": "2022-02-14T04:56:56.568Z"
   },
   {
    "duration": 452,
    "start_time": "2022-02-14T04:56:56.988Z"
   },
   {
    "duration": 110,
    "start_time": "2022-02-14T04:56:57.442Z"
   },
   {
    "duration": 5,
    "start_time": "2022-02-14T04:56:57.554Z"
   },
   {
    "duration": 982,
    "start_time": "2022-02-14T04:56:57.562Z"
   },
   {
    "duration": 564,
    "start_time": "2022-02-14T04:56:58.547Z"
   },
   {
    "duration": 550,
    "start_time": "2022-02-14T04:56:59.119Z"
   },
   {
    "duration": 597,
    "start_time": "2022-02-14T04:56:59.672Z"
   },
   {
    "duration": 820,
    "start_time": "2022-02-14T04:57:00.272Z"
   },
   {
    "duration": 11,
    "start_time": "2022-02-14T04:57:01.095Z"
   },
   {
    "duration": 24,
    "start_time": "2022-02-14T04:57:01.108Z"
   },
   {
    "duration": 19,
    "start_time": "2022-02-14T04:57:01.135Z"
   },
   {
    "duration": 12,
    "start_time": "2022-02-14T04:57:01.157Z"
   },
   {
    "duration": 12,
    "start_time": "2022-02-14T04:57:01.172Z"
   },
   {
    "duration": 18,
    "start_time": "2022-02-14T04:57:01.186Z"
   }
  ],
  "kernelspec": {
   "display_name": "Python 3 (ipykernel)",
   "language": "python",
   "name": "python3"
  },
  "language_info": {
   "codemirror_mode": {
    "name": "ipython",
    "version": 3
   },
   "file_extension": ".py",
   "mimetype": "text/x-python",
   "name": "python",
   "nbconvert_exporter": "python",
   "pygments_lexer": "ipython3",
   "version": "3.9.7"
  },
  "toc": {
   "base_numbering": 1,
   "nav_menu": {},
   "number_sections": true,
   "sideBar": true,
   "skip_h1_title": true,
   "title_cell": "Содержание",
   "title_sidebar": "Содержание",
   "toc_cell": true,
   "toc_position": {
    "height": "calc(100% - 180px)",
    "left": "10px",
    "top": "150px",
    "width": "175.25px"
   },
   "toc_section_display": true,
   "toc_window_display": true
  }
 },
 "nbformat": 4,
 "nbformat_minor": 5
}
