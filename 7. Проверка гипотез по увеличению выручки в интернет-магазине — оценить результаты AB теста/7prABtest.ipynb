{
 "cells": [
  {
   "cell_type": "markdown",
   "metadata": {},
   "source": [
    "# Описание проекта\n",
    "Вы — аналитик крупного интернет-магазина. Вместе с отделом маркетинга вы подготовили список гипотез для увеличения выручки.\n",
    "Приоритизируйте гипотезы, запустите A/B-тест и проанализируйте результаты.\n",
    "\n",
    "**Цели:**\n",
    "* Приоритизировать гипотезы;\n",
    "* Проанализовать результаты А/В теста.\n",
    "\n",
    "**Задачи:**\n",
    "\n",
    "1.\tПостроить график кумулятивной выручки по группам.\n",
    "2.\tПостроить график кумулятивного среднего чека по группам. \n",
    "3.\tПостроить график относительного изменения кумулятивного среднего чека группы B к группе A.\n",
    "4.\tПостроить график кумулятивной конверсии по группам.\n",
    "5.\tПостроить график относительного изменения кумулятивной конверсии группы B к группе A.\n",
    "6.\tПостроить точечный график количества заказов по пользователям.\n",
    "7.\tПосчитать 95-й и 99-й перцентили количества заказов на пользователя.\n",
    "8.\tПостроить точечный график стоимостей заказов. \n",
    "9.\tПосчитать 95-й и 99-й перцентили стоимости заказов.\n",
    "10.\tПосчитать статистическую значимость различий в конверсии между группами по «сырым» данным.\n",
    "11.\tПосчитать статистическую значимость различий в среднем чеке заказа между группами по «сырым» данным.\n",
    "12.\tПосчитать статистическую значимость различий в конверсии между группами по «очищенным» данным.\n",
    "13.\tПосчитать статистическую значимость различий в среднем чеке заказа между группами по «очищенным» данным. \n",
    "14.\tПринять решение по результатам теста и объясните его.\n"
   ]
  },
  {
   "cell_type": "markdown",
   "metadata": {},
   "source": [
    "# Импорт библиотек и загрузка данных"
   ]
  },
  {
   "cell_type": "markdown",
   "metadata": {},
   "source": [
    "Импортируем необходимые бибилиотеки для дальнейшей работы и подругрузим данные в переменные."
   ]
  },
  {
   "cell_type": "code",
   "execution_count": 1,
   "metadata": {},
   "outputs": [],
   "source": [
    "#импортируем необходимые библиотеки для анализа\n",
    "import pandas as pd\n",
    "from matplotlib import pyplot as plt\n",
    "import datetime as dt\n",
    "import scipy.stats as stats\n",
    "import numpy as np\n",
    "import warnings\n",
    "warnings.simplefilter('ignore')\n",
    "pd.set_option('display.max_colwidth', None)"
   ]
  },
  {
   "cell_type": "code",
   "execution_count": 2,
   "metadata": {},
   "outputs": [],
   "source": [
    "#загрузим данные в переменные\n",
    "try:\n",
    "    hypothesis = pd.read_csv('../8 project/datasets/hypothesis.csv')\n",
    "    orders = pd.read_csv('../8 project/orders.csv') \n",
    "    visitors = pd.read_csv('../8 project/visitors.csv')\n",
    "except: \n",
    "    hypothesis = pd.read_csv('/datasets/hypothesis.csv')\n",
    "    orders = pd.read_csv('/datasets/orders.csv')\n",
    "    visitors = pd.read_csv('/datasets/visitors.csv')"
   ]
  },
  {
   "cell_type": "markdown",
   "metadata": {},
   "source": [
    "## Приоритизация гипотез"
   ]
  },
  {
   "cell_type": "markdown",
   "metadata": {},
   "source": [
    "Выведем на экран датасет `hypothesis`:"
   ]
  },
  {
   "cell_type": "code",
   "execution_count": 3,
   "metadata": {},
   "outputs": [
    {
     "data": {
      "text/html": [
       "<div>\n",
       "<style scoped>\n",
       "    .dataframe tbody tr th:only-of-type {\n",
       "        vertical-align: middle;\n",
       "    }\n",
       "\n",
       "    .dataframe tbody tr th {\n",
       "        vertical-align: top;\n",
       "    }\n",
       "\n",
       "    .dataframe thead th {\n",
       "        text-align: right;\n",
       "    }\n",
       "</style>\n",
       "<table border=\"1\" class=\"dataframe\">\n",
       "  <thead>\n",
       "    <tr style=\"text-align: right;\">\n",
       "      <th></th>\n",
       "      <th>Hypothesis</th>\n",
       "      <th>Reach</th>\n",
       "      <th>Impact</th>\n",
       "      <th>Confidence</th>\n",
       "      <th>Efforts</th>\n",
       "    </tr>\n",
       "  </thead>\n",
       "  <tbody>\n",
       "    <tr>\n",
       "      <th>0</th>\n",
       "      <td>Добавить два новых канала привлечения трафика, что позволит привлекать на 30% больше пользователей</td>\n",
       "      <td>3</td>\n",
       "      <td>10</td>\n",
       "      <td>8</td>\n",
       "      <td>6</td>\n",
       "    </tr>\n",
       "    <tr>\n",
       "      <th>1</th>\n",
       "      <td>Запустить собственную службу доставки, что сократит срок доставки заказов</td>\n",
       "      <td>2</td>\n",
       "      <td>5</td>\n",
       "      <td>4</td>\n",
       "      <td>10</td>\n",
       "    </tr>\n",
       "    <tr>\n",
       "      <th>2</th>\n",
       "      <td>Добавить блоки рекомендаций товаров на сайт интернет магазина, чтобы повысить конверсию и средний чек заказа</td>\n",
       "      <td>8</td>\n",
       "      <td>3</td>\n",
       "      <td>7</td>\n",
       "      <td>3</td>\n",
       "    </tr>\n",
       "    <tr>\n",
       "      <th>3</th>\n",
       "      <td>Изменить структура категорий, что увеличит конверсию, т.к. пользователи быстрее найдут нужный товар</td>\n",
       "      <td>8</td>\n",
       "      <td>3</td>\n",
       "      <td>3</td>\n",
       "      <td>8</td>\n",
       "    </tr>\n",
       "    <tr>\n",
       "      <th>4</th>\n",
       "      <td>Изменить цвет фона главной страницы, чтобы увеличить вовлеченность пользователей</td>\n",
       "      <td>3</td>\n",
       "      <td>1</td>\n",
       "      <td>1</td>\n",
       "      <td>1</td>\n",
       "    </tr>\n",
       "    <tr>\n",
       "      <th>5</th>\n",
       "      <td>Добавить страницу отзывов клиентов о магазине, что позволит увеличить количество заказов</td>\n",
       "      <td>3</td>\n",
       "      <td>2</td>\n",
       "      <td>2</td>\n",
       "      <td>3</td>\n",
       "    </tr>\n",
       "    <tr>\n",
       "      <th>6</th>\n",
       "      <td>Показать на главной странице баннеры с актуальными акциями и распродажами, чтобы увеличить конверсию</td>\n",
       "      <td>5</td>\n",
       "      <td>3</td>\n",
       "      <td>8</td>\n",
       "      <td>3</td>\n",
       "    </tr>\n",
       "    <tr>\n",
       "      <th>7</th>\n",
       "      <td>Добавить форму подписки на все основные страницы, чтобы собрать базу клиентов для email-рассылок</td>\n",
       "      <td>10</td>\n",
       "      <td>7</td>\n",
       "      <td>8</td>\n",
       "      <td>5</td>\n",
       "    </tr>\n",
       "    <tr>\n",
       "      <th>8</th>\n",
       "      <td>Запустить акцию, дающую скидку на товар в день рождения</td>\n",
       "      <td>1</td>\n",
       "      <td>9</td>\n",
       "      <td>9</td>\n",
       "      <td>5</td>\n",
       "    </tr>\n",
       "  </tbody>\n",
       "</table>\n",
       "</div>"
      ],
      "text/plain": [
       "                                                                                                     Hypothesis  \\\n",
       "0            Добавить два новых канала привлечения трафика, что позволит привлекать на 30% больше пользователей   \n",
       "1                                     Запустить собственную службу доставки, что сократит срок доставки заказов   \n",
       "2  Добавить блоки рекомендаций товаров на сайт интернет магазина, чтобы повысить конверсию и средний чек заказа   \n",
       "3           Изменить структура категорий, что увеличит конверсию, т.к. пользователи быстрее найдут нужный товар   \n",
       "4                              Изменить цвет фона главной страницы, чтобы увеличить вовлеченность пользователей   \n",
       "5                      Добавить страницу отзывов клиентов о магазине, что позволит увеличить количество заказов   \n",
       "6          Показать на главной странице баннеры с актуальными акциями и распродажами, чтобы увеличить конверсию   \n",
       "7              Добавить форму подписки на все основные страницы, чтобы собрать базу клиентов для email-рассылок   \n",
       "8                                                       Запустить акцию, дающую скидку на товар в день рождения   \n",
       "\n",
       "   Reach  Impact  Confidence  Efforts  \n",
       "0      3      10           8        6  \n",
       "1      2       5           4       10  \n",
       "2      8       3           7        3  \n",
       "3      8       3           3        8  \n",
       "4      3       1           1        1  \n",
       "5      3       2           2        3  \n",
       "6      5       3           8        3  \n",
       "7     10       7           8        5  \n",
       "8      1       9           9        5  "
      ]
     },
     "execution_count": 3,
     "metadata": {},
     "output_type": "execute_result"
    }
   ],
   "source": [
    "hypothesis"
   ]
  },
  {
   "cell_type": "markdown",
   "metadata": {},
   "source": [
    "Видим проблему написания названия колонок, приведем к *lower_case*."
   ]
  },
  {
   "cell_type": "code",
   "execution_count": 4,
   "metadata": {
    "scrolled": true
   },
   "outputs": [],
   "source": [
    "hypothesis.columns = hypothesis.columns.str.lower()"
   ]
  },
  {
   "cell_type": "markdown",
   "metadata": {},
   "source": [
    "Согласно описанию, датасет `hypothesis` содержит следующие данные:\n",
    "* *Hypothesis* — краткое описание гипотезы;\n",
    "* *Reach* — охват пользователей по 10-балльной шкале;\n",
    "* *Impact* — влияние на пользователей по 10-балльной шкале;\n",
    "* *Confidence* — уверенность в гипотезе по 10-балльной шкале;\n",
    "* *Efforts* — затраты ресурсов на проверку гипотезы по 10-балльной шкале. Чем больше значение Efforts, тем дороже проверка гипотезы."
   ]
  },
  {
   "cell_type": "markdown",
   "metadata": {},
   "source": [
    "Для дальнейшей работы по приоритизации гипотез, мы будем рассматривать и использовать такие фреймворки как **ICE** и **RICE**. Их формулы выглядят следующим образом:\n",
    "\n",
    "$$ICE = \\frac{Impact * Confidence}{Efforts}$$\n",
    "\n",
    "$$RICE = \\frac{Rearch * Impact * Confidence}{Efforts}$$"
   ]
  },
  {
   "cell_type": "code",
   "execution_count": 5,
   "metadata": {},
   "outputs": [],
   "source": [
    "#подсчитаем данные и запишем результаты в соовтетствующие колонки\n",
    "hypothesis['ice'] = (hypothesis['impact'] * hypothesis['confidence'] / hypothesis['efforts']).round(2)\n",
    "hypothesis['rice'] = hypothesis['reach'] * hypothesis['impact'] * hypothesis['confidence'] / hypothesis['efforts']"
   ]
  },
  {
   "cell_type": "markdown",
   "metadata": {},
   "source": [
    "Отсортируем по гипотезы по значимости в рамках фреймворков:"
   ]
  },
  {
   "cell_type": "code",
   "execution_count": 6,
   "metadata": {},
   "outputs": [
    {
     "data": {
      "text/html": [
       "<div>\n",
       "<style scoped>\n",
       "    .dataframe tbody tr th:only-of-type {\n",
       "        vertical-align: middle;\n",
       "    }\n",
       "\n",
       "    .dataframe tbody tr th {\n",
       "        vertical-align: top;\n",
       "    }\n",
       "\n",
       "    .dataframe thead th {\n",
       "        text-align: right;\n",
       "    }\n",
       "</style>\n",
       "<table border=\"1\" class=\"dataframe\">\n",
       "  <thead>\n",
       "    <tr style=\"text-align: right;\">\n",
       "      <th></th>\n",
       "      <th>hypothesis</th>\n",
       "      <th>ice</th>\n",
       "    </tr>\n",
       "  </thead>\n",
       "  <tbody>\n",
       "    <tr>\n",
       "      <th>8</th>\n",
       "      <td>Запустить акцию, дающую скидку на товар в день рождения</td>\n",
       "      <td>16.20</td>\n",
       "    </tr>\n",
       "    <tr>\n",
       "      <th>0</th>\n",
       "      <td>Добавить два новых канала привлечения трафика, что позволит привлекать на 30% больше пользователей</td>\n",
       "      <td>13.33</td>\n",
       "    </tr>\n",
       "    <tr>\n",
       "      <th>7</th>\n",
       "      <td>Добавить форму подписки на все основные страницы, чтобы собрать базу клиентов для email-рассылок</td>\n",
       "      <td>11.20</td>\n",
       "    </tr>\n",
       "    <tr>\n",
       "      <th>6</th>\n",
       "      <td>Показать на главной странице баннеры с актуальными акциями и распродажами, чтобы увеличить конверсию</td>\n",
       "      <td>8.00</td>\n",
       "    </tr>\n",
       "    <tr>\n",
       "      <th>2</th>\n",
       "      <td>Добавить блоки рекомендаций товаров на сайт интернет магазина, чтобы повысить конверсию и средний чек заказа</td>\n",
       "      <td>7.00</td>\n",
       "    </tr>\n",
       "    <tr>\n",
       "      <th>1</th>\n",
       "      <td>Запустить собственную службу доставки, что сократит срок доставки заказов</td>\n",
       "      <td>2.00</td>\n",
       "    </tr>\n",
       "    <tr>\n",
       "      <th>5</th>\n",
       "      <td>Добавить страницу отзывов клиентов о магазине, что позволит увеличить количество заказов</td>\n",
       "      <td>1.33</td>\n",
       "    </tr>\n",
       "    <tr>\n",
       "      <th>3</th>\n",
       "      <td>Изменить структура категорий, что увеличит конверсию, т.к. пользователи быстрее найдут нужный товар</td>\n",
       "      <td>1.12</td>\n",
       "    </tr>\n",
       "    <tr>\n",
       "      <th>4</th>\n",
       "      <td>Изменить цвет фона главной страницы, чтобы увеличить вовлеченность пользователей</td>\n",
       "      <td>1.00</td>\n",
       "    </tr>\n",
       "  </tbody>\n",
       "</table>\n",
       "</div>"
      ],
      "text/plain": [
       "                                                                                                     hypothesis  \\\n",
       "8                                                       Запустить акцию, дающую скидку на товар в день рождения   \n",
       "0            Добавить два новых канала привлечения трафика, что позволит привлекать на 30% больше пользователей   \n",
       "7              Добавить форму подписки на все основные страницы, чтобы собрать базу клиентов для email-рассылок   \n",
       "6          Показать на главной странице баннеры с актуальными акциями и распродажами, чтобы увеличить конверсию   \n",
       "2  Добавить блоки рекомендаций товаров на сайт интернет магазина, чтобы повысить конверсию и средний чек заказа   \n",
       "1                                     Запустить собственную службу доставки, что сократит срок доставки заказов   \n",
       "5                      Добавить страницу отзывов клиентов о магазине, что позволит увеличить количество заказов   \n",
       "3           Изменить структура категорий, что увеличит конверсию, т.к. пользователи быстрее найдут нужный товар   \n",
       "4                              Изменить цвет фона главной страницы, чтобы увеличить вовлеченность пользователей   \n",
       "\n",
       "     ice  \n",
       "8  16.20  \n",
       "0  13.33  \n",
       "7  11.20  \n",
       "6   8.00  \n",
       "2   7.00  \n",
       "1   2.00  \n",
       "5   1.33  \n",
       "3   1.12  \n",
       "4   1.00  "
      ]
     },
     "metadata": {},
     "output_type": "display_data"
    }
   ],
   "source": [
    "#значимость гипотез по ICE от наиболее значимой к менее\n",
    "hypothesis_ice = hypothesis[['hypothesis', 'ice']].sort_values(by = 'ice', ascending=False) \n",
    "display(hypothesis_ice) "
   ]
  },
  {
   "cell_type": "code",
   "execution_count": 7,
   "metadata": {
    "scrolled": true
   },
   "outputs": [
    {
     "data": {
      "text/html": [
       "<div>\n",
       "<style scoped>\n",
       "    .dataframe tbody tr th:only-of-type {\n",
       "        vertical-align: middle;\n",
       "    }\n",
       "\n",
       "    .dataframe tbody tr th {\n",
       "        vertical-align: top;\n",
       "    }\n",
       "\n",
       "    .dataframe thead th {\n",
       "        text-align: right;\n",
       "    }\n",
       "</style>\n",
       "<table border=\"1\" class=\"dataframe\">\n",
       "  <thead>\n",
       "    <tr style=\"text-align: right;\">\n",
       "      <th></th>\n",
       "      <th>hypothesis</th>\n",
       "      <th>rice</th>\n",
       "    </tr>\n",
       "  </thead>\n",
       "  <tbody>\n",
       "    <tr>\n",
       "      <th>7</th>\n",
       "      <td>Добавить форму подписки на все основные страницы, чтобы собрать базу клиентов для email-рассылок</td>\n",
       "      <td>112.0</td>\n",
       "    </tr>\n",
       "    <tr>\n",
       "      <th>2</th>\n",
       "      <td>Добавить блоки рекомендаций товаров на сайт интернет магазина, чтобы повысить конверсию и средний чек заказа</td>\n",
       "      <td>56.0</td>\n",
       "    </tr>\n",
       "    <tr>\n",
       "      <th>0</th>\n",
       "      <td>Добавить два новых канала привлечения трафика, что позволит привлекать на 30% больше пользователей</td>\n",
       "      <td>40.0</td>\n",
       "    </tr>\n",
       "    <tr>\n",
       "      <th>6</th>\n",
       "      <td>Показать на главной странице баннеры с актуальными акциями и распродажами, чтобы увеличить конверсию</td>\n",
       "      <td>40.0</td>\n",
       "    </tr>\n",
       "    <tr>\n",
       "      <th>8</th>\n",
       "      <td>Запустить акцию, дающую скидку на товар в день рождения</td>\n",
       "      <td>16.2</td>\n",
       "    </tr>\n",
       "    <tr>\n",
       "      <th>3</th>\n",
       "      <td>Изменить структура категорий, что увеличит конверсию, т.к. пользователи быстрее найдут нужный товар</td>\n",
       "      <td>9.0</td>\n",
       "    </tr>\n",
       "    <tr>\n",
       "      <th>1</th>\n",
       "      <td>Запустить собственную службу доставки, что сократит срок доставки заказов</td>\n",
       "      <td>4.0</td>\n",
       "    </tr>\n",
       "    <tr>\n",
       "      <th>5</th>\n",
       "      <td>Добавить страницу отзывов клиентов о магазине, что позволит увеличить количество заказов</td>\n",
       "      <td>4.0</td>\n",
       "    </tr>\n",
       "    <tr>\n",
       "      <th>4</th>\n",
       "      <td>Изменить цвет фона главной страницы, чтобы увеличить вовлеченность пользователей</td>\n",
       "      <td>3.0</td>\n",
       "    </tr>\n",
       "  </tbody>\n",
       "</table>\n",
       "</div>"
      ],
      "text/plain": [
       "                                                                                                     hypothesis  \\\n",
       "7              Добавить форму подписки на все основные страницы, чтобы собрать базу клиентов для email-рассылок   \n",
       "2  Добавить блоки рекомендаций товаров на сайт интернет магазина, чтобы повысить конверсию и средний чек заказа   \n",
       "0            Добавить два новых канала привлечения трафика, что позволит привлекать на 30% больше пользователей   \n",
       "6          Показать на главной странице баннеры с актуальными акциями и распродажами, чтобы увеличить конверсию   \n",
       "8                                                       Запустить акцию, дающую скидку на товар в день рождения   \n",
       "3           Изменить структура категорий, что увеличит конверсию, т.к. пользователи быстрее найдут нужный товар   \n",
       "1                                     Запустить собственную службу доставки, что сократит срок доставки заказов   \n",
       "5                      Добавить страницу отзывов клиентов о магазине, что позволит увеличить количество заказов   \n",
       "4                              Изменить цвет фона главной страницы, чтобы увеличить вовлеченность пользователей   \n",
       "\n",
       "    rice  \n",
       "7  112.0  \n",
       "2   56.0  \n",
       "0   40.0  \n",
       "6   40.0  \n",
       "8   16.2  \n",
       "3    9.0  \n",
       "1    4.0  \n",
       "5    4.0  \n",
       "4    3.0  "
      ]
     },
     "metadata": {},
     "output_type": "display_data"
    }
   ],
   "source": [
    "#значимость гипотез по RICE от наиболее значимой к менее\n",
    "hypothesis_rice = hypothesis[['hypothesis', 'rice']].sort_values(by = 'rice', ascending=False)\n",
    "display(hypothesis_rice)"
   ]
  },
  {
   "cell_type": "markdown",
   "metadata": {},
   "source": [
    "Теперь сравним изменение значимости гипотез от применения фреймворка"
   ]
  },
  {
   "cell_type": "code",
   "execution_count": 8,
   "metadata": {
    "scrolled": true
   },
   "outputs": [
    {
     "data": {
      "text/html": [
       "<div>\n",
       "<style scoped>\n",
       "    .dataframe tbody tr th:only-of-type {\n",
       "        vertical-align: middle;\n",
       "    }\n",
       "\n",
       "    .dataframe tbody tr th {\n",
       "        vertical-align: top;\n",
       "    }\n",
       "\n",
       "    .dataframe thead th {\n",
       "        text-align: right;\n",
       "    }\n",
       "</style>\n",
       "<table border=\"1\" class=\"dataframe\">\n",
       "  <thead>\n",
       "    <tr style=\"text-align: right;\">\n",
       "      <th></th>\n",
       "      <th>hypothesis</th>\n",
       "      <th>ice</th>\n",
       "      <th>rice</th>\n",
       "    </tr>\n",
       "  </thead>\n",
       "  <tbody>\n",
       "    <tr>\n",
       "      <th>0</th>\n",
       "      <td>Запустить акцию, дающую скидку на товар в день рождения</td>\n",
       "      <td>16.20</td>\n",
       "      <td>16.2</td>\n",
       "    </tr>\n",
       "    <tr>\n",
       "      <th>1</th>\n",
       "      <td>Добавить два новых канала привлечения трафика, что позволит привлекать на 30% больше пользователей</td>\n",
       "      <td>13.33</td>\n",
       "      <td>40.0</td>\n",
       "    </tr>\n",
       "    <tr>\n",
       "      <th>2</th>\n",
       "      <td>Добавить форму подписки на все основные страницы, чтобы собрать базу клиентов для email-рассылок</td>\n",
       "      <td>11.20</td>\n",
       "      <td>112.0</td>\n",
       "    </tr>\n",
       "    <tr>\n",
       "      <th>3</th>\n",
       "      <td>Показать на главной странице баннеры с актуальными акциями и распродажами, чтобы увеличить конверсию</td>\n",
       "      <td>8.00</td>\n",
       "      <td>40.0</td>\n",
       "    </tr>\n",
       "    <tr>\n",
       "      <th>4</th>\n",
       "      <td>Добавить блоки рекомендаций товаров на сайт интернет магазина, чтобы повысить конверсию и средний чек заказа</td>\n",
       "      <td>7.00</td>\n",
       "      <td>56.0</td>\n",
       "    </tr>\n",
       "    <tr>\n",
       "      <th>5</th>\n",
       "      <td>Запустить собственную службу доставки, что сократит срок доставки заказов</td>\n",
       "      <td>2.00</td>\n",
       "      <td>4.0</td>\n",
       "    </tr>\n",
       "    <tr>\n",
       "      <th>6</th>\n",
       "      <td>Добавить страницу отзывов клиентов о магазине, что позволит увеличить количество заказов</td>\n",
       "      <td>1.33</td>\n",
       "      <td>4.0</td>\n",
       "    </tr>\n",
       "    <tr>\n",
       "      <th>7</th>\n",
       "      <td>Изменить структура категорий, что увеличит конверсию, т.к. пользователи быстрее найдут нужный товар</td>\n",
       "      <td>1.12</td>\n",
       "      <td>9.0</td>\n",
       "    </tr>\n",
       "    <tr>\n",
       "      <th>8</th>\n",
       "      <td>Изменить цвет фона главной страницы, чтобы увеличить вовлеченность пользователей</td>\n",
       "      <td>1.00</td>\n",
       "      <td>3.0</td>\n",
       "    </tr>\n",
       "  </tbody>\n",
       "</table>\n",
       "</div>"
      ],
      "text/plain": [
       "                                                                                                     hypothesis  \\\n",
       "0                                                       Запустить акцию, дающую скидку на товар в день рождения   \n",
       "1            Добавить два новых канала привлечения трафика, что позволит привлекать на 30% больше пользователей   \n",
       "2              Добавить форму подписки на все основные страницы, чтобы собрать базу клиентов для email-рассылок   \n",
       "3          Показать на главной странице баннеры с актуальными акциями и распродажами, чтобы увеличить конверсию   \n",
       "4  Добавить блоки рекомендаций товаров на сайт интернет магазина, чтобы повысить конверсию и средний чек заказа   \n",
       "5                                     Запустить собственную службу доставки, что сократит срок доставки заказов   \n",
       "6                      Добавить страницу отзывов клиентов о магазине, что позволит увеличить количество заказов   \n",
       "7           Изменить структура категорий, что увеличит конверсию, т.к. пользователи быстрее найдут нужный товар   \n",
       "8                              Изменить цвет фона главной страницы, чтобы увеличить вовлеченность пользователей   \n",
       "\n",
       "     ice   rice  \n",
       "0  16.20   16.2  \n",
       "1  13.33   40.0  \n",
       "2  11.20  112.0  \n",
       "3   8.00   40.0  \n",
       "4   7.00   56.0  \n",
       "5   2.00    4.0  \n",
       "6   1.33    4.0  \n",
       "7   1.12    9.0  \n",
       "8   1.00    3.0  "
      ]
     },
     "metadata": {},
     "output_type": "display_data"
    }
   ],
   "source": [
    "hypothesis_all = hypothesis_ice.merge(hypothesis_rice, on='hypothesis')\n",
    "display(hypothesis_all)"
   ]
  },
  {
   "cell_type": "markdown",
   "metadata": {},
   "source": [
    "Визуализируем:"
   ]
  },
  {
   "cell_type": "code",
   "execution_count": 9,
   "metadata": {},
   "outputs": [
    {
     "data": {
      "image/png": "[encoded data removed]",
      "text/plain": [
       "<Figure size 432x288 with 1 Axes>"
      ]
     },
     "metadata": {
      "needs_background": "light"
     },
     "output_type": "display_data"
    }
   ],
   "source": [
    "hypothesis.set_index('hypothesis')[['ice','rice']].plot(kind='barh');"
   ]
  },
  {
   "cell_type": "markdown",
   "metadata": {},
   "source": [
    "Можно отметить, что использование параметра `reach` (охват пользователей), кардинально поменяло приоритетность гипотез.  Например, гипотеза №8 в `ICE` была самой приоритетной, а в `RICE` спустилась на пятое место (но при этом, разница в значениях практически не поменялась). Лишь гипотезы №6 и №4, не поменяли своих мест. "
   ]
  },
  {
   "cell_type": "markdown",
   "metadata": {},
   "source": [
    "## Анализ A/B-теста"
   ]
  },
  {
   "cell_type": "markdown",
   "metadata": {},
   "source": [
    "### Предобработка данных"
   ]
  },
  {
   "cell_type": "markdown",
   "metadata": {},
   "source": [
    "Создадим функцию для быстро анализа датасетов."
   ]
  },
  {
   "cell_type": "code",
   "execution_count": 10,
   "metadata": {},
   "outputs": [],
   "source": [
    "#функцие будем передавать датасет, в цикле будем перебирать столбцы\n",
    "def dataset_info(dataset):\n",
    "    count = 0\n",
    "    dataset.columns = dataset.columns.str.lower().str.replace(' ','_') #тут приведем название столбцов к snake_case\n",
    "    for column in dataset.columns:\n",
    "        count += 1\n",
    "        print('Название столбца:     ',column)                          #покажет как называется столбец\n",
    "        print('Длина столбца:        ',len(dataset[column]))            #отобразит длину столбца\n",
    "        print('Количество пропусков: ',dataset[column].isna().sum())    #отобразит количество пропусков\n",
    "        print('Тип данных в столбце: ',dataset[column].dtype)           #покажет тип данных в столбце\n",
    "        print('Пример значений:      ')                                 \n",
    "        print(dataset[column].unique())                                 #отобразит уникальные значения\n",
    "        print('----------------')\n",
    "    print('Всего столбцов в датасете:', count)                          #подсчитаем количество столбцов в датасете\n",
    "    print('Количество дубликатов: ',dataset.duplicated().sum())         #подсчитает количество строк-дубликатов"
   ]
  },
  {
   "cell_type": "markdown",
   "metadata": {},
   "source": [
    "Выведем на экраны датасеты `orders` и `visitors`, запросим данные о значениях."
   ]
  },
  {
   "cell_type": "code",
   "execution_count": 11,
   "metadata": {},
   "outputs": [
    {
     "data": {
      "text/html": [
       "<div>\n",
       "<style scoped>\n",
       "    .dataframe tbody tr th:only-of-type {\n",
       "        vertical-align: middle;\n",
       "    }\n",
       "\n",
       "    .dataframe tbody tr th {\n",
       "        vertical-align: top;\n",
       "    }\n",
       "\n",
       "    .dataframe thead th {\n",
       "        text-align: right;\n",
       "    }\n",
       "</style>\n",
       "<table border=\"1\" class=\"dataframe\">\n",
       "  <thead>\n",
       "    <tr style=\"text-align: right;\">\n",
       "      <th></th>\n",
       "      <th>transactionId</th>\n",
       "      <th>visitorId</th>\n",
       "      <th>date</th>\n",
       "      <th>revenue</th>\n",
       "      <th>group</th>\n",
       "    </tr>\n",
       "  </thead>\n",
       "  <tbody>\n",
       "    <tr>\n",
       "      <th>0</th>\n",
       "      <td>3667963787</td>\n",
       "      <td>3312258926</td>\n",
       "      <td>2019-08-15</td>\n",
       "      <td>1650</td>\n",
       "      <td>B</td>\n",
       "    </tr>\n",
       "    <tr>\n",
       "      <th>1</th>\n",
       "      <td>2804400009</td>\n",
       "      <td>3642806036</td>\n",
       "      <td>2019-08-15</td>\n",
       "      <td>730</td>\n",
       "      <td>B</td>\n",
       "    </tr>\n",
       "    <tr>\n",
       "      <th>2</th>\n",
       "      <td>2961555356</td>\n",
       "      <td>4069496402</td>\n",
       "      <td>2019-08-15</td>\n",
       "      <td>400</td>\n",
       "      <td>A</td>\n",
       "    </tr>\n",
       "    <tr>\n",
       "      <th>3</th>\n",
       "      <td>3797467345</td>\n",
       "      <td>1196621759</td>\n",
       "      <td>2019-08-15</td>\n",
       "      <td>9759</td>\n",
       "      <td>B</td>\n",
       "    </tr>\n",
       "    <tr>\n",
       "      <th>4</th>\n",
       "      <td>2282983706</td>\n",
       "      <td>2322279887</td>\n",
       "      <td>2019-08-15</td>\n",
       "      <td>2308</td>\n",
       "      <td>B</td>\n",
       "    </tr>\n",
       "    <tr>\n",
       "      <th>5</th>\n",
       "      <td>182168103</td>\n",
       "      <td>935554773</td>\n",
       "      <td>2019-08-15</td>\n",
       "      <td>2210</td>\n",
       "      <td>B</td>\n",
       "    </tr>\n",
       "    <tr>\n",
       "      <th>6</th>\n",
       "      <td>398296753</td>\n",
       "      <td>2900797465</td>\n",
       "      <td>2019-08-15</td>\n",
       "      <td>1860</td>\n",
       "      <td>B</td>\n",
       "    </tr>\n",
       "    <tr>\n",
       "      <th>7</th>\n",
       "      <td>2626614568</td>\n",
       "      <td>78758296</td>\n",
       "      <td>2019-08-15</td>\n",
       "      <td>1044</td>\n",
       "      <td>A</td>\n",
       "    </tr>\n",
       "    <tr>\n",
       "      <th>8</th>\n",
       "      <td>1576988021</td>\n",
       "      <td>295230930</td>\n",
       "      <td>2019-08-15</td>\n",
       "      <td>13710</td>\n",
       "      <td>A</td>\n",
       "    </tr>\n",
       "    <tr>\n",
       "      <th>9</th>\n",
       "      <td>1506739906</td>\n",
       "      <td>1882260405</td>\n",
       "      <td>2019-08-15</td>\n",
       "      <td>1855</td>\n",
       "      <td>B</td>\n",
       "    </tr>\n",
       "  </tbody>\n",
       "</table>\n",
       "</div>"
      ],
      "text/plain": [
       "   transactionId   visitorId        date  revenue group\n",
       "0     3667963787  3312258926  2019-08-15     1650     B\n",
       "1     2804400009  3642806036  2019-08-15      730     B\n",
       "2     2961555356  4069496402  2019-08-15      400     A\n",
       "3     3797467345  1196621759  2019-08-15     9759     B\n",
       "4     2282983706  2322279887  2019-08-15     2308     B\n",
       "5      182168103   935554773  2019-08-15     2210     B\n",
       "6      398296753  2900797465  2019-08-15     1860     B\n",
       "7     2626614568    78758296  2019-08-15     1044     A\n",
       "8     1576988021   295230930  2019-08-15    13710     A\n",
       "9     1506739906  1882260405  2019-08-15     1855     B"
      ]
     },
     "execution_count": 11,
     "metadata": {},
     "output_type": "execute_result"
    }
   ],
   "source": [
    "orders.head(10) #покажем 10 строк датасета"
   ]
  },
  {
   "cell_type": "code",
   "execution_count": 12,
   "metadata": {
    "scrolled": false
   },
   "outputs": [
    {
     "name": "stdout",
     "output_type": "stream",
     "text": [
      "Название столбца:      transactionid\n",
      "Длина столбца:         1197\n",
      "Количество пропусков:  0\n",
      "Тип данных в столбце:  int64\n",
      "Пример значений:      \n",
      "[3667963787 2804400009 2961555356 ... 1807773912 1947021204 3936777065]\n",
      "----------------\n",
      "Название столбца:      visitorid\n",
      "Длина столбца:         1197\n",
      "Количество пропусков:  0\n",
      "Тип данных в столбце:  int64\n",
      "Пример значений:      \n",
      "[3312258926 3642806036 4069496402 ...  370388673  573423106 2108080724]\n",
      "----------------\n",
      "Название столбца:      date\n",
      "Длина столбца:         1197\n",
      "Количество пропусков:  0\n",
      "Тип данных в столбце:  object\n",
      "Пример значений:      \n",
      "['2019-08-15' '2019-08-16' '2019-08-01' '2019-08-22' '2019-08-17'\n",
      " '2019-08-23' '2019-08-02' '2019-08-18' '2019-08-24' '2019-08-03'\n",
      " '2019-08-25' '2019-08-28' '2019-08-19' '2019-08-06' '2019-08-26'\n",
      " '2019-08-29' '2019-08-04' '2019-08-20' '2019-08-09' '2019-08-07'\n",
      " '2019-08-30' '2019-08-05' '2019-08-27' '2019-08-21' '2019-08-08'\n",
      " '2019-08-10' '2019-08-31' '2019-08-11' '2019-08-12' '2019-08-13'\n",
      " '2019-08-14']\n",
      "----------------\n",
      "Название столбца:      revenue\n",
      "Длина столбца:         1197\n",
      "Количество пропусков:  0\n",
      "Тип данных в столбце:  int64\n",
      "Пример значений:      \n",
      "[   1650     730     400    9759    2308    2210    1860    1044   13710\n",
      "    1855    4008    4499    7370   11985   10980   15277    1060     990\n",
      "   16490    1190     300    1050     632   15185    7555    3488    7620\n",
      "    5280     700     190     383    1680   22785    2355    2470    6250\n",
      "   19260     610    2986    1090    9290    2480    3000    2140    3590\n",
      "    6990    1250    2970   18100     100    2750     570    2978    1440\n",
      "    7860   56650     790    1350    2540    1710    2350   14610    8999\n",
      "   10510   29499     780     890    4400   32350   40740    2490    2080\n",
      "    5400    5100    4020     690   12350    1290     382    2110    1490\n",
      "   17868    1940   26550    5970     987    9024    5555    7129    3240\n",
      "    2995    2550   17600     850    5365    8390    5870    5020   14489\n",
      "    8470    1630    5800     172    6230     760    3390    4480    1139\n",
      "   12336    1450    7990    5099    9400    6441    3070    6145   53904\n",
      "    6922    5190    6976    7690     426   28490     390     299    6329\n",
      "    8800    2990    9448    2920    9980    1790    4970    3760    8090\n",
      "   11990   18900    6420    1990     650     436    1038    1780    3564\n",
      "    3340    5480   38160    2800    3040     995    3210     310    2090\n",
      "    3468     778    5740    4580    1840    1550   17990     290    6940\n",
      "    1690    5369   11115     165    2646    2220    2190    2845    1799\n",
      "    1498    9850    6700     500    2640    4717   30649    5640    2820\n",
      "   17422   14155    4185   10960    1140    1310    1380   10791    9310\n",
      "    3470    2955   15850   27550   15485    6201    2320     599     660\n",
      "    6149    2938   10590     110   12810    9880     920   15417     950\n",
      "    2339    3190    2360   16950   34340    1620   14271    1920     380\n",
      "    8240     282   10970     170    1922   14400   19538   10450    2290\n",
      "    1830   33970    1100    4877   12680     860    3354    1000    6890\n",
      "    4299   12562     420   23750    6350     490   22040    2950    2342\n",
      "    5622    7485    1200    2057      76    1900    2690   20219    4195\n",
      "     830    2330    2526    1435    1460     250    6194    3460    5070\n",
      "    8850    1410    1758    1220    8000   15072   41450    1530    1390\n",
      "    4370    6000    2580    5160    6536    5000   14970    9080     910\n",
      "   16770    2500    1590    3990   20026   12470    4980   16680   16480\n",
      "    4780    3450    5415   16279    2385     120    1398   20990    5539\n",
      "     270   21220    1253   12550     880    9990    3890   19240    3080\n",
      "     460      70     870   26980   13990   24744    4500    8870     600\n",
      "     440     750    1950   37550   31680    9490   11249     470 1294500\n",
      "    2630    4930    3150   17650    5450    5770    1575   20450   11050\n",
      "    2000    2255    1999    7300   18464    6677    2890    6248    5270\n",
      "    4485    7349    3030      50    9232    9934    2840    8990    8780\n",
      "    4410     350   19280   13769    6681    6260    1130   11135   20100\n",
      "    2722    8885    8585    1980   10195   30990    2359     320    2590\n",
      "    8250     580    5350    3140    1910   17379    4840    6930    5690\n",
      "    6090     740   10440    4880    6590   21550   33405    3525   43990\n",
      "   13390     697    4495    8401    6382    2285   10485    6288   11711\n",
      "    3950   25080    1580   35485    9750   27490    1510    1850    4990\n",
      "    3650   33050    5530   27600    1893   31350     360    5249    6716\n",
      "    3559    5790     604    3550     240    2235   10550    4690   12888\n",
      "    7995    3220     495     265    4790     480    1721    2830     340\n",
      "    1870    2670    2420    3261    1634   39800   12990   25890   18990\n",
      "    3826   18010   10250   17030    5119    9870   13860    8877    4620\n",
      "   43690    1846      90    4190   34550   10765    7024    4698    2030\n",
      "   78990   10850     550   16990     620     654    6613   10160    6400\n",
      "    6440   27390    2050     540   42740    9680    5150     410    3680\n",
      "    5227     590    5776    2390   14495    2070    2555   19520   11688\n",
      "    4180    1399   45880    3050     295   17792   24381    1805   28350\n",
      "    6170    3270    2960    1020   10137   14490   67990   86620    4900\n",
      "   49495    3170   37150   19660   45780   24860    1737    1040    9690\n",
      "    1149    5490    1640     840   12490    4740    3480     785    7890\n",
      "    2600    3739     900    3888    1993   13770   20290    2578    5330\n",
      "    5719    2436    5030    4210    2400    8099    1540    6242   18560\n",
      "     150    4600   13740    2790   19990     980    1120   15416    3410\n",
      "    5840    4170   10170     985   22950    1180    1188    2674    4710\n",
      "   18270     770   93940    7110   12642    4920    3290   35890    4363\n",
      "    6445   58220    3740    3500    1600    1420    1729    3250     450\n",
      "   11440    4188     530   13354   17300    2180     160    1960     359\n",
      "     510   19386      75    1885    4040   25790   13203    2250   34990\n",
      "    3430   19490     720      60    7390    3910   58550     800    7240\n",
      "   18350   18463    3330    6660    4283   60450   24350    9050    5170\n",
      "   28750   11250    1730    5900    2348    3600    1320    3806    2907\n",
      "     971   14990     640    8290    5430     820    4685    2610   14250\n",
      "     130   52900    3490    4390    9800   13070   15500    6674    3404\n",
      "   18557    8439    8340   27985    6645    8640    6060    1720   15450\n",
      "    1800    8950    8280    1825    5688    4240    2061   12150    1280\n",
      "    8777    9300    8590    6015    1170    4650   39500    6585    5050\n",
      "   14000   32610   16920   65710     725    6438   66350    3320   11490\n",
      "    7500    7550   11565    2752   28060    1707    6780    5390    3260\n",
      "   17940   24990    3980    8529    5440    2510   18893   92550   52480\n",
      "    4140    3520    3180    4120     370    6385    9368    3780    1329\n",
      "    3020    6180   25250    4940   10380   15380     112   31550    8600\n",
      "    6490  202740]\n",
      "----------------\n",
      "Название столбца:      group\n",
      "Длина столбца:         1197\n",
      "Количество пропусков:  0\n",
      "Тип данных в столбце:  object\n",
      "Пример значений:      \n",
      "['B' 'A']\n",
      "----------------\n",
      "Всего столбцов в датасете: 5\n",
      "Количество дубликатов:  0\n"
     ]
    }
   ],
   "source": [
    "dataset_info(orders) #применим функцию, для анализа данных"
   ]
  },
  {
   "cell_type": "markdown",
   "metadata": {},
   "source": [
    "В датасете `orders`: \n",
    "\n",
    "1197 строк, 5 колонок, пропусков нет, дубликатов строк нет, лишь в столбце `date` приведем к типу данных *datetime*."
   ]
  },
  {
   "cell_type": "code",
   "execution_count": 13,
   "metadata": {
    "scrolled": true
   },
   "outputs": [
    {
     "data": {
      "text/html": [
       "<div>\n",
       "<style scoped>\n",
       "    .dataframe tbody tr th:only-of-type {\n",
       "        vertical-align: middle;\n",
       "    }\n",
       "\n",
       "    .dataframe tbody tr th {\n",
       "        vertical-align: top;\n",
       "    }\n",
       "\n",
       "    .dataframe thead th {\n",
       "        text-align: right;\n",
       "    }\n",
       "</style>\n",
       "<table border=\"1\" class=\"dataframe\">\n",
       "  <thead>\n",
       "    <tr style=\"text-align: right;\">\n",
       "      <th></th>\n",
       "      <th>date</th>\n",
       "      <th>group</th>\n",
       "      <th>visitors</th>\n",
       "    </tr>\n",
       "  </thead>\n",
       "  <tbody>\n",
       "    <tr>\n",
       "      <th>0</th>\n",
       "      <td>2019-08-01</td>\n",
       "      <td>A</td>\n",
       "      <td>719</td>\n",
       "    </tr>\n",
       "    <tr>\n",
       "      <th>1</th>\n",
       "      <td>2019-08-02</td>\n",
       "      <td>A</td>\n",
       "      <td>619</td>\n",
       "    </tr>\n",
       "    <tr>\n",
       "      <th>2</th>\n",
       "      <td>2019-08-03</td>\n",
       "      <td>A</td>\n",
       "      <td>507</td>\n",
       "    </tr>\n",
       "    <tr>\n",
       "      <th>3</th>\n",
       "      <td>2019-08-04</td>\n",
       "      <td>A</td>\n",
       "      <td>717</td>\n",
       "    </tr>\n",
       "    <tr>\n",
       "      <th>4</th>\n",
       "      <td>2019-08-05</td>\n",
       "      <td>A</td>\n",
       "      <td>756</td>\n",
       "    </tr>\n",
       "    <tr>\n",
       "      <th>5</th>\n",
       "      <td>2019-08-06</td>\n",
       "      <td>A</td>\n",
       "      <td>667</td>\n",
       "    </tr>\n",
       "    <tr>\n",
       "      <th>6</th>\n",
       "      <td>2019-08-07</td>\n",
       "      <td>A</td>\n",
       "      <td>644</td>\n",
       "    </tr>\n",
       "    <tr>\n",
       "      <th>7</th>\n",
       "      <td>2019-08-08</td>\n",
       "      <td>A</td>\n",
       "      <td>610</td>\n",
       "    </tr>\n",
       "    <tr>\n",
       "      <th>8</th>\n",
       "      <td>2019-08-09</td>\n",
       "      <td>A</td>\n",
       "      <td>617</td>\n",
       "    </tr>\n",
       "    <tr>\n",
       "      <th>9</th>\n",
       "      <td>2019-08-10</td>\n",
       "      <td>A</td>\n",
       "      <td>406</td>\n",
       "    </tr>\n",
       "  </tbody>\n",
       "</table>\n",
       "</div>"
      ],
      "text/plain": [
       "         date group  visitors\n",
       "0  2019-08-01     A       719\n",
       "1  2019-08-02     A       619\n",
       "2  2019-08-03     A       507\n",
       "3  2019-08-04     A       717\n",
       "4  2019-08-05     A       756\n",
       "5  2019-08-06     A       667\n",
       "6  2019-08-07     A       644\n",
       "7  2019-08-08     A       610\n",
       "8  2019-08-09     A       617\n",
       "9  2019-08-10     A       406"
      ]
     },
     "execution_count": 13,
     "metadata": {},
     "output_type": "execute_result"
    }
   ],
   "source": [
    "visitors.head(10) #покажем 10 строк датасета"
   ]
  },
  {
   "cell_type": "code",
   "execution_count": 14,
   "metadata": {},
   "outputs": [
    {
     "name": "stdout",
     "output_type": "stream",
     "text": [
      "Название столбца:      date\n",
      "Длина столбца:         62\n",
      "Количество пропусков:  0\n",
      "Тип данных в столбце:  object\n",
      "Пример значений:      \n",
      "['2019-08-01' '2019-08-02' '2019-08-03' '2019-08-04' '2019-08-05'\n",
      " '2019-08-06' '2019-08-07' '2019-08-08' '2019-08-09' '2019-08-10'\n",
      " '2019-08-11' '2019-08-12' '2019-08-13' '2019-08-14' '2019-08-15'\n",
      " '2019-08-16' '2019-08-17' '2019-08-18' '2019-08-19' '2019-08-20'\n",
      " '2019-08-21' '2019-08-22' '2019-08-23' '2019-08-24' '2019-08-25'\n",
      " '2019-08-26' '2019-08-27' '2019-08-28' '2019-08-29' '2019-08-30'\n",
      " '2019-08-31']\n",
      "----------------\n",
      "Название столбца:      group\n",
      "Длина столбца:         62\n",
      "Количество пропусков:  0\n",
      "Тип данных в столбце:  object\n",
      "Пример значений:      \n",
      "['A' 'B']\n",
      "----------------\n",
      "Название столбца:      visitors\n",
      "Длина столбца:         62\n",
      "Количество пропусков:  0\n",
      "Тип данных в столбце:  int64\n",
      "Пример значений:      \n",
      "[719 619 507 717 756 667 644 610 617 406 718 595 748 735 628 361 412 668\n",
      " 502 575 646 609 468 395 621 722 711 594 577 490 699 713 581 509 770 707\n",
      " 655 709 654 369 721 543 769 746 544 413 421 737 487 560 656 650 546 378\n",
      " 679 676 720 531]\n",
      "----------------\n",
      "Всего столбцов в датасете: 3\n",
      "Количество дубликатов:  0\n"
     ]
    }
   ],
   "source": [
    "dataset_info(visitors) #применим функцию, для анализа данных"
   ]
  },
  {
   "cell_type": "markdown",
   "metadata": {},
   "source": [
    "В датасете `visitors`: \n",
    "\n",
    "62 строки, 3 колонки, пропусков нет, дубликатов строк нет, лишь в столбце `date` приведем к типу данных *datetime*."
   ]
  },
  {
   "cell_type": "code",
   "execution_count": 15,
   "metadata": {},
   "outputs": [],
   "source": [
    "#приведем данные в столбцах к типу datetime\n",
    "orders['date'] = orders['date'].map(lambda x: dt.datetime.strptime(x, '%Y-%m-%d'))\n",
    "visitors['date'] = visitors['date'].map(lambda x: dt.datetime.strptime(x, '%Y-%m-%d'))"
   ]
  },
  {
   "cell_type": "markdown",
   "metadata": {},
   "source": [
    "Теперь посмотрим, не могут ли одни и теже пользователи быть в группе `А` и в группе `В` в датасете `orders`, выведем количество таких пользователей на экран."
   ]
  },
  {
   "cell_type": "code",
   "execution_count": 16,
   "metadata": {
    "scrolled": true
   },
   "outputs": [
    {
     "name": "stdout",
     "output_type": "stream",
     "text": [
      "<class 'pandas.core.frame.DataFrame'>\n",
      "RangeIndex: 58 entries, 0 to 57\n",
      "Data columns (total 2 columns):\n",
      " #   Column     Non-Null Count  Dtype\n",
      "---  ------     --------------  -----\n",
      " 0   visitorid  58 non-null     int64\n",
      " 1   group      58 non-null     int64\n",
      "dtypes: int64(2)\n",
      "memory usage: 1.0 KB\n"
     ]
    }
   ],
   "source": [
    "double_users = orders.groupby('visitorid').agg({'group':'nunique'}).query('group > 1').reset_index()\n",
    "#orderss = orders[orders[\"visitorid\"].isin(abnormal_users[\"visitorid\"]) == False]\n",
    "double_users.info()"
   ]
  },
  {
   "cell_type": "markdown",
   "metadata": {},
   "source": [
    "Таких пользователей у нас 58, что составляет 4,84% от общего числа."
   ]
  },
  {
   "cell_type": "markdown",
   "metadata": {},
   "source": [
    "### Кумулятивная выручка по группам"
   ]
  },
  {
   "cell_type": "markdown",
   "metadata": {},
   "source": [
    "Создадим массив уникальных пар значений дат и групп теста методом `drop_duplicates()`:"
   ]
  },
  {
   "cell_type": "code",
   "execution_count": 17,
   "metadata": {},
   "outputs": [],
   "source": [
    "dates_groups = orders[['date','group']].drop_duplicates() #создаем массив уникальных пар значений дат и групп теста"
   ]
  },
  {
   "cell_type": "code",
   "execution_count": 18,
   "metadata": {},
   "outputs": [
    {
     "data": {
      "text/html": [
       "<div>\n",
       "<style scoped>\n",
       "    .dataframe tbody tr th:only-of-type {\n",
       "        vertical-align: middle;\n",
       "    }\n",
       "\n",
       "    .dataframe tbody tr th {\n",
       "        vertical-align: top;\n",
       "    }\n",
       "\n",
       "    .dataframe thead th {\n",
       "        text-align: right;\n",
       "    }\n",
       "</style>\n",
       "<table border=\"1\" class=\"dataframe\">\n",
       "  <thead>\n",
       "    <tr style=\"text-align: right;\">\n",
       "      <th></th>\n",
       "      <th>date</th>\n",
       "      <th>group</th>\n",
       "    </tr>\n",
       "  </thead>\n",
       "  <tbody>\n",
       "    <tr>\n",
       "      <th>0</th>\n",
       "      <td>2019-08-15</td>\n",
       "      <td>B</td>\n",
       "    </tr>\n",
       "    <tr>\n",
       "      <th>2</th>\n",
       "      <td>2019-08-15</td>\n",
       "      <td>A</td>\n",
       "    </tr>\n",
       "    <tr>\n",
       "      <th>45</th>\n",
       "      <td>2019-08-16</td>\n",
       "      <td>A</td>\n",
       "    </tr>\n",
       "    <tr>\n",
       "      <th>47</th>\n",
       "      <td>2019-08-16</td>\n",
       "      <td>B</td>\n",
       "    </tr>\n",
       "    <tr>\n",
       "      <th>55</th>\n",
       "      <td>2019-08-01</td>\n",
       "      <td>A</td>\n",
       "    </tr>\n",
       "  </tbody>\n",
       "</table>\n",
       "</div>"
      ],
      "text/plain": [
       "         date group\n",
       "0  2019-08-15     B\n",
       "2  2019-08-15     A\n",
       "45 2019-08-16     A\n",
       "47 2019-08-16     B\n",
       "55 2019-08-01     A"
      ]
     },
     "execution_count": 18,
     "metadata": {},
     "output_type": "execute_result"
    }
   ],
   "source": [
    "dates_groups.head(5) #выведем 5 строк такого массива"
   ]
  },
  {
   "cell_type": "markdown",
   "metadata": {},
   "source": [
    "Соберем агрегированные кумулятивные по дням данные о заказах.\n",
    "Получим строки таблицы `orders`, дата которых меньше или равна дате элемента из `datesGroups`, а группа теста равна группе из `datesGroups`:\n",
    "\n",
    "* агрегируем значения;\n",
    "* вычисляем максимальную дату, максимум группы;\n",
    "* найдем число уникальных ID заказов и пользователей;\n",
    "* подсчитаем сумму средних чеков;\n",
    "\n",
    "применим методы к каждой строке датафрейма: `apply(axis=1)`, отсортируем результаты по столбцам `'date'` и `'group'`."
   ]
  },
  {
   "cell_type": "code",
   "execution_count": 19,
   "metadata": {},
   "outputs": [],
   "source": [
    "#получаем агрегированные кумулятивные по дням данные о заказах \n",
    "orders_aggregated = dates_groups.apply(lambda x: orders[np.logical_and(orders['date'] <= x['date'],\n",
    "                                                                       orders['group'] == x['group'])]\n",
    "                                     .agg({'date' : 'max', 'group' : 'max', \n",
    "                                           'transactionid' : 'nunique', 'visitorid' : 'nunique', \n",
    "                                           'revenue' : 'sum'}), axis=1).sort_values(by=['date','group'])"
   ]
  },
  {
   "cell_type": "code",
   "execution_count": 20,
   "metadata": {},
   "outputs": [
    {
     "data": {
      "text/html": [
       "<div>\n",
       "<style scoped>\n",
       "    .dataframe tbody tr th:only-of-type {\n",
       "        vertical-align: middle;\n",
       "    }\n",
       "\n",
       "    .dataframe tbody tr th {\n",
       "        vertical-align: top;\n",
       "    }\n",
       "\n",
       "    .dataframe thead th {\n",
       "        text-align: right;\n",
       "    }\n",
       "</style>\n",
       "<table border=\"1\" class=\"dataframe\">\n",
       "  <thead>\n",
       "    <tr style=\"text-align: right;\">\n",
       "      <th></th>\n",
       "      <th>date</th>\n",
       "      <th>group</th>\n",
       "      <th>transactionid</th>\n",
       "      <th>visitorid</th>\n",
       "      <th>revenue</th>\n",
       "    </tr>\n",
       "  </thead>\n",
       "  <tbody>\n",
       "    <tr>\n",
       "      <th>55</th>\n",
       "      <td>2019-08-01</td>\n",
       "      <td>A</td>\n",
       "      <td>24</td>\n",
       "      <td>20</td>\n",
       "      <td>148579</td>\n",
       "    </tr>\n",
       "    <tr>\n",
       "      <th>66</th>\n",
       "      <td>2019-08-01</td>\n",
       "      <td>B</td>\n",
       "      <td>21</td>\n",
       "      <td>20</td>\n",
       "      <td>101217</td>\n",
       "    </tr>\n",
       "    <tr>\n",
       "      <th>175</th>\n",
       "      <td>2019-08-02</td>\n",
       "      <td>A</td>\n",
       "      <td>44</td>\n",
       "      <td>38</td>\n",
       "      <td>242401</td>\n",
       "    </tr>\n",
       "    <tr>\n",
       "      <th>173</th>\n",
       "      <td>2019-08-02</td>\n",
       "      <td>B</td>\n",
       "      <td>45</td>\n",
       "      <td>43</td>\n",
       "      <td>266748</td>\n",
       "    </tr>\n",
       "    <tr>\n",
       "      <th>291</th>\n",
       "      <td>2019-08-03</td>\n",
       "      <td>A</td>\n",
       "      <td>68</td>\n",
       "      <td>62</td>\n",
       "      <td>354874</td>\n",
       "    </tr>\n",
       "  </tbody>\n",
       "</table>\n",
       "</div>"
      ],
      "text/plain": [
       "          date group  transactionid  visitorid  revenue\n",
       "55  2019-08-01     A             24         20   148579\n",
       "66  2019-08-01     B             21         20   101217\n",
       "175 2019-08-02     A             44         38   242401\n",
       "173 2019-08-02     B             45         43   266748\n",
       "291 2019-08-03     A             68         62   354874"
      ]
     },
     "execution_count": 20,
     "metadata": {},
     "output_type": "execute_result"
    }
   ],
   "source": [
    "orders_aggregated.head(5) #выведем 5строк такого массива "
   ]
  },
  {
   "cell_type": "code",
   "execution_count": 21,
   "metadata": {},
   "outputs": [],
   "source": [
    "# получаем агрегированные кумулятивные по дням данные о посетителях интернет-магазина \n",
    "visitors_aggregated = dates_groups.apply(lambda x: visitors[np.logical_and(visitors['date'] <= x['date'], \n",
    "                                                                           visitors['group'] == x['group'])]\n",
    "                                         .agg({'date' : 'max', 'group' : 'max', \n",
    "                                               'visitors' : 'sum'}), axis=1).sort_values(by=['date','group'])"
   ]
  },
  {
   "cell_type": "code",
   "execution_count": 22,
   "metadata": {},
   "outputs": [
    {
     "data": {
      "text/html": [
       "<div>\n",
       "<style scoped>\n",
       "    .dataframe tbody tr th:only-of-type {\n",
       "        vertical-align: middle;\n",
       "    }\n",
       "\n",
       "    .dataframe tbody tr th {\n",
       "        vertical-align: top;\n",
       "    }\n",
       "\n",
       "    .dataframe thead th {\n",
       "        text-align: right;\n",
       "    }\n",
       "</style>\n",
       "<table border=\"1\" class=\"dataframe\">\n",
       "  <thead>\n",
       "    <tr style=\"text-align: right;\">\n",
       "      <th></th>\n",
       "      <th>date</th>\n",
       "      <th>group</th>\n",
       "      <th>visitors</th>\n",
       "    </tr>\n",
       "  </thead>\n",
       "  <tbody>\n",
       "    <tr>\n",
       "      <th>55</th>\n",
       "      <td>2019-08-01</td>\n",
       "      <td>A</td>\n",
       "      <td>719</td>\n",
       "    </tr>\n",
       "    <tr>\n",
       "      <th>66</th>\n",
       "      <td>2019-08-01</td>\n",
       "      <td>B</td>\n",
       "      <td>713</td>\n",
       "    </tr>\n",
       "    <tr>\n",
       "      <th>175</th>\n",
       "      <td>2019-08-02</td>\n",
       "      <td>A</td>\n",
       "      <td>1338</td>\n",
       "    </tr>\n",
       "    <tr>\n",
       "      <th>173</th>\n",
       "      <td>2019-08-02</td>\n",
       "      <td>B</td>\n",
       "      <td>1294</td>\n",
       "    </tr>\n",
       "    <tr>\n",
       "      <th>291</th>\n",
       "      <td>2019-08-03</td>\n",
       "      <td>A</td>\n",
       "      <td>1845</td>\n",
       "    </tr>\n",
       "  </tbody>\n",
       "</table>\n",
       "</div>"
      ],
      "text/plain": [
       "          date group  visitors\n",
       "55  2019-08-01     A       719\n",
       "66  2019-08-01     B       713\n",
       "175 2019-08-02     A      1338\n",
       "173 2019-08-02     B      1294\n",
       "291 2019-08-03     A      1845"
      ]
     },
     "execution_count": 22,
     "metadata": {},
     "output_type": "execute_result"
    }
   ],
   "source": [
    "visitors_aggregated.head(5)"
   ]
  },
  {
   "cell_type": "code",
   "execution_count": 23,
   "metadata": {},
   "outputs": [
    {
     "data": {
      "text/html": [
       "<div>\n",
       "<style scoped>\n",
       "    .dataframe tbody tr th:only-of-type {\n",
       "        vertical-align: middle;\n",
       "    }\n",
       "\n",
       "    .dataframe tbody tr th {\n",
       "        vertical-align: top;\n",
       "    }\n",
       "\n",
       "    .dataframe thead th {\n",
       "        text-align: right;\n",
       "    }\n",
       "</style>\n",
       "<table border=\"1\" class=\"dataframe\">\n",
       "  <thead>\n",
       "    <tr style=\"text-align: right;\">\n",
       "      <th></th>\n",
       "      <th>date</th>\n",
       "      <th>group</th>\n",
       "      <th>orders</th>\n",
       "      <th>buyers</th>\n",
       "      <th>revenue</th>\n",
       "      <th>visitors</th>\n",
       "    </tr>\n",
       "  </thead>\n",
       "  <tbody>\n",
       "    <tr>\n",
       "      <th>0</th>\n",
       "      <td>2019-08-01</td>\n",
       "      <td>A</td>\n",
       "      <td>24</td>\n",
       "      <td>20</td>\n",
       "      <td>148579</td>\n",
       "      <td>719</td>\n",
       "    </tr>\n",
       "    <tr>\n",
       "      <th>1</th>\n",
       "      <td>2019-08-01</td>\n",
       "      <td>B</td>\n",
       "      <td>21</td>\n",
       "      <td>20</td>\n",
       "      <td>101217</td>\n",
       "      <td>713</td>\n",
       "    </tr>\n",
       "    <tr>\n",
       "      <th>2</th>\n",
       "      <td>2019-08-02</td>\n",
       "      <td>A</td>\n",
       "      <td>44</td>\n",
       "      <td>38</td>\n",
       "      <td>242401</td>\n",
       "      <td>1338</td>\n",
       "    </tr>\n",
       "    <tr>\n",
       "      <th>3</th>\n",
       "      <td>2019-08-02</td>\n",
       "      <td>B</td>\n",
       "      <td>45</td>\n",
       "      <td>43</td>\n",
       "      <td>266748</td>\n",
       "      <td>1294</td>\n",
       "    </tr>\n",
       "    <tr>\n",
       "      <th>4</th>\n",
       "      <td>2019-08-03</td>\n",
       "      <td>A</td>\n",
       "      <td>68</td>\n",
       "      <td>62</td>\n",
       "      <td>354874</td>\n",
       "      <td>1845</td>\n",
       "    </tr>\n",
       "  </tbody>\n",
       "</table>\n",
       "</div>"
      ],
      "text/plain": [
       "        date group  orders  buyers  revenue  visitors\n",
       "0 2019-08-01     A      24      20   148579       719\n",
       "1 2019-08-01     B      21      20   101217       713\n",
       "2 2019-08-02     A      44      38   242401      1338\n",
       "3 2019-08-02     B      45      43   266748      1294\n",
       "4 2019-08-03     A      68      62   354874      1845"
      ]
     },
     "metadata": {},
     "output_type": "display_data"
    }
   ],
   "source": [
    "#объединяем кумулятивные данные в одной таблице и присваиваем ее столбцам понятные названия\n",
    "cumulative_data = orders_aggregated.merge(visitors_aggregated, left_on=['date', 'group'], right_on=['date', 'group'])\n",
    "cumulative_data.columns = ['date', 'group', 'orders', 'buyers', 'revenue', 'visitors']\n",
    "display(cumulative_data.head(5))"
   ]
  },
  {
   "cell_type": "markdown",
   "metadata": {},
   "source": [
    "Теперь построим графики кумулятивной выручки по дням и группам A/B-тестирования, но сначала соберем два массива с выручкой для групп А и В."
   ]
  },
  {
   "cell_type": "code",
   "execution_count": 24,
   "metadata": {},
   "outputs": [],
   "source": [
    "#датафрейм с кумулятивным количеством заказов и кумулятивной выручкой по дням в группе А\n",
    "cumulativeRevenueA = cumulative_data[cumulative_data['group']=='A'][['date','revenue', 'orders']]\n",
    "\n",
    "#датафрейм с кумулятивным количеством заказов и кумулятивной выручкой по дням в группе B\n",
    "cumulativeRevenueB = cumulative_data[cumulative_data['group']=='B'][['date','revenue', 'orders']]"
   ]
  },
  {
   "cell_type": "code",
   "execution_count": 25,
   "metadata": {},
   "outputs": [
    {
     "data": {
      "image/png": "[encoded data removed]",
      "text/plain": [
       "<Figure size 720x360 with 1 Axes>"
      ]
     },
     "metadata": {
      "needs_background": "light"
     },
     "output_type": "display_data"
    }
   ],
   "source": [
    "plt.figure(figsize=(10,5))\n",
    "plt.title('Кумулятивная выручка по группам\\n')\n",
    "plt.xlabel('Дата')\n",
    "plt.ylabel('Выручка, млн')\n",
    "plt.xticks(rotation=45)\n",
    "plt.plot(cumulativeRevenueA['date'], cumulativeRevenueA['revenue'], label='A')\n",
    "plt.plot(cumulativeRevenueB['date'], cumulativeRevenueB['revenue'], label='B')\n",
    "plt.legend();"
   ]
  },
  {
   "cell_type": "markdown",
   "metadata": {},
   "source": [
    "Выручка почти равномерно увеличивается в течение всего теста у всех групп. Можно отметить, что выручка группы `В` больше чем группы `А` на всем временном промежутке. У группы `А` график линейный, без явных всплесков и провалов. После 17 августа, график выручки группы `B` резко возрастает. Это может сигнализировать о всплесках числа заказов, либо о появлении очень дорогих заказов в группе."
   ]
  },
  {
   "cell_type": "markdown",
   "metadata": {},
   "source": [
    "### Кумулятивный средний чек по группам"
   ]
  },
  {
   "cell_type": "markdown",
   "metadata": {},
   "source": [
    "Построим графики среднего чека по группам — разделим кумулятивную выручку на кумулятивное число заказов"
   ]
  },
  {
   "cell_type": "code",
   "execution_count": 26,
   "metadata": {
    "scrolled": false
   },
   "outputs": [
    {
     "data": {
      "image/png": "[encoded data removed]",
      "text/plain": [
       "<Figure size 720x360 with 1 Axes>"
      ]
     },
     "metadata": {
      "needs_background": "light"
     },
     "output_type": "display_data"
    }
   ],
   "source": [
    "plt.figure(figsize=(10,5))\n",
    "plt.title('Кумулятивная средний чек по группам\\n')\n",
    "plt.xlabel('Дата')\n",
    "plt.ylabel('Средний чек')\n",
    "plt.xticks(rotation=45)\n",
    "plt.plot(cumulativeRevenueA['date'], cumulativeRevenueA['revenue']/cumulativeRevenueA['orders'], label='A')\n",
    "plt.plot(cumulativeRevenueB['date'], cumulativeRevenueB['revenue']/cumulativeRevenueB['orders'], label='B')\n",
    "plt.legend();"
   ]
  },
  {
   "cell_type": "markdown",
   "metadata": {},
   "source": [
    "А вот графики средних чеков неравномерны. Так вначале средний чек группы `А` был выше чем у группы `В`.Затем идет спад (6 августа) и резкий подъем с пиком в точке \"13 августа\", затем небольшой спад и стаблизиция на одном уровне до окончания исследования. \n",
    "\n",
    "У группы `В` старт был на очень низком уровне (5000) резкий подъем - стабилизация (3-4 августа) и небольшой провал (5 августа). Затем снова плавный подъем вкупе с плавным падением и 18 августа феноменальное резкое увеличение (с 7000 до 10000), лишь потом несколько падает и стабилизируется до конца исследования. Такое поведение среднего чека говорит нам о росте числа заказов в этой группе или о росте стоимости заказнных товаров."
   ]
  },
  {
   "cell_type": "markdown",
   "metadata": {},
   "source": [
    "### Относительное изменение кумулятивного среднего чека группы B к группе A"
   ]
  },
  {
   "cell_type": "markdown",
   "metadata": {},
   "source": [
    "Построим график относительного различия для среднего чека."
   ]
  },
  {
   "cell_type": "code",
   "execution_count": 27,
   "metadata": {
    "scrolled": false
   },
   "outputs": [
    {
     "data": {
      "image/png": "[encoded data removed]",
      "text/plain": [
       "<Figure size 720x360 with 1 Axes>"
      ]
     },
     "metadata": {
      "needs_background": "light"
     },
     "output_type": "display_data"
    }
   ],
   "source": [
    "# собираем данные в одном датафрейме\n",
    "mergedCumulativeRevenue = cumulativeRevenueA.merge(cumulativeRevenueB, left_on='date', right_on='date', \n",
    "                                                   how='left', suffixes=['A', 'B'])\n",
    "\n",
    "plt.figure(figsize=(10,5))\n",
    "plt.title('Относительное изменение кумулятивного среднего чека группы B к группе A\\n')\n",
    "plt.xlabel('Дата')\n",
    "plt.ylabel('Отношение среднего чека группы B к группе A')\n",
    "plt.xticks(rotation=45)\n",
    "plt.plot(mergedCumulativeRevenue['date'], (mergedCumulativeRevenue['revenueB']/mergedCumulativeRevenue['ordersB'])/\n",
    "         (mergedCumulativeRevenue['revenueA']/mergedCumulativeRevenue['ordersA'])-1)\n",
    "\n",
    "#добавляем ось X\n",
    "plt.axhline(y=0, color='black', linestyle='--');"
   ]
  },
  {
   "cell_type": "markdown",
   "metadata": {},
   "source": [
    "График различия между группами абсолютно нелинеен на протяжении всего периода, наблюдаем резкие спады и резкие росты. В нескольких точках различия близки к 0. По графику можно понять, что присутствуют крупные заказы и выбросы"
   ]
  },
  {
   "cell_type": "markdown",
   "metadata": {},
   "source": [
    "### Кумулятивная конверсия по группам"
   ]
  },
  {
   "cell_type": "markdown",
   "metadata": {},
   "source": [
    "Аналогично проанализируем график кумулятивной конверсии. Зададим масштаб осей методом `plt.axis()`. Передадим ему минимальное и максимальное значения оси x и минимальное и максимальное значения оси y. Для начала посчитаем кумулятивную конверсию, затем поделим ее на группы."
   ]
  },
  {
   "cell_type": "code",
   "execution_count": 28,
   "metadata": {},
   "outputs": [],
   "source": [
    "#считаем кумулятивную конверсию\n",
    "cumulative_data['conversion'] = cumulative_data['orders']/cumulative_data['visitors']\n",
    "\n",
    "#отделяем данные по группе A\n",
    "cumulativeDataA = cumulative_data[cumulative_data['group']=='A']\n",
    "\n",
    "#отделяем данные по группе B\n",
    "cumulativeDataB = cumulative_data[cumulative_data['group']=='B']"
   ]
  },
  {
   "cell_type": "markdown",
   "metadata": {},
   "source": [
    "Определим масштабы для осей"
   ]
  },
  {
   "cell_type": "code",
   "execution_count": 29,
   "metadata": {},
   "outputs": [
    {
     "data": {
      "text/html": [
       "<div>\n",
       "<style scoped>\n",
       "    .dataframe tbody tr th:only-of-type {\n",
       "        vertical-align: middle;\n",
       "    }\n",
       "\n",
       "    .dataframe tbody tr th {\n",
       "        vertical-align: top;\n",
       "    }\n",
       "\n",
       "    .dataframe thead th {\n",
       "        text-align: right;\n",
       "    }\n",
       "</style>\n",
       "<table border=\"1\" class=\"dataframe\">\n",
       "  <thead>\n",
       "    <tr style=\"text-align: right;\">\n",
       "      <th></th>\n",
       "      <th>orders</th>\n",
       "      <th>buyers</th>\n",
       "      <th>revenue</th>\n",
       "      <th>visitors</th>\n",
       "      <th>conversion</th>\n",
       "    </tr>\n",
       "  </thead>\n",
       "  <tbody>\n",
       "    <tr>\n",
       "      <th>count</th>\n",
       "      <td>62.000000</td>\n",
       "      <td>62.000000</td>\n",
       "      <td>6.200000e+01</td>\n",
       "      <td>62.000000</td>\n",
       "      <td>62.000000</td>\n",
       "    </tr>\n",
       "    <tr>\n",
       "      <th>mean</th>\n",
       "      <td>317.661290</td>\n",
       "      <td>291.903226</td>\n",
       "      <td>2.464491e+06</td>\n",
       "      <td>9883.306452</td>\n",
       "      <td>0.032292</td>\n",
       "    </tr>\n",
       "    <tr>\n",
       "      <th>std</th>\n",
       "      <td>172.828157</td>\n",
       "      <td>157.498031</td>\n",
       "      <td>1.659118e+06</td>\n",
       "      <td>5378.074717</td>\n",
       "      <td>0.002190</td>\n",
       "    </tr>\n",
       "    <tr>\n",
       "      <th>min</th>\n",
       "      <td>21.000000</td>\n",
       "      <td>20.000000</td>\n",
       "      <td>1.012170e+05</td>\n",
       "      <td>713.000000</td>\n",
       "      <td>0.029217</td>\n",
       "    </tr>\n",
       "    <tr>\n",
       "      <th>25%</th>\n",
       "      <td>177.750000</td>\n",
       "      <td>162.000000</td>\n",
       "      <td>1.096278e+06</td>\n",
       "      <td>5437.500000</td>\n",
       "      <td>0.030190</td>\n",
       "    </tr>\n",
       "    <tr>\n",
       "      <th>50%</th>\n",
       "      <td>319.500000</td>\n",
       "      <td>293.500000</td>\n",
       "      <td>2.165968e+06</td>\n",
       "      <td>10030.000000</td>\n",
       "      <td>0.032819</td>\n",
       "    </tr>\n",
       "    <tr>\n",
       "      <th>75%</th>\n",
       "      <td>459.250000</td>\n",
       "      <td>421.000000</td>\n",
       "      <td>3.856338e+06</td>\n",
       "      <td>14259.000000</td>\n",
       "      <td>0.034055</td>\n",
       "    </tr>\n",
       "    <tr>\n",
       "      <th>max</th>\n",
       "      <td>640.000000</td>\n",
       "      <td>586.000000</td>\n",
       "      <td>5.907760e+06</td>\n",
       "      <td>18916.000000</td>\n",
       "      <td>0.036856</td>\n",
       "    </tr>\n",
       "  </tbody>\n",
       "</table>\n",
       "</div>"
      ],
      "text/plain": [
       "           orders      buyers       revenue      visitors  conversion\n",
       "count   62.000000   62.000000  6.200000e+01     62.000000   62.000000\n",
       "mean   317.661290  291.903226  2.464491e+06   9883.306452    0.032292\n",
       "std    172.828157  157.498031  1.659118e+06   5378.074717    0.002190\n",
       "min     21.000000   20.000000  1.012170e+05    713.000000    0.029217\n",
       "25%    177.750000  162.000000  1.096278e+06   5437.500000    0.030190\n",
       "50%    319.500000  293.500000  2.165968e+06  10030.000000    0.032819\n",
       "75%    459.250000  421.000000  3.856338e+06  14259.000000    0.034055\n",
       "max    640.000000  586.000000  5.907760e+06  18916.000000    0.036856"
      ]
     },
     "execution_count": 29,
     "metadata": {},
     "output_type": "execute_result"
    }
   ],
   "source": [
    "cumulative_data.describe()"
   ]
  },
  {
   "cell_type": "markdown",
   "metadata": {},
   "source": [
    "Нас интересует столбец conversion и его максимальные и минимальные значения"
   ]
  },
  {
   "cell_type": "code",
   "execution_count": 30,
   "metadata": {},
   "outputs": [
    {
     "data": {
      "image/png": "[encoded data removed]",
      "text/plain": [
       "<Figure size 720x360 with 1 Axes>"
      ]
     },
     "metadata": {
      "needs_background": "light"
     },
     "output_type": "display_data"
    }
   ],
   "source": [
    "plt.figure(figsize=(10,5))\n",
    "plt.title('Кумулятивная конверсия по группам\\n')\n",
    "plt.xlabel('Дата')\n",
    "plt.ylabel('Конверсия')\n",
    "plt.xticks(rotation=45)\n",
    "plt.plot(cumulativeDataA['date'], cumulativeDataA['conversion'], label='A')\n",
    "plt.plot(cumulativeDataB['date'], cumulativeDataB['conversion'], label='B')\n",
    "plt.legend()\n",
    "\n",
    "#зададим масштаб осей\n",
    "plt.axis([cumulative_data['date'].min(), cumulative_data['date'].max(), 0.029217, 0.036856]);"
   ]
  },
  {
   "cell_type": "markdown",
   "metadata": {},
   "source": [
    "Графики не обладают симметрией. Изначально конверсия группы `А` была на высоком уровне (относительно группы `В`), просев, она выросла (пик 3 августа), но затем ее постиг резкий спад и стаблизация на уровне не выше 0,031.\n",
    "\n",
    "Группа В начав с достаточно низкого уровня, также достигает пика (2 августа) резко проседает (4 августа) и начинает увернный рост, дальше проходит стаблизация показателей на уровне 0,033-0,036.\n",
    "\n",
    "В целом, кумулятивная конверсия выше у группы `В`, чем у группы `А`."
   ]
  },
  {
   "cell_type": "markdown",
   "metadata": {},
   "source": [
    "### Относительное изменение кумулятивной конверсии группы B к группе A"
   ]
  },
  {
   "cell_type": "markdown",
   "metadata": {},
   "source": [
    "Построим график относительного различия кумулятивных конверсий, для этого соединим две таблицы конверсий по дате."
   ]
  },
  {
   "cell_type": "code",
   "execution_count": 31,
   "metadata": {},
   "outputs": [],
   "source": [
    "mergedCumulativeConversions = cumulativeDataA[['date','conversion']].merge(cumulativeDataB[['date','conversion']], \n",
    "                                                                           left_on='date', right_on='date', how='left', \n",
    "                                                                           suffixes=['A', 'B'])"
   ]
  },
  {
   "cell_type": "code",
   "execution_count": 32,
   "metadata": {},
   "outputs": [
    {
     "data": {
      "text/html": [
       "<div>\n",
       "<style scoped>\n",
       "    .dataframe tbody tr th:only-of-type {\n",
       "        vertical-align: middle;\n",
       "    }\n",
       "\n",
       "    .dataframe tbody tr th {\n",
       "        vertical-align: top;\n",
       "    }\n",
       "\n",
       "    .dataframe thead th {\n",
       "        text-align: right;\n",
       "    }\n",
       "</style>\n",
       "<table border=\"1\" class=\"dataframe\">\n",
       "  <thead>\n",
       "    <tr style=\"text-align: right;\">\n",
       "      <th></th>\n",
       "      <th>date</th>\n",
       "      <th>conversionA</th>\n",
       "      <th>conversionB</th>\n",
       "    </tr>\n",
       "  </thead>\n",
       "  <tbody>\n",
       "    <tr>\n",
       "      <th>0</th>\n",
       "      <td>2019-08-01</td>\n",
       "      <td>0.033380</td>\n",
       "      <td>0.029453</td>\n",
       "    </tr>\n",
       "    <tr>\n",
       "      <th>1</th>\n",
       "      <td>2019-08-02</td>\n",
       "      <td>0.032885</td>\n",
       "      <td>0.034776</td>\n",
       "    </tr>\n",
       "    <tr>\n",
       "      <th>2</th>\n",
       "      <td>2019-08-03</td>\n",
       "      <td>0.036856</td>\n",
       "      <td>0.033833</td>\n",
       "    </tr>\n",
       "    <tr>\n",
       "      <th>3</th>\n",
       "      <td>2019-08-04</td>\n",
       "      <td>0.032787</td>\n",
       "      <td>0.030315</td>\n",
       "    </tr>\n",
       "    <tr>\n",
       "      <th>4</th>\n",
       "      <td>2019-08-05</td>\n",
       "      <td>0.032851</td>\n",
       "      <td>0.030793</td>\n",
       "    </tr>\n",
       "  </tbody>\n",
       "</table>\n",
       "</div>"
      ],
      "text/plain": [
       "        date  conversionA  conversionB\n",
       "0 2019-08-01     0.033380     0.029453\n",
       "1 2019-08-02     0.032885     0.034776\n",
       "2 2019-08-03     0.036856     0.033833\n",
       "3 2019-08-04     0.032787     0.030315\n",
       "4 2019-08-05     0.032851     0.030793"
      ]
     },
     "execution_count": 32,
     "metadata": {},
     "output_type": "execute_result"
    }
   ],
   "source": [
    "mergedCumulativeConversions.head(5) #выведем 5 строк такой соединенной таблицы"
   ]
  },
  {
   "cell_type": "code",
   "execution_count": 33,
   "metadata": {
    "scrolled": false
   },
   "outputs": [
    {
     "data": {
      "image/png": "[encoded data removed]",
      "text/plain": [
       "<Figure size 720x360 with 1 Axes>"
      ]
     },
     "metadata": {
      "needs_background": "light"
     },
     "output_type": "display_data"
    }
   ],
   "source": [
    "plt.figure(figsize=(10,5))\n",
    "plt.title('Относительные изменения кумулятивной конверсии группы B к группе A\\n')\n",
    "plt.xlabel('Дата')\n",
    "plt.ylabel('Отношение кумулятивной конверсии группы B к группе A')\n",
    "plt.xticks(rotation=45)\n",
    "plt.plot(mergedCumulativeConversions['date'], (mergedCumulativeConversions['conversionB']/\n",
    "                                        (mergedCumulativeConversions['conversionA']) - 1));\n",
    "plt.axhline(y=0, color='black', linestyle='--');"
   ]
  },
  {
   "cell_type": "markdown",
   "metadata": {},
   "source": [
    "Так как данный график имеет прямую зависимоть от рассмотренных ранее двух, общие выводы он содержит такие же. В целом можно выделить рост конверсии группы `В` отсносительно `А` до 2 августа, с падением 3 августа и наичнающимся бурным ростом 5 августа."
   ]
  },
  {
   "cell_type": "markdown",
   "metadata": {},
   "source": [
    "### Количество заказов по пользователям"
   ]
  },
  {
   "cell_type": "markdown",
   "metadata": {},
   "source": [
    "Составим гистограмму распределения стоимостей заказов, но для начала подготовим необходимые данные."
   ]
  },
  {
   "cell_type": "code",
   "execution_count": 34,
   "metadata": {},
   "outputs": [],
   "source": [
    "#сгруппируем пользователей и количество заказов\n",
    "orders_by_users = (\n",
    "    orders.drop(['date', 'revenue', 'group'], axis=1)\n",
    "    .groupby('visitorid', as_index=False)\n",
    "    .agg({'transactionid':'nunique'})\n",
    ")\n",
    "orders_by_users.columns = ['user_id', 'orders']"
   ]
  },
  {
   "cell_type": "code",
   "execution_count": 35,
   "metadata": {
    "scrolled": true
   },
   "outputs": [
    {
     "data": {
      "text/html": [
       "<div>\n",
       "<style scoped>\n",
       "    .dataframe tbody tr th:only-of-type {\n",
       "        vertical-align: middle;\n",
       "    }\n",
       "\n",
       "    .dataframe tbody tr th {\n",
       "        vertical-align: top;\n",
       "    }\n",
       "\n",
       "    .dataframe thead th {\n",
       "        text-align: right;\n",
       "    }\n",
       "</style>\n",
       "<table border=\"1\" class=\"dataframe\">\n",
       "  <thead>\n",
       "    <tr style=\"text-align: right;\">\n",
       "      <th></th>\n",
       "      <th>user_id</th>\n",
       "      <th>orders</th>\n",
       "    </tr>\n",
       "  </thead>\n",
       "  <tbody>\n",
       "    <tr>\n",
       "      <th>1023</th>\n",
       "      <td>4256040402</td>\n",
       "      <td>11</td>\n",
       "    </tr>\n",
       "    <tr>\n",
       "      <th>591</th>\n",
       "      <td>2458001652</td>\n",
       "      <td>11</td>\n",
       "    </tr>\n",
       "    <tr>\n",
       "      <th>569</th>\n",
       "      <td>2378935119</td>\n",
       "      <td>9</td>\n",
       "    </tr>\n",
       "    <tr>\n",
       "      <th>487</th>\n",
       "      <td>2038680547</td>\n",
       "      <td>8</td>\n",
       "    </tr>\n",
       "    <tr>\n",
       "      <th>44</th>\n",
       "      <td>199603092</td>\n",
       "      <td>5</td>\n",
       "    </tr>\n",
       "    <tr>\n",
       "      <th>744</th>\n",
       "      <td>3062433592</td>\n",
       "      <td>5</td>\n",
       "    </tr>\n",
       "    <tr>\n",
       "      <th>55</th>\n",
       "      <td>237748145</td>\n",
       "      <td>5</td>\n",
       "    </tr>\n",
       "    <tr>\n",
       "      <th>917</th>\n",
       "      <td>3803269165</td>\n",
       "      <td>5</td>\n",
       "    </tr>\n",
       "    <tr>\n",
       "      <th>299</th>\n",
       "      <td>1230306981</td>\n",
       "      <td>5</td>\n",
       "    </tr>\n",
       "    <tr>\n",
       "      <th>897</th>\n",
       "      <td>3717692402</td>\n",
       "      <td>5</td>\n",
       "    </tr>\n",
       "  </tbody>\n",
       "</table>\n",
       "</div>"
      ],
      "text/plain": [
       "         user_id  orders\n",
       "1023  4256040402      11\n",
       "591   2458001652      11\n",
       "569   2378935119       9\n",
       "487   2038680547       8\n",
       "44     199603092       5\n",
       "744   3062433592       5\n",
       "55     237748145       5\n",
       "917   3803269165       5\n",
       "299   1230306981       5\n",
       "897   3717692402       5"
      ]
     },
     "execution_count": 35,
     "metadata": {},
     "output_type": "execute_result"
    }
   ],
   "source": [
    "#выведм на экран массив, с сортировкой в порядке убывания\n",
    "orders_by_users.sort_values(by = 'orders', ascending = False).head(10) "
   ]
  },
  {
   "cell_type": "markdown",
   "metadata": {},
   "source": [
    "Мы видим пользователей, которые совершали по 11, 9 и 8, затем количество резко спускается до 5. Построим гистрограмму распределения количества заказов на одного пользователя."
   ]
  },
  {
   "cell_type": "code",
   "execution_count": 36,
   "metadata": {
    "scrolled": true
   },
   "outputs": [
    {
     "data": {
      "image/png": "[encoded data removed]",
      "text/plain": [
       "<Figure size 720x360 with 1 Axes>"
      ]
     },
     "metadata": {
      "needs_background": "light"
     },
     "output_type": "display_data"
    }
   ],
   "source": [
    "plt.figure(figsize=(10,5))\n",
    "plt.ylabel('Количество пользователей')\n",
    "plt.xlabel('Количество заказов')\n",
    "plt.title('Распределение количества заказов на одного пользователя\\n')\n",
    "plt.hist(orders_by_users['orders']);\n",
    "plt.show()"
   ]
  },
  {
   "cell_type": "markdown",
   "metadata": {},
   "source": [
    "Как можем увидеть, пользователи совершают 1-2 заказа, реже 3-4, и сильно реже больше 5 заказов. Построим точечную диаграмму для того, чтобы увидеть распределение наглядней."
   ]
  },
  {
   "cell_type": "code",
   "execution_count": 37,
   "metadata": {
    "scrolled": true
   },
   "outputs": [
    {
     "data": {
      "image/png": "[encoded data removed]",
      "text/plain": [
       "<Figure size 720x360 with 1 Axes>"
      ]
     },
     "metadata": {
      "needs_background": "light"
     },
     "output_type": "display_data"
    }
   ],
   "source": [
    "x_values = pd.Series(range(0,len(orders_by_users)))\n",
    "plt.figure(figsize=(10,5))\n",
    "plt.ylabel('Количество заказов')\n",
    "plt.xlabel('Пользователи')\n",
    "plt.title('Точечная диаграмма числа заказов на одного пользователя\\n')\n",
    "plt.scatter(x_values, orders_by_users['orders'], alpha=0.5);"
   ]
  },
  {
   "cell_type": "markdown",
   "metadata": {},
   "source": [
    "Большинство пользователей совершали 1 заказ (непрерывная линия показывает это), чуть больше пользователей делали 2 заказа, порядка 17 пользоватлей делали 3 заказа, 3 пользователя - 4, по одному пользователю сделали 8 и 9 заказов, и 2 пользователя по 11. Можно предположить, что пользователи совершившие больше 5 заказов, можно классифицировать как аномалии. Но чтобы точно ответить, определим 95 и 99 перцентили. "
   ]
  },
  {
   "cell_type": "code",
   "execution_count": 38,
   "metadata": {},
   "outputs": [
    {
     "data": {
      "text/plain": [
       "array([2., 4.])"
      ]
     },
     "execution_count": 38,
     "metadata": {},
     "output_type": "execute_result"
    }
   ],
   "source": [
    "np.percentile(orders_by_users['orders'], [95,99])"
   ]
  },
  {
   "cell_type": "markdown",
   "metadata": {},
   "source": [
    "Из этого следует, что примерно 5% пользователей сделали больше 2 заказов, и 1% пользователей сделали больше 4 заказов.\n",
    "Разумно выбрать 2 заказа на одного пользователя за нижнюю границу числа заказов, и убрать аномальных пользователей по ней."
   ]
  },
  {
   "cell_type": "markdown",
   "metadata": {},
   "source": [
    "### Количество заказов по стоимости"
   ]
  },
  {
   "cell_type": "markdown",
   "metadata": {},
   "source": [
    "Теперь посмотрим на стоимость заказов и их количество, визуализируем это:"
   ]
  },
  {
   "cell_type": "code",
   "execution_count": 39,
   "metadata": {},
   "outputs": [
    {
     "data": {
      "image/png": "[encoded data removed]",
      "text/plain": [
       "<Figure size 720x360 with 1 Axes>"
      ]
     },
     "metadata": {
      "needs_background": "light"
     },
     "output_type": "display_data"
    }
   ],
   "source": [
    "plt.figure(figsize=(10,5))\n",
    "plt.ylabel('Количество заказов')\n",
    "plt.xlabel('Стоимость заказа')\n",
    "plt.title('Распределение стоимости заказов\\n')\n",
    "plt.hist(orders['revenue']);"
   ]
  },
  {
   "cell_type": "markdown",
   "metadata": {},
   "source": [
    "В нашем случае диаграмма получилась не совсем читабельна, невозможно сделать корректные выводы однозначно. Построим точечную диаграмму:"
   ]
  },
  {
   "cell_type": "code",
   "execution_count": 40,
   "metadata": {},
   "outputs": [
    {
     "data": {
      "image/png": "[encoded data removed]",
      "text/plain": [
       "<Figure size 720x360 with 1 Axes>"
      ]
     },
     "metadata": {
      "needs_background": "light"
     },
     "output_type": "display_data"
    }
   ],
   "source": [
    "x_values = pd.Series(range(0,len(orders['revenue'])))\n",
    "plt.figure(figsize=(10,5))\n",
    "plt.xlabel('Количество заказов')\n",
    "plt.ylabel('Стоимость заказа')\n",
    "plt.title('Распределение стоимости заказов\\n')\n",
    "plt.scatter(x_values, orders['revenue'], alpha=0.5);"
   ]
  },
  {
   "cell_type": "markdown",
   "metadata": {},
   "source": [
    "А вот на этой диаграмме видно явный выброс, это заказ стоимость 1,3 млн. Также немного выбивается заказ стоимость 200 тысяч, в среднем, даже большие заказы не превышают 100 тысяч. Определим 95 и 99 перцентили среднего чека в выборке, для определения аномальных пользователей. Увеличим детализацию по оси Y, ограничение поставим на сумме заказа 100 000 единиц."
   ]
  },
  {
   "cell_type": "code",
   "execution_count": 41,
   "metadata": {
    "scrolled": true
   },
   "outputs": [
    {
     "data": {
      "image/png": "[encoded data removed]",
      "text/plain": [
       "<Figure size 720x360 with 1 Axes>"
      ]
     },
     "metadata": {
      "needs_background": "light"
     },
     "output_type": "display_data"
    }
   ],
   "source": [
    "x_values = pd.Series(range(0,len(orders['revenue'])))\n",
    "plt.figure(figsize=(10,5))\n",
    "plt.xlabel('Количество заказов')\n",
    "plt.ylabel('Стоимость заказа')\n",
    "plt.title('Распределение стоимости заказов\\n')\n",
    "plt.ylim([0,100000]) #увеличиваем детализацию\n",
    "plt.scatter(x_values, orders['revenue'], c=orders['group'].map({'A': 'blue', 'B': 'green'}), alpha=0.4);"
   ]
  },
  {
   "cell_type": "markdown",
   "metadata": {},
   "source": [
    "При ограничении детализации (100000 единиц за заказ), можно увидеть, что в основной своей массе, частыми событиями можно считать заказы до 10000 единиц. В тоже время редкими событиями можно считать заказы, примерно, свыше 20000 единиц.\n",
    "Для проверки нашей теории, определим с помощью 95 и 99 перцентилей, пределы заказов пользователей."
   ]
  },
  {
   "cell_type": "code",
   "execution_count": 42,
   "metadata": {},
   "outputs": [
    {
     "data": {
      "text/plain": [
       "array([28000. , 58233.2])"
      ]
     },
     "execution_count": 42,
     "metadata": {},
     "output_type": "execute_result"
    }
   ],
   "source": [
    "np.percentile(orders['revenue'], [95,99])"
   ]
  },
  {
   "cell_type": "markdown",
   "metadata": {},
   "source": [
    "Это говорит нам, что лишь 5% пользователей совершают покупку на сумму больше 28000, и лишь 1% - на сумму больше 58233,2 единиц. За точку отсчета возмем сумму покупки - 28000 единиц, а все остальное будем считать аномалией."
   ]
  },
  {
   "cell_type": "markdown",
   "metadata": {},
   "source": [
    "### Подготовка данных"
   ]
  },
  {
   "cell_type": "markdown",
   "metadata": {},
   "source": [
    "В предыдущих шагах мы увидели, что существует аномальные выбросы (это сумма заказа и колчиество заказов) в наших данных. Мы определили для них границу. Для начала, подсчитаем показатели для данных с такими \"аномальными\" пользователями, затем без таких. В нескольких шагах создадим большую обощенную таблицу."
   ]
  },
  {
   "cell_type": "markdown",
   "metadata": {},
   "source": [
    "Определим для каждой группы, количество пользователей в день:"
   ]
  },
  {
   "cell_type": "code",
   "execution_count": 43,
   "metadata": {},
   "outputs": [],
   "source": [
    "#определим число пользователей в каждый день для группы А\n",
    "visitors_A_daily = visitors[visitors['group'] == 'A'][['date', 'visitors']]\n",
    "visitors_A_daily.columns = ['date', 'visitors_per_date_A']"
   ]
  },
  {
   "cell_type": "code",
   "execution_count": 44,
   "metadata": {},
   "outputs": [],
   "source": [
    "#определим число пользователей в каждый день для группы В\n",
    "visitors_B_daily = visitors[visitors['group'] == 'B'][['date', 'visitors']]\n",
    "visitors_B_daily.columns = ['date', 'visitors_per_date_B']"
   ]
  },
  {
   "cell_type": "markdown",
   "metadata": {},
   "source": [
    "Найдем количество кумулятивных пользователей в день в разрезе групп:"
   ]
  },
  {
   "cell_type": "code",
   "execution_count": 45,
   "metadata": {},
   "outputs": [],
   "source": [
    "#кумулятивное число пользователей за дни группы А\n",
    "visitors_A_cummulative = visitors_A_daily.apply(\n",
    "    lambda x: visitors_A_daily[visitors_A_daily['date'] <= x['date']]\n",
    "    .agg({'date': 'max', 'visitors_per_date_A': 'sum'}), axis=1,\n",
    ")\n",
    "visitors_A_cummulative.columns = ['date', 'visitors_cummulative_A']"
   ]
  },
  {
   "cell_type": "code",
   "execution_count": 46,
   "metadata": {},
   "outputs": [],
   "source": [
    "#кумулятивное число пользователей за дни группы В\n",
    "visitors_B_cummulative = visitors_B_daily.apply(\n",
    "    lambda x: visitors_B_daily[visitors_B_daily['date'] <= x['date']]\n",
    "    .agg({'date': 'max', 'visitors_per_date_B': 'sum'}), axis=1,\n",
    ")\n",
    "visitors_B_cummulative.columns = ['date', 'visitors_cummulative_B']"
   ]
  },
  {
   "cell_type": "markdown",
   "metadata": {},
   "source": [
    "Найдем количество заказов в день и выручку для каждой группы:"
   ]
  },
  {
   "cell_type": "code",
   "execution_count": 47,
   "metadata": {},
   "outputs": [],
   "source": [
    "#количество заказов и сумма выручки за дни группы А\n",
    "orders_A_daily = (orders[orders['group'] == 'A'][['date', 'transactionid', 'revenue']]\n",
    "    .groupby('date', as_index=False)\n",
    "    .agg({'transactionid':pd.Series.nunique, 'revenue':'sum'})\n",
    "    )\n",
    "orders_A_daily.columns = ['date', 'orders_per_date_A', 'revenue_per_date_A']"
   ]
  },
  {
   "cell_type": "code",
   "execution_count": 48,
   "metadata": {},
   "outputs": [],
   "source": [
    "#количество заказов и сумма выручки за дни группы В\n",
    "orders_B_daily = (orders[orders['group'] == 'B'][['date', 'transactionid', 'revenue']]\n",
    "    .groupby('date', as_index=False)\n",
    "    .agg({'transactionid':pd.Series.nunique, 'revenue':'sum'})\n",
    "    )\n",
    "orders_B_daily.columns = ['date', 'orders_per_date_B', 'revenue_per_date_B']"
   ]
  },
  {
   "cell_type": "markdown",
   "metadata": {},
   "source": [
    "Также найдем кумулятивное количество заказов и выручки в день:"
   ]
  },
  {
   "cell_type": "code",
   "execution_count": 49,
   "metadata": {},
   "outputs": [],
   "source": [
    "#кумулятивное количество заказов и выручки за день группы А\n",
    "orders_A_cummulative = orders_A_daily.apply(\n",
    "    lambda x: orders_A_daily[orders_A_daily['date'] <= x['date']]\n",
    "    .agg({'date':'max', 'orders_per_date_A':'sum', 'revenue_per_date_A':'sum'}), axis=1)\n",
    "orders_A_cummulative.columns = ['date', 'orders_cummulative_A', 'revenue_cummulative_A']"
   ]
  },
  {
   "cell_type": "code",
   "execution_count": 50,
   "metadata": {},
   "outputs": [],
   "source": [
    "#кумулятивное количество заказов и выручки за день группы В\n",
    "orders_B_cummulative = orders_B_daily.apply(\n",
    "    lambda x: orders_B_daily[orders_B_daily['date'] <= x['date']]\n",
    "    .agg({'date':'max', 'orders_per_date_B':'sum', 'revenue_per_date_B':'sum'}), axis=1)\n",
    "orders_B_cummulative.columns = ['date', 'orders_cummulative_B', 'revenue_cummulative_B']"
   ]
  },
  {
   "cell_type": "markdown",
   "metadata": {},
   "source": [
    "Все рассчитанные данные \"склеим\" в одну большую сводную таблицу:"
   ]
  },
  {
   "cell_type": "code",
   "execution_count": 51,
   "metadata": {},
   "outputs": [],
   "source": [
    "big_df = (orders_A_daily\n",
    "    .merge(orders_B_daily, left_on='date', right_on='date', how='left')\n",
    "    .merge(orders_A_cummulative, left_on='date', right_on='date', how='left')\n",
    "    .merge(orders_B_cummulative, left_on='date', right_on='date', how='left')\n",
    "    .merge(visitors_A_daily, left_on='date', right_on='date', how='left')\n",
    "    .merge(visitors_B_daily, left_on='date', right_on='date', how='left')\n",
    "    .merge(visitors_A_cummulative, left_on='date', right_on='date', how='left')\n",
    "    .merge(visitors_B_cummulative, left_on='date', right_on='date', how='left')\n",
    ")"
   ]
  },
  {
   "cell_type": "code",
   "execution_count": 52,
   "metadata": {},
   "outputs": [
    {
     "data": {
      "text/html": [
       "<div>\n",
       "<style scoped>\n",
       "    .dataframe tbody tr th:only-of-type {\n",
       "        vertical-align: middle;\n",
       "    }\n",
       "\n",
       "    .dataframe tbody tr th {\n",
       "        vertical-align: top;\n",
       "    }\n",
       "\n",
       "    .dataframe thead th {\n",
       "        text-align: right;\n",
       "    }\n",
       "</style>\n",
       "<table border=\"1\" class=\"dataframe\">\n",
       "  <thead>\n",
       "    <tr style=\"text-align: right;\">\n",
       "      <th></th>\n",
       "      <th>date</th>\n",
       "      <th>orders_per_date_A</th>\n",
       "      <th>revenue_per_date_A</th>\n",
       "      <th>orders_per_date_B</th>\n",
       "      <th>revenue_per_date_B</th>\n",
       "      <th>orders_cummulative_A</th>\n",
       "      <th>revenue_cummulative_A</th>\n",
       "      <th>orders_cummulative_B</th>\n",
       "      <th>revenue_cummulative_B</th>\n",
       "      <th>visitors_per_date_A</th>\n",
       "      <th>visitors_per_date_B</th>\n",
       "      <th>visitors_cummulative_A</th>\n",
       "      <th>visitors_cummulative_B</th>\n",
       "    </tr>\n",
       "  </thead>\n",
       "  <tbody>\n",
       "    <tr>\n",
       "      <th>0</th>\n",
       "      <td>2019-08-01</td>\n",
       "      <td>24</td>\n",
       "      <td>148579</td>\n",
       "      <td>21</td>\n",
       "      <td>101217</td>\n",
       "      <td>24</td>\n",
       "      <td>148579</td>\n",
       "      <td>21</td>\n",
       "      <td>101217</td>\n",
       "      <td>719</td>\n",
       "      <td>713</td>\n",
       "      <td>719</td>\n",
       "      <td>713</td>\n",
       "    </tr>\n",
       "    <tr>\n",
       "      <th>1</th>\n",
       "      <td>2019-08-02</td>\n",
       "      <td>20</td>\n",
       "      <td>93822</td>\n",
       "      <td>24</td>\n",
       "      <td>165531</td>\n",
       "      <td>44</td>\n",
       "      <td>242401</td>\n",
       "      <td>45</td>\n",
       "      <td>266748</td>\n",
       "      <td>619</td>\n",
       "      <td>581</td>\n",
       "      <td>1338</td>\n",
       "      <td>1294</td>\n",
       "    </tr>\n",
       "    <tr>\n",
       "      <th>2</th>\n",
       "      <td>2019-08-03</td>\n",
       "      <td>24</td>\n",
       "      <td>112473</td>\n",
       "      <td>16</td>\n",
       "      <td>114248</td>\n",
       "      <td>68</td>\n",
       "      <td>354874</td>\n",
       "      <td>61</td>\n",
       "      <td>380996</td>\n",
       "      <td>507</td>\n",
       "      <td>509</td>\n",
       "      <td>1845</td>\n",
       "      <td>1803</td>\n",
       "    </tr>\n",
       "    <tr>\n",
       "      <th>3</th>\n",
       "      <td>2019-08-04</td>\n",
       "      <td>16</td>\n",
       "      <td>70825</td>\n",
       "      <td>17</td>\n",
       "      <td>108571</td>\n",
       "      <td>84</td>\n",
       "      <td>425699</td>\n",
       "      <td>78</td>\n",
       "      <td>489567</td>\n",
       "      <td>717</td>\n",
       "      <td>770</td>\n",
       "      <td>2562</td>\n",
       "      <td>2573</td>\n",
       "    </tr>\n",
       "    <tr>\n",
       "      <th>4</th>\n",
       "      <td>2019-08-05</td>\n",
       "      <td>25</td>\n",
       "      <td>124218</td>\n",
       "      <td>23</td>\n",
       "      <td>92428</td>\n",
       "      <td>109</td>\n",
       "      <td>549917</td>\n",
       "      <td>101</td>\n",
       "      <td>581995</td>\n",
       "      <td>756</td>\n",
       "      <td>707</td>\n",
       "      <td>3318</td>\n",
       "      <td>3280</td>\n",
       "    </tr>\n",
       "  </tbody>\n",
       "</table>\n",
       "</div>"
      ],
      "text/plain": [
       "        date  orders_per_date_A  revenue_per_date_A  orders_per_date_B  \\\n",
       "0 2019-08-01                 24              148579                 21   \n",
       "1 2019-08-02                 20               93822                 24   \n",
       "2 2019-08-03                 24              112473                 16   \n",
       "3 2019-08-04                 16               70825                 17   \n",
       "4 2019-08-05                 25              124218                 23   \n",
       "\n",
       "   revenue_per_date_B  orders_cummulative_A  revenue_cummulative_A  \\\n",
       "0              101217                    24                 148579   \n",
       "1              165531                    44                 242401   \n",
       "2              114248                    68                 354874   \n",
       "3              108571                    84                 425699   \n",
       "4               92428                   109                 549917   \n",
       "\n",
       "   orders_cummulative_B  revenue_cummulative_B  visitors_per_date_A  \\\n",
       "0                    21                 101217                  719   \n",
       "1                    45                 266748                  619   \n",
       "2                    61                 380996                  507   \n",
       "3                    78                 489567                  717   \n",
       "4                   101                 581995                  756   \n",
       "\n",
       "   visitors_per_date_B  visitors_cummulative_A  visitors_cummulative_B  \n",
       "0                  713                     719                     713  \n",
       "1                  581                    1338                    1294  \n",
       "2                  509                    1845                    1803  \n",
       "3                  770                    2562                    2573  \n",
       "4                  707                    3318                    3280  "
      ]
     },
     "execution_count": 52,
     "metadata": {},
     "output_type": "execute_result"
    }
   ],
   "source": [
    "big_df.head(5) #выведем на экран обощенную таблицу"
   ]
  },
  {
   "cell_type": "markdown",
   "metadata": {},
   "source": [
    "### Различия в конверсии между группами по «сырым» данным"
   ]
  },
  {
   "cell_type": "markdown",
   "metadata": {},
   "source": [
    "Объявим переменные `sample_A` и `sample_B`, в которых пользователям из разных групп будет соответствовать количество заказов. Тем, кто ничего не заказал, будут соответствовать нули. Это нужно, чтобы подготовить выборки к проверке критерием Манна-Уитни."
   ]
  },
  {
   "cell_type": "code",
   "execution_count": 61,
   "metadata": {},
   "outputs": [],
   "source": [
    "orders_by_users_A = (orders[orders['group']=='A']\n",
    "                     .groupby('visitorid', as_index=False)\n",
    "                     .agg({'transactionid':pd.Series.nunique})\n",
    "                    )\n",
    "orders_by_users_A.columns = ['visitorid', 'orders']\n",
    "\n",
    "orders_by_users_B = (orders[orders['group']=='B']\n",
    "                     .groupby('visitorid', as_index=False)\n",
    "                     .agg({'transactionid':pd.Series.nunique})\n",
    "                    )\n",
    "orders_by_users_B.columns = ['visitorid', 'orders']\n",
    "\n",
    "sample_A = pd.concat([orders_by_users_A['orders'],\n",
    "                      pd.Series(0, index=np.arange(big_df['visitors_per_date_A'].sum() - len(orders_by_users_A['orders'])), name='orders')],axis=0)\n",
    "\n",
    "sample_B = pd.concat([orders_by_users_B['orders'],\n",
    "                      pd.Series(0, index=np.arange(big_df['visitors_per_date_B'].sum() - len(orders_by_users_B['orders'])), name='orders')],axis=0)"
   ]
  },
  {
   "cell_type": "markdown",
   "metadata": {},
   "source": [
    "Определим гипотезы:\n",
    "\n",
    "**H₀** - статистически значимых различий в конверсии между группами нет;\n",
    "\n",
    "**H₁** - статистически значимые различия в конверсии между группами есть."
   ]
  },
  {
   "cell_type": "code",
   "execution_count": 54,
   "metadata": {},
   "outputs": [
    {
     "name": "stdout",
     "output_type": "stream",
     "text": [
      "alpha = 0.05\n",
      "p-value = 0.017\n",
      "Относительный показатель 'B' и 'A' = 0.138\n"
     ]
    }
   ],
   "source": [
    "print(\"alpha =\",0.05)\n",
    "print(\"p-value = {0:.3f}\".format(stats.mannwhitneyu(sample_A, sample_B, alternative = 'two-sided')[1]))\n",
    "print(\"Относительный показатель 'B' и 'A' = {0:.3f}\".format(sample_B.mean()/sample_A.mean()-1)) "
   ]
  },
  {
   "cell_type": "markdown",
   "metadata": {},
   "source": [
    "p-value (0.017) меньше 0.05. Из этого следует, что мы вынуждены **отвергнуть** нулеувю гипотезу об отсутствии значимых различий в ковнерсии между группами.  То есть, по «сырым» данным различия в конверсии групп `A` и `B` есть. А относительное преимущество группы `B` над `A` равно 13.8%."
   ]
  },
  {
   "cell_type": "markdown",
   "metadata": {},
   "source": [
    "### Различия в среднем чеке заказа между группами по «сырым» данным"
   ]
  },
  {
   "cell_type": "markdown",
   "metadata": {},
   "source": [
    "Теперь проверим различия в среднем чеке между группами по необработанным данным."
   ]
  },
  {
   "cell_type": "markdown",
   "metadata": {},
   "source": [
    "Гипотезы буду выглядеть следующим образом:\n",
    "\n",
    "**H₀** - статистически значимых различий в среднем чеке между группами нет;\n",
    "\n",
    "**H₁** - статистически значимые различия в среднем чеке между группами есть."
   ]
  },
  {
   "cell_type": "code",
   "execution_count": 55,
   "metadata": {
    "scrolled": true
   },
   "outputs": [
    {
     "name": "stdout",
     "output_type": "stream",
     "text": [
      "alpha = 0.05\n",
      "p-value = 0.729\n",
      "Относительный показатель 'B' и 'A' = 0.259\n"
     ]
    }
   ],
   "source": [
    "print(\"alpha =\",0.05)\n",
    "print(\"p-value = {0:.3f}\".format(stats.mannwhitneyu(orders[orders['group']=='A']['revenue'], orders[orders['group']=='B']['revenue'])[1], alternative=\"two-sided\"))\n",
    "print(\"Относительный показатель 'B' и 'A' = {0:.3f}\".format(orders[orders['group']=='B']['revenue'].mean()/orders[orders['group']=='A']['revenue'].mean()-1)) "
   ]
  },
  {
   "cell_type": "markdown",
   "metadata": {},
   "source": [
    "p-value (0.729) значительно больше 0.05. Следовательно, мы **не можем отвергнуть** нулевую гипотезу, об отсуствии различий в среднем чеке между группами. Можно сделать вывод, что по необработанными данным, средние чеки схожи. Невозможно не заметить, что при неотвергнутой гипотезе, мы имеем преимещуество среднего чека группы `В` над `А` в размере 25,9%."
   ]
  },
  {
   "cell_type": "markdown",
   "metadata": {},
   "source": [
    "### \"Чистим\" данные"
   ]
  },
  {
   "cell_type": "markdown",
   "metadata": {},
   "source": [
    "Вспомним - из предыдущих пунктов мы приняли за аномальных пользователей тех, кто совершил 3 и больше заказов или совершил заказ дороже 28 000 единиц. Сделаем срезы пользователей с числом заказов больше 2 — `usersWithManyOrders` и пользователей, совершивших заказы дороже 28 000 — `usersWithExpensiveOrders`. Объединим их в таблице `abnormal_users`. Узнаем, сколько всего аномальных пользователей методом `shape()`."
   ]
  },
  {
   "cell_type": "code",
   "execution_count": 56,
   "metadata": {},
   "outputs": [
    {
     "name": "stdout",
     "output_type": "stream",
     "text": [
      "1099    148427295\n",
      "18      199603092\n",
      "928     204675465\n",
      "23      237748145\n",
      "37      249864742\n",
      "Name: visitorid, dtype: int64\n",
      "Таких пользователей =  (74,)\n"
     ]
    }
   ],
   "source": [
    "usersWithManyOrders = pd.concat([orders_by_users_A[orders_by_users_A['orders'] > 2]['visitorid'], \n",
    "                                 orders_by_users_B[orders_by_users_B['orders'] > 2]['visitorid']], axis = 0)\n",
    "usersWithExpensiveOrders = orders[orders['revenue'] > np.percentile(orders['revenue'], [95])[0]]['visitorid']\n",
    "abnormal_users = pd.concat([usersWithManyOrders, usersWithExpensiveOrders], axis = 0).drop_duplicates().sort_values()\n",
    "print(abnormal_users.head(5))\n",
    "print('Таких пользователей = ',abnormal_users.shape)"
   ]
  },
  {
   "cell_type": "markdown",
   "metadata": {},
   "source": [
    "Теперь создадим два отфильтрованных массива, для групп `А` и `В`."
   ]
  },
  {
   "cell_type": "code",
   "execution_count": 57,
   "metadata": {},
   "outputs": [],
   "source": [
    "sample_A_filtered = pd.concat(\n",
    "    [orders_by_users_A[np.logical_not(orders_by_users_A['visitorid'].isin(abnormal_users))]['orders'],\n",
    "        pd.Series(0, index=np.arange(big_df['visitors_per_date_A'].sum() - len(orders_by_users_A['orders'])),\n",
    "            name='orders',),], axis=0,)\n",
    "\n",
    "sample_B_filtered = pd.concat(\n",
    "    [orders_by_users_B[np.logical_not(orders_by_users_B['visitorid'].isin(abnormal_users))]['orders'],\n",
    "        pd.Series(0, index=np.arange(big_df['visitors_per_date_B'].sum() - len(orders_by_users_B['orders'])),\n",
    "            name='orders',),], axis=0,)"
   ]
  },
  {
   "cell_type": "markdown",
   "metadata": {},
   "source": [
    "### Различия в конверсии между группами по «очищенным» данным"
   ]
  },
  {
   "cell_type": "markdown",
   "metadata": {},
   "source": [
    "Гипотезы сформируем так:\n",
    "\n",
    "**H₀** - статистически значимых различий в конверсии между группами нет;\n",
    "\n",
    "**H₁** - статистически значимые различия в конверсии между группами есть."
   ]
  },
  {
   "cell_type": "code",
   "execution_count": 58,
   "metadata": {},
   "outputs": [
    {
     "name": "stdout",
     "output_type": "stream",
     "text": [
      "alpha = 0.05\n",
      "p-value = 0.013\n",
      "Относительный показатель 'B' и 'A' = 0.173\n"
     ]
    }
   ],
   "source": [
    "print(\"alpha =\",0.05)\n",
    "print(\"p-value = {0:.3f}\".format(stats.mannwhitneyu(sample_A_filtered, sample_B_filtered)[1], alternative = 'two-sided'))\n",
    "print(\"Относительный показатель 'B' и 'A' = {0:.3f}\".format(sample_B_filtered.mean()/sample_A_filtered.mean()-1)) "
   ]
  },
  {
   "cell_type": "markdown",
   "metadata": {},
   "source": [
    "p-value (0.01) меньше 0.05. Из этого следует, что мы вынуждены **отвергнуть** нулеувю гипотезу об отсутствии значимых различий в конверсии между группами. То есть, по «чистым» данным различия в конверсии групп A и B есть. А относительное преимущество группы B над A равно 17.3% (по неочищенным данным, данный показатель на уровне 13.8%)."
   ]
  },
  {
   "cell_type": "markdown",
   "metadata": {},
   "source": [
    "### Различия в среднем чеке заказа между группами по «очищенным» данным"
   ]
  },
  {
   "cell_type": "markdown",
   "metadata": {},
   "source": [
    "Гипотезы звучат так:\n",
    "\n",
    "**H₀** - статистически значимых различий в средних чеках между группами нет;\n",
    "\n",
    "**H₁** - статистически значимые различия в средних чеках между группами есть."
   ]
  },
  {
   "cell_type": "code",
   "execution_count": 59,
   "metadata": {},
   "outputs": [
    {
     "name": "stdout",
     "output_type": "stream",
     "text": [
      "alpha = 0.05\n",
      "p-value = 0.738\n",
      "Относительный показатель 'B' и 'A' = -0.020\n"
     ]
    }
   ],
   "source": [
    "print(\"alpha =\",0.05)\n",
    "print(\"p-value = {0:.3f}\".format(stats.mannwhitneyu(\n",
    "    orders[np.logical_and(\n",
    "        orders['group']=='A',\n",
    "        np.logical_not(orders['visitorid'].isin(abnormal_users)))]['revenue'],\n",
    "    orders[np.logical_and(\n",
    "        orders['group']=='B',\n",
    "        np.logical_not(orders['visitorid'].isin(abnormal_users)))]['revenue'], alternative = 'two-sided')[1]))\n",
    "\n",
    "print(\"Относительный показатель 'B' и 'A' = {0:.3f}\".format(\n",
    "    orders[np.logical_and(orders['group']=='B',np.logical_not(orders['visitorid'].isin(abnormal_users)))]['revenue'].mean()/\n",
    "    orders[np.logical_and(\n",
    "        orders['group']=='A',\n",
    "        np.logical_not(orders['visitorid'].isin(abnormal_users)))]['revenue'].mean() - 1)) "
   ]
  },
  {
   "cell_type": "code",
   "execution_count": 60,
   "metadata": {},
   "outputs": [
    {
     "data": {
      "text/html": [
       "<div>\n",
       "<style scoped>\n",
       "    .dataframe tbody tr th:only-of-type {\n",
       "        vertical-align: middle;\n",
       "    }\n",
       "\n",
       "    .dataframe tbody tr th {\n",
       "        vertical-align: top;\n",
       "    }\n",
       "\n",
       "    .dataframe thead th {\n",
       "        text-align: right;\n",
       "    }\n",
       "</style>\n",
       "<table border=\"1\" class=\"dataframe\">\n",
       "  <thead>\n",
       "    <tr style=\"text-align: right;\">\n",
       "      <th></th>\n",
       "      <th>transactionid</th>\n",
       "      <th>visitorid</th>\n",
       "      <th>date</th>\n",
       "      <th>revenue</th>\n",
       "      <th>group</th>\n",
       "    </tr>\n",
       "  </thead>\n",
       "  <tbody>\n",
       "    <tr>\n",
       "      <th>425</th>\n",
       "      <td>590470918</td>\n",
       "      <td>1920142716</td>\n",
       "      <td>2019-08-19</td>\n",
       "      <td>1294500</td>\n",
       "      <td>B</td>\n",
       "    </tr>\n",
       "  </tbody>\n",
       "</table>\n",
       "</div>"
      ],
      "text/plain": [
       "     transactionid   visitorid       date  revenue group\n",
       "425      590470918  1920142716 2019-08-19  1294500     B"
      ]
     },
     "execution_count": 60,
     "metadata": {},
     "output_type": "execute_result"
    }
   ],
   "source": [
    "orders[orders['revenue']>1000000] #проверим к какой группе принадлежит самый большой заказ"
   ]
  },
  {
   "cell_type": "markdown",
   "metadata": {},
   "source": [
    "p-value (0.738) больше 0.05. Следовательно, мы **не можем отвергнуть** нулевую гипотезу, об отсуствии различий в среднем чеке между группами. По очищенным данным можно увидеть, что средний чек группы `В` оказался ниже среднего чека группы `А` (в то время как, по \"сырым\" данным он был больше на 25,9%). На это повлиял самый большой заказ на 1,3 млн единиц, который не попал в \"чистую\" группу."
   ]
  },
  {
   "cell_type": "markdown",
   "metadata": {},
   "source": [
    "## Вывод"
   ]
  },
  {
   "cell_type": "markdown",
   "metadata": {},
   "source": [
    "**Используемые данные:**\n",
    "\n",
    "критических замечаний нет. Пропусков данных не наблюдается, дубликатов строк не обнаружено. Лишь даты привели к типу данных *datetime*."
   ]
  },
  {
   "cell_type": "markdown",
   "metadata": {},
   "source": [
    "**Приоритизация гипотез:**\n",
    "\n",
    "мы применили фреймворки *ICE* и *RICE*. Можно отметить, что использование параметра reach (охват пользователей), кардинально поменяло приоритетность гипотез. Например, гипотеза №8 (*Запустить акцию, дающую скидку на товар в день рождения*) в ICE была самой приоритетной, а в RICE спустилась на пятое место (но при этом, разница в значениях практически не поменялась). Лишь гипотезы №6 (*Показать на главной странице баннеры с актуальными акциями и распродажами, чтобы увеличить конверсию*) и №4 (*Изменить цвет фона главной страницы, чтобы увеличить вовлеченность пользователей*), не поменяли своих мест.\n",
    "\n",
    "в *RICE* лидирующие гипотезы:\n",
    "* Добавить форму подписки на все основные страницы, чтобы собрать базу клиентов для email-рассылок;\n",
    "* Добавить блоки рекомендаций товаров на сайт интернет магазина, чтобы повысить конверсию и средний чек заказа.\n",
    "\n",
    "в *ICE* лидирующие гипотезы:\n",
    "* Запустить акцию, дающую скидку на товар в день рождения;\n",
    "* Добавить два новых канала привлечения трафика, что позволит привлекать на 30% больше пользователей."
   ]
  },
  {
   "cell_type": "markdown",
   "metadata": {},
   "source": [
    "**Кумулятивные данные:**\n",
    "* Кумулятивная **выручка** почти равномерно увеличивается в течение всего теста у всех групп. Можно отметить, что выручка группы `В` больше чем группы `А` на всем временном промежутке. У группы `А` график линейный, без явных всплесков и провалов. После 17 августа, график выручки группы `B` резко возрастает. Это может сигнализировать о всплесках числа заказов, либо о появлении очень дорогих заказов в группе.\n",
    "\n",
    "\n",
    "* А вот графики **средних чеков** неравномерны. Так вначале средний чек группы `А` был выше чем у группы `В`.Затем идет спад (6 августа) и резкий подъем с пиком в точке \"13 августа\", затем небольшой спад и стаблизиция на одном уровне до окончания исследования. У группы `В` старт был на очень низком уровне (5000) резкий подъем - стабилизация (3-4 августа) и небольшой провал (5 августа). Затем снова плавный подъем вкупе с плавным падением и 18 августа феноменальное резкое увеличение (с 7000 до 10000), лишь потом несколько падает и стабилизируется до конца исследования. Такое поведение среднего чека говорит нам о росте числа заказов в этой группе или о росте стоимости заказнных товаров.\n",
    "\n",
    "\n",
    "* **Конверсия** выше у группы В, чем у группы А."
   ]
  },
  {
   "cell_type": "markdown",
   "metadata": {},
   "source": [
    "**Количество заказов:**\n",
    "* Существуют пользователи, сделавшие 8,9 и 11 заказов, но в целом, основная масса пользователей делает 1-2 заказа, реже 3-4, 5 и выше - очень редкие события. Выяснили, что примерно 5% пользователей сделали больше 2 заказов, и 1% пользователей сделали больше 4 заказов.\n",
    "\n",
    "\n",
    "* Лишь 5% пользователей совершают покупку на сумму больше 28000, и лишь 1% - на сумму больше 58233,2 единиц. Однако, существуют заказы около 200 тысяч, в среднем, даже большие заказы не превышают 100 тысяч. Но есть достаточно редкое событие - 1 заказ на 1,3 млн."
   ]
  },
  {
   "cell_type": "markdown",
   "metadata": {},
   "source": [
    "**Проверка гипотез:**\n",
    "\n",
    "По сырым данным:\n",
    "* различия в конверсии между группами - есть. У группы `В` конверсия выше группы `А` на 13.8%.\n",
    "\n",
    "* различия в среднем чеке между группами - нет. Хотя есть преимущество группы `В` над группой `А` размере 25,9%.\n",
    "\n",
    "По очищенным данным:\n",
    "* различия в конверсии между группами - есть. Относительное преимущество группы `B` над `A` равно 17.3%.\n",
    "\n",
    "* различия в среднем чеке между группами - нет. Тут уже показатель группы `В` ниже на 2% относительно группы `А`. На это повлиял самый большой заказ на 1,3 млн единиц, который не попал в \"чистую\" группу."
   ]
  },
  {
   "cell_type": "markdown",
   "metadata": {},
   "source": [
    "**Решение по А/В тесту:**\n",
    "\n",
    "Остановить тестирование. Признать группу `В` лидирующей. У группы `B` выше конверсия, чем у группы `A`, при том, что по среднему чеку обе группы (и по \"чистым\" и по \"сырым\" данным) можно рассматривать как равнозначные."
   ]
  },
  {
   "cell_type": "code",
   "execution_count": null,
   "metadata": {},
   "outputs": [],
   "source": []
  }
 ],
 "metadata": {
  "ExecuteTimeLog": [
   {
    "duration": 1324,
    "start_time": "2022-04-02T10:22:30.620Z"
   },
   {
    "duration": 119,
    "start_time": "2022-04-02T10:22:31.946Z"
   },
   {
    "duration": 37,
    "start_time": "2022-04-02T10:22:52.579Z"
   },
   {
    "duration": 13,
    "start_time": "2022-04-02T10:22:58.746Z"
   },
   {
    "duration": 5,
    "start_time": "2022-04-02T10:25:15.154Z"
   },
   {
    "duration": 7,
    "start_time": "2022-04-02T10:25:19.408Z"
   },
   {
    "duration": 4,
    "start_time": "2022-04-02T10:26:01.197Z"
   },
   {
    "duration": 10,
    "start_time": "2022-04-02T10:26:11.178Z"
   },
   {
    "duration": 1181,
    "start_time": "2022-04-02T10:30:48.113Z"
   },
   {
    "duration": 42,
    "start_time": "2022-04-02T10:30:49.296Z"
   },
   {
    "duration": 11,
    "start_time": "2022-04-02T10:30:54.011Z"
   },
   {
    "duration": 4,
    "start_time": "2022-04-02T10:30:57.580Z"
   },
   {
    "duration": 6,
    "start_time": "2022-04-02T10:38:39.214Z"
   },
   {
    "duration": 9,
    "start_time": "2022-04-02T10:38:39.710Z"
   },
   {
    "duration": 6,
    "start_time": "2022-04-02T10:39:08.247Z"
   },
   {
    "duration": 10,
    "start_time": "2022-04-02T10:39:08.781Z"
   },
   {
    "duration": 6,
    "start_time": "2022-04-02T10:41:20.473Z"
   },
   {
    "duration": 5,
    "start_time": "2022-04-02T10:41:45.112Z"
   },
   {
    "duration": 93,
    "start_time": "2022-04-02T10:41:56.692Z"
   },
   {
    "duration": 9,
    "start_time": "2022-04-02T10:42:02.369Z"
   },
   {
    "duration": 9,
    "start_time": "2022-04-02T10:42:19.852Z"
   },
   {
    "duration": 9,
    "start_time": "2022-04-02T10:44:55.539Z"
   },
   {
    "duration": 118,
    "start_time": "2022-04-02T11:03:45.541Z"
   },
   {
    "duration": 115,
    "start_time": "2022-04-02T11:21:28.152Z"
   },
   {
    "duration": 12,
    "start_time": "2022-04-02T11:21:36.889Z"
   },
   {
    "duration": 197,
    "start_time": "2022-04-02T11:25:23.378Z"
   },
   {
    "duration": 10,
    "start_time": "2022-04-02T11:26:33.682Z"
   },
   {
    "duration": 18,
    "start_time": "2022-04-02T11:35:01.390Z"
   },
   {
    "duration": 15,
    "start_time": "2022-04-02T11:35:04.091Z"
   },
   {
    "duration": 16,
    "start_time": "2022-04-02T11:35:26.044Z"
   },
   {
    "duration": 13,
    "start_time": "2022-04-02T11:35:49.472Z"
   },
   {
    "duration": 8,
    "start_time": "2022-04-02T11:58:52.055Z"
   },
   {
    "duration": 8,
    "start_time": "2022-04-02T11:58:59.582Z"
   },
   {
    "duration": 179,
    "start_time": "2022-04-02T12:05:32.289Z"
   },
   {
    "duration": 552,
    "start_time": "2022-04-02T12:07:56.679Z"
   },
   {
    "duration": 4,
    "start_time": "2022-04-02T12:08:26.751Z"
   },
   {
    "duration": 13,
    "start_time": "2022-04-02T12:08:31.014Z"
   },
   {
    "duration": 10,
    "start_time": "2022-04-02T12:08:35.009Z"
   },
   {
    "duration": 11,
    "start_time": "2022-04-02T12:08:42.005Z"
   },
   {
    "duration": 250,
    "start_time": "2022-04-02T12:37:36.291Z"
   },
   {
    "duration": 245,
    "start_time": "2022-04-02T12:38:21.344Z"
   },
   {
    "duration": 1713,
    "start_time": "2022-04-03T10:52:56.838Z"
   },
   {
    "duration": 70,
    "start_time": "2022-04-03T10:52:58.554Z"
   },
   {
    "duration": 19,
    "start_time": "2022-04-03T10:52:58.626Z"
   },
   {
    "duration": 5,
    "start_time": "2022-04-03T10:52:58.647Z"
   },
   {
    "duration": 11,
    "start_time": "2022-04-03T10:52:58.657Z"
   },
   {
    "duration": 14,
    "start_time": "2022-04-03T10:52:58.670Z"
   },
   {
    "duration": 58,
    "start_time": "2022-04-03T10:52:58.686Z"
   },
   {
    "duration": 17,
    "start_time": "2022-04-03T10:52:58.747Z"
   },
   {
    "duration": 169,
    "start_time": "2022-04-03T10:52:58.767Z"
   },
   {
    "duration": 0,
    "start_time": "2022-04-03T10:52:58.942Z"
   },
   {
    "duration": 0,
    "start_time": "2022-04-03T10:52:58.944Z"
   },
   {
    "duration": 0,
    "start_time": "2022-04-03T10:52:58.946Z"
   },
   {
    "duration": 0,
    "start_time": "2022-04-03T10:52:58.948Z"
   },
   {
    "duration": 0,
    "start_time": "2022-04-03T10:52:58.950Z"
   },
   {
    "duration": 0,
    "start_time": "2022-04-03T10:52:58.953Z"
   },
   {
    "duration": 397,
    "start_time": "2022-04-03T10:53:27.373Z"
   },
   {
    "duration": 12,
    "start_time": "2022-04-03T10:53:32.877Z"
   },
   {
    "duration": 16,
    "start_time": "2022-04-03T10:53:33.252Z"
   },
   {
    "duration": 12,
    "start_time": "2022-04-03T10:53:33.573Z"
   },
   {
    "duration": 16,
    "start_time": "2022-04-03T10:53:33.746Z"
   },
   {
    "duration": 20,
    "start_time": "2022-04-03T10:53:34.062Z"
   },
   {
    "duration": 8,
    "start_time": "2022-04-03T10:53:34.564Z"
   },
   {
    "duration": 39,
    "start_time": "2022-04-03T11:02:04.973Z"
   },
   {
    "duration": 36,
    "start_time": "2022-04-03T11:02:30.081Z"
   },
   {
    "duration": 15,
    "start_time": "2022-04-03T11:02:46.022Z"
   },
   {
    "duration": 526,
    "start_time": "2022-04-03T11:04:19.589Z"
   },
   {
    "duration": 13,
    "start_time": "2022-04-03T11:05:25.918Z"
   },
   {
    "duration": 13,
    "start_time": "2022-04-03T11:05:32.142Z"
   },
   {
    "duration": 390,
    "start_time": "2022-04-03T11:05:48.066Z"
   },
   {
    "duration": 378,
    "start_time": "2022-04-03T11:05:53.992Z"
   },
   {
    "duration": 438,
    "start_time": "2022-04-03T11:07:19.553Z"
   },
   {
    "duration": 321,
    "start_time": "2022-04-03T11:07:33.622Z"
   },
   {
    "duration": 324,
    "start_time": "2022-04-03T11:08:04.899Z"
   },
   {
    "duration": 9,
    "start_time": "2022-04-03T11:08:37.232Z"
   },
   {
    "duration": 362,
    "start_time": "2022-04-03T11:08:38.058Z"
   },
   {
    "duration": 491,
    "start_time": "2022-04-03T11:36:53.289Z"
   },
   {
    "duration": 385,
    "start_time": "2022-04-03T11:53:47.252Z"
   },
   {
    "duration": 370,
    "start_time": "2022-04-03T11:54:15.716Z"
   },
   {
    "duration": 464,
    "start_time": "2022-04-03T11:55:23.187Z"
   },
   {
    "duration": 433,
    "start_time": "2022-04-03T11:55:31.324Z"
   },
   {
    "duration": 9,
    "start_time": "2022-04-03T12:21:03.241Z"
   },
   {
    "duration": 11,
    "start_time": "2022-04-03T12:21:04.175Z"
   },
   {
    "duration": 6,
    "start_time": "2022-04-03T12:21:19.506Z"
   },
   {
    "duration": 5,
    "start_time": "2022-04-03T12:21:20.151Z"
   },
   {
    "duration": 32,
    "start_time": "2022-04-03T12:21:20.593Z"
   },
   {
    "duration": 503,
    "start_time": "2022-04-03T12:26:40.684Z"
   },
   {
    "duration": 334,
    "start_time": "2022-04-03T12:27:25.291Z"
   },
   {
    "duration": 301,
    "start_time": "2022-04-03T12:27:39.682Z"
   },
   {
    "duration": 291,
    "start_time": "2022-04-03T12:27:44.458Z"
   },
   {
    "duration": 12,
    "start_time": "2022-04-03T12:39:55.642Z"
   },
   {
    "duration": 397,
    "start_time": "2022-04-03T12:40:00.352Z"
   },
   {
    "duration": 324,
    "start_time": "2022-04-03T12:42:34.677Z"
   },
   {
    "duration": 14,
    "start_time": "2022-04-03T12:42:56.262Z"
   },
   {
    "duration": 425,
    "start_time": "2022-04-03T12:42:59.507Z"
   },
   {
    "duration": 12,
    "start_time": "2022-04-03T13:04:07.976Z"
   },
   {
    "duration": 197,
    "start_time": "2022-04-03T13:11:38.540Z"
   },
   {
    "duration": 192,
    "start_time": "2022-04-03T13:11:47.132Z"
   },
   {
    "duration": 184,
    "start_time": "2022-04-03T13:13:06.009Z"
   },
   {
    "duration": 168,
    "start_time": "2022-04-03T13:13:11.169Z"
   },
   {
    "duration": 360,
    "start_time": "2022-04-03T13:13:19.810Z"
   },
   {
    "duration": 11,
    "start_time": "2022-04-03T13:14:59.043Z"
   },
   {
    "duration": 305,
    "start_time": "2022-04-03T13:15:05.014Z"
   },
   {
    "duration": 10,
    "start_time": "2022-04-03T13:15:34.798Z"
   },
   {
    "duration": 7,
    "start_time": "2022-04-03T13:15:48.808Z"
   },
   {
    "duration": 8,
    "start_time": "2022-04-03T13:15:53.075Z"
   },
   {
    "duration": 288,
    "start_time": "2022-04-03T13:20:54.001Z"
   },
   {
    "duration": 186,
    "start_time": "2022-04-03T13:20:59.195Z"
   },
   {
    "duration": 311,
    "start_time": "2022-04-03T13:22:38.663Z"
   },
   {
    "duration": 299,
    "start_time": "2022-04-03T13:23:55.015Z"
   },
   {
    "duration": 234,
    "start_time": "2022-04-03T13:24:06.010Z"
   },
   {
    "duration": 233,
    "start_time": "2022-04-03T13:24:11.906Z"
   },
   {
    "duration": 224,
    "start_time": "2022-04-03T13:24:37.234Z"
   },
   {
    "duration": 19,
    "start_time": "2022-04-03T13:30:35.822Z"
   },
   {
    "duration": 10,
    "start_time": "2022-04-03T13:30:48.831Z"
   },
   {
    "duration": 14,
    "start_time": "2022-04-03T13:30:50.600Z"
   },
   {
    "duration": 12,
    "start_time": "2022-04-03T13:31:19.123Z"
   },
   {
    "duration": 11,
    "start_time": "2022-04-03T13:31:26.136Z"
   },
   {
    "duration": 10,
    "start_time": "2022-04-03T13:33:10.479Z"
   },
   {
    "duration": 11,
    "start_time": "2022-04-03T13:33:10.861Z"
   },
   {
    "duration": 215,
    "start_time": "2022-04-03T13:34:23.611Z"
   },
   {
    "duration": 217,
    "start_time": "2022-04-03T13:37:02.130Z"
   },
   {
    "duration": 7,
    "start_time": "2022-04-03T13:42:49.989Z"
   },
   {
    "duration": 250,
    "start_time": "2022-04-03T15:30:39.756Z"
   },
   {
    "duration": 7,
    "start_time": "2022-04-03T15:31:41.309Z"
   },
   {
    "duration": 3,
    "start_time": "2022-04-03T15:33:28.969Z"
   },
   {
    "duration": 13,
    "start_time": "2022-04-03T15:40:04.374Z"
   },
   {
    "duration": 18,
    "start_time": "2022-04-03T15:40:05.020Z"
   },
   {
    "duration": 14,
    "start_time": "2022-04-03T15:40:49.241Z"
   },
   {
    "duration": 1220,
    "start_time": "2022-04-04T04:25:35.838Z"
   },
   {
    "duration": 72,
    "start_time": "2022-04-04T04:25:37.732Z"
   },
   {
    "duration": 4,
    "start_time": "2022-04-04T04:25:44.436Z"
   },
   {
    "duration": 16,
    "start_time": "2022-04-04T04:25:46.924Z"
   },
   {
    "duration": 9,
    "start_time": "2022-04-04T04:36:43.641Z"
   },
   {
    "duration": 185,
    "start_time": "2022-04-04T04:44:06.311Z"
   },
   {
    "duration": 1113,
    "start_time": "2022-04-04T04:45:05.744Z"
   },
   {
    "duration": 73,
    "start_time": "2022-04-04T04:45:06.861Z"
   },
   {
    "duration": 12,
    "start_time": "2022-04-04T04:45:07.527Z"
   },
   {
    "duration": 3,
    "start_time": "2022-04-04T04:45:08.398Z"
   },
   {
    "duration": 9,
    "start_time": "2022-04-04T04:45:09.764Z"
   },
   {
    "duration": 10,
    "start_time": "2022-04-04T04:45:10.731Z"
   },
   {
    "duration": 10,
    "start_time": "2022-04-04T04:45:11.171Z"
   },
   {
    "duration": 17,
    "start_time": "2022-04-04T04:45:12.553Z"
   },
   {
    "duration": 242,
    "start_time": "2022-04-04T04:45:13.634Z"
   },
   {
    "duration": 5,
    "start_time": "2022-04-04T04:45:17.394Z"
   },
   {
    "duration": 9,
    "start_time": "2022-04-04T04:45:20.246Z"
   },
   {
    "duration": 15,
    "start_time": "2022-04-04T04:45:40.830Z"
   },
   {
    "duration": 8,
    "start_time": "2022-04-04T04:45:51.863Z"
   },
   {
    "duration": 9,
    "start_time": "2022-04-04T04:45:55.186Z"
   },
   {
    "duration": 13,
    "start_time": "2022-04-04T04:46:12.707Z"
   },
   {
    "duration": 6,
    "start_time": "2022-04-04T04:47:01.949Z"
   },
   {
    "duration": 7,
    "start_time": "2022-04-04T04:47:02.524Z"
   },
   {
    "duration": 91,
    "start_time": "2022-04-04T04:48:47.728Z"
   },
   {
    "duration": 8,
    "start_time": "2022-04-04T04:48:48.314Z"
   },
   {
    "duration": 150,
    "start_time": "2022-04-04T04:49:00.772Z"
   },
   {
    "duration": 11,
    "start_time": "2022-04-04T04:49:03.044Z"
   },
   {
    "duration": 9,
    "start_time": "2022-04-04T04:49:42.166Z"
   },
   {
    "duration": 108,
    "start_time": "2022-04-04T04:50:34.352Z"
   },
   {
    "duration": 11,
    "start_time": "2022-04-04T04:50:35.095Z"
   },
   {
    "duration": 119,
    "start_time": "2022-04-04T04:50:42.886Z"
   },
   {
    "duration": 8,
    "start_time": "2022-04-04T04:50:44.701Z"
   },
   {
    "duration": 9,
    "start_time": "2022-04-04T04:50:56.671Z"
   },
   {
    "duration": 9,
    "start_time": "2022-04-04T04:51:11.123Z"
   },
   {
    "duration": 9,
    "start_time": "2022-04-04T04:51:16.783Z"
   },
   {
    "duration": 12,
    "start_time": "2022-04-04T04:51:26.250Z"
   },
   {
    "duration": 13,
    "start_time": "2022-04-04T04:51:40.399Z"
   },
   {
    "duration": 6,
    "start_time": "2022-04-04T04:52:54.480Z"
   },
   {
    "duration": 231,
    "start_time": "2022-04-04T04:52:55.289Z"
   },
   {
    "duration": 176,
    "start_time": "2022-04-04T04:53:05.444Z"
   },
   {
    "duration": 308,
    "start_time": "2022-04-04T04:53:17.275Z"
   },
   {
    "duration": 7,
    "start_time": "2022-04-04T04:54:29.160Z"
   },
   {
    "duration": 20,
    "start_time": "2022-04-04T04:54:35.973Z"
   },
   {
    "duration": 170,
    "start_time": "2022-04-04T04:54:51.518Z"
   },
   {
    "duration": 187,
    "start_time": "2022-04-04T04:55:13.771Z"
   },
   {
    "duration": 7,
    "start_time": "2022-04-04T04:55:35.423Z"
   },
   {
    "duration": 8,
    "start_time": "2022-04-04T04:55:41.539Z"
   },
   {
    "duration": 305,
    "start_time": "2022-04-04T04:56:35.106Z"
   },
   {
    "duration": 8,
    "start_time": "2022-04-04T04:57:26.369Z"
   },
   {
    "duration": 7,
    "start_time": "2022-04-04T05:04:43.993Z"
   },
   {
    "duration": 8,
    "start_time": "2022-04-04T05:04:44.619Z"
   },
   {
    "duration": 127,
    "start_time": "2022-04-04T05:06:06.903Z"
   },
   {
    "duration": 134,
    "start_time": "2022-04-04T05:06:09.793Z"
   },
   {
    "duration": 200,
    "start_time": "2022-04-04T05:06:29.691Z"
   },
   {
    "duration": 5,
    "start_time": "2022-04-04T05:06:39.621Z"
   },
   {
    "duration": 132,
    "start_time": "2022-04-04T05:06:55.845Z"
   },
   {
    "duration": 138,
    "start_time": "2022-04-04T05:06:57.032Z"
   },
   {
    "duration": 5,
    "start_time": "2022-04-04T05:07:02.236Z"
   },
   {
    "duration": 14,
    "start_time": "2022-04-04T05:09:23.048Z"
   },
   {
    "duration": 9,
    "start_time": "2022-04-04T05:09:42.041Z"
   },
   {
    "duration": 8,
    "start_time": "2022-04-04T05:09:43.044Z"
   },
   {
    "duration": 12,
    "start_time": "2022-04-04T05:09:48.042Z"
   },
   {
    "duration": 11,
    "start_time": "2022-04-04T05:10:59.248Z"
   },
   {
    "duration": 15,
    "start_time": "2022-04-04T05:13:16.415Z"
   },
   {
    "duration": 1269,
    "start_time": "2022-04-04T16:38:18.957Z"
   },
   {
    "duration": 36,
    "start_time": "2022-04-04T16:38:20.228Z"
   },
   {
    "duration": 11,
    "start_time": "2022-04-04T16:38:20.266Z"
   },
   {
    "duration": 2,
    "start_time": "2022-04-04T16:38:20.279Z"
   },
   {
    "duration": 11,
    "start_time": "2022-04-04T16:38:20.284Z"
   },
   {
    "duration": 9,
    "start_time": "2022-04-04T16:38:20.296Z"
   },
   {
    "duration": 10,
    "start_time": "2022-04-04T16:38:20.306Z"
   },
   {
    "duration": 10,
    "start_time": "2022-04-04T16:38:20.318Z"
   },
   {
    "duration": 272,
    "start_time": "2022-04-04T16:38:20.330Z"
   },
   {
    "duration": 4,
    "start_time": "2022-04-04T16:38:20.604Z"
   },
   {
    "duration": 16,
    "start_time": "2022-04-04T16:38:20.609Z"
   },
   {
    "duration": 21,
    "start_time": "2022-04-04T16:38:20.626Z"
   },
   {
    "duration": 16,
    "start_time": "2022-04-04T16:38:20.648Z"
   },
   {
    "duration": 11,
    "start_time": "2022-04-04T16:38:20.666Z"
   },
   {
    "duration": 15,
    "start_time": "2022-04-04T16:38:20.678Z"
   },
   {
    "duration": 21,
    "start_time": "2022-04-04T16:38:20.694Z"
   },
   {
    "duration": 5,
    "start_time": "2022-04-04T16:38:20.717Z"
   },
   {
    "duration": 9,
    "start_time": "2022-04-04T16:38:20.724Z"
   },
   {
    "duration": 171,
    "start_time": "2022-04-04T16:38:20.735Z"
   },
   {
    "duration": 8,
    "start_time": "2022-04-04T16:38:20.908Z"
   },
   {
    "duration": 123,
    "start_time": "2022-04-04T16:38:20.917Z"
   },
   {
    "duration": 9,
    "start_time": "2022-04-04T16:38:21.042Z"
   },
   {
    "duration": 20,
    "start_time": "2022-04-04T16:38:21.053Z"
   },
   {
    "duration": 10,
    "start_time": "2022-04-04T16:38:21.075Z"
   },
   {
    "duration": 250,
    "start_time": "2022-04-04T16:38:21.086Z"
   },
   {
    "duration": 184,
    "start_time": "2022-04-04T16:38:21.338Z"
   },
   {
    "duration": 373,
    "start_time": "2022-04-04T16:38:21.524Z"
   },
   {
    "duration": 94,
    "start_time": "2022-04-04T16:38:21.898Z"
   },
   {
    "duration": 0,
    "start_time": "2022-04-04T16:38:21.994Z"
   },
   {
    "duration": 0,
    "start_time": "2022-04-04T16:38:21.996Z"
   },
   {
    "duration": 0,
    "start_time": "2022-04-04T16:38:21.997Z"
   },
   {
    "duration": 0,
    "start_time": "2022-04-04T16:38:21.999Z"
   },
   {
    "duration": 0,
    "start_time": "2022-04-04T16:38:22.000Z"
   },
   {
    "duration": 0,
    "start_time": "2022-04-04T16:38:22.001Z"
   },
   {
    "duration": 0,
    "start_time": "2022-04-04T16:38:22.003Z"
   },
   {
    "duration": 0,
    "start_time": "2022-04-04T16:38:22.004Z"
   },
   {
    "duration": 0,
    "start_time": "2022-04-04T16:38:22.006Z"
   },
   {
    "duration": 0,
    "start_time": "2022-04-04T16:38:22.007Z"
   },
   {
    "duration": 0,
    "start_time": "2022-04-04T16:38:22.008Z"
   },
   {
    "duration": 0,
    "start_time": "2022-04-04T16:38:22.010Z"
   },
   {
    "duration": 0,
    "start_time": "2022-04-04T16:38:22.011Z"
   },
   {
    "duration": 0,
    "start_time": "2022-04-04T16:38:22.013Z"
   },
   {
    "duration": 0,
    "start_time": "2022-04-04T16:38:22.014Z"
   },
   {
    "duration": 0,
    "start_time": "2022-04-04T16:38:22.016Z"
   },
   {
    "duration": 0,
    "start_time": "2022-04-04T16:38:22.017Z"
   },
   {
    "duration": 1,
    "start_time": "2022-04-04T16:38:22.018Z"
   },
   {
    "duration": 0,
    "start_time": "2022-04-04T16:38:22.063Z"
   },
   {
    "duration": 0,
    "start_time": "2022-04-04T16:38:22.065Z"
   },
   {
    "duration": 0,
    "start_time": "2022-04-04T16:38:22.066Z"
   },
   {
    "duration": 0,
    "start_time": "2022-04-04T16:38:22.068Z"
   },
   {
    "duration": 0,
    "start_time": "2022-04-04T16:38:22.069Z"
   },
   {
    "duration": 0,
    "start_time": "2022-04-04T16:38:22.070Z"
   },
   {
    "duration": 0,
    "start_time": "2022-04-04T16:38:22.071Z"
   },
   {
    "duration": 0,
    "start_time": "2022-04-04T16:38:22.073Z"
   },
   {
    "duration": 6,
    "start_time": "2022-04-04T16:40:18.096Z"
   },
   {
    "duration": 21,
    "start_time": "2022-04-04T16:40:24.861Z"
   },
   {
    "duration": 184,
    "start_time": "2022-04-04T16:40:39.719Z"
   },
   {
    "duration": 9,
    "start_time": "2022-04-04T16:40:49.199Z"
   },
   {
    "duration": 9,
    "start_time": "2022-04-04T16:40:49.753Z"
   },
   {
    "duration": 256,
    "start_time": "2022-04-04T16:40:50.796Z"
   },
   {
    "duration": 8,
    "start_time": "2022-04-04T16:40:56.398Z"
   },
   {
    "duration": 7,
    "start_time": "2022-04-04T16:40:57.517Z"
   },
   {
    "duration": 119,
    "start_time": "2022-04-04T16:40:58.684Z"
   },
   {
    "duration": 119,
    "start_time": "2022-04-04T16:40:59.720Z"
   },
   {
    "duration": 5,
    "start_time": "2022-04-04T16:41:00.643Z"
   },
   {
    "duration": 318,
    "start_time": "2022-04-04T16:41:02.361Z"
   },
   {
    "duration": 134,
    "start_time": "2022-04-04T16:41:03.973Z"
   },
   {
    "duration": 5,
    "start_time": "2022-04-04T16:41:05.032Z"
   },
   {
    "duration": 6,
    "start_time": "2022-04-04T16:41:10.498Z"
   },
   {
    "duration": 5,
    "start_time": "2022-04-04T16:41:11.180Z"
   },
   {
    "duration": 57,
    "start_time": "2022-04-04T16:41:12.155Z"
   },
   {
    "duration": 46,
    "start_time": "2022-04-04T16:41:12.763Z"
   },
   {
    "duration": 15,
    "start_time": "2022-04-04T16:41:13.701Z"
   },
   {
    "duration": 13,
    "start_time": "2022-04-04T16:41:14.127Z"
   },
   {
    "duration": 47,
    "start_time": "2022-04-04T16:41:15.088Z"
   },
   {
    "duration": 47,
    "start_time": "2022-04-04T16:41:16.691Z"
   },
   {
    "duration": 24,
    "start_time": "2022-04-04T16:41:16.740Z"
   },
   {
    "duration": 10,
    "start_time": "2022-04-04T16:41:16.963Z"
   },
   {
    "duration": 188,
    "start_time": "2022-04-04T16:41:20.764Z"
   },
   {
    "duration": 138,
    "start_time": "2022-04-04T16:41:55.694Z"
   },
   {
    "duration": 29,
    "start_time": "2022-04-04T16:41:57.487Z"
   },
   {
    "duration": 23,
    "start_time": "2022-04-04T16:42:10.485Z"
   },
   {
    "duration": 11,
    "start_time": "2022-04-04T16:43:46.017Z"
   },
   {
    "duration": 11,
    "start_time": "2022-04-04T16:44:43.638Z"
   },
   {
    "duration": 169,
    "start_time": "2022-04-04T16:58:38.566Z"
   },
   {
    "duration": 2380,
    "start_time": "2022-04-04T16:58:43.743Z"
   },
   {
    "duration": 2188,
    "start_time": "2022-04-04T16:59:02.127Z"
   },
   {
    "duration": 10,
    "start_time": "2022-04-04T16:59:50.427Z"
   },
   {
    "duration": 11,
    "start_time": "2022-04-04T17:02:21.881Z"
   },
   {
    "duration": 9,
    "start_time": "2022-04-04T17:03:07.133Z"
   },
   {
    "duration": 11,
    "start_time": "2022-04-04T17:03:08.038Z"
   },
   {
    "duration": 7,
    "start_time": "2022-04-04T17:03:26.779Z"
   },
   {
    "duration": 22,
    "start_time": "2022-04-04T17:04:52.310Z"
   },
   {
    "duration": 23,
    "start_time": "2022-04-04T17:06:19.169Z"
   },
   {
    "duration": 9,
    "start_time": "2022-04-04T17:07:22.207Z"
   },
   {
    "duration": 14,
    "start_time": "2022-04-04T17:07:47.023Z"
   },
   {
    "duration": 9,
    "start_time": "2022-04-04T17:10:52.293Z"
   },
   {
    "duration": 119,
    "start_time": "2022-04-05T05:24:36.255Z"
   },
   {
    "duration": 1678,
    "start_time": "2022-04-05T05:28:12.247Z"
   },
   {
    "duration": 45,
    "start_time": "2022-04-05T05:28:13.928Z"
   },
   {
    "duration": 16,
    "start_time": "2022-04-05T05:28:13.976Z"
   },
   {
    "duration": 5,
    "start_time": "2022-04-05T05:28:13.994Z"
   },
   {
    "duration": 17,
    "start_time": "2022-04-05T05:28:14.001Z"
   },
   {
    "duration": 19,
    "start_time": "2022-04-05T05:28:14.020Z"
   },
   {
    "duration": 34,
    "start_time": "2022-04-05T05:28:14.041Z"
   },
   {
    "duration": 17,
    "start_time": "2022-04-05T05:28:14.077Z"
   },
   {
    "duration": 424,
    "start_time": "2022-04-05T05:28:14.096Z"
   },
   {
    "duration": 6,
    "start_time": "2022-04-05T05:28:14.525Z"
   },
   {
    "duration": 35,
    "start_time": "2022-04-05T05:28:14.533Z"
   },
   {
    "duration": 33,
    "start_time": "2022-04-05T05:28:14.570Z"
   },
   {
    "duration": 11,
    "start_time": "2022-04-05T05:28:14.606Z"
   },
   {
    "duration": 49,
    "start_time": "2022-04-05T05:28:14.619Z"
   },
   {
    "duration": 20,
    "start_time": "2022-04-05T05:28:14.671Z"
   },
   {
    "duration": 37,
    "start_time": "2022-04-05T05:28:14.694Z"
   },
   {
    "duration": 8,
    "start_time": "2022-04-05T05:28:14.733Z"
   },
   {
    "duration": 27,
    "start_time": "2022-04-05T05:28:14.743Z"
   },
   {
    "duration": 260,
    "start_time": "2022-04-05T05:28:14.772Z"
   },
   {
    "duration": 11,
    "start_time": "2022-04-05T05:28:15.035Z"
   },
   {
    "duration": 226,
    "start_time": "2022-04-05T05:28:15.049Z"
   },
   {
    "duration": 16,
    "start_time": "2022-04-05T05:28:15.278Z"
   },
   {
    "duration": 33,
    "start_time": "2022-04-05T05:28:15.297Z"
   },
   {
    "duration": 25,
    "start_time": "2022-04-05T05:28:15.332Z"
   },
   {
    "duration": 408,
    "start_time": "2022-04-05T05:28:15.359Z"
   },
   {
    "duration": 322,
    "start_time": "2022-04-05T05:28:15.770Z"
   },
   {
    "duration": 493,
    "start_time": "2022-04-05T05:28:16.095Z"
   },
   {
    "duration": 8,
    "start_time": "2022-04-05T05:28:16.594Z"
   },
   {
    "duration": 36,
    "start_time": "2022-04-05T05:28:16.604Z"
   },
   {
    "duration": 333,
    "start_time": "2022-04-05T05:28:16.642Z"
   },
   {
    "duration": 12,
    "start_time": "2022-04-05T05:28:16.977Z"
   },
   {
    "duration": 13,
    "start_time": "2022-04-05T05:28:16.991Z"
   },
   {
    "duration": 454,
    "start_time": "2022-04-05T05:28:17.006Z"
   },
   {
    "duration": 11,
    "start_time": "2022-04-05T05:28:17.466Z"
   },
   {
    "duration": 11,
    "start_time": "2022-04-05T05:28:17.480Z"
   },
   {
    "duration": 242,
    "start_time": "2022-04-05T05:28:17.493Z"
   },
   {
    "duration": 231,
    "start_time": "2022-04-05T05:28:17.738Z"
   },
   {
    "duration": 6,
    "start_time": "2022-04-05T05:28:17.972Z"
   },
   {
    "duration": 326,
    "start_time": "2022-04-05T05:28:17.980Z"
   },
   {
    "duration": 252,
    "start_time": "2022-04-05T05:28:18.308Z"
   },
   {
    "duration": 9,
    "start_time": "2022-04-05T05:28:18.562Z"
   },
   {
    "duration": 16,
    "start_time": "2022-04-05T05:28:18.573Z"
   },
   {
    "duration": 10,
    "start_time": "2022-04-05T05:28:18.592Z"
   },
   {
    "duration": 88,
    "start_time": "2022-04-05T05:28:18.604Z"
   },
   {
    "duration": 83,
    "start_time": "2022-04-05T05:28:18.694Z"
   },
   {
    "duration": 22,
    "start_time": "2022-04-05T05:28:18.780Z"
   },
   {
    "duration": 20,
    "start_time": "2022-04-05T05:28:18.804Z"
   },
   {
    "duration": 98,
    "start_time": "2022-04-05T05:28:18.825Z"
   },
   {
    "duration": 90,
    "start_time": "2022-04-05T05:28:18.925Z"
   },
   {
    "duration": 50,
    "start_time": "2022-04-05T05:28:19.017Z"
   },
   {
    "duration": 16,
    "start_time": "2022-04-05T05:28:19.069Z"
   },
   {
    "duration": 274,
    "start_time": "2022-04-05T05:28:19.087Z"
   },
   {
    "duration": 32,
    "start_time": "2022-04-05T05:28:19.363Z"
   },
   {
    "duration": 15,
    "start_time": "2022-04-05T05:28:19.398Z"
   },
   {
    "duration": 13,
    "start_time": "2022-04-05T05:28:19.415Z"
   },
   {
    "duration": 45,
    "start_time": "2022-04-05T05:28:19.430Z"
   },
   {
    "duration": 82,
    "start_time": "2022-04-05T05:28:19.477Z"
   },
   {
    "duration": 0,
    "start_time": "2022-04-05T05:28:19.562Z"
   },
   {
    "duration": 0,
    "start_time": "2022-04-05T05:28:19.564Z"
   },
   {
    "duration": 13,
    "start_time": "2022-04-05T06:04:45.526Z"
   },
   {
    "duration": 30,
    "start_time": "2022-04-05T06:08:05.928Z"
   },
   {
    "duration": 20,
    "start_time": "2022-04-05T06:14:19.743Z"
   },
   {
    "duration": 131,
    "start_time": "2022-04-05T06:17:18.871Z"
   },
   {
    "duration": 17,
    "start_time": "2022-04-05T06:17:26.805Z"
   },
   {
    "duration": 12,
    "start_time": "2022-04-05T06:17:55.457Z"
   },
   {
    "duration": 72,
    "start_time": "2022-04-05T07:59:59.105Z"
   },
   {
    "duration": 16,
    "start_time": "2022-04-05T08:00:17.929Z"
   },
   {
    "duration": 14,
    "start_time": "2022-04-05T08:00:23.223Z"
   },
   {
    "duration": 17,
    "start_time": "2022-04-05T08:00:31.434Z"
   },
   {
    "duration": 16,
    "start_time": "2022-04-05T08:00:40.334Z"
   },
   {
    "duration": 14,
    "start_time": "2022-04-05T08:01:22.714Z"
   },
   {
    "duration": 1445,
    "start_time": "2022-04-05T08:02:36.956Z"
   },
   {
    "duration": 40,
    "start_time": "2022-04-05T08:02:38.405Z"
   },
   {
    "duration": 15,
    "start_time": "2022-04-05T08:02:38.447Z"
   },
   {
    "duration": 4,
    "start_time": "2022-04-05T08:02:38.465Z"
   },
   {
    "duration": 9,
    "start_time": "2022-04-05T08:02:38.472Z"
   },
   {
    "duration": 15,
    "start_time": "2022-04-05T08:02:38.483Z"
   },
   {
    "duration": 18,
    "start_time": "2022-04-05T08:02:38.500Z"
   },
   {
    "duration": 53,
    "start_time": "2022-04-05T08:02:38.520Z"
   },
   {
    "duration": 427,
    "start_time": "2022-04-05T08:02:38.576Z"
   },
   {
    "duration": 10,
    "start_time": "2022-04-05T08:02:39.006Z"
   },
   {
    "duration": 21,
    "start_time": "2022-04-05T08:02:39.019Z"
   },
   {
    "duration": 43,
    "start_time": "2022-04-05T08:02:39.043Z"
   },
   {
    "duration": 12,
    "start_time": "2022-04-05T08:02:39.089Z"
   },
   {
    "duration": 20,
    "start_time": "2022-04-05T08:02:39.109Z"
   },
   {
    "duration": 54,
    "start_time": "2022-04-05T08:02:39.131Z"
   },
   {
    "duration": 38,
    "start_time": "2022-04-05T08:02:39.188Z"
   },
   {
    "duration": 9,
    "start_time": "2022-04-05T08:02:39.228Z"
   },
   {
    "duration": 11,
    "start_time": "2022-04-05T08:02:39.268Z"
   },
   {
    "duration": 283,
    "start_time": "2022-04-05T08:02:39.282Z"
   },
   {
    "duration": 11,
    "start_time": "2022-04-05T08:02:39.567Z"
   },
   {
    "duration": 285,
    "start_time": "2022-04-05T08:02:39.580Z"
   },
   {
    "duration": 14,
    "start_time": "2022-04-05T08:02:39.868Z"
   },
   {
    "duration": 25,
    "start_time": "2022-04-05T08:02:39.884Z"
   },
   {
    "duration": 13,
    "start_time": "2022-04-05T08:02:39.912Z"
   },
   {
    "duration": 591,
    "start_time": "2022-04-05T08:02:39.927Z"
   },
   {
    "duration": 422,
    "start_time": "2022-04-05T08:02:40.520Z"
   },
   {
    "duration": 417,
    "start_time": "2022-04-05T08:02:40.944Z"
   },
   {
    "duration": 8,
    "start_time": "2022-04-05T08:02:41.363Z"
   },
   {
    "duration": 33,
    "start_time": "2022-04-05T08:02:41.373Z"
   },
   {
    "duration": 324,
    "start_time": "2022-04-05T08:02:41.409Z"
   },
   {
    "duration": 11,
    "start_time": "2022-04-05T08:02:41.736Z"
   },
   {
    "duration": 28,
    "start_time": "2022-04-05T08:02:41.749Z"
   },
   {
    "duration": 415,
    "start_time": "2022-04-05T08:02:41.779Z"
   },
   {
    "duration": 10,
    "start_time": "2022-04-05T08:02:42.196Z"
   },
   {
    "duration": 11,
    "start_time": "2022-04-05T08:02:42.208Z"
   },
   {
    "duration": 255,
    "start_time": "2022-04-05T08:02:42.220Z"
   },
   {
    "duration": 230,
    "start_time": "2022-04-05T08:02:42.477Z"
   },
   {
    "duration": 6,
    "start_time": "2022-04-05T08:02:42.710Z"
   },
   {
    "duration": 334,
    "start_time": "2022-04-05T08:02:42.718Z"
   },
   {
    "duration": 251,
    "start_time": "2022-04-05T08:02:43.054Z"
   },
   {
    "duration": 6,
    "start_time": "2022-04-05T08:02:43.311Z"
   },
   {
    "duration": 8,
    "start_time": "2022-04-05T08:02:43.319Z"
   },
   {
    "duration": 9,
    "start_time": "2022-04-05T08:02:43.329Z"
   },
   {
    "duration": 96,
    "start_time": "2022-04-05T08:02:43.340Z"
   },
   {
    "duration": 92,
    "start_time": "2022-04-05T08:02:43.438Z"
   },
   {
    "duration": 35,
    "start_time": "2022-04-05T08:02:43.532Z"
   },
   {
    "duration": 24,
    "start_time": "2022-04-05T08:02:43.570Z"
   },
   {
    "duration": 97,
    "start_time": "2022-04-05T08:02:43.596Z"
   },
   {
    "duration": 92,
    "start_time": "2022-04-05T08:02:43.695Z"
   },
   {
    "duration": 35,
    "start_time": "2022-04-05T08:02:43.789Z"
   },
   {
    "duration": 16,
    "start_time": "2022-04-05T08:02:43.826Z"
   },
   {
    "duration": 299,
    "start_time": "2022-04-05T08:02:43.868Z"
   },
   {
    "duration": 35,
    "start_time": "2022-04-05T08:02:44.169Z"
   },
   {
    "duration": 16,
    "start_time": "2022-04-05T08:02:44.206Z"
   },
   {
    "duration": 48,
    "start_time": "2022-04-05T08:02:44.225Z"
   },
   {
    "duration": 12,
    "start_time": "2022-04-05T08:02:44.276Z"
   },
   {
    "duration": 31,
    "start_time": "2022-04-05T08:02:44.291Z"
   },
   {
    "duration": 57,
    "start_time": "2022-04-05T08:02:44.325Z"
   },
   {
    "duration": 12,
    "start_time": "2022-04-05T08:02:44.385Z"
   },
   {
    "duration": 1282,
    "start_time": "2022-04-05T17:20:07.454Z"
   },
   {
    "duration": 1370,
    "start_time": "2022-04-06T14:11:18.983Z"
   },
   {
    "duration": 69,
    "start_time": "2022-04-06T14:11:20.355Z"
   },
   {
    "duration": 13,
    "start_time": "2022-04-06T14:11:20.425Z"
   },
   {
    "duration": 6,
    "start_time": "2022-04-06T14:11:20.439Z"
   },
   {
    "duration": 18,
    "start_time": "2022-04-06T14:11:20.448Z"
   },
   {
    "duration": 11,
    "start_time": "2022-04-06T14:11:20.468Z"
   },
   {
    "duration": 17,
    "start_time": "2022-04-06T14:11:20.480Z"
   },
   {
    "duration": 18,
    "start_time": "2022-04-06T14:11:20.499Z"
   },
   {
    "duration": 304,
    "start_time": "2022-04-06T14:11:20.518Z"
   },
   {
    "duration": 10,
    "start_time": "2022-04-06T14:11:20.824Z"
   },
   {
    "duration": 29,
    "start_time": "2022-04-06T14:11:20.836Z"
   },
   {
    "duration": 25,
    "start_time": "2022-04-06T14:11:20.867Z"
   },
   {
    "duration": 8,
    "start_time": "2022-04-06T14:11:20.894Z"
   },
   {
    "duration": 27,
    "start_time": "2022-04-06T14:11:20.906Z"
   },
   {
    "duration": 14,
    "start_time": "2022-04-06T14:11:20.935Z"
   },
   {
    "duration": 25,
    "start_time": "2022-04-06T14:11:20.952Z"
   },
   {
    "duration": 7,
    "start_time": "2022-04-06T14:11:20.979Z"
   },
   {
    "duration": 11,
    "start_time": "2022-04-06T14:11:20.988Z"
   },
   {
    "duration": 200,
    "start_time": "2022-04-06T14:11:21.000Z"
   },
   {
    "duration": 8,
    "start_time": "2022-04-06T14:11:21.203Z"
   },
   {
    "duration": 161,
    "start_time": "2022-04-06T14:11:21.213Z"
   },
   {
    "duration": 9,
    "start_time": "2022-04-06T14:11:21.376Z"
   },
   {
    "duration": 16,
    "start_time": "2022-04-06T14:11:21.387Z"
   },
   {
    "duration": 6,
    "start_time": "2022-04-06T14:11:21.406Z"
   },
   {
    "duration": 323,
    "start_time": "2022-04-06T14:11:21.432Z"
   },
   {
    "duration": 235,
    "start_time": "2022-04-06T14:11:21.758Z"
   },
   {
    "duration": 426,
    "start_time": "2022-04-06T14:11:21.995Z"
   },
   {
    "duration": 12,
    "start_time": "2022-04-06T14:11:22.423Z"
   },
   {
    "duration": 29,
    "start_time": "2022-04-06T14:11:22.437Z"
   },
   {
    "duration": 231,
    "start_time": "2022-04-06T14:11:22.468Z"
   },
   {
    "duration": 9,
    "start_time": "2022-04-06T14:11:22.701Z"
   },
   {
    "duration": 24,
    "start_time": "2022-04-06T14:11:22.711Z"
   },
   {
    "duration": 442,
    "start_time": "2022-04-06T14:11:22.736Z"
   },
   {
    "duration": 7,
    "start_time": "2022-04-06T14:11:23.233Z"
   },
   {
    "duration": 11,
    "start_time": "2022-04-06T14:11:23.242Z"
   },
   {
    "duration": 312,
    "start_time": "2022-04-06T14:11:23.255Z"
   },
   {
    "duration": 311,
    "start_time": "2022-04-06T14:11:23.568Z"
   },
   {
    "duration": 5,
    "start_time": "2022-04-06T14:11:23.932Z"
   },
   {
    "duration": 445,
    "start_time": "2022-04-06T14:11:23.938Z"
   },
   {
    "duration": 205,
    "start_time": "2022-04-06T14:11:24.385Z"
   },
   {
    "duration": 6,
    "start_time": "2022-04-06T14:11:24.594Z"
   },
   {
    "duration": 10,
    "start_time": "2022-04-06T14:11:24.601Z"
   },
   {
    "duration": 19,
    "start_time": "2022-04-06T14:11:24.613Z"
   },
   {
    "duration": 49,
    "start_time": "2022-04-06T14:11:24.633Z"
   },
   {
    "duration": 58,
    "start_time": "2022-04-06T14:11:24.684Z"
   },
   {
    "duration": 20,
    "start_time": "2022-04-06T14:11:24.744Z"
   },
   {
    "duration": 14,
    "start_time": "2022-04-06T14:11:24.765Z"
   },
   {
    "duration": 62,
    "start_time": "2022-04-06T14:11:24.781Z"
   },
   {
    "duration": 53,
    "start_time": "2022-04-06T14:11:24.845Z"
   },
   {
    "duration": 31,
    "start_time": "2022-04-06T14:11:24.900Z"
   },
   {
    "duration": 11,
    "start_time": "2022-04-06T14:11:24.933Z"
   },
   {
    "duration": 152,
    "start_time": "2022-04-06T14:11:24.945Z"
   },
   {
    "duration": 34,
    "start_time": "2022-04-06T14:11:25.099Z"
   },
   {
    "duration": 12,
    "start_time": "2022-04-06T14:11:25.136Z"
   },
   {
    "duration": 18,
    "start_time": "2022-04-06T14:11:25.149Z"
   },
   {
    "duration": 11,
    "start_time": "2022-04-06T14:11:25.169Z"
   },
   {
    "duration": 28,
    "start_time": "2022-04-06T14:11:25.182Z"
   },
   {
    "duration": 31,
    "start_time": "2022-04-06T14:11:25.211Z"
   },
   {
    "duration": 9,
    "start_time": "2022-04-06T14:11:25.244Z"
   },
   {
    "duration": 326,
    "start_time": "2022-04-06T14:11:54.336Z"
   },
   {
    "duration": 4,
    "start_time": "2022-04-06T14:18:30.113Z"
   },
   {
    "duration": 321,
    "start_time": "2022-04-06T14:18:42.935Z"
   },
   {
    "duration": 328,
    "start_time": "2022-04-06T14:18:56.302Z"
   },
   {
    "duration": 236,
    "start_time": "2022-04-06T14:20:39.999Z"
   },
   {
    "duration": 146,
    "start_time": "2022-04-06T14:21:29.641Z"
   },
   {
    "duration": 189,
    "start_time": "2022-04-06T14:22:37.660Z"
   },
   {
    "duration": 167,
    "start_time": "2022-04-06T14:24:03.445Z"
   },
   {
    "duration": 182,
    "start_time": "2022-04-06T14:24:14.264Z"
   },
   {
    "duration": 169,
    "start_time": "2022-04-06T14:24:22.634Z"
   },
   {
    "duration": 189,
    "start_time": "2022-04-06T14:24:45.714Z"
   },
   {
    "duration": 147,
    "start_time": "2022-04-06T14:27:14.168Z"
   },
   {
    "duration": 175,
    "start_time": "2022-04-06T14:27:55.217Z"
   },
   {
    "duration": 161,
    "start_time": "2022-04-06T14:28:01.425Z"
   },
   {
    "duration": 294,
    "start_time": "2022-04-06T14:28:09.610Z"
   },
   {
    "duration": 192,
    "start_time": "2022-04-06T14:28:21.219Z"
   },
   {
    "duration": 202,
    "start_time": "2022-04-06T14:28:32.221Z"
   },
   {
    "duration": 186,
    "start_time": "2022-04-06T14:28:39.850Z"
   },
   {
    "duration": 187,
    "start_time": "2022-04-06T14:28:59.033Z"
   },
   {
    "duration": 159,
    "start_time": "2022-04-06T15:05:43.001Z"
   },
   {
    "duration": 17,
    "start_time": "2022-04-06T15:07:05.087Z"
   },
   {
    "duration": 5,
    "start_time": "2022-04-06T15:07:32.218Z"
   },
   {
    "duration": 10,
    "start_time": "2022-04-06T15:07:38.961Z"
   },
   {
    "duration": 6,
    "start_time": "2022-04-06T15:08:06.744Z"
   },
   {
    "duration": 5,
    "start_time": "2022-04-06T15:08:17.091Z"
   },
   {
    "duration": 14,
    "start_time": "2022-04-06T15:08:38.122Z"
   },
   {
    "duration": 1186,
    "start_time": "2022-04-06T15:12:00.729Z"
   },
   {
    "duration": 72,
    "start_time": "2022-04-06T15:12:01.917Z"
   },
   {
    "duration": 13,
    "start_time": "2022-04-06T15:12:01.991Z"
   },
   {
    "duration": 13,
    "start_time": "2022-04-06T15:12:02.007Z"
   },
   {
    "duration": 18,
    "start_time": "2022-04-06T15:12:02.022Z"
   },
   {
    "duration": 23,
    "start_time": "2022-04-06T15:12:02.041Z"
   },
   {
    "duration": 27,
    "start_time": "2022-04-06T15:12:02.065Z"
   },
   {
    "duration": 43,
    "start_time": "2022-04-06T15:12:02.094Z"
   },
   {
    "duration": 317,
    "start_time": "2022-04-06T15:12:02.138Z"
   },
   {
    "duration": 6,
    "start_time": "2022-04-06T15:12:02.458Z"
   },
   {
    "duration": 26,
    "start_time": "2022-04-06T15:12:02.465Z"
   },
   {
    "duration": 33,
    "start_time": "2022-04-06T15:12:02.493Z"
   },
   {
    "duration": 10,
    "start_time": "2022-04-06T15:12:02.528Z"
   },
   {
    "duration": 16,
    "start_time": "2022-04-06T15:12:02.540Z"
   },
   {
    "duration": 23,
    "start_time": "2022-04-06T15:12:02.557Z"
   },
   {
    "duration": 41,
    "start_time": "2022-04-06T15:12:02.582Z"
   },
   {
    "duration": 11,
    "start_time": "2022-04-06T15:12:02.625Z"
   },
   {
    "duration": 23,
    "start_time": "2022-04-06T15:12:02.637Z"
   },
   {
    "duration": 287,
    "start_time": "2022-04-06T15:12:02.661Z"
   },
   {
    "duration": 9,
    "start_time": "2022-04-06T15:12:02.950Z"
   },
   {
    "duration": 310,
    "start_time": "2022-04-06T15:12:02.960Z"
   },
   {
    "duration": 61,
    "start_time": "2022-04-06T15:12:03.272Z"
   },
   {
    "duration": 30,
    "start_time": "2022-04-06T15:12:03.335Z"
   },
   {
    "duration": 25,
    "start_time": "2022-04-06T15:12:03.367Z"
   },
   {
    "duration": 705,
    "start_time": "2022-04-06T15:12:03.431Z"
   },
   {
    "duration": 406,
    "start_time": "2022-04-06T15:12:04.138Z"
   },
   {
    "duration": 328,
    "start_time": "2022-04-06T15:12:04.545Z"
   },
   {
    "duration": 6,
    "start_time": "2022-04-06T15:12:04.879Z"
   },
   {
    "duration": 36,
    "start_time": "2022-04-06T15:12:04.887Z"
   },
   {
    "duration": 238,
    "start_time": "2022-04-06T15:12:04.931Z"
   },
   {
    "duration": 10,
    "start_time": "2022-04-06T15:12:05.171Z"
   },
   {
    "duration": 21,
    "start_time": "2022-04-06T15:12:05.183Z"
   },
   {
    "duration": 372,
    "start_time": "2022-04-06T15:12:05.206Z"
   },
   {
    "duration": 8,
    "start_time": "2022-04-06T15:12:05.580Z"
   },
   {
    "duration": 12,
    "start_time": "2022-04-06T15:12:05.589Z"
   },
   {
    "duration": 167,
    "start_time": "2022-04-06T15:12:05.602Z"
   },
   {
    "duration": 170,
    "start_time": "2022-04-06T15:12:05.771Z"
   },
   {
    "duration": 5,
    "start_time": "2022-04-06T15:12:05.944Z"
   },
   {
    "duration": 266,
    "start_time": "2022-04-06T15:12:05.951Z"
   },
   {
    "duration": 172,
    "start_time": "2022-04-06T15:12:06.219Z"
   },
   {
    "duration": 214,
    "start_time": "2022-04-06T15:12:06.394Z"
   },
   {
    "duration": 7,
    "start_time": "2022-04-06T15:12:06.610Z"
   },
   {
    "duration": 10,
    "start_time": "2022-04-06T15:12:06.619Z"
   },
   {
    "duration": 12,
    "start_time": "2022-04-06T15:12:06.632Z"
   },
   {
    "duration": 58,
    "start_time": "2022-04-06T15:12:06.646Z"
   },
   {
    "duration": 53,
    "start_time": "2022-04-06T15:12:06.706Z"
   },
   {
    "duration": 21,
    "start_time": "2022-04-06T15:12:06.761Z"
   },
   {
    "duration": 16,
    "start_time": "2022-04-06T15:12:06.784Z"
   },
   {
    "duration": 67,
    "start_time": "2022-04-06T15:12:06.802Z"
   },
   {
    "duration": 70,
    "start_time": "2022-04-06T15:12:06.871Z"
   },
   {
    "duration": 24,
    "start_time": "2022-04-06T15:12:06.943Z"
   },
   {
    "duration": 12,
    "start_time": "2022-04-06T15:12:06.969Z"
   },
   {
    "duration": 155,
    "start_time": "2022-04-06T15:12:06.983Z"
   },
   {
    "duration": 29,
    "start_time": "2022-04-06T15:12:07.140Z"
   },
   {
    "duration": 11,
    "start_time": "2022-04-06T15:12:07.171Z"
   },
   {
    "duration": 15,
    "start_time": "2022-04-06T15:12:07.184Z"
   },
   {
    "duration": 36,
    "start_time": "2022-04-06T15:12:07.200Z"
   },
   {
    "duration": 32,
    "start_time": "2022-04-06T15:12:07.237Z"
   },
   {
    "duration": 14,
    "start_time": "2022-04-06T15:12:07.271Z"
   },
   {
    "duration": 9,
    "start_time": "2022-04-06T15:12:07.287Z"
   },
   {
    "duration": 128,
    "start_time": "2022-04-06T15:15:08.472Z"
   }
  ],
  "kernelspec": {
   "display_name": "Python 3 (ipykernel)",
   "language": "python",
   "name": "python3"
  },
  "language_info": {
   "codemirror_mode": {
    "name": "ipython",
    "version": 3
   },
   "file_extension": ".py",
   "mimetype": "text/x-python",
   "name": "python",
   "nbconvert_exporter": "python",
   "pygments_lexer": "ipython3",
   "version": "3.9.7"
  },
  "toc": {
   "base_numbering": 1,
   "nav_menu": {},
   "number_sections": true,
   "sideBar": true,
   "skip_h1_title": true,
   "title_cell": "Оглавление",
   "title_sidebar": "Оглавление",
   "toc_cell": false,
   "toc_position": {
    "height": "calc(100% - 180px)",
    "left": "10px",
    "top": "150px",
    "width": "273.75px"
   },
   "toc_section_display": true,
   "toc_window_display": true
  }
 },
 "nbformat": 4,
 "nbformat_minor": 2
}
