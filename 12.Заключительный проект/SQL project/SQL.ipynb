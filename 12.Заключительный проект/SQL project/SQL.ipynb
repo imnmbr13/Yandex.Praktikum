{
 "cells": [
  {
   "cell_type": "markdown",
   "id": "0f5fb2ad",
   "metadata": {},
   "source": [
    "# SQL"
   ]
  },
  {
   "cell_type": "markdown",
   "id": "69756ba8",
   "metadata": {},
   "source": [
    "В быстроизменяющееся время огрнаичений и изоляций, компания купила крупный сервис для чтения книг по подписке. \n",
    "\n",
    "**Цель:** \n",
    "\n",
    "Проанализировать базу данных такого сервиса. Ведь эти данные помогут сформулировать ценностное предложение для\n",
    "нового продукта.\n",
    "\n",
    "**Задача:**\n",
    "\n",
    "Ответить на следующие вопросы:\n",
    "\n",
    "* Сколько книг вышло после 1 января 2000 года?\n",
    "* Для каждой книги определим количество обзоров и среднюю оценку;\n",
    "* Определим издательство, которое выпустило наибольшее число книг толще 50 страниц (таким образом исключии из анализа брошюры);\n",
    "* Определим автора с самой высокой средней оценкой книг (будем учитывать только книги с 50 и более оценками);\n",
    "* Посчитаем среднее количество обзоров от пользователей, которые поставили больше 50 оценок.\n",
    "\n"
   ]
  },
  {
   "cell_type": "markdown",
   "id": "b0cfd1f9",
   "metadata": {},
   "source": [
    "# Импорт библиотек, определение функций"
   ]
  },
  {
   "cell_type": "code",
   "execution_count": 1,
   "id": "20509d17",
   "metadata": {},
   "outputs": [],
   "source": [
    "# импортируем библиотеки\n",
    "import pandas as pd \n",
    "from sqlalchemy import create_engine \n",
    "# устанавливаем параметры\n",
    "db_config = {'user': 'praktikum_student', # имя пользователя\n",
    " 'pwd': 'Sdf4$2;d-d30pp', # пароль\n",
    " 'host': 'rc1b-wcoijxj3yxfsf3fs.mdb.yandexcloud.net', \n",
    " 'port': 6432, # порт подключения\n",
    " 'db': 'data-analyst-final-project-db'} # название базы данных\n",
    "connection_string = 'postgresql://{}:{}@{}:{}/{}'.format(db_config['user'], \n",
    " db_config['pwd'], \n",
    " db_config['host'], \n",
    " db_config['port'], \n",
    " db_config['db']) \n",
    "# сохраняем коннектор\n",
    "engine = create_engine(connection_string, connect_args={'sslmode':'require'})"
   ]
  },
  {
   "cell_type": "code",
   "execution_count": 2,
   "id": "da15a5a1",
   "metadata": {},
   "outputs": [],
   "source": [
    "#функцие будем передавать SQL запрос, она выводить ответ\n",
    "def sql_request(request):\n",
    "    query=request\n",
    "    temp = pd.io.sql.read_sql(query, con = engine)\n",
    "    return temp"
   ]
  },
  {
   "cell_type": "code",
   "execution_count": 3,
   "id": "44ec2f96",
   "metadata": {},
   "outputs": [],
   "source": [
    "#функцие будем передавать датасет, в цикле будем перебирать столбцы\n",
    "def dataset_info(dataset):\n",
    "    count = 0\n",
    "    dataset.columns = dataset.columns.str.lower().str.replace(' ','_') #тут приведем название столбцов к snake_case\n",
    "    for column in dataset.columns:\n",
    "        count += 1\n",
    "        print('Название столбца:     ',column)                          #покажет как называется столбец\n",
    "        print('Длина столбца:        ',len(dataset[column]))            #отобразит длину столбца\n",
    "        print('Количество пропусков: ',dataset[column].isna().sum())    #отобразит количество пропусков\n",
    "        print('Тип данных в столбце: ',dataset[column].dtype)           #покажет тип данных в столбце\n",
    "        print('Пример значений:      ')                                 \n",
    "        print(dataset[column].sample(5))                                 #отобразит уникальные значения\n",
    "        print('----------------')\n",
    "    print('Всего столбцов в датасете:', count)                          #подсчитаем количество столбцов в датасете\n",
    "    print('Количество дубликатов: ',dataset.duplicated().sum())         #подсчитает количество полных строк-дубликатов"
   ]
  },
  {
   "cell_type": "markdown",
   "id": "2ed051fd",
   "metadata": {},
   "source": [
    "## Знакомство с данными"
   ]
  },
  {
   "cell_type": "markdown",
   "id": "695d8ebb",
   "metadata": {},
   "source": [
    "Наши данные - информация о книгах, издательствах, авторах, а также пользовательские обзоры книг. А именно 5 таблиц: `books`, `authors`, `publishers`, `ratings`, `reviews`. Познакомимся с ними"
   ]
  },
  {
   "cell_type": "markdown",
   "id": "9395cef0",
   "metadata": {},
   "source": [
    "### Таблица books"
   ]
  },
  {
   "cell_type": "code",
   "execution_count": 4,
   "id": "f2f43b4a",
   "metadata": {},
   "outputs": [
    {
     "data": {
      "text/html": [
       "<div>\n",
       "<style scoped>\n",
       "    .dataframe tbody tr th:only-of-type {\n",
       "        vertical-align: middle;\n",
       "    }\n",
       "\n",
       "    .dataframe tbody tr th {\n",
       "        vertical-align: top;\n",
       "    }\n",
       "\n",
       "    .dataframe thead th {\n",
       "        text-align: right;\n",
       "    }\n",
       "</style>\n",
       "<table border=\"1\" class=\"dataframe\">\n",
       "  <thead>\n",
       "    <tr style=\"text-align: right;\">\n",
       "      <th></th>\n",
       "      <th>book_id</th>\n",
       "      <th>author_id</th>\n",
       "      <th>title</th>\n",
       "      <th>num_pages</th>\n",
       "      <th>publication_date</th>\n",
       "      <th>publisher_id</th>\n",
       "    </tr>\n",
       "  </thead>\n",
       "  <tbody>\n",
       "    <tr>\n",
       "      <th>0</th>\n",
       "      <td>1</td>\n",
       "      <td>546</td>\n",
       "      <td>'Salem's Lot</td>\n",
       "      <td>594</td>\n",
       "      <td>2005-11-01</td>\n",
       "      <td>93</td>\n",
       "    </tr>\n",
       "    <tr>\n",
       "      <th>1</th>\n",
       "      <td>2</td>\n",
       "      <td>465</td>\n",
       "      <td>1 000 Places to See Before You Die</td>\n",
       "      <td>992</td>\n",
       "      <td>2003-05-22</td>\n",
       "      <td>336</td>\n",
       "    </tr>\n",
       "    <tr>\n",
       "      <th>2</th>\n",
       "      <td>3</td>\n",
       "      <td>407</td>\n",
       "      <td>13 Little Blue Envelopes (Little Blue Envelope...</td>\n",
       "      <td>322</td>\n",
       "      <td>2010-12-21</td>\n",
       "      <td>135</td>\n",
       "    </tr>\n",
       "    <tr>\n",
       "      <th>3</th>\n",
       "      <td>4</td>\n",
       "      <td>82</td>\n",
       "      <td>1491: New Revelations of the Americas Before C...</td>\n",
       "      <td>541</td>\n",
       "      <td>2006-10-10</td>\n",
       "      <td>309</td>\n",
       "    </tr>\n",
       "    <tr>\n",
       "      <th>4</th>\n",
       "      <td>5</td>\n",
       "      <td>125</td>\n",
       "      <td>1776</td>\n",
       "      <td>386</td>\n",
       "      <td>2006-07-04</td>\n",
       "      <td>268</td>\n",
       "    </tr>\n",
       "  </tbody>\n",
       "</table>\n",
       "</div>"
      ],
      "text/plain": [
       "   book_id  author_id                                              title  \\\n",
       "0        1        546                                       'Salem's Lot   \n",
       "1        2        465                 1 000 Places to See Before You Die   \n",
       "2        3        407  13 Little Blue Envelopes (Little Blue Envelope...   \n",
       "3        4         82  1491: New Revelations of the Americas Before C...   \n",
       "4        5        125                                               1776   \n",
       "\n",
       "   num_pages publication_date  publisher_id  \n",
       "0        594       2005-11-01            93  \n",
       "1        992       2003-05-22           336  \n",
       "2        322       2010-12-21           135  \n",
       "3        541       2006-10-10           309  \n",
       "4        386       2006-07-04           268  "
      ]
     },
     "execution_count": 4,
     "metadata": {},
     "output_type": "execute_result"
    }
   ],
   "source": [
    "#загрузим данные в переменную и выведем 5 строк таблицы\n",
    "query = ''' SELECT *\n",
    "            FROM books\n",
    "        '''\n",
    "books = pd.io.sql.read_sql(query, con = engine)\n",
    "books.head()"
   ]
  },
  {
   "cell_type": "markdown",
   "id": "e2b60d96",
   "metadata": {},
   "source": [
    "**Таблица books**\n",
    "\n",
    "Содержит данные о книгах:\n",
    "\n",
    "* `book_id` — идентификатор книги;\n",
    "* `author_id` — идентификатор автора;\n",
    "* `title` — название книги;\n",
    "* `num_pages` — количество страниц;\n",
    "* `publication_date` — дата публикации книги;\n",
    "* `publisher_id` — идентификатор издателя."
   ]
  },
  {
   "cell_type": "code",
   "execution_count": 5,
   "id": "4780ba71",
   "metadata": {
    "scrolled": false
   },
   "outputs": [
    {
     "name": "stdout",
     "output_type": "stream",
     "text": [
      "Название столбца:      book_id\n",
      "Длина столбца:         1000\n",
      "Количество пропусков:  0\n",
      "Тип данных в столбце:  int64\n",
      "Пример значений:      \n",
      "462    463\n",
      "987    988\n",
      "56      57\n",
      "375    376\n",
      "692    693\n",
      "Name: book_id, dtype: int64\n",
      "----------------\n",
      "Название столбца:      author_id\n",
      "Длина столбца:         1000\n",
      "Количество пропусков:  0\n",
      "Тип данных в столбце:  int64\n",
      "Пример значений:      \n",
      "516    270\n",
      "277    476\n",
      "199    551\n",
      "950    540\n",
      "756    127\n",
      "Name: author_id, dtype: int64\n",
      "----------------\n",
      "Название столбца:      title\n",
      "Длина столбца:         1000\n",
      "Количество пропусков:  0\n",
      "Тип данных в столбце:  object\n",
      "Пример значений:      \n",
      "949                                  Uglies (Uglies  #1)\n",
      "233                     Fables  Vol. 1: Legends in Exile\n",
      "114        Bloody Bones (Anita Blake  Vampire Hunter #5)\n",
      "681    The Color of Water: A Black Man's Tribute to H...\n",
      "916                        The Yiddish Policemen's Union\n",
      "Name: title, dtype: object\n",
      "----------------\n",
      "Название столбца:      num_pages\n",
      "Длина столбца:         1000\n",
      "Количество пропусков:  0\n",
      "Тип данных в столбце:  int64\n",
      "Пример значений:      \n",
      "369    128\n",
      "602    405\n",
      "379    702\n",
      "81     252\n",
      "823    272\n",
      "Name: num_pages, dtype: int64\n",
      "----------------\n",
      "Название столбца:      publication_date\n",
      "Длина столбца:         1000\n",
      "Количество пропусков:  0\n",
      "Тип данных в столбце:  object\n",
      "Пример значений:      \n",
      "433    2004-08-03\n",
      "923    2003-06-26\n",
      "320    1980-10-22\n",
      "409    2006-03-07\n",
      "496    2005-07-26\n",
      "Name: publication_date, dtype: object\n",
      "----------------\n",
      "Название столбца:      publisher_id\n",
      "Длина столбца:         1000\n",
      "Количество пропусков:  0\n",
      "Тип данных в столбце:  int64\n",
      "Пример значений:      \n",
      "382     21\n",
      "27     146\n",
      "856    279\n",
      "981    268\n",
      "102    256\n",
      "Name: publisher_id, dtype: int64\n",
      "----------------\n",
      "Всего столбцов в датасете: 6\n",
      "Количество дубликатов:  0\n"
     ]
    }
   ],
   "source": [
    "#передадим функцие таблицу для анализа\n",
    "dataset_info(books)"
   ]
  },
  {
   "cell_type": "markdown",
   "id": "930e13d1",
   "metadata": {},
   "source": [
    "В таблице 6 столбцов и 1000 строк, пропусков не обнаружено, дубликатов тоже. В `publication_date` следовало бы преобразовать тип данных."
   ]
  },
  {
   "cell_type": "markdown",
   "id": "b1c3e7db",
   "metadata": {},
   "source": [
    "### Таблица authors"
   ]
  },
  {
   "cell_type": "code",
   "execution_count": 6,
   "id": "727f7a64",
   "metadata": {},
   "outputs": [
    {
     "data": {
      "text/html": [
       "<div>\n",
       "<style scoped>\n",
       "    .dataframe tbody tr th:only-of-type {\n",
       "        vertical-align: middle;\n",
       "    }\n",
       "\n",
       "    .dataframe tbody tr th {\n",
       "        vertical-align: top;\n",
       "    }\n",
       "\n",
       "    .dataframe thead th {\n",
       "        text-align: right;\n",
       "    }\n",
       "</style>\n",
       "<table border=\"1\" class=\"dataframe\">\n",
       "  <thead>\n",
       "    <tr style=\"text-align: right;\">\n",
       "      <th></th>\n",
       "      <th>author_id</th>\n",
       "      <th>author</th>\n",
       "    </tr>\n",
       "  </thead>\n",
       "  <tbody>\n",
       "    <tr>\n",
       "      <th>0</th>\n",
       "      <td>1</td>\n",
       "      <td>A.S. Byatt</td>\n",
       "    </tr>\n",
       "    <tr>\n",
       "      <th>1</th>\n",
       "      <td>2</td>\n",
       "      <td>Aesop/Laura Harris/Laura Gibbs</td>\n",
       "    </tr>\n",
       "    <tr>\n",
       "      <th>2</th>\n",
       "      <td>3</td>\n",
       "      <td>Agatha Christie</td>\n",
       "    </tr>\n",
       "    <tr>\n",
       "      <th>3</th>\n",
       "      <td>4</td>\n",
       "      <td>Alan Brennert</td>\n",
       "    </tr>\n",
       "    <tr>\n",
       "      <th>4</th>\n",
       "      <td>5</td>\n",
       "      <td>Alan Moore/David   Lloyd</td>\n",
       "    </tr>\n",
       "  </tbody>\n",
       "</table>\n",
       "</div>"
      ],
      "text/plain": [
       "   author_id                          author\n",
       "0          1                      A.S. Byatt\n",
       "1          2  Aesop/Laura Harris/Laura Gibbs\n",
       "2          3                 Agatha Christie\n",
       "3          4                   Alan Brennert\n",
       "4          5        Alan Moore/David   Lloyd"
      ]
     },
     "execution_count": 6,
     "metadata": {},
     "output_type": "execute_result"
    }
   ],
   "source": [
    "#загрузим данные в переменную и выведем 5 строк таблицы\n",
    "query = ''' SELECT *\n",
    "            FROM authors\n",
    "        '''\n",
    "authors = pd.io.sql.read_sql(query, con = engine)\n",
    "authors.head()"
   ]
  },
  {
   "cell_type": "markdown",
   "id": "63ee8f38",
   "metadata": {},
   "source": [
    "**Таблица authors**\n",
    "\n",
    "Содержит данные об авторах:\n",
    "\n",
    "* `author_id` — идентификатор автора;\n",
    "* `author` — имя автора."
   ]
  },
  {
   "cell_type": "code",
   "execution_count": 7,
   "id": "be9f0a5d",
   "metadata": {},
   "outputs": [
    {
     "name": "stdout",
     "output_type": "stream",
     "text": [
      "Название столбца:      author_id\n",
      "Длина столбца:         636\n",
      "Количество пропусков:  0\n",
      "Тип данных в столбце:  int64\n",
      "Пример значений:      \n",
      "107    108\n",
      "177    178\n",
      "187    188\n",
      "465    466\n",
      "506    507\n",
      "Name: author_id, dtype: int64\n",
      "----------------\n",
      "Название столбца:      author\n",
      "Длина столбца:         636\n",
      "Количество пропусков:  0\n",
      "Тип данных в столбце:  object\n",
      "Пример значений:      \n",
      "351              Kurt Vonnegut Jr.\n",
      "265                     Jane Green\n",
      "289                   Joanne Fluke\n",
      "323       Judi Barrett/Ron Barrett\n",
      "328    Julia Child/Alex Prud'Homme\n",
      "Name: author, dtype: object\n",
      "----------------\n",
      "Всего столбцов в датасете: 2\n",
      "Количество дубликатов:  0\n"
     ]
    }
   ],
   "source": [
    "#передадим функцие таблицу для анализа\n",
    "dataset_info(authors)"
   ]
  },
  {
   "cell_type": "markdown",
   "id": "c00579f5",
   "metadata": {},
   "source": [
    "В таблице 2 столбца и 636 строк, пропусков не обнаружено, дубликатов тоже, тип данных корректный."
   ]
  },
  {
   "cell_type": "markdown",
   "id": "d4a4ae5f",
   "metadata": {},
   "source": [
    "### Таблица publishers"
   ]
  },
  {
   "cell_type": "code",
   "execution_count": 8,
   "id": "237a625e",
   "metadata": {},
   "outputs": [
    {
     "data": {
      "text/html": [
       "<div>\n",
       "<style scoped>\n",
       "    .dataframe tbody tr th:only-of-type {\n",
       "        vertical-align: middle;\n",
       "    }\n",
       "\n",
       "    .dataframe tbody tr th {\n",
       "        vertical-align: top;\n",
       "    }\n",
       "\n",
       "    .dataframe thead th {\n",
       "        text-align: right;\n",
       "    }\n",
       "</style>\n",
       "<table border=\"1\" class=\"dataframe\">\n",
       "  <thead>\n",
       "    <tr style=\"text-align: right;\">\n",
       "      <th></th>\n",
       "      <th>publisher_id</th>\n",
       "      <th>publisher</th>\n",
       "    </tr>\n",
       "  </thead>\n",
       "  <tbody>\n",
       "    <tr>\n",
       "      <th>0</th>\n",
       "      <td>1</td>\n",
       "      <td>Ace</td>\n",
       "    </tr>\n",
       "    <tr>\n",
       "      <th>1</th>\n",
       "      <td>2</td>\n",
       "      <td>Ace Book</td>\n",
       "    </tr>\n",
       "    <tr>\n",
       "      <th>2</th>\n",
       "      <td>3</td>\n",
       "      <td>Ace Books</td>\n",
       "    </tr>\n",
       "    <tr>\n",
       "      <th>3</th>\n",
       "      <td>4</td>\n",
       "      <td>Ace Hardcover</td>\n",
       "    </tr>\n",
       "    <tr>\n",
       "      <th>4</th>\n",
       "      <td>5</td>\n",
       "      <td>Addison Wesley Publishing Company</td>\n",
       "    </tr>\n",
       "  </tbody>\n",
       "</table>\n",
       "</div>"
      ],
      "text/plain": [
       "   publisher_id                          publisher\n",
       "0             1                                Ace\n",
       "1             2                           Ace Book\n",
       "2             3                          Ace Books\n",
       "3             4                      Ace Hardcover\n",
       "4             5  Addison Wesley Publishing Company"
      ]
     },
     "execution_count": 8,
     "metadata": {},
     "output_type": "execute_result"
    }
   ],
   "source": [
    "#загрузим данные в переменную и выведем 5 строк таблицы\n",
    "query = ''' SELECT *\n",
    "            FROM publishers\n",
    "        '''\n",
    "publishers = pd.io.sql.read_sql(query, con = engine)\n",
    "publishers.head()"
   ]
  },
  {
   "cell_type": "markdown",
   "id": "dbe90a52",
   "metadata": {},
   "source": [
    "**Таблица publishers**\n",
    "\n",
    "Содержит данные об издательствах:\n",
    "\n",
    "* `publisher_id` — идентификатор издательства;\n",
    "* `publisher` — название издательства;"
   ]
  },
  {
   "cell_type": "code",
   "execution_count": 9,
   "id": "72eaa08a",
   "metadata": {},
   "outputs": [
    {
     "name": "stdout",
     "output_type": "stream",
     "text": [
      "Название столбца:      publisher_id\n",
      "Длина столбца:         340\n",
      "Количество пропусков:  0\n",
      "Тип данных в столбце:  int64\n",
      "Пример значений:      \n",
      "71      72\n",
      "222    223\n",
      "120    121\n",
      "147    148\n",
      "224    225\n",
      "Name: publisher_id, dtype: int64\n",
      "----------------\n",
      "Название столбца:      publisher\n",
      "Длина столбца:         340\n",
      "Количество пропусков:  0\n",
      "Тип данных в столбце:  object\n",
      "Пример значений:      \n",
      "64                         Corgi\n",
      "332    William Morrow Paperbacks\n",
      "286            TIme Warner Books\n",
      "164                   Kensington\n",
      "300             Turtleback Books\n",
      "Name: publisher, dtype: object\n",
      "----------------\n",
      "Всего столбцов в датасете: 2\n",
      "Количество дубликатов:  0\n"
     ]
    }
   ],
   "source": [
    "#передадим функцие таблицу для анализа\n",
    "dataset_info(publishers)"
   ]
  },
  {
   "cell_type": "markdown",
   "id": "ffec99a9",
   "metadata": {},
   "source": [
    "В таблице 2 столбца и 340 строк, пропусков не обнаружено, дубликатов тоже, типы данных правильные."
   ]
  },
  {
   "cell_type": "markdown",
   "id": "5f5c2900",
   "metadata": {},
   "source": [
    "### Таблица ratings"
   ]
  },
  {
   "cell_type": "code",
   "execution_count": 10,
   "id": "345cd5d5",
   "metadata": {},
   "outputs": [
    {
     "data": {
      "text/html": [
       "<div>\n",
       "<style scoped>\n",
       "    .dataframe tbody tr th:only-of-type {\n",
       "        vertical-align: middle;\n",
       "    }\n",
       "\n",
       "    .dataframe tbody tr th {\n",
       "        vertical-align: top;\n",
       "    }\n",
       "\n",
       "    .dataframe thead th {\n",
       "        text-align: right;\n",
       "    }\n",
       "</style>\n",
       "<table border=\"1\" class=\"dataframe\">\n",
       "  <thead>\n",
       "    <tr style=\"text-align: right;\">\n",
       "      <th></th>\n",
       "      <th>rating_id</th>\n",
       "      <th>book_id</th>\n",
       "      <th>username</th>\n",
       "      <th>rating</th>\n",
       "    </tr>\n",
       "  </thead>\n",
       "  <tbody>\n",
       "    <tr>\n",
       "      <th>0</th>\n",
       "      <td>1</td>\n",
       "      <td>1</td>\n",
       "      <td>ryanfranco</td>\n",
       "      <td>4</td>\n",
       "    </tr>\n",
       "    <tr>\n",
       "      <th>1</th>\n",
       "      <td>2</td>\n",
       "      <td>1</td>\n",
       "      <td>grantpatricia</td>\n",
       "      <td>2</td>\n",
       "    </tr>\n",
       "    <tr>\n",
       "      <th>2</th>\n",
       "      <td>3</td>\n",
       "      <td>1</td>\n",
       "      <td>brandtandrea</td>\n",
       "      <td>5</td>\n",
       "    </tr>\n",
       "    <tr>\n",
       "      <th>3</th>\n",
       "      <td>4</td>\n",
       "      <td>2</td>\n",
       "      <td>lorichen</td>\n",
       "      <td>3</td>\n",
       "    </tr>\n",
       "    <tr>\n",
       "      <th>4</th>\n",
       "      <td>5</td>\n",
       "      <td>2</td>\n",
       "      <td>mariokeller</td>\n",
       "      <td>2</td>\n",
       "    </tr>\n",
       "  </tbody>\n",
       "</table>\n",
       "</div>"
      ],
      "text/plain": [
       "   rating_id  book_id       username  rating\n",
       "0          1        1     ryanfranco       4\n",
       "1          2        1  grantpatricia       2\n",
       "2          3        1   brandtandrea       5\n",
       "3          4        2       lorichen       3\n",
       "4          5        2    mariokeller       2"
      ]
     },
     "execution_count": 10,
     "metadata": {},
     "output_type": "execute_result"
    }
   ],
   "source": [
    "#загрузим данные в переменную и выведем 5 строк таблицы\n",
    "query = ''' SELECT *\n",
    "            FROM ratings\n",
    "        '''\n",
    "ratings = pd.io.sql.read_sql(query, con = engine)\n",
    "ratings.head()"
   ]
  },
  {
   "cell_type": "markdown",
   "id": "ca9243e6",
   "metadata": {},
   "source": [
    "**Таблица ratings**\n",
    "\n",
    "Содержит данные о пользовательских оценках книг:\n",
    "\n",
    "* `rating_id` — идентификатор оценки;\n",
    "* `book_id` — идентификатор книги;\n",
    "* `username` — имя пользователя, оставившего оценку;\n",
    "* `rating` — оценка книги."
   ]
  },
  {
   "cell_type": "code",
   "execution_count": 11,
   "id": "d4b4eeed",
   "metadata": {},
   "outputs": [
    {
     "name": "stdout",
     "output_type": "stream",
     "text": [
      "Название столбца:      rating_id\n",
      "Длина столбца:         6456\n",
      "Количество пропусков:  0\n",
      "Тип данных в столбце:  int64\n",
      "Пример значений:      \n",
      "713      714\n",
      "4533    4534\n",
      "2905    2906\n",
      "2733    2734\n",
      "5565    5566\n",
      "Name: rating_id, dtype: int64\n",
      "----------------\n",
      "Название столбца:      book_id\n",
      "Длина столбца:         6456\n",
      "Количество пропусков:  0\n",
      "Тип данных в столбце:  int64\n",
      "Пример значений:      \n",
      "4979    766\n",
      "471      75\n",
      "3701    607\n",
      "2947    461\n",
      "4890    750\n",
      "Name: book_id, dtype: int64\n",
      "----------------\n",
      "Название столбца:      username\n",
      "Длина столбца:         6456\n",
      "Количество пропусков:  0\n",
      "Тип данных в столбце:  object\n",
      "Пример значений:      \n",
      "3216    abbottjames\n",
      "5678    lesliegibbs\n",
      "5198          ehall\n",
      "3612         ryan01\n",
      "3091       robert00\n",
      "Name: username, dtype: object\n",
      "----------------\n",
      "Название столбца:      rating\n",
      "Длина столбца:         6456\n",
      "Количество пропусков:  0\n",
      "Тип данных в столбце:  int64\n",
      "Пример значений:      \n",
      "3813    5\n",
      "4166    3\n",
      "1864    4\n",
      "3690    5\n",
      "4851    2\n",
      "Name: rating, dtype: int64\n",
      "----------------\n",
      "Всего столбцов в датасете: 4\n",
      "Количество дубликатов:  0\n"
     ]
    }
   ],
   "source": [
    "#передадим функцие таблицу для анализа\n",
    "dataset_info(ratings)"
   ]
  },
  {
   "cell_type": "markdown",
   "id": "8048283b",
   "metadata": {},
   "source": [
    "В таблице 4 столбца и 6456 строк, пропусков не обнаружено, дубликатов тоже, тип данных корректный."
   ]
  },
  {
   "cell_type": "markdown",
   "id": "a34d9081",
   "metadata": {},
   "source": [
    "### Таблица reviews"
   ]
  },
  {
   "cell_type": "code",
   "execution_count": 12,
   "id": "d0d20fcd",
   "metadata": {},
   "outputs": [
    {
     "data": {
      "text/html": [
       "<div>\n",
       "<style scoped>\n",
       "    .dataframe tbody tr th:only-of-type {\n",
       "        vertical-align: middle;\n",
       "    }\n",
       "\n",
       "    .dataframe tbody tr th {\n",
       "        vertical-align: top;\n",
       "    }\n",
       "\n",
       "    .dataframe thead th {\n",
       "        text-align: right;\n",
       "    }\n",
       "</style>\n",
       "<table border=\"1\" class=\"dataframe\">\n",
       "  <thead>\n",
       "    <tr style=\"text-align: right;\">\n",
       "      <th></th>\n",
       "      <th>review_id</th>\n",
       "      <th>book_id</th>\n",
       "      <th>username</th>\n",
       "      <th>text</th>\n",
       "    </tr>\n",
       "  </thead>\n",
       "  <tbody>\n",
       "    <tr>\n",
       "      <th>0</th>\n",
       "      <td>1</td>\n",
       "      <td>1</td>\n",
       "      <td>brandtandrea</td>\n",
       "      <td>Mention society tell send professor analysis. ...</td>\n",
       "    </tr>\n",
       "    <tr>\n",
       "      <th>1</th>\n",
       "      <td>2</td>\n",
       "      <td>1</td>\n",
       "      <td>ryanfranco</td>\n",
       "      <td>Foot glass pretty audience hit themselves. Amo...</td>\n",
       "    </tr>\n",
       "    <tr>\n",
       "      <th>2</th>\n",
       "      <td>3</td>\n",
       "      <td>2</td>\n",
       "      <td>lorichen</td>\n",
       "      <td>Listen treat keep worry. Miss husband tax but ...</td>\n",
       "    </tr>\n",
       "    <tr>\n",
       "      <th>3</th>\n",
       "      <td>4</td>\n",
       "      <td>3</td>\n",
       "      <td>johnsonamanda</td>\n",
       "      <td>Finally month interesting blue could nature cu...</td>\n",
       "    </tr>\n",
       "    <tr>\n",
       "      <th>4</th>\n",
       "      <td>5</td>\n",
       "      <td>3</td>\n",
       "      <td>scotttamara</td>\n",
       "      <td>Nation purpose heavy give wait song will. List...</td>\n",
       "    </tr>\n",
       "  </tbody>\n",
       "</table>\n",
       "</div>"
      ],
      "text/plain": [
       "   review_id  book_id       username  \\\n",
       "0          1        1   brandtandrea   \n",
       "1          2        1     ryanfranco   \n",
       "2          3        2       lorichen   \n",
       "3          4        3  johnsonamanda   \n",
       "4          5        3    scotttamara   \n",
       "\n",
       "                                                text  \n",
       "0  Mention society tell send professor analysis. ...  \n",
       "1  Foot glass pretty audience hit themselves. Amo...  \n",
       "2  Listen treat keep worry. Miss husband tax but ...  \n",
       "3  Finally month interesting blue could nature cu...  \n",
       "4  Nation purpose heavy give wait song will. List...  "
      ]
     },
     "execution_count": 12,
     "metadata": {},
     "output_type": "execute_result"
    }
   ],
   "source": [
    "#загрузим данные в переменную и выведем 5 строк таблицы\n",
    "query = ''' SELECT *\n",
    "            FROM reviews\n",
    "        '''\n",
    "reviews = pd.io.sql.read_sql(query, con = engine)\n",
    "reviews.head()"
   ]
  },
  {
   "cell_type": "markdown",
   "id": "8ffb0723",
   "metadata": {},
   "source": [
    "**Таблица reviews**\n",
    "\n",
    "Содержит данные о пользовательских обзорах на книги:\n",
    "\n",
    "* `review_id` — идентификатор обзора;\n",
    "* `book_id` — идентификатор книги;\n",
    "* `username` — имя пользователя, написавшего обзор;\n",
    "* `text` — текст обзора."
   ]
  },
  {
   "cell_type": "code",
   "execution_count": 13,
   "id": "bfdd8092",
   "metadata": {},
   "outputs": [
    {
     "name": "stdout",
     "output_type": "stream",
     "text": [
      "Название столбца:      review_id\n",
      "Длина столбца:         2793\n",
      "Количество пропусков:  0\n",
      "Тип данных в столбце:  int64\n",
      "Пример значений:      \n",
      "1241    1241\n",
      "970      971\n",
      "282      281\n",
      "1369    1369\n",
      "195      195\n",
      "Name: review_id, dtype: int64\n",
      "----------------\n",
      "Название столбца:      book_id\n",
      "Длина столбца:         2793\n",
      "Количество пропусков:  0\n",
      "Тип данных в столбце:  int64\n",
      "Пример значений:      \n",
      "1041    382\n",
      "2059    740\n",
      "2428    869\n",
      "537     197\n",
      "1612    584\n",
      "Name: book_id, dtype: int64\n",
      "----------------\n",
      "Название столбца:      username\n",
      "Длина столбца:         2793\n",
      "Количество пропусков:  0\n",
      "Тип данных в столбце:  object\n",
      "Пример значений:      \n",
      "22      williamsangela\n",
      "806         ryanfranco\n",
      "1406      valenciaanne\n",
      "2181             jhill\n",
      "2599       conradanita\n",
      "Name: username, dtype: object\n",
      "----------------\n",
      "Название столбца:      text\n",
      "Длина столбца:         2793\n",
      "Количество пропусков:  0\n",
      "Тип данных в столбце:  object\n",
      "Пример значений:      \n",
      "2715    Receive Mrs prove I field south also. Approach...\n",
      "992     Beat table one strategy school line. Before cu...\n",
      "2162    Production ask list parent meet center. First ...\n",
      "1534    Deep speak night central week evidence. Site f...\n",
      "1161    How his very clearly wait charge ask. Behavior...\n",
      "Name: text, dtype: object\n",
      "----------------\n",
      "Всего столбцов в датасете: 4\n",
      "Количество дубликатов:  0\n"
     ]
    }
   ],
   "source": [
    "#передадим функцие таблицу для анализа\n",
    "dataset_info(reviews)"
   ]
  },
  {
   "cell_type": "markdown",
   "id": "3dafbba9",
   "metadata": {},
   "source": [
    "В таблице 4 столбца и 2793 строк, пропусков не обнаружено, дубликатов тоже, тип данных корректный."
   ]
  },
  {
   "cell_type": "markdown",
   "id": "0e7ac14d",
   "metadata": {},
   "source": [
    "## Задачи"
   ]
  },
  {
   "cell_type": "markdown",
   "id": "3e218aa8",
   "metadata": {},
   "source": [
    "### Подсчет книг после 1 января 2000 года"
   ]
  },
  {
   "cell_type": "code",
   "execution_count": 14,
   "id": "29dcd0be",
   "metadata": {},
   "outputs": [
    {
     "data": {
      "text/html": [
       "<div>\n",
       "<style scoped>\n",
       "    .dataframe tbody tr th:only-of-type {\n",
       "        vertical-align: middle;\n",
       "    }\n",
       "\n",
       "    .dataframe tbody tr th {\n",
       "        vertical-align: top;\n",
       "    }\n",
       "\n",
       "    .dataframe thead th {\n",
       "        text-align: right;\n",
       "    }\n",
       "</style>\n",
       "<table border=\"1\" class=\"dataframe\">\n",
       "  <thead>\n",
       "    <tr style=\"text-align: right;\">\n",
       "      <th></th>\n",
       "      <th>books_count</th>\n",
       "    </tr>\n",
       "  </thead>\n",
       "  <tbody>\n",
       "    <tr>\n",
       "      <th>0</th>\n",
       "      <td>819</td>\n",
       "    </tr>\n",
       "  </tbody>\n",
       "</table>\n",
       "</div>"
      ],
      "text/plain": [
       "   books_count\n",
       "0          819"
      ]
     },
     "execution_count": 14,
     "metadata": {},
     "output_type": "execute_result"
    }
   ],
   "source": [
    "sql_request(\n",
    "    ''' \n",
    "SELECT COUNT(book_id) books_count\n",
    "FROM books\n",
    "WHERE publication_date > '2000-01-01' \n",
    "        '''\n",
    ")"
   ]
  },
  {
   "cell_type": "markdown",
   "id": "26db08a6",
   "metadata": {},
   "source": [
    "После 1 января 2000 года вышло **819** книг."
   ]
  },
  {
   "cell_type": "markdown",
   "id": "581c5d93",
   "metadata": {},
   "source": [
    "### Определение количества обзоров и средней оценки для каждой книги"
   ]
  },
  {
   "cell_type": "code",
   "execution_count": 15,
   "id": "9b6c50d2",
   "metadata": {},
   "outputs": [
    {
     "data": {
      "text/html": [
       "<div>\n",
       "<style scoped>\n",
       "    .dataframe tbody tr th:only-of-type {\n",
       "        vertical-align: middle;\n",
       "    }\n",
       "\n",
       "    .dataframe tbody tr th {\n",
       "        vertical-align: top;\n",
       "    }\n",
       "\n",
       "    .dataframe thead th {\n",
       "        text-align: right;\n",
       "    }\n",
       "</style>\n",
       "<table border=\"1\" class=\"dataframe\">\n",
       "  <thead>\n",
       "    <tr style=\"text-align: right;\">\n",
       "      <th></th>\n",
       "      <th>id</th>\n",
       "      <th>title</th>\n",
       "      <th>review_count</th>\n",
       "      <th>avg_ratio</th>\n",
       "    </tr>\n",
       "  </thead>\n",
       "  <tbody>\n",
       "    <tr>\n",
       "      <th>0</th>\n",
       "      <td>1</td>\n",
       "      <td>'Salem's Lot</td>\n",
       "      <td>2</td>\n",
       "      <td>3.67</td>\n",
       "    </tr>\n",
       "    <tr>\n",
       "      <th>1</th>\n",
       "      <td>2</td>\n",
       "      <td>1 000 Places to See Before You Die</td>\n",
       "      <td>1</td>\n",
       "      <td>2.50</td>\n",
       "    </tr>\n",
       "    <tr>\n",
       "      <th>2</th>\n",
       "      <td>3</td>\n",
       "      <td>13 Little Blue Envelopes (Little Blue Envelope...</td>\n",
       "      <td>3</td>\n",
       "      <td>4.67</td>\n",
       "    </tr>\n",
       "    <tr>\n",
       "      <th>3</th>\n",
       "      <td>4</td>\n",
       "      <td>1491: New Revelations of the Americas Before C...</td>\n",
       "      <td>2</td>\n",
       "      <td>4.50</td>\n",
       "    </tr>\n",
       "    <tr>\n",
       "      <th>4</th>\n",
       "      <td>5</td>\n",
       "      <td>1776</td>\n",
       "      <td>4</td>\n",
       "      <td>4.00</td>\n",
       "    </tr>\n",
       "    <tr>\n",
       "      <th>...</th>\n",
       "      <td>...</td>\n",
       "      <td>...</td>\n",
       "      <td>...</td>\n",
       "      <td>...</td>\n",
       "    </tr>\n",
       "    <tr>\n",
       "      <th>995</th>\n",
       "      <td>996</td>\n",
       "      <td>Wyrd Sisters (Discworld  #6; Witches #2)</td>\n",
       "      <td>3</td>\n",
       "      <td>3.67</td>\n",
       "    </tr>\n",
       "    <tr>\n",
       "      <th>996</th>\n",
       "      <td>997</td>\n",
       "      <td>Xenocide (Ender's Saga  #3)</td>\n",
       "      <td>3</td>\n",
       "      <td>3.40</td>\n",
       "    </tr>\n",
       "    <tr>\n",
       "      <th>997</th>\n",
       "      <td>998</td>\n",
       "      <td>Year of Wonders</td>\n",
       "      <td>4</td>\n",
       "      <td>3.20</td>\n",
       "    </tr>\n",
       "    <tr>\n",
       "      <th>998</th>\n",
       "      <td>999</td>\n",
       "      <td>You Suck (A Love Story  #2)</td>\n",
       "      <td>2</td>\n",
       "      <td>4.50</td>\n",
       "    </tr>\n",
       "    <tr>\n",
       "      <th>999</th>\n",
       "      <td>1000</td>\n",
       "      <td>Zen and the Art of Motorcycle Maintenance: An ...</td>\n",
       "      <td>4</td>\n",
       "      <td>3.83</td>\n",
       "    </tr>\n",
       "  </tbody>\n",
       "</table>\n",
       "<p>1000 rows × 4 columns</p>\n",
       "</div>"
      ],
      "text/plain": [
       "       id                                              title  review_count  \\\n",
       "0       1                                       'Salem's Lot             2   \n",
       "1       2                 1 000 Places to See Before You Die             1   \n",
       "2       3  13 Little Blue Envelopes (Little Blue Envelope...             3   \n",
       "3       4  1491: New Revelations of the Americas Before C...             2   \n",
       "4       5                                               1776             4   \n",
       "..    ...                                                ...           ...   \n",
       "995   996           Wyrd Sisters (Discworld  #6; Witches #2)             3   \n",
       "996   997                        Xenocide (Ender's Saga  #3)             3   \n",
       "997   998                                    Year of Wonders             4   \n",
       "998   999                        You Suck (A Love Story  #2)             2   \n",
       "999  1000  Zen and the Art of Motorcycle Maintenance: An ...             4   \n",
       "\n",
       "     avg_ratio  \n",
       "0         3.67  \n",
       "1         2.50  \n",
       "2         4.67  \n",
       "3         4.50  \n",
       "4         4.00  \n",
       "..         ...  \n",
       "995       3.67  \n",
       "996       3.40  \n",
       "997       3.20  \n",
       "998       4.50  \n",
       "999       3.83  \n",
       "\n",
       "[1000 rows x 4 columns]"
      ]
     },
     "execution_count": 15,
     "metadata": {},
     "output_type": "execute_result"
    }
   ],
   "source": [
    "sql_request(\n",
    "    ''' SELECT b.book_id as id, title,\n",
    "               COUNT(DISTINCT(review_id)) review_count,\n",
    "               ROUND(avg(rating),2) avg_ratio\n",
    "        FROM books b\n",
    "        LEFT JOIN ratings r ON b.book_id=r.book_id\n",
    "        LEFT JOIN reviews rw ON b.book_id=rw.book_id \n",
    "        GROUP BY id\n",
    "        '''\n",
    ")"
   ]
  },
  {
   "cell_type": "markdown",
   "id": "9f33ce90",
   "metadata": {},
   "source": [
    "Для каждой книги был рассчитан средний рейтинг и количество обзоров на эту книгу. Таких книг получилось 1000 штук."
   ]
  },
  {
   "cell_type": "markdown",
   "id": "9d0b2f69",
   "metadata": {},
   "source": [
    "### Определение издательства, которое выпустило наибольшее число книг толще 50 страниц"
   ]
  },
  {
   "cell_type": "code",
   "execution_count": 16,
   "id": "408ce278",
   "metadata": {},
   "outputs": [
    {
     "data": {
      "text/html": [
       "<div>\n",
       "<style scoped>\n",
       "    .dataframe tbody tr th:only-of-type {\n",
       "        vertical-align: middle;\n",
       "    }\n",
       "\n",
       "    .dataframe tbody tr th {\n",
       "        vertical-align: top;\n",
       "    }\n",
       "\n",
       "    .dataframe thead th {\n",
       "        text-align: right;\n",
       "    }\n",
       "</style>\n",
       "<table border=\"1\" class=\"dataframe\">\n",
       "  <thead>\n",
       "    <tr style=\"text-align: right;\">\n",
       "      <th></th>\n",
       "      <th>publisher</th>\n",
       "      <th>book_count</th>\n",
       "    </tr>\n",
       "  </thead>\n",
       "  <tbody>\n",
       "    <tr>\n",
       "      <th>0</th>\n",
       "      <td>Penguin Books</td>\n",
       "      <td>42</td>\n",
       "    </tr>\n",
       "  </tbody>\n",
       "</table>\n",
       "</div>"
      ],
      "text/plain": [
       "       publisher  book_count\n",
       "0  Penguin Books          42"
      ]
     },
     "execution_count": 16,
     "metadata": {},
     "output_type": "execute_result"
    }
   ],
   "source": [
    "sql_request(\n",
    "    ''' \n",
    "SELECT publisher, COUNT(DISTINCT(book_id)) book_count\n",
    "FROM books b\n",
    "LEFT JOIN publishers p ON b.publisher_id=p.publisher_id\n",
    "WHERE num_pages > 50 \n",
    "GROUP BY publisher\n",
    "ORDER BY book_count DESC\n",
    "LIMIT 1\n",
    "        '''\n",
    ")"
   ]
  },
  {
   "cell_type": "markdown",
   "id": "86f700f9",
   "metadata": {},
   "source": [
    "Издательство **Penguin Books** выпустило больше всего книг, а именно **42**. В расчет брались книги, в которых больше 50 страниц."
   ]
  },
  {
   "cell_type": "markdown",
   "id": "28493fbc",
   "metadata": {},
   "source": [
    "### Определение автора с самой высокой средней оценкой книг"
   ]
  },
  {
   "cell_type": "code",
   "execution_count": 27,
   "id": "5f6c24f5",
   "metadata": {},
   "outputs": [
    {
     "data": {
      "text/html": [
       "<div>\n",
       "<style scoped>\n",
       "    .dataframe tbody tr th:only-of-type {\n",
       "        vertical-align: middle;\n",
       "    }\n",
       "\n",
       "    .dataframe tbody tr th {\n",
       "        vertical-align: top;\n",
       "    }\n",
       "\n",
       "    .dataframe thead th {\n",
       "        text-align: right;\n",
       "    }\n",
       "</style>\n",
       "<table border=\"1\" class=\"dataframe\">\n",
       "  <thead>\n",
       "    <tr style=\"text-align: right;\">\n",
       "      <th></th>\n",
       "      <th>author</th>\n",
       "      <th>average_rating</th>\n",
       "    </tr>\n",
       "  </thead>\n",
       "  <tbody>\n",
       "    <tr>\n",
       "      <th>0</th>\n",
       "      <td>J.K. Rowling/Mary GrandPré</td>\n",
       "      <td>4.287097</td>\n",
       "    </tr>\n",
       "    <tr>\n",
       "      <th>1</th>\n",
       "      <td>Markus Zusak/Cao Xuân Việt Khương</td>\n",
       "      <td>4.264151</td>\n",
       "    </tr>\n",
       "    <tr>\n",
       "      <th>2</th>\n",
       "      <td>J.R.R. Tolkien</td>\n",
       "      <td>4.246914</td>\n",
       "    </tr>\n",
       "  </tbody>\n",
       "</table>\n",
       "</div>"
      ],
      "text/plain": [
       "                              author  average_rating\n",
       "0         J.K. Rowling/Mary GrandPré        4.287097\n",
       "1  Markus Zusak/Cao Xuân Việt Khương        4.264151\n",
       "2                     J.R.R. Tolkien        4.246914"
      ]
     },
     "execution_count": 27,
     "metadata": {},
     "output_type": "execute_result"
    }
   ],
   "source": [
    "sql_request(\n",
    "    ''' \n",
    "WITH ratio AS (\n",
    "SELECT b.book_id AS id,  b.title, b.author_id, COUNT(rating) AS ratings_cnt\n",
    "FROM books b\n",
    "LEFT JOIN ratings r on b.book_id = r.book_id\n",
    "GROUP BY id\n",
    "HAVING COUNT(rating) > 50)\n",
    "\n",
    "SELECT author, AVG(rating) as average_rating\n",
    "FROM ratio\n",
    "LEFT JOIN authors a on ratio.author_id = a.author_id\n",
    "LEFT JOIN ratings r on ratio.id = r.book_id\n",
    "GROUP BY author\n",
    "ORDER BY average_rating DESC\n",
    "LIMIT 3\n",
    "        '''\n",
    ")"
   ]
  },
  {
   "cell_type": "markdown",
   "id": "94410bdd",
   "metadata": {},
   "source": [
    "Самую высокую среднюю оценку (среди книг, у которых более 50 оценок) имеет автор - **J.K. Rowling/Mary GrandPré**"
   ]
  },
  {
   "cell_type": "markdown",
   "id": "c359c39f",
   "metadata": {},
   "source": [
    "### Подсчет среднего количества обзоров от пользователей, которые поставили больше 50 оценок"
   ]
  },
  {
   "cell_type": "code",
   "execution_count": 30,
   "id": "dacd6f84",
   "metadata": {},
   "outputs": [
    {
     "data": {
      "text/html": [
       "<div>\n",
       "<style scoped>\n",
       "    .dataframe tbody tr th:only-of-type {\n",
       "        vertical-align: middle;\n",
       "    }\n",
       "\n",
       "    .dataframe tbody tr th {\n",
       "        vertical-align: top;\n",
       "    }\n",
       "\n",
       "    .dataframe thead th {\n",
       "        text-align: right;\n",
       "    }\n",
       "</style>\n",
       "<table border=\"1\" class=\"dataframe\">\n",
       "  <thead>\n",
       "    <tr style=\"text-align: right;\">\n",
       "      <th></th>\n",
       "      <th>round</th>\n",
       "    </tr>\n",
       "  </thead>\n",
       "  <tbody>\n",
       "    <tr>\n",
       "      <th>0</th>\n",
       "      <td>24.33</td>\n",
       "    </tr>\n",
       "  </tbody>\n",
       "</table>\n",
       "</div>"
      ],
      "text/plain": [
       "   round\n",
       "0  24.33"
      ]
     },
     "execution_count": 30,
     "metadata": {},
     "output_type": "execute_result"
    }
   ],
   "source": [
    "sql_request(\n",
    "    ''' \n",
    "WITH top_ratio_user AS (\n",
    "SELECT username, COUNT(rating) AS ratings_cnt\n",
    "FROM ratings\n",
    "GROUP BY username\n",
    "HAVING COUNT(rating) > 50),\n",
    "\n",
    "review_value AS (\n",
    "SELECT top_ratio_user.username AS user, COUNT(review_id) as review_cnt\n",
    "FROM top_ratio_user\n",
    "LEFT JOIN reviews  r on top_ratio_user.username = r.username\n",
    "GROUP BY top_ratio_user.username)\n",
    "\n",
    "SELECT ROUND(AVG(review_cnt), 2)\n",
    "FROM review_value\n",
    "        '''\n",
    ")"
   ]
  },
  {
   "cell_type": "markdown",
   "id": "d035fb6b",
   "metadata": {},
   "source": [
    "Среднее количество обзоров от пользователей (которые поставили больше 50 оценок) - **24,33**"
   ]
  },
  {
   "cell_type": "markdown",
   "id": "e2010073",
   "metadata": {},
   "source": [
    "## Вывод"
   ]
  },
  {
   "cell_type": "markdown",
   "id": "d488b8dd",
   "metadata": {},
   "source": [
    "Данные в отличном состоянии, пропусков нет, дубликаты отсутствуют. Лишь в одной таблице и одном столбце необходимо привести тип данных к корректному виду."
   ]
  },
  {
   "cell_type": "markdown",
   "id": "b50f46a8",
   "metadata": {},
   "source": [
    "Ответив на поставленные вопросы, можно сфомировать ценностное предложение:\n",
    "\n",
    "В нашей базе книг содеражатся порядка 819 книг, вышедших в новом тысячелетии. От известных издательств и авторов, таких как J.K. Rowling/Mary GrandPré. Для каждой книги, найдете обзор и среднюю оценку от наших книголюбов, ведь они самые читающие - на одного приходится по 24 отзыва, которые помогут определиться с выбором."
   ]
  }
 ],
 "metadata": {
  "kernelspec": {
   "display_name": "Python 3 (ipykernel)",
   "language": "python",
   "name": "python3"
  },
  "language_info": {
   "codemirror_mode": {
    "name": "ipython",
    "version": 3
   },
   "file_extension": ".py",
   "mimetype": "text/x-python",
   "name": "python",
   "nbconvert_exporter": "python",
   "pygments_lexer": "ipython3",
   "version": "3.9.7"
  },
  "toc": {
   "base_numbering": 1,
   "nav_menu": {},
   "number_sections": true,
   "sideBar": true,
   "skip_h1_title": true,
   "title_cell": "Table of Contents",
   "title_sidebar": "Contents",
   "toc_cell": false,
   "toc_position": {},
   "toc_section_display": true,
   "toc_window_display": true
  }
 },
 "nbformat": 4,
 "nbformat_minor": 5
}
