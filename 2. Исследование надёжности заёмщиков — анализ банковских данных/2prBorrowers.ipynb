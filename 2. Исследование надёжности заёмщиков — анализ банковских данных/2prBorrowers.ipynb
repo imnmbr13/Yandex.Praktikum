{
  "metadata": {
    "ExecuteTimeLog": [
      {
        "duration": 856,
        "start_time": "2022-01-03T11:09:34.200Z"
      },
      {
        "duration": 79,
        "start_time": "2022-01-03T11:12:06.199Z"
      },
      {
        "duration": 15,
        "start_time": "2022-01-03T11:30:10.254Z"
      },
      {
        "duration": 28,
        "start_time": "2022-01-03T12:39:07.254Z"
      },
      {
        "duration": 550,
        "start_time": "2022-01-03T12:39:19.780Z"
      },
      {
        "duration": 292,
        "start_time": "2022-01-03T12:39:28.008Z"
      },
      {
        "duration": 30,
        "start_time": "2022-01-03T12:39:31.934Z"
      },
      {
        "duration": 7,
        "start_time": "2022-01-03T12:40:06.236Z"
      },
      {
        "duration": 237,
        "start_time": "2022-01-03T12:40:22.390Z"
      },
      {
        "duration": 7,
        "start_time": "2022-01-03T12:43:53.700Z"
      },
      {
        "duration": 480,
        "start_time": "2022-01-03T12:44:45.839Z"
      },
      {
        "duration": 16,
        "start_time": "2022-01-03T12:44:53.277Z"
      },
      {
        "duration": 12,
        "start_time": "2022-01-03T12:45:16.275Z"
      },
      {
        "duration": 296,
        "start_time": "2022-01-03T12:45:30.060Z"
      },
      {
        "duration": 336,
        "start_time": "2022-01-03T12:45:38.869Z"
      },
      {
        "duration": 12,
        "start_time": "2022-01-03T12:45:45.632Z"
      },
      {
        "duration": 284,
        "start_time": "2022-01-03T12:45:56.191Z"
      },
      {
        "duration": 23,
        "start_time": "2022-01-03T12:47:33.934Z"
      },
      {
        "duration": 149,
        "start_time": "2022-01-03T12:48:04.597Z"
      },
      {
        "duration": 21,
        "start_time": "2022-01-03T12:48:20.362Z"
      },
      {
        "duration": 81,
        "start_time": "2022-01-03T12:48:37.707Z"
      },
      {
        "duration": 29,
        "start_time": "2022-01-03T12:48:54.251Z"
      },
      {
        "duration": 25,
        "start_time": "2022-01-03T12:50:40.220Z"
      },
      {
        "duration": 82,
        "start_time": "2022-01-03T12:50:47.935Z"
      },
      {
        "duration": 9,
        "start_time": "2022-01-03T12:53:16.996Z"
      },
      {
        "duration": 10,
        "start_time": "2022-01-03T12:57:12.672Z"
      },
      {
        "duration": 11,
        "start_time": "2022-01-03T12:57:37.947Z"
      },
      {
        "duration": 11,
        "start_time": "2022-01-03T12:58:38.915Z"
      },
      {
        "duration": 277,
        "start_time": "2022-01-04T05:30:52.846Z"
      },
      {
        "duration": 677,
        "start_time": "2022-01-04T05:31:11.934Z"
      },
      {
        "duration": 11,
        "start_time": "2022-01-04T05:31:13.886Z"
      },
      {
        "duration": 6,
        "start_time": "2022-01-04T05:31:15.468Z"
      },
      {
        "duration": 5,
        "start_time": "2022-01-04T05:31:33.679Z"
      },
      {
        "duration": 5,
        "start_time": "2022-01-04T05:32:15.841Z"
      },
      {
        "duration": 5,
        "start_time": "2022-01-04T05:32:50.640Z"
      },
      {
        "duration": 4,
        "start_time": "2022-01-04T05:33:02.384Z"
      },
      {
        "duration": 5,
        "start_time": "2022-01-04T05:35:07.588Z"
      },
      {
        "duration": 5,
        "start_time": "2022-01-04T05:35:20.323Z"
      },
      {
        "duration": 6,
        "start_time": "2022-01-04T05:35:20.912Z"
      },
      {
        "duration": 5,
        "start_time": "2022-01-04T05:35:45.067Z"
      },
      {
        "duration": 5,
        "start_time": "2022-01-04T05:35:46.472Z"
      },
      {
        "duration": 7,
        "start_time": "2022-01-04T05:37:39.220Z"
      },
      {
        "duration": 5,
        "start_time": "2022-01-04T05:37:50.300Z"
      },
      {
        "duration": 4,
        "start_time": "2022-01-04T05:39:13.822Z"
      },
      {
        "duration": 5,
        "start_time": "2022-01-04T05:39:14.532Z"
      },
      {
        "duration": 17,
        "start_time": "2022-01-04T05:45:26.810Z"
      },
      {
        "duration": 17,
        "start_time": "2022-01-04T05:49:36.079Z"
      },
      {
        "duration": 6,
        "start_time": "2022-01-04T05:54:09.149Z"
      },
      {
        "duration": 8,
        "start_time": "2022-01-04T05:54:16.860Z"
      },
      {
        "duration": 6,
        "start_time": "2022-01-04T05:55:19.502Z"
      },
      {
        "duration": 6164,
        "start_time": "2022-01-04T05:57:02.166Z"
      },
      {
        "duration": 7,
        "start_time": "2022-01-04T05:57:19.140Z"
      },
      {
        "duration": 10,
        "start_time": "2022-01-04T05:58:09.668Z"
      },
      {
        "duration": 9,
        "start_time": "2022-01-04T06:01:00.756Z"
      },
      {
        "duration": 16,
        "start_time": "2022-01-04T06:01:58.150Z"
      },
      {
        "duration": 19,
        "start_time": "2022-01-04T06:05:04.414Z"
      },
      {
        "duration": 4813,
        "start_time": "2022-01-04T06:06:58.140Z"
      },
      {
        "duration": 5694,
        "start_time": "2022-01-04T06:07:12.780Z"
      },
      {
        "duration": 5122,
        "start_time": "2022-01-04T06:07:36.689Z"
      },
      {
        "duration": 127,
        "start_time": "2022-01-04T06:07:45.727Z"
      },
      {
        "duration": 12,
        "start_time": "2022-01-04T06:08:26.570Z"
      },
      {
        "duration": 12,
        "start_time": "2022-01-04T06:08:37.801Z"
      },
      {
        "duration": 11,
        "start_time": "2022-01-04T06:08:40.862Z"
      },
      {
        "duration": 256,
        "start_time": "2022-01-04T06:09:56.738Z"
      },
      {
        "duration": 13,
        "start_time": "2022-01-04T06:10:01.301Z"
      },
      {
        "duration": 13,
        "start_time": "2022-01-04T06:10:09.372Z"
      },
      {
        "duration": 10,
        "start_time": "2022-01-04T06:11:17.466Z"
      },
      {
        "duration": 6,
        "start_time": "2022-01-04T06:11:26.994Z"
      },
      {
        "duration": 4831,
        "start_time": "2022-01-04T06:11:39.499Z"
      },
      {
        "duration": 4829,
        "start_time": "2022-01-04T06:11:59.974Z"
      },
      {
        "duration": 6,
        "start_time": "2022-01-04T06:12:10.301Z"
      },
      {
        "duration": 6,
        "start_time": "2022-01-04T06:12:36.444Z"
      },
      {
        "duration": 408,
        "start_time": "2022-01-04T06:12:46.336Z"
      },
      {
        "duration": 6,
        "start_time": "2022-01-04T06:12:56.182Z"
      },
      {
        "duration": 6,
        "start_time": "2022-01-04T06:14:44.739Z"
      },
      {
        "duration": 7,
        "start_time": "2022-01-04T06:14:51.962Z"
      },
      {
        "duration": 5606,
        "start_time": "2022-01-04T06:14:58.975Z"
      },
      {
        "duration": 6,
        "start_time": "2022-01-04T06:15:40.054Z"
      },
      {
        "duration": 1838,
        "start_time": "2022-01-04T06:15:55.899Z"
      },
      {
        "duration": 6,
        "start_time": "2022-01-04T06:17:01.259Z"
      },
      {
        "duration": 6,
        "start_time": "2022-01-04T06:17:31.423Z"
      },
      {
        "duration": 5,
        "start_time": "2022-01-04T06:17:43.205Z"
      },
      {
        "duration": 8,
        "start_time": "2022-01-04T06:19:07.962Z"
      },
      {
        "duration": 10,
        "start_time": "2022-01-04T06:19:20.027Z"
      },
      {
        "duration": 25,
        "start_time": "2022-01-04T06:19:29.755Z"
      },
      {
        "duration": 9,
        "start_time": "2022-01-04T06:19:52.146Z"
      },
      {
        "duration": 8,
        "start_time": "2022-01-04T06:20:08.484Z"
      },
      {
        "duration": 8,
        "start_time": "2022-01-04T06:20:13.775Z"
      },
      {
        "duration": 9,
        "start_time": "2022-01-04T06:20:21.705Z"
      },
      {
        "duration": 10,
        "start_time": "2022-01-04T06:20:31.156Z"
      },
      {
        "duration": 234,
        "start_time": "2022-01-04T06:20:34.941Z"
      },
      {
        "duration": 25,
        "start_time": "2022-01-04T06:21:32.575Z"
      },
      {
        "duration": 8,
        "start_time": "2022-01-04T06:24:02.629Z"
      },
      {
        "duration": 9,
        "start_time": "2022-01-04T06:24:52.436Z"
      },
      {
        "duration": 6174,
        "start_time": "2022-01-04T06:25:13.962Z"
      },
      {
        "duration": 10,
        "start_time": "2022-01-04T06:25:24.678Z"
      },
      {
        "duration": 15,
        "start_time": "2022-01-04T06:25:38.467Z"
      },
      {
        "duration": 683,
        "start_time": "2022-01-04T06:26:05.066Z"
      },
      {
        "duration": 11,
        "start_time": "2022-01-04T06:26:05.751Z"
      },
      {
        "duration": 14,
        "start_time": "2022-01-04T06:26:05.764Z"
      },
      {
        "duration": 5,
        "start_time": "2022-01-04T06:26:05.780Z"
      },
      {
        "duration": 5,
        "start_time": "2022-01-04T06:26:05.787Z"
      },
      {
        "duration": 16,
        "start_time": "2022-01-04T06:26:05.793Z"
      },
      {
        "duration": 23,
        "start_time": "2022-01-04T06:26:05.811Z"
      },
      {
        "duration": 9,
        "start_time": "2022-01-04T06:26:05.860Z"
      },
      {
        "duration": 18,
        "start_time": "2022-01-04T06:26:47.048Z"
      },
      {
        "duration": 24,
        "start_time": "2022-01-04T06:26:55.062Z"
      },
      {
        "duration": 691,
        "start_time": "2022-01-04T06:27:33.938Z"
      },
      {
        "duration": 10,
        "start_time": "2022-01-04T06:27:34.631Z"
      },
      {
        "duration": 5,
        "start_time": "2022-01-04T06:27:34.643Z"
      },
      {
        "duration": 5,
        "start_time": "2022-01-04T06:27:34.650Z"
      },
      {
        "duration": 7,
        "start_time": "2022-01-04T06:27:34.656Z"
      },
      {
        "duration": 23,
        "start_time": "2022-01-04T06:27:34.665Z"
      },
      {
        "duration": 3,
        "start_time": "2022-01-04T06:27:34.689Z"
      },
      {
        "duration": 68,
        "start_time": "2022-01-04T06:29:20.527Z"
      },
      {
        "duration": 64,
        "start_time": "2022-01-04T06:31:39.696Z"
      },
      {
        "duration": 21,
        "start_time": "2022-01-04T06:33:46.296Z"
      },
      {
        "duration": 98,
        "start_time": "2022-01-04T06:35:42.280Z"
      },
      {
        "duration": 16,
        "start_time": "2022-01-04T06:35:46.854Z"
      },
      {
        "duration": 16,
        "start_time": "2022-01-04T06:44:34.590Z"
      },
      {
        "duration": 14,
        "start_time": "2022-01-04T06:44:56.171Z"
      },
      {
        "duration": 834,
        "start_time": "2022-01-04T06:46:16.880Z"
      },
      {
        "duration": 79,
        "start_time": "2022-01-04T06:46:26.710Z"
      },
      {
        "duration": 6071,
        "start_time": "2022-01-04T06:46:42.751Z"
      },
      {
        "duration": 20,
        "start_time": "2022-01-04T06:46:59.565Z"
      },
      {
        "duration": 11,
        "start_time": "2022-01-04T06:51:23.368Z"
      },
      {
        "duration": 11,
        "start_time": "2022-01-04T06:53:29.158Z"
      },
      {
        "duration": 653,
        "start_time": "2022-01-04T06:53:37.863Z"
      },
      {
        "duration": 10,
        "start_time": "2022-01-04T06:53:38.517Z"
      },
      {
        "duration": 8,
        "start_time": "2022-01-04T06:53:38.529Z"
      },
      {
        "duration": 5,
        "start_time": "2022-01-04T06:53:38.538Z"
      },
      {
        "duration": 17,
        "start_time": "2022-01-04T06:53:38.544Z"
      },
      {
        "duration": 16,
        "start_time": "2022-01-04T06:53:38.563Z"
      },
      {
        "duration": 10,
        "start_time": "2022-01-04T06:53:38.580Z"
      },
      {
        "duration": 15,
        "start_time": "2022-01-04T06:53:38.591Z"
      },
      {
        "duration": 10,
        "start_time": "2022-01-04T06:53:38.608Z"
      },
      {
        "duration": 50,
        "start_time": "2022-01-04T06:53:38.620Z"
      },
      {
        "duration": 333,
        "start_time": "2022-01-04T07:00:02.267Z"
      },
      {
        "duration": 263,
        "start_time": "2022-01-04T07:00:13.184Z"
      },
      {
        "duration": 20,
        "start_time": "2022-01-04T07:00:45.464Z"
      },
      {
        "duration": 21,
        "start_time": "2022-01-04T07:02:08.204Z"
      },
      {
        "duration": 11,
        "start_time": "2022-01-04T07:03:41.195Z"
      },
      {
        "duration": 15,
        "start_time": "2022-01-04T07:03:54.368Z"
      },
      {
        "duration": 17,
        "start_time": "2022-01-04T07:05:54.963Z"
      },
      {
        "duration": 15,
        "start_time": "2022-01-04T07:08:43.345Z"
      },
      {
        "duration": 18,
        "start_time": "2022-01-04T07:08:46.508Z"
      },
      {
        "duration": 60,
        "start_time": "2022-01-04T07:33:25.970Z"
      },
      {
        "duration": 57,
        "start_time": "2022-01-04T07:33:37.664Z"
      },
      {
        "duration": 60,
        "start_time": "2022-01-04T07:33:46.901Z"
      },
      {
        "duration": 244,
        "start_time": "2022-01-04T08:12:06.049Z"
      },
      {
        "duration": 7,
        "start_time": "2022-01-04T08:12:13.568Z"
      },
      {
        "duration": 252,
        "start_time": "2022-01-04T08:13:27.162Z"
      },
      {
        "duration": 13,
        "start_time": "2022-01-04T08:15:01.179Z"
      },
      {
        "duration": 18,
        "start_time": "2022-01-04T08:15:08.138Z"
      },
      {
        "duration": 29,
        "start_time": "2022-01-04T08:23:52.168Z"
      },
      {
        "duration": 31,
        "start_time": "2022-01-04T08:28:59.716Z"
      },
      {
        "duration": 28,
        "start_time": "2022-01-04T08:29:07.531Z"
      },
      {
        "duration": 18,
        "start_time": "2022-01-04T08:31:29.253Z"
      },
      {
        "duration": 18,
        "start_time": "2022-01-04T08:41:17.795Z"
      },
      {
        "duration": 28,
        "start_time": "2022-01-04T08:41:54.149Z"
      },
      {
        "duration": 670,
        "start_time": "2022-01-04T08:42:23.472Z"
      },
      {
        "duration": 12,
        "start_time": "2022-01-04T08:42:24.144Z"
      },
      {
        "duration": 7,
        "start_time": "2022-01-04T08:42:24.158Z"
      },
      {
        "duration": 5,
        "start_time": "2022-01-04T08:42:24.167Z"
      },
      {
        "duration": 7,
        "start_time": "2022-01-04T08:42:24.174Z"
      },
      {
        "duration": 18,
        "start_time": "2022-01-04T08:42:24.182Z"
      },
      {
        "duration": 10,
        "start_time": "2022-01-04T08:42:24.202Z"
      },
      {
        "duration": 14,
        "start_time": "2022-01-04T08:42:24.214Z"
      },
      {
        "duration": 18,
        "start_time": "2022-01-04T08:42:24.262Z"
      },
      {
        "duration": 7,
        "start_time": "2022-01-04T08:42:24.282Z"
      },
      {
        "duration": 21,
        "start_time": "2022-01-04T08:42:24.291Z"
      },
      {
        "duration": 23,
        "start_time": "2022-01-04T08:42:24.314Z"
      },
      {
        "duration": 51,
        "start_time": "2022-01-04T08:42:24.338Z"
      },
      {
        "duration": 28,
        "start_time": "2022-01-04T08:44:24.254Z"
      },
      {
        "duration": 17,
        "start_time": "2022-01-04T08:54:18.295Z"
      },
      {
        "duration": 29,
        "start_time": "2022-01-04T08:54:28.357Z"
      },
      {
        "duration": 36,
        "start_time": "2022-01-04T08:54:45.526Z"
      },
      {
        "duration": 27,
        "start_time": "2022-01-04T08:54:55.481Z"
      },
      {
        "duration": 18,
        "start_time": "2022-01-04T08:56:37.544Z"
      },
      {
        "duration": 29,
        "start_time": "2022-01-04T08:57:22.733Z"
      },
      {
        "duration": 29,
        "start_time": "2022-01-04T09:04:21.819Z"
      },
      {
        "duration": 1104,
        "start_time": "2022-01-04T09:04:32.643Z"
      },
      {
        "duration": 28,
        "start_time": "2022-01-04T09:05:17.920Z"
      },
      {
        "duration": 18,
        "start_time": "2022-01-04T09:06:34.057Z"
      },
      {
        "duration": 258,
        "start_time": "2022-01-04T09:06:47.273Z"
      },
      {
        "duration": 8,
        "start_time": "2022-01-04T09:06:48.543Z"
      },
      {
        "duration": 252,
        "start_time": "2022-01-04T09:07:03.835Z"
      },
      {
        "duration": 25,
        "start_time": "2022-01-04T09:07:09.041Z"
      },
      {
        "duration": 29,
        "start_time": "2022-01-04T09:07:20.596Z"
      },
      {
        "duration": 5,
        "start_time": "2022-01-04T09:08:01.374Z"
      },
      {
        "duration": 3,
        "start_time": "2022-01-04T09:08:29.109Z"
      },
      {
        "duration": 4,
        "start_time": "2022-01-04T09:08:32.832Z"
      },
      {
        "duration": 253,
        "start_time": "2022-01-04T09:08:55.499Z"
      },
      {
        "duration": 5,
        "start_time": "2022-01-04T09:09:18.812Z"
      },
      {
        "duration": 251,
        "start_time": "2022-01-04T09:10:27.179Z"
      },
      {
        "duration": 7,
        "start_time": "2022-01-04T09:10:45.322Z"
      },
      {
        "duration": 91,
        "start_time": "2022-01-04T09:12:19.400Z"
      },
      {
        "duration": 88,
        "start_time": "2022-01-04T09:12:32.712Z"
      },
      {
        "duration": 94,
        "start_time": "2022-01-04T09:12:45.094Z"
      },
      {
        "duration": 6251,
        "start_time": "2022-01-04T09:12:49.892Z"
      },
      {
        "duration": 21,
        "start_time": "2022-01-04T09:13:06.974Z"
      },
      {
        "duration": 12,
        "start_time": "2022-01-04T09:16:32.175Z"
      },
      {
        "duration": 260,
        "start_time": "2022-01-04T10:05:36.286Z"
      },
      {
        "duration": 9,
        "start_time": "2022-01-04T10:05:46.889Z"
      },
      {
        "duration": 18,
        "start_time": "2022-01-04T10:06:02.152Z"
      },
      {
        "duration": 17,
        "start_time": "2022-01-04T10:06:09.728Z"
      },
      {
        "duration": 686,
        "start_time": "2022-01-04T10:06:24.032Z"
      },
      {
        "duration": 11,
        "start_time": "2022-01-04T10:06:24.720Z"
      },
      {
        "duration": 6,
        "start_time": "2022-01-04T10:06:24.733Z"
      },
      {
        "duration": 20,
        "start_time": "2022-01-04T10:06:24.741Z"
      },
      {
        "duration": 18,
        "start_time": "2022-01-04T10:06:24.762Z"
      },
      {
        "duration": 18,
        "start_time": "2022-01-04T10:06:24.781Z"
      },
      {
        "duration": 32,
        "start_time": "2022-01-04T10:06:24.801Z"
      },
      {
        "duration": 9,
        "start_time": "2022-01-04T10:06:24.835Z"
      },
      {
        "duration": 18,
        "start_time": "2022-01-04T10:06:24.846Z"
      },
      {
        "duration": 11,
        "start_time": "2022-01-04T10:06:24.866Z"
      },
      {
        "duration": 16,
        "start_time": "2022-01-04T10:06:24.879Z"
      },
      {
        "duration": 15,
        "start_time": "2022-01-04T10:06:24.897Z"
      },
      {
        "duration": 28,
        "start_time": "2022-01-04T10:06:24.913Z"
      },
      {
        "duration": 31,
        "start_time": "2022-01-04T10:06:24.942Z"
      },
      {
        "duration": 36,
        "start_time": "2022-01-04T10:06:24.975Z"
      },
      {
        "duration": 18,
        "start_time": "2022-01-04T10:10:16.112Z"
      },
      {
        "duration": 17,
        "start_time": "2022-01-04T10:15:53.553Z"
      },
      {
        "duration": 14,
        "start_time": "2022-01-04T10:17:01.277Z"
      },
      {
        "duration": 16,
        "start_time": "2022-01-04T10:28:03.480Z"
      },
      {
        "duration": 4926,
        "start_time": "2022-01-04T10:31:36.001Z"
      },
      {
        "duration": 86,
        "start_time": "2022-01-04T10:31:47.108Z"
      },
      {
        "duration": 21,
        "start_time": "2022-01-04T10:31:52.285Z"
      },
      {
        "duration": 21,
        "start_time": "2022-01-04T10:32:24.062Z"
      },
      {
        "duration": 13,
        "start_time": "2022-01-04T10:33:13.993Z"
      },
      {
        "duration": 121,
        "start_time": "2022-01-04T10:38:06.319Z"
      },
      {
        "duration": 18,
        "start_time": "2022-01-04T10:44:34.038Z"
      },
      {
        "duration": 16,
        "start_time": "2022-01-04T10:44:39.650Z"
      },
      {
        "duration": 689,
        "start_time": "2022-01-04T10:44:51.255Z"
      },
      {
        "duration": 14,
        "start_time": "2022-01-04T10:44:51.947Z"
      },
      {
        "duration": 23,
        "start_time": "2022-01-04T10:44:51.964Z"
      },
      {
        "duration": 19,
        "start_time": "2022-01-04T10:44:51.989Z"
      },
      {
        "duration": 22,
        "start_time": "2022-01-04T10:44:52.009Z"
      },
      {
        "duration": 28,
        "start_time": "2022-01-04T10:44:52.033Z"
      },
      {
        "duration": 29,
        "start_time": "2022-01-04T10:44:52.063Z"
      },
      {
        "duration": 27,
        "start_time": "2022-01-04T10:44:52.094Z"
      },
      {
        "duration": 24,
        "start_time": "2022-01-04T10:44:52.123Z"
      },
      {
        "duration": 13,
        "start_time": "2022-01-04T10:44:52.148Z"
      },
      {
        "duration": 7,
        "start_time": "2022-01-04T10:44:52.163Z"
      },
      {
        "duration": 28,
        "start_time": "2022-01-04T10:44:52.172Z"
      },
      {
        "duration": 25,
        "start_time": "2022-01-04T10:44:52.201Z"
      },
      {
        "duration": 45,
        "start_time": "2022-01-04T10:44:52.228Z"
      },
      {
        "duration": 21,
        "start_time": "2022-01-04T10:45:08.420Z"
      },
      {
        "duration": 19,
        "start_time": "2022-01-04T10:45:21.638Z"
      },
      {
        "duration": 17,
        "start_time": "2022-01-04T10:46:02.508Z"
      },
      {
        "duration": 19,
        "start_time": "2022-01-04T10:46:24.711Z"
      },
      {
        "duration": 20,
        "start_time": "2022-01-04T10:46:33.211Z"
      },
      {
        "duration": 16,
        "start_time": "2022-01-04T10:47:03.647Z"
      },
      {
        "duration": 3354,
        "start_time": "2022-01-04T11:04:55.581Z"
      },
      {
        "duration": 3588,
        "start_time": "2022-01-04T11:09:00.845Z"
      },
      {
        "duration": 3253,
        "start_time": "2022-01-04T11:09:30.762Z"
      },
      {
        "duration": 9,
        "start_time": "2022-01-04T11:11:01.490Z"
      },
      {
        "duration": 3225,
        "start_time": "2022-01-04T11:12:38.110Z"
      },
      {
        "duration": 3285,
        "start_time": "2022-01-04T11:13:31.843Z"
      },
      {
        "duration": 3564,
        "start_time": "2022-01-04T11:13:57.130Z"
      },
      {
        "duration": 13,
        "start_time": "2022-01-04T11:52:17.529Z"
      },
      {
        "duration": 6,
        "start_time": "2022-01-04T12:04:38.748Z"
      },
      {
        "duration": 7,
        "start_time": "2022-01-04T12:07:55.049Z"
      },
      {
        "duration": 5,
        "start_time": "2022-01-04T12:10:03.873Z"
      },
      {
        "duration": 85,
        "start_time": "2022-01-04T12:12:00.556Z"
      },
      {
        "duration": 8,
        "start_time": "2022-01-04T12:12:07.648Z"
      },
      {
        "duration": 5,
        "start_time": "2022-01-04T12:13:53.106Z"
      },
      {
        "duration": 6,
        "start_time": "2022-01-04T12:14:22.107Z"
      },
      {
        "duration": 9,
        "start_time": "2022-01-04T12:15:41.032Z"
      },
      {
        "duration": 6,
        "start_time": "2022-01-04T12:16:14.128Z"
      },
      {
        "duration": 7,
        "start_time": "2022-01-04T12:16:51.562Z"
      },
      {
        "duration": 7,
        "start_time": "2022-01-04T12:17:24.378Z"
      },
      {
        "duration": 9,
        "start_time": "2022-01-04T12:17:48.641Z"
      },
      {
        "duration": 619,
        "start_time": "2022-01-04T12:18:16.707Z"
      },
      {
        "duration": 11,
        "start_time": "2022-01-04T12:18:17.328Z"
      },
      {
        "duration": 5,
        "start_time": "2022-01-04T12:18:17.341Z"
      },
      {
        "duration": 13,
        "start_time": "2022-01-04T12:18:17.348Z"
      },
      {
        "duration": 5,
        "start_time": "2022-01-04T12:18:17.362Z"
      },
      {
        "duration": 8,
        "start_time": "2022-01-04T12:18:17.369Z"
      },
      {
        "duration": 10,
        "start_time": "2022-01-04T12:18:17.378Z"
      },
      {
        "duration": 10,
        "start_time": "2022-01-04T12:18:17.389Z"
      },
      {
        "duration": 8,
        "start_time": "2022-01-04T12:18:17.401Z"
      },
      {
        "duration": 8,
        "start_time": "2022-01-04T12:18:17.410Z"
      },
      {
        "duration": 6,
        "start_time": "2022-01-04T12:18:17.420Z"
      },
      {
        "duration": 8,
        "start_time": "2022-01-04T12:18:17.427Z"
      },
      {
        "duration": 14,
        "start_time": "2022-01-04T12:18:17.461Z"
      },
      {
        "duration": 17,
        "start_time": "2022-01-04T12:18:17.476Z"
      },
      {
        "duration": 14,
        "start_time": "2022-01-04T12:18:17.494Z"
      },
      {
        "duration": 8,
        "start_time": "2022-01-04T12:18:17.510Z"
      },
      {
        "duration": 65,
        "start_time": "2022-01-04T12:18:17.520Z"
      },
      {
        "duration": 77,
        "start_time": "2022-01-04T12:18:17.587Z"
      },
      {
        "duration": 137,
        "start_time": "2022-01-04T12:18:17.667Z"
      },
      {
        "duration": 3241,
        "start_time": "2022-01-04T12:18:17.806Z"
      },
      {
        "duration": 16,
        "start_time": "2022-01-04T12:26:11.830Z"
      },
      {
        "duration": 11,
        "start_time": "2022-01-04T12:26:27.094Z"
      },
      {
        "duration": 717,
        "start_time": "2022-01-05T06:29:32.525Z"
      },
      {
        "duration": 13,
        "start_time": "2022-01-05T06:29:33.245Z"
      },
      {
        "duration": 23,
        "start_time": "2022-01-05T06:29:33.261Z"
      },
      {
        "duration": 13,
        "start_time": "2022-01-05T06:29:33.286Z"
      },
      {
        "duration": 11,
        "start_time": "2022-01-05T06:29:33.301Z"
      },
      {
        "duration": 17,
        "start_time": "2022-01-05T06:29:33.313Z"
      },
      {
        "duration": 24,
        "start_time": "2022-01-05T06:29:33.331Z"
      },
      {
        "duration": 24,
        "start_time": "2022-01-05T06:29:33.358Z"
      },
      {
        "duration": 28,
        "start_time": "2022-01-05T06:29:33.384Z"
      },
      {
        "duration": 34,
        "start_time": "2022-01-05T06:29:33.413Z"
      },
      {
        "duration": 22,
        "start_time": "2022-01-05T06:29:33.449Z"
      },
      {
        "duration": 25,
        "start_time": "2022-01-05T06:29:33.472Z"
      },
      {
        "duration": 30,
        "start_time": "2022-01-05T06:29:33.498Z"
      },
      {
        "duration": 39,
        "start_time": "2022-01-05T06:29:33.530Z"
      },
      {
        "duration": 27,
        "start_time": "2022-01-05T06:29:33.571Z"
      },
      {
        "duration": 29,
        "start_time": "2022-01-05T06:29:33.600Z"
      },
      {
        "duration": 30,
        "start_time": "2022-01-05T06:29:33.631Z"
      },
      {
        "duration": 28,
        "start_time": "2022-01-05T06:29:33.662Z"
      },
      {
        "duration": 19,
        "start_time": "2022-01-05T06:29:33.692Z"
      },
      {
        "duration": 31,
        "start_time": "2022-01-05T06:29:33.712Z"
      },
      {
        "duration": 3217,
        "start_time": "2022-01-05T06:29:33.745Z"
      },
      {
        "duration": 112,
        "start_time": "2022-01-05T06:40:35.657Z"
      },
      {
        "duration": 81,
        "start_time": "2022-01-05T06:49:04.521Z"
      },
      {
        "duration": 592,
        "start_time": "2022-01-05T12:47:45.376Z"
      },
      {
        "duration": 9,
        "start_time": "2022-01-05T12:47:45.970Z"
      },
      {
        "duration": 4,
        "start_time": "2022-01-05T12:47:45.983Z"
      },
      {
        "duration": 6,
        "start_time": "2022-01-05T12:47:45.989Z"
      },
      {
        "duration": 5,
        "start_time": "2022-01-05T12:47:45.996Z"
      },
      {
        "duration": 29,
        "start_time": "2022-01-05T12:47:46.002Z"
      },
      {
        "duration": 5,
        "start_time": "2022-01-05T12:47:46.033Z"
      },
      {
        "duration": 8,
        "start_time": "2022-01-05T12:47:46.040Z"
      },
      {
        "duration": 7,
        "start_time": "2022-01-05T12:47:46.049Z"
      },
      {
        "duration": 5,
        "start_time": "2022-01-05T12:47:46.057Z"
      },
      {
        "duration": 6,
        "start_time": "2022-01-05T12:47:46.063Z"
      },
      {
        "duration": 8,
        "start_time": "2022-01-05T12:47:46.070Z"
      },
      {
        "duration": 14,
        "start_time": "2022-01-05T12:47:46.080Z"
      },
      {
        "duration": 13,
        "start_time": "2022-01-05T12:47:46.127Z"
      },
      {
        "duration": 380,
        "start_time": "2022-01-05T12:47:46.141Z"
      },
      {
        "duration": -57,
        "start_time": "2022-01-05T12:47:46.580Z"
      },
      {
        "duration": -57,
        "start_time": "2022-01-05T12:47:46.581Z"
      },
      {
        "duration": -58,
        "start_time": "2022-01-05T12:47:46.583Z"
      },
      {
        "duration": -57,
        "start_time": "2022-01-05T12:47:46.584Z"
      },
      {
        "duration": -58,
        "start_time": "2022-01-05T12:47:46.586Z"
      },
      {
        "duration": -59,
        "start_time": "2022-01-05T12:47:46.588Z"
      },
      {
        "duration": 13,
        "start_time": "2022-01-05T12:49:10.912Z"
      },
      {
        "duration": 13,
        "start_time": "2022-01-05T12:50:57.670Z"
      },
      {
        "duration": 12,
        "start_time": "2022-01-05T12:53:20.886Z"
      },
      {
        "duration": 10,
        "start_time": "2022-01-05T12:58:57.914Z"
      },
      {
        "duration": 16,
        "start_time": "2022-01-05T13:01:56.658Z"
      },
      {
        "duration": 16,
        "start_time": "2022-01-05T13:02:11.751Z"
      },
      {
        "duration": 17,
        "start_time": "2022-01-05T13:02:28.432Z"
      },
      {
        "duration": 312,
        "start_time": "2022-01-06T07:34:41.706Z"
      },
      {
        "duration": 235,
        "start_time": "2022-01-06T07:34:57.662Z"
      },
      {
        "duration": 684,
        "start_time": "2022-01-06T07:35:05.709Z"
      },
      {
        "duration": 11,
        "start_time": "2022-01-06T07:35:06.394Z"
      },
      {
        "duration": 7,
        "start_time": "2022-01-06T07:35:06.406Z"
      },
      {
        "duration": 9,
        "start_time": "2022-01-06T07:35:06.415Z"
      },
      {
        "duration": 17,
        "start_time": "2022-01-06T07:35:06.425Z"
      },
      {
        "duration": 7,
        "start_time": "2022-01-06T07:35:06.443Z"
      },
      {
        "duration": 13,
        "start_time": "2022-01-06T07:35:06.452Z"
      },
      {
        "duration": 7,
        "start_time": "2022-01-06T07:35:06.468Z"
      },
      {
        "duration": 8,
        "start_time": "2022-01-06T07:35:06.477Z"
      },
      {
        "duration": 7,
        "start_time": "2022-01-06T07:35:06.487Z"
      },
      {
        "duration": 10,
        "start_time": "2022-01-06T07:35:06.496Z"
      },
      {
        "duration": 36,
        "start_time": "2022-01-06T07:35:06.508Z"
      },
      {
        "duration": 15,
        "start_time": "2022-01-06T07:35:06.546Z"
      },
      {
        "duration": 16,
        "start_time": "2022-01-06T07:35:06.562Z"
      },
      {
        "duration": 13,
        "start_time": "2022-01-06T07:35:06.579Z"
      },
      {
        "duration": 47,
        "start_time": "2022-01-06T07:35:06.594Z"
      },
      {
        "duration": 17,
        "start_time": "2022-01-06T07:35:06.643Z"
      },
      {
        "duration": 17,
        "start_time": "2022-01-06T07:35:06.661Z"
      },
      {
        "duration": 18,
        "start_time": "2022-01-06T07:35:06.680Z"
      },
      {
        "duration": 46,
        "start_time": "2022-01-06T07:35:06.699Z"
      },
      {
        "duration": 3551,
        "start_time": "2022-01-06T07:35:06.747Z"
      },
      {
        "duration": 42,
        "start_time": "2022-01-06T07:35:23.450Z"
      },
      {
        "duration": 290,
        "start_time": "2022-01-06T08:17:23.792Z"
      },
      {
        "duration": 24,
        "start_time": "2022-01-06T08:17:34.963Z"
      },
      {
        "duration": 38,
        "start_time": "2022-01-06T08:17:43.683Z"
      },
      {
        "duration": 36,
        "start_time": "2022-01-06T08:27:20.882Z"
      },
      {
        "duration": 3477,
        "start_time": "2022-01-06T08:27:24.791Z"
      },
      {
        "duration": 3339,
        "start_time": "2022-01-06T08:29:10.091Z"
      },
      {
        "duration": 7,
        "start_time": "2022-01-06T08:30:42.564Z"
      },
      {
        "duration": 7,
        "start_time": "2022-01-06T08:30:48.703Z"
      },
      {
        "duration": 403,
        "start_time": "2022-01-06T09:15:34.627Z"
      },
      {
        "duration": 7,
        "start_time": "2022-01-06T09:16:14.607Z"
      },
      {
        "duration": 1539,
        "start_time": "2022-01-06T09:18:07.812Z"
      },
      {
        "duration": 149,
        "start_time": "2022-01-06T09:20:49.604Z"
      },
      {
        "duration": 300,
        "start_time": "2022-01-06T09:21:08.335Z"
      },
      {
        "duration": 241,
        "start_time": "2022-01-06T09:21:24.328Z"
      },
      {
        "duration": 238,
        "start_time": "2022-01-06T09:21:33.958Z"
      },
      {
        "duration": 237,
        "start_time": "2022-01-06T09:21:40.450Z"
      },
      {
        "duration": 309,
        "start_time": "2022-01-06T09:22:49.202Z"
      },
      {
        "duration": 234,
        "start_time": "2022-01-06T09:23:04.465Z"
      },
      {
        "duration": 302,
        "start_time": "2022-01-06T09:23:11.424Z"
      },
      {
        "duration": 5,
        "start_time": "2022-01-06T09:23:42.057Z"
      },
      {
        "duration": 8,
        "start_time": "2022-01-06T09:23:58.887Z"
      },
      {
        "duration": 97,
        "start_time": "2022-01-06T09:24:26.599Z"
      },
      {
        "duration": 243,
        "start_time": "2022-01-06T09:24:37.568Z"
      },
      {
        "duration": 258,
        "start_time": "2022-01-06T09:24:44.611Z"
      },
      {
        "duration": 8,
        "start_time": "2022-01-06T09:25:01.740Z"
      },
      {
        "duration": 9,
        "start_time": "2022-01-06T09:26:24.617Z"
      },
      {
        "duration": 78,
        "start_time": "2022-01-06T09:26:27.089Z"
      },
      {
        "duration": 268,
        "start_time": "2022-01-06T09:26:49.108Z"
      },
      {
        "duration": 148,
        "start_time": "2022-01-06T09:26:54.558Z"
      },
      {
        "duration": 85,
        "start_time": "2022-01-06T09:27:05.916Z"
      },
      {
        "duration": 157,
        "start_time": "2022-01-06T09:27:15.739Z"
      },
      {
        "duration": 399,
        "start_time": "2022-01-06T09:28:49.023Z"
      },
      {
        "duration": 155,
        "start_time": "2022-01-06T09:31:39.161Z"
      },
      {
        "duration": 341,
        "start_time": "2022-01-06T09:32:37.961Z"
      },
      {
        "duration": 234,
        "start_time": "2022-01-06T09:32:57.940Z"
      },
      {
        "duration": 240,
        "start_time": "2022-01-06T09:33:05.317Z"
      },
      {
        "duration": 8,
        "start_time": "2022-01-06T09:33:26.728Z"
      },
      {
        "duration": 5,
        "start_time": "2022-01-06T09:41:37.810Z"
      },
      {
        "duration": 4,
        "start_time": "2022-01-06T09:41:46.713Z"
      },
      {
        "duration": 5,
        "start_time": "2022-01-06T09:41:58.022Z"
      },
      {
        "duration": 4,
        "start_time": "2022-01-06T09:42:16.389Z"
      },
      {
        "duration": 7,
        "start_time": "2022-01-06T09:46:07.586Z"
      },
      {
        "duration": 5,
        "start_time": "2022-01-06T09:46:31.386Z"
      },
      {
        "duration": 91,
        "start_time": "2022-01-06T09:53:02.111Z"
      },
      {
        "duration": 33,
        "start_time": "2022-01-06T09:53:09.434Z"
      },
      {
        "duration": 280,
        "start_time": "2022-01-06T09:53:25.416Z"
      },
      {
        "duration": 253,
        "start_time": "2022-01-06T09:53:50.037Z"
      },
      {
        "duration": 286,
        "start_time": "2022-01-06T09:54:06.163Z"
      },
      {
        "duration": 266,
        "start_time": "2022-01-06T09:54:35.774Z"
      },
      {
        "duration": 24,
        "start_time": "2022-01-06T09:54:50.954Z"
      },
      {
        "duration": 22,
        "start_time": "2022-01-06T09:55:20.878Z"
      },
      {
        "duration": 22,
        "start_time": "2022-01-06T09:56:04.452Z"
      },
      {
        "duration": 19,
        "start_time": "2022-01-06T09:57:11.604Z"
      },
      {
        "duration": 4460,
        "start_time": "2022-01-06T10:01:35.898Z"
      },
      {
        "duration": 18,
        "start_time": "2022-01-06T10:03:08.759Z"
      },
      {
        "duration": 7157,
        "start_time": "2022-01-06T10:03:28.373Z"
      },
      {
        "duration": 18,
        "start_time": "2022-01-06T10:03:47.477Z"
      },
      {
        "duration": 285,
        "start_time": "2022-01-06T10:06:41.725Z"
      },
      {
        "duration": 19,
        "start_time": "2022-01-06T10:09:39.746Z"
      },
      {
        "duration": 188,
        "start_time": "2022-01-06T10:09:58.335Z"
      },
      {
        "duration": 201,
        "start_time": "2022-01-06T10:10:45.928Z"
      },
      {
        "duration": 21,
        "start_time": "2022-01-06T10:16:35.703Z"
      },
      {
        "duration": 243,
        "start_time": "2022-01-06T10:20:37.833Z"
      },
      {
        "duration": 263,
        "start_time": "2022-01-06T10:22:13.487Z"
      },
      {
        "duration": 22,
        "start_time": "2022-01-06T10:22:23.718Z"
      },
      {
        "duration": 20,
        "start_time": "2022-01-06T10:22:45.905Z"
      },
      {
        "duration": 19,
        "start_time": "2022-01-06T10:23:01.860Z"
      },
      {
        "duration": 179,
        "start_time": "2022-01-06T10:24:28.623Z"
      },
      {
        "duration": 205,
        "start_time": "2022-01-06T10:25:05.451Z"
      },
      {
        "duration": 184,
        "start_time": "2022-01-06T10:25:31.672Z"
      },
      {
        "duration": 20,
        "start_time": "2022-01-06T10:31:02.500Z"
      },
      {
        "duration": 153,
        "start_time": "2022-01-06T10:31:04.400Z"
      },
      {
        "duration": 151,
        "start_time": "2022-01-06T10:32:10.809Z"
      },
      {
        "duration": 160,
        "start_time": "2022-01-06T10:33:09.374Z"
      },
      {
        "duration": 155,
        "start_time": "2022-01-06T10:33:21.360Z"
      },
      {
        "duration": 175,
        "start_time": "2022-01-06T10:33:48.245Z"
      },
      {
        "duration": 840,
        "start_time": "2022-01-06T12:42:06.039Z"
      },
      {
        "duration": 16,
        "start_time": "2022-01-06T12:42:06.882Z"
      },
      {
        "duration": 22,
        "start_time": "2022-01-06T12:42:06.901Z"
      },
      {
        "duration": 9,
        "start_time": "2022-01-06T12:42:06.926Z"
      },
      {
        "duration": 9,
        "start_time": "2022-01-06T12:42:06.937Z"
      },
      {
        "duration": 10,
        "start_time": "2022-01-06T12:42:06.948Z"
      },
      {
        "duration": 8,
        "start_time": "2022-01-06T12:42:06.961Z"
      },
      {
        "duration": 11,
        "start_time": "2022-01-06T12:42:07.018Z"
      },
      {
        "duration": 14,
        "start_time": "2022-01-06T12:42:07.032Z"
      },
      {
        "duration": 13,
        "start_time": "2022-01-06T12:42:07.048Z"
      },
      {
        "duration": 29,
        "start_time": "2022-01-06T12:42:07.063Z"
      },
      {
        "duration": 35,
        "start_time": "2022-01-06T12:42:07.094Z"
      },
      {
        "duration": 31,
        "start_time": "2022-01-06T12:42:07.131Z"
      },
      {
        "duration": 26,
        "start_time": "2022-01-06T12:42:07.165Z"
      },
      {
        "duration": 41,
        "start_time": "2022-01-06T12:42:07.194Z"
      },
      {
        "duration": 22,
        "start_time": "2022-01-06T12:42:07.238Z"
      },
      {
        "duration": 26,
        "start_time": "2022-01-06T12:42:07.263Z"
      },
      {
        "duration": 29,
        "start_time": "2022-01-06T12:42:07.319Z"
      },
      {
        "duration": 27,
        "start_time": "2022-01-06T12:42:07.351Z"
      },
      {
        "duration": 50,
        "start_time": "2022-01-06T12:42:07.417Z"
      },
      {
        "duration": 4450,
        "start_time": "2022-01-06T12:42:07.469Z"
      },
      {
        "duration": 777,
        "start_time": "2022-01-06T12:42:11.921Z"
      },
      {
        "duration": 20,
        "start_time": "2022-01-06T12:42:12.702Z"
      },
      {
        "duration": 31,
        "start_time": "2022-01-06T12:42:12.724Z"
      },
      {
        "duration": -187,
        "start_time": "2022-01-06T12:42:13.758Z"
      },
      {
        "duration": 592,
        "start_time": "2022-01-06T12:42:20.972Z"
      },
      {
        "duration": 700,
        "start_time": "2022-01-06T12:43:15.639Z"
      },
      {
        "duration": 693,
        "start_time": "2022-01-06T12:43:23.949Z"
      },
      {
        "duration": 605,
        "start_time": "2022-01-06T12:43:30.635Z"
      },
      {
        "duration": 360,
        "start_time": "2022-01-06T12:44:09.479Z"
      },
      {
        "duration": 27,
        "start_time": "2022-01-06T12:44:30.863Z"
      },
      {
        "duration": 756,
        "start_time": "2022-01-06T12:46:04.421Z"
      },
      {
        "duration": 92,
        "start_time": "2022-01-06T12:48:17.195Z"
      },
      {
        "duration": -173,
        "start_time": "2022-01-06T12:48:41.758Z"
      },
      {
        "duration": 33,
        "start_time": "2022-01-06T12:49:00.771Z"
      },
      {
        "duration": 31,
        "start_time": "2022-01-06T12:49:14.735Z"
      },
      {
        "duration": 30,
        "start_time": "2022-01-06T12:49:20.626Z"
      },
      {
        "duration": 32,
        "start_time": "2022-01-06T12:49:41.582Z"
      },
      {
        "duration": 32,
        "start_time": "2022-01-06T12:49:47.135Z"
      },
      {
        "duration": 381,
        "start_time": "2022-01-06T12:49:51.178Z"
      },
      {
        "duration": 31,
        "start_time": "2022-01-06T12:49:59.704Z"
      },
      {
        "duration": 34,
        "start_time": "2022-01-06T12:50:24.348Z"
      },
      {
        "duration": 38,
        "start_time": "2022-01-06T12:52:07.813Z"
      },
      {
        "duration": 35,
        "start_time": "2022-01-06T12:52:13.655Z"
      },
      {
        "duration": 34,
        "start_time": "2022-01-06T12:54:34.754Z"
      },
      {
        "duration": 484,
        "start_time": "2022-01-06T12:58:59.387Z"
      },
      {
        "duration": 10,
        "start_time": "2022-01-06T12:59:05.416Z"
      },
      {
        "duration": 35,
        "start_time": "2022-01-06T12:59:49.254Z"
      },
      {
        "duration": 28,
        "start_time": "2022-01-06T13:00:21.158Z"
      },
      {
        "duration": 30,
        "start_time": "2022-01-06T13:00:40.894Z"
      },
      {
        "duration": 32,
        "start_time": "2022-01-06T13:00:49.963Z"
      },
      {
        "duration": 34,
        "start_time": "2022-01-06T13:02:29.032Z"
      },
      {
        "duration": 38,
        "start_time": "2022-01-06T13:02:38.748Z"
      },
      {
        "duration": 32,
        "start_time": "2022-01-06T13:03:08.206Z"
      },
      {
        "duration": 9269,
        "start_time": "2022-01-06T13:09:01.100Z"
      },
      {
        "duration": 8358,
        "start_time": "2022-01-06T13:09:39.072Z"
      },
      {
        "duration": 8380,
        "start_time": "2022-01-06T13:09:57.061Z"
      },
      {
        "duration": 7472,
        "start_time": "2022-01-06T13:10:37.430Z"
      },
      {
        "duration": 1365,
        "start_time": "2022-01-06T13:11:19.394Z"
      },
      {
        "duration": 2072,
        "start_time": "2022-01-06T13:11:44.347Z"
      },
      {
        "duration": 1542,
        "start_time": "2022-01-06T13:12:23.224Z"
      },
      {
        "duration": 481,
        "start_time": "2022-01-06T13:13:31.025Z"
      },
      {
        "duration": 1308,
        "start_time": "2022-01-06T13:14:11.676Z"
      },
      {
        "duration": 1322,
        "start_time": "2022-01-06T13:15:52.971Z"
      },
      {
        "duration": 54,
        "start_time": "2022-01-06T13:16:48.329Z"
      },
      {
        "duration": 34,
        "start_time": "2022-01-06T13:16:52.345Z"
      },
      {
        "duration": 35,
        "start_time": "2022-01-06T13:16:53.308Z"
      },
      {
        "duration": 1292,
        "start_time": "2022-01-06T13:16:54.618Z"
      },
      {
        "duration": 486,
        "start_time": "2022-01-06T13:17:01.242Z"
      },
      {
        "duration": 36,
        "start_time": "2022-01-06T13:17:09.567Z"
      },
      {
        "duration": 36,
        "start_time": "2022-01-06T13:17:12.751Z"
      },
      {
        "duration": 1624,
        "start_time": "2022-01-06T13:17:14.235Z"
      },
      {
        "duration": 33,
        "start_time": "2022-01-06T13:19:26.850Z"
      },
      {
        "duration": 31,
        "start_time": "2022-01-06T13:20:21.068Z"
      },
      {
        "duration": 34,
        "start_time": "2022-01-06T13:21:39.297Z"
      },
      {
        "duration": 29,
        "start_time": "2022-01-06T13:21:59.823Z"
      },
      {
        "duration": 9,
        "start_time": "2022-01-06T13:22:33.536Z"
      },
      {
        "duration": 32,
        "start_time": "2022-01-06T13:22:46.913Z"
      },
      {
        "duration": 36,
        "start_time": "2022-01-06T13:24:16.407Z"
      },
      {
        "duration": 32,
        "start_time": "2022-01-06T13:25:43.247Z"
      },
      {
        "duration": 32,
        "start_time": "2022-01-06T13:25:45.669Z"
      },
      {
        "duration": 32,
        "start_time": "2022-01-06T13:25:59.474Z"
      },
      {
        "duration": 34,
        "start_time": "2022-01-06T13:26:11.071Z"
      },
      {
        "duration": 33,
        "start_time": "2022-01-06T13:26:16.444Z"
      },
      {
        "duration": 469,
        "start_time": "2022-01-06T13:51:56.274Z"
      },
      {
        "duration": 30,
        "start_time": "2022-01-06T13:55:26.515Z"
      },
      {
        "duration": 483,
        "start_time": "2022-01-06T13:55:36.257Z"
      },
      {
        "duration": 813,
        "start_time": "2022-01-06T13:55:50.352Z"
      },
      {
        "duration": 15,
        "start_time": "2022-01-06T13:55:51.167Z"
      },
      {
        "duration": 7,
        "start_time": "2022-01-06T13:55:51.185Z"
      },
      {
        "duration": 27,
        "start_time": "2022-01-06T13:55:51.195Z"
      },
      {
        "duration": 8,
        "start_time": "2022-01-06T13:55:51.224Z"
      },
      {
        "duration": 10,
        "start_time": "2022-01-06T13:55:51.235Z"
      },
      {
        "duration": 24,
        "start_time": "2022-01-06T13:55:51.247Z"
      },
      {
        "duration": 9,
        "start_time": "2022-01-06T13:55:51.276Z"
      },
      {
        "duration": 9,
        "start_time": "2022-01-06T13:55:51.317Z"
      },
      {
        "duration": 13,
        "start_time": "2022-01-06T13:55:51.329Z"
      },
      {
        "duration": 9,
        "start_time": "2022-01-06T13:55:51.344Z"
      },
      {
        "duration": 14,
        "start_time": "2022-01-06T13:55:51.355Z"
      },
      {
        "duration": 60,
        "start_time": "2022-01-06T13:55:51.371Z"
      },
      {
        "duration": 19,
        "start_time": "2022-01-06T13:55:51.433Z"
      },
      {
        "duration": 20,
        "start_time": "2022-01-06T13:55:51.454Z"
      },
      {
        "duration": 46,
        "start_time": "2022-01-06T13:55:51.476Z"
      },
      {
        "duration": 23,
        "start_time": "2022-01-06T13:55:51.524Z"
      },
      {
        "duration": 27,
        "start_time": "2022-01-06T13:55:51.549Z"
      },
      {
        "duration": 55,
        "start_time": "2022-01-06T13:55:51.578Z"
      },
      {
        "duration": 46,
        "start_time": "2022-01-06T13:55:51.635Z"
      },
      {
        "duration": 4497,
        "start_time": "2022-01-06T13:55:51.684Z"
      },
      {
        "duration": 489,
        "start_time": "2022-01-06T13:55:56.184Z"
      },
      {
        "duration": 41,
        "start_time": "2022-01-06T13:55:56.677Z"
      },
      {
        "duration": 579,
        "start_time": "2022-01-06T13:55:56.721Z"
      },
      {
        "duration": -207,
        "start_time": "2022-01-06T13:55:57.510Z"
      },
      {
        "duration": -208,
        "start_time": "2022-01-06T13:55:57.512Z"
      },
      {
        "duration": -208,
        "start_time": "2022-01-06T13:55:57.515Z"
      },
      {
        "duration": -208,
        "start_time": "2022-01-06T13:55:57.517Z"
      },
      {
        "duration": 33,
        "start_time": "2022-01-06T14:02:45.356Z"
      },
      {
        "duration": 43,
        "start_time": "2022-01-06T14:03:35.426Z"
      },
      {
        "duration": 32,
        "start_time": "2022-01-06T14:03:45.073Z"
      },
      {
        "duration": 31,
        "start_time": "2022-01-06T14:04:30.574Z"
      },
      {
        "duration": 32,
        "start_time": "2022-01-06T14:05:00.173Z"
      },
      {
        "duration": 33,
        "start_time": "2022-01-06T14:05:24.823Z"
      },
      {
        "duration": 36,
        "start_time": "2022-01-06T14:06:02.598Z"
      },
      {
        "duration": 475,
        "start_time": "2022-01-06T14:07:23.243Z"
      },
      {
        "duration": 309,
        "start_time": "2022-01-06T14:07:29.630Z"
      },
      {
        "duration": 7889,
        "start_time": "2022-01-06T14:08:14.408Z"
      },
      {
        "duration": 307,
        "start_time": "2022-01-06T14:08:25.466Z"
      },
      {
        "duration": 357,
        "start_time": "2022-01-06T14:12:09.362Z"
      },
      {
        "duration": 397,
        "start_time": "2022-01-06T14:12:16.904Z"
      },
      {
        "duration": 322,
        "start_time": "2022-01-06T14:12:25.319Z"
      },
      {
        "duration": 577,
        "start_time": "2022-01-06T14:13:50.499Z"
      },
      {
        "duration": 603,
        "start_time": "2022-01-06T14:14:00.036Z"
      },
      {
        "duration": 997,
        "start_time": "2022-01-06T14:17:20.397Z"
      },
      {
        "duration": 295,
        "start_time": "2022-01-06T14:17:31.115Z"
      },
      {
        "duration": 308,
        "start_time": "2022-01-06T14:17:52.319Z"
      },
      {
        "duration": 33,
        "start_time": "2022-01-06T14:19:35.025Z"
      },
      {
        "duration": 36,
        "start_time": "2022-01-06T14:20:01.008Z"
      },
      {
        "duration": 8579,
        "start_time": "2022-01-06T14:26:27.825Z"
      },
      {
        "duration": 324,
        "start_time": "2022-01-06T14:26:39.837Z"
      },
      {
        "duration": 7358,
        "start_time": "2022-01-06T14:26:51.612Z"
      },
      {
        "duration": 35,
        "start_time": "2022-01-06T14:27:09.595Z"
      },
      {
        "duration": 34,
        "start_time": "2022-01-06T14:27:20.648Z"
      },
      {
        "duration": 32,
        "start_time": "2022-01-06T14:27:43.506Z"
      },
      {
        "duration": 32,
        "start_time": "2022-01-06T14:28:09.160Z"
      },
      {
        "duration": 31,
        "start_time": "2022-01-06T14:28:17.728Z"
      },
      {
        "duration": 30,
        "start_time": "2022-01-06T14:28:37.257Z"
      },
      {
        "duration": 32,
        "start_time": "2022-01-06T14:28:51.817Z"
      },
      {
        "duration": 37,
        "start_time": "2022-01-06T14:28:57.317Z"
      },
      {
        "duration": 30,
        "start_time": "2022-01-06T14:29:00.461Z"
      },
      {
        "duration": 38,
        "start_time": "2022-01-06T14:29:14.827Z"
      },
      {
        "duration": 32,
        "start_time": "2022-01-06T14:29:26.754Z"
      },
      {
        "duration": 33,
        "start_time": "2022-01-06T14:29:46.285Z"
      },
      {
        "duration": 33,
        "start_time": "2022-01-06T14:30:03.676Z"
      },
      {
        "duration": 33,
        "start_time": "2022-01-06T14:30:16.791Z"
      },
      {
        "duration": 31,
        "start_time": "2022-01-06T14:39:38.034Z"
      },
      {
        "duration": 34,
        "start_time": "2022-01-06T15:50:14.302Z"
      },
      {
        "duration": 34,
        "start_time": "2022-01-06T15:50:40.714Z"
      },
      {
        "duration": 5595,
        "start_time": "2022-01-06T15:52:43.677Z"
      },
      {
        "duration": 5429,
        "start_time": "2022-01-06T15:53:03.202Z"
      },
      {
        "duration": 22,
        "start_time": "2022-01-06T15:53:30.641Z"
      },
      {
        "duration": 7098,
        "start_time": "2022-01-06T15:55:14.884Z"
      },
      {
        "duration": 300,
        "start_time": "2022-01-06T15:55:40.536Z"
      },
      {
        "duration": 35,
        "start_time": "2022-01-06T15:56:45.517Z"
      },
      {
        "duration": 383,
        "start_time": "2022-01-06T15:57:12.558Z"
      },
      {
        "duration": 1515,
        "start_time": "2022-01-06T15:57:48.652Z"
      },
      {
        "duration": 35,
        "start_time": "2022-01-06T15:58:08.773Z"
      },
      {
        "duration": 34,
        "start_time": "2022-01-06T15:59:47.278Z"
      },
      {
        "duration": 31,
        "start_time": "2022-01-06T16:01:33.245Z"
      },
      {
        "duration": 20,
        "start_time": "2022-01-06T16:04:21.631Z"
      },
      {
        "duration": 119,
        "start_time": "2022-01-06T16:06:16.971Z"
      },
      {
        "duration": 102,
        "start_time": "2022-01-06T16:09:40.197Z"
      },
      {
        "duration": 13,
        "start_time": "2022-01-06T16:11:54.164Z"
      },
      {
        "duration": 13,
        "start_time": "2022-01-06T16:12:08.567Z"
      },
      {
        "duration": 9,
        "start_time": "2022-01-06T16:12:17.323Z"
      },
      {
        "duration": 813,
        "start_time": "2022-01-06T16:13:08.668Z"
      },
      {
        "duration": 15,
        "start_time": "2022-01-06T16:13:09.483Z"
      },
      {
        "duration": 21,
        "start_time": "2022-01-06T16:13:09.501Z"
      },
      {
        "duration": 8,
        "start_time": "2022-01-06T16:13:09.525Z"
      },
      {
        "duration": 7,
        "start_time": "2022-01-06T16:13:09.536Z"
      },
      {
        "duration": 10,
        "start_time": "2022-01-06T16:13:09.545Z"
      },
      {
        "duration": 8,
        "start_time": "2022-01-06T16:13:09.557Z"
      },
      {
        "duration": 55,
        "start_time": "2022-01-06T16:13:09.569Z"
      },
      {
        "duration": 12,
        "start_time": "2022-01-06T16:13:09.627Z"
      },
      {
        "duration": 14,
        "start_time": "2022-01-06T16:13:09.641Z"
      },
      {
        "duration": 17,
        "start_time": "2022-01-06T16:13:09.657Z"
      },
      {
        "duration": 42,
        "start_time": "2022-01-06T16:13:09.677Z"
      },
      {
        "duration": 20,
        "start_time": "2022-01-06T16:13:09.721Z"
      },
      {
        "duration": 8,
        "start_time": "2022-01-06T16:13:09.744Z"
      },
      {
        "duration": 21,
        "start_time": "2022-01-06T16:13:09.754Z"
      },
      {
        "duration": 56,
        "start_time": "2022-01-06T16:13:09.778Z"
      },
      {
        "duration": 18,
        "start_time": "2022-01-06T16:13:09.836Z"
      },
      {
        "duration": 23,
        "start_time": "2022-01-06T16:13:09.857Z"
      },
      {
        "duration": 53,
        "start_time": "2022-01-06T16:13:09.882Z"
      },
      {
        "duration": 24,
        "start_time": "2022-01-06T16:13:09.937Z"
      },
      {
        "duration": 70,
        "start_time": "2022-01-06T16:13:09.964Z"
      },
      {
        "duration": 4582,
        "start_time": "2022-01-06T16:13:10.037Z"
      },
      {
        "duration": 471,
        "start_time": "2022-01-06T16:13:14.623Z"
      },
      {
        "duration": 39,
        "start_time": "2022-01-06T16:13:15.096Z"
      },
      {
        "duration": 43,
        "start_time": "2022-01-06T16:13:15.137Z"
      },
      {
        "duration": 56,
        "start_time": "2022-01-06T16:13:15.182Z"
      },
      {
        "duration": 14,
        "start_time": "2022-01-06T16:13:15.240Z"
      },
      {
        "duration": 34,
        "start_time": "2022-01-06T16:13:15.256Z"
      },
      {
        "duration": 51,
        "start_time": "2022-01-06T16:13:15.292Z"
      },
      {
        "duration": 32,
        "start_time": "2022-01-06T16:13:15.346Z"
      },
      {
        "duration": 6,
        "start_time": "2022-01-06T16:13:17.838Z"
      },
      {
        "duration": 14,
        "start_time": "2022-01-06T16:13:26.660Z"
      },
      {
        "duration": 14,
        "start_time": "2022-01-06T16:13:42.351Z"
      },
      {
        "duration": 856,
        "start_time": "2022-01-06T16:14:46.550Z"
      },
      {
        "duration": 19,
        "start_time": "2022-01-06T16:14:47.409Z"
      },
      {
        "duration": 8,
        "start_time": "2022-01-06T16:14:47.431Z"
      },
      {
        "duration": 9,
        "start_time": "2022-01-06T16:14:47.441Z"
      },
      {
        "duration": 8,
        "start_time": "2022-01-06T16:14:47.452Z"
      },
      {
        "duration": 10,
        "start_time": "2022-01-06T16:14:47.462Z"
      },
      {
        "duration": 49,
        "start_time": "2022-01-06T16:14:47.474Z"
      },
      {
        "duration": 10,
        "start_time": "2022-01-06T16:14:47.527Z"
      },
      {
        "duration": 11,
        "start_time": "2022-01-06T16:14:47.540Z"
      },
      {
        "duration": 8,
        "start_time": "2022-01-06T16:14:47.553Z"
      },
      {
        "duration": 53,
        "start_time": "2022-01-06T16:14:47.564Z"
      },
      {
        "duration": 9,
        "start_time": "2022-01-06T16:14:47.621Z"
      },
      {
        "duration": 22,
        "start_time": "2022-01-06T16:14:47.632Z"
      },
      {
        "duration": 27,
        "start_time": "2022-01-06T16:14:47.657Z"
      },
      {
        "duration": 19,
        "start_time": "2022-01-06T16:14:47.717Z"
      },
      {
        "duration": 21,
        "start_time": "2022-01-06T16:14:47.738Z"
      },
      {
        "duration": 20,
        "start_time": "2022-01-06T16:14:47.761Z"
      },
      {
        "duration": 53,
        "start_time": "2022-01-06T16:14:47.783Z"
      },
      {
        "duration": 24,
        "start_time": "2022-01-06T16:14:47.839Z"
      },
      {
        "duration": 52,
        "start_time": "2022-01-06T16:14:47.865Z"
      },
      {
        "duration": 45,
        "start_time": "2022-01-06T16:14:47.919Z"
      },
      {
        "duration": 4465,
        "start_time": "2022-01-06T16:14:47.966Z"
      },
      {
        "duration": 500,
        "start_time": "2022-01-06T16:14:52.436Z"
      },
      {
        "duration": 30,
        "start_time": "2022-01-06T16:14:52.939Z"
      },
      {
        "duration": 68,
        "start_time": "2022-01-06T16:14:52.971Z"
      },
      {
        "duration": 30,
        "start_time": "2022-01-06T16:14:53.041Z"
      },
      {
        "duration": 12,
        "start_time": "2022-01-06T16:14:53.074Z"
      },
      {
        "duration": 53,
        "start_time": "2022-01-06T16:14:53.089Z"
      },
      {
        "duration": 31,
        "start_time": "2022-01-06T16:14:53.145Z"
      },
      {
        "duration": 61,
        "start_time": "2022-01-06T16:14:53.178Z"
      },
      {
        "duration": 9,
        "start_time": "2022-01-06T16:15:15.038Z"
      },
      {
        "duration": 9,
        "start_time": "2022-01-06T16:15:38.609Z"
      },
      {
        "duration": 13,
        "start_time": "2022-01-06T16:15:45.427Z"
      },
      {
        "duration": 20,
        "start_time": "2022-01-06T16:15:58.728Z"
      },
      {
        "duration": 772,
        "start_time": "2022-01-06T16:16:17.166Z"
      },
      {
        "duration": 14,
        "start_time": "2022-01-06T16:16:18.487Z"
      },
      {
        "duration": 8,
        "start_time": "2022-01-06T16:16:18.871Z"
      },
      {
        "duration": 8,
        "start_time": "2022-01-06T16:16:19.586Z"
      },
      {
        "duration": 7,
        "start_time": "2022-01-06T16:16:21.045Z"
      },
      {
        "duration": 10,
        "start_time": "2022-01-06T16:16:21.071Z"
      },
      {
        "duration": 9,
        "start_time": "2022-01-06T16:16:24.295Z"
      },
      {
        "duration": 10,
        "start_time": "2022-01-06T16:16:24.714Z"
      },
      {
        "duration": 12,
        "start_time": "2022-01-06T16:16:25.605Z"
      },
      {
        "duration": 8,
        "start_time": "2022-01-06T16:16:26.369Z"
      },
      {
        "duration": 9,
        "start_time": "2022-01-06T16:16:28.878Z"
      },
      {
        "duration": 11,
        "start_time": "2022-01-06T16:16:29.648Z"
      },
      {
        "duration": 21,
        "start_time": "2022-01-06T16:16:30.617Z"
      },
      {
        "duration": 32,
        "start_time": "2022-01-06T16:16:34.247Z"
      },
      {
        "duration": 87,
        "start_time": "2022-01-06T16:16:44.456Z"
      },
      {
        "duration": 9,
        "start_time": "2022-01-06T16:16:48.831Z"
      },
      {
        "duration": 8,
        "start_time": "2022-01-06T16:18:08.967Z"
      },
      {
        "duration": 787,
        "start_time": "2022-01-06T16:32:16.670Z"
      },
      {
        "duration": 15,
        "start_time": "2022-01-06T16:32:17.459Z"
      },
      {
        "duration": 8,
        "start_time": "2022-01-06T16:32:17.478Z"
      },
      {
        "duration": 29,
        "start_time": "2022-01-06T16:32:17.489Z"
      },
      {
        "duration": 8,
        "start_time": "2022-01-06T16:32:17.521Z"
      },
      {
        "duration": 11,
        "start_time": "2022-01-06T16:32:17.531Z"
      },
      {
        "duration": 9,
        "start_time": "2022-01-06T16:32:17.544Z"
      },
      {
        "duration": 10,
        "start_time": "2022-01-06T16:32:17.556Z"
      },
      {
        "duration": 56,
        "start_time": "2022-01-06T16:32:17.570Z"
      },
      {
        "duration": 10,
        "start_time": "2022-01-06T16:32:17.628Z"
      },
      {
        "duration": 10,
        "start_time": "2022-01-06T16:32:17.640Z"
      },
      {
        "duration": 11,
        "start_time": "2022-01-06T16:32:17.652Z"
      },
      {
        "duration": 61,
        "start_time": "2022-01-06T16:32:17.666Z"
      },
      {
        "duration": 7,
        "start_time": "2022-01-06T16:32:17.730Z"
      },
      {
        "duration": 19,
        "start_time": "2022-01-06T16:32:17.739Z"
      },
      {
        "duration": 55,
        "start_time": "2022-01-06T16:32:17.761Z"
      },
      {
        "duration": 17,
        "start_time": "2022-01-06T16:32:17.819Z"
      },
      {
        "duration": 24,
        "start_time": "2022-01-06T16:32:17.839Z"
      },
      {
        "duration": 53,
        "start_time": "2022-01-06T16:32:17.865Z"
      },
      {
        "duration": 26,
        "start_time": "2022-01-06T16:32:17.921Z"
      },
      {
        "duration": 78,
        "start_time": "2022-01-06T16:32:17.950Z"
      },
      {
        "duration": 4660,
        "start_time": "2022-01-06T16:32:18.031Z"
      },
      {
        "duration": 472,
        "start_time": "2022-01-06T16:32:22.695Z"
      },
      {
        "duration": 30,
        "start_time": "2022-01-06T16:32:23.169Z"
      },
      {
        "duration": 42,
        "start_time": "2022-01-06T16:32:23.217Z"
      },
      {
        "duration": 31,
        "start_time": "2022-01-06T16:32:23.261Z"
      },
      {
        "duration": 34,
        "start_time": "2022-01-06T16:32:23.295Z"
      },
      {
        "duration": 34,
        "start_time": "2022-01-06T16:32:23.331Z"
      },
      {
        "duration": 60,
        "start_time": "2022-01-06T16:32:23.367Z"
      },
      {
        "duration": 33,
        "start_time": "2022-01-06T16:32:23.430Z"
      },
      {
        "duration": 475,
        "start_time": "2022-01-07T05:24:46.055Z"
      },
      {
        "duration": 886,
        "start_time": "2022-01-07T05:24:53.339Z"
      },
      {
        "duration": 16,
        "start_time": "2022-01-07T05:24:54.227Z"
      },
      {
        "duration": 18,
        "start_time": "2022-01-07T05:24:54.246Z"
      },
      {
        "duration": 8,
        "start_time": "2022-01-07T05:24:54.267Z"
      },
      {
        "duration": 8,
        "start_time": "2022-01-07T05:24:54.277Z"
      },
      {
        "duration": 11,
        "start_time": "2022-01-07T05:24:54.287Z"
      },
      {
        "duration": 9,
        "start_time": "2022-01-07T05:24:54.300Z"
      },
      {
        "duration": 10,
        "start_time": "2022-01-07T05:24:54.360Z"
      },
      {
        "duration": 12,
        "start_time": "2022-01-07T05:24:54.373Z"
      },
      {
        "duration": 8,
        "start_time": "2022-01-07T05:24:54.387Z"
      },
      {
        "duration": 15,
        "start_time": "2022-01-07T05:24:54.397Z"
      },
      {
        "duration": 50,
        "start_time": "2022-01-07T05:24:54.415Z"
      },
      {
        "duration": 28,
        "start_time": "2022-01-07T05:24:54.467Z"
      },
      {
        "duration": 8,
        "start_time": "2022-01-07T05:24:54.497Z"
      },
      {
        "duration": 20,
        "start_time": "2022-01-07T05:24:54.507Z"
      },
      {
        "duration": 47,
        "start_time": "2022-01-07T05:24:54.530Z"
      },
      {
        "duration": 17,
        "start_time": "2022-01-07T05:24:54.579Z"
      },
      {
        "duration": 26,
        "start_time": "2022-01-07T05:24:54.599Z"
      },
      {
        "duration": 59,
        "start_time": "2022-01-07T05:24:54.627Z"
      },
      {
        "duration": 27,
        "start_time": "2022-01-07T05:24:54.689Z"
      },
      {
        "duration": 82,
        "start_time": "2022-01-07T05:24:54.719Z"
      },
      {
        "duration": 4788,
        "start_time": "2022-01-07T05:24:54.805Z"
      },
      {
        "duration": 496,
        "start_time": "2022-01-07T05:24:59.600Z"
      },
      {
        "duration": 31,
        "start_time": "2022-01-07T05:25:00.099Z"
      },
      {
        "duration": 66,
        "start_time": "2022-01-07T05:25:00.134Z"
      },
      {
        "duration": 56,
        "start_time": "2022-01-07T05:25:00.203Z"
      },
      {
        "duration": 15,
        "start_time": "2022-01-07T05:25:00.262Z"
      },
      {
        "duration": 35,
        "start_time": "2022-01-07T05:25:00.279Z"
      },
      {
        "duration": 61,
        "start_time": "2022-01-07T05:25:00.317Z"
      },
      {
        "duration": 33,
        "start_time": "2022-01-07T05:25:00.380Z"
      },
      {
        "duration": 10,
        "start_time": "2022-01-07T05:25:00.416Z"
      },
      {
        "duration": 130,
        "start_time": "2022-01-07T05:26:03.235Z"
      },
      {
        "duration": 11,
        "start_time": "2022-01-07T05:31:39.541Z"
      },
      {
        "duration": 10,
        "start_time": "2022-01-07T05:51:39.016Z"
      },
      {
        "duration": 11,
        "start_time": "2022-01-07T06:02:48.954Z"
      },
      {
        "duration": 11,
        "start_time": "2022-01-07T06:02:56.449Z"
      },
      {
        "duration": 10,
        "start_time": "2022-01-07T06:09:54.023Z"
      },
      {
        "duration": 592,
        "start_time": "2022-01-07T09:29:11.873Z"
      },
      {
        "duration": 10,
        "start_time": "2022-01-07T09:29:12.466Z"
      },
      {
        "duration": 6,
        "start_time": "2022-01-07T09:29:12.478Z"
      },
      {
        "duration": 10,
        "start_time": "2022-01-07T09:29:12.485Z"
      },
      {
        "duration": 14,
        "start_time": "2022-01-07T09:29:12.497Z"
      },
      {
        "duration": 17,
        "start_time": "2022-01-07T09:29:12.512Z"
      },
      {
        "duration": 10,
        "start_time": "2022-01-07T09:29:12.530Z"
      },
      {
        "duration": 9,
        "start_time": "2022-01-07T09:29:12.542Z"
      },
      {
        "duration": 10,
        "start_time": "2022-01-07T09:29:12.553Z"
      },
      {
        "duration": 13,
        "start_time": "2022-01-07T09:29:12.564Z"
      },
      {
        "duration": 11,
        "start_time": "2022-01-07T09:29:12.579Z"
      },
      {
        "duration": 20,
        "start_time": "2022-01-07T09:29:12.591Z"
      },
      {
        "duration": 23,
        "start_time": "2022-01-07T09:29:12.613Z"
      },
      {
        "duration": 8,
        "start_time": "2022-01-07T09:29:12.637Z"
      },
      {
        "duration": 22,
        "start_time": "2022-01-07T09:29:12.646Z"
      },
      {
        "duration": 11,
        "start_time": "2022-01-07T09:29:12.669Z"
      },
      {
        "duration": 15,
        "start_time": "2022-01-07T09:29:12.681Z"
      },
      {
        "duration": 14,
        "start_time": "2022-01-07T09:29:12.697Z"
      },
      {
        "duration": 30,
        "start_time": "2022-01-07T09:29:12.712Z"
      },
      {
        "duration": 50,
        "start_time": "2022-01-07T09:29:12.743Z"
      },
      {
        "duration": 29,
        "start_time": "2022-01-07T09:29:12.795Z"
      },
      {
        "duration": 3223,
        "start_time": "2022-01-07T09:29:12.826Z"
      },
      {
        "duration": 302,
        "start_time": "2022-01-07T09:29:16.052Z"
      },
      {
        "duration": 23,
        "start_time": "2022-01-07T09:29:16.356Z"
      },
      {
        "duration": 48,
        "start_time": "2022-01-07T09:29:16.380Z"
      },
      {
        "duration": 18,
        "start_time": "2022-01-07T09:29:16.430Z"
      },
      {
        "duration": 8,
        "start_time": "2022-01-07T09:29:16.450Z"
      },
      {
        "duration": 20,
        "start_time": "2022-01-07T09:29:16.459Z"
      },
      {
        "duration": 18,
        "start_time": "2022-01-07T09:29:16.480Z"
      },
      {
        "duration": 43,
        "start_time": "2022-01-07T09:29:16.499Z"
      },
      {
        "duration": 5,
        "start_time": "2022-01-07T09:29:16.543Z"
      },
      {
        "duration": 13,
        "start_time": "2022-01-07T09:29:16.550Z"
      },
      {
        "duration": 7,
        "start_time": "2022-01-07T09:29:16.564Z"
      },
      {
        "duration": 6,
        "start_time": "2022-01-07T09:29:16.573Z"
      },
      {
        "duration": 8,
        "start_time": "2022-01-07T09:29:16.580Z"
      },
      {
        "duration": 396,
        "start_time": "2022-01-07T09:31:08.203Z"
      },
      {
        "duration": 413,
        "start_time": "2022-01-07T09:31:26.427Z"
      },
      {
        "duration": 9171,
        "start_time": "2022-01-07T09:31:44.309Z"
      },
      {
        "duration": 18,
        "start_time": "2022-01-07T09:32:10.941Z"
      },
      {
        "duration": 681,
        "start_time": "2022-01-08T07:09:05.322Z"
      },
      {
        "duration": 11,
        "start_time": "2022-01-08T07:09:07.238Z"
      },
      {
        "duration": 6,
        "start_time": "2022-01-08T07:09:08.625Z"
      },
      {
        "duration": 7,
        "start_time": "2022-01-08T07:09:10.662Z"
      },
      {
        "duration": 7,
        "start_time": "2022-01-08T07:09:12.272Z"
      },
      {
        "duration": 8,
        "start_time": "2022-01-08T07:09:13.364Z"
      },
      {
        "duration": 6,
        "start_time": "2022-01-08T07:09:16.166Z"
      },
      {
        "duration": 7,
        "start_time": "2022-01-08T07:09:16.528Z"
      },
      {
        "duration": 8,
        "start_time": "2022-01-08T07:09:17.714Z"
      },
      {
        "duration": 7,
        "start_time": "2022-01-08T07:09:18.482Z"
      },
      {
        "duration": 8,
        "start_time": "2022-01-08T07:09:19.811Z"
      },
      {
        "duration": 8,
        "start_time": "2022-01-08T07:09:21.132Z"
      },
      {
        "duration": 15,
        "start_time": "2022-01-08T07:09:26.509Z"
      },
      {
        "duration": 6,
        "start_time": "2022-01-08T07:09:33.842Z"
      },
      {
        "duration": 15,
        "start_time": "2022-01-08T07:10:54.351Z"
      },
      {
        "duration": 14,
        "start_time": "2022-01-08T07:12:58.638Z"
      },
      {
        "duration": 13,
        "start_time": "2022-01-08T07:13:24.599Z"
      },
      {
        "duration": 18,
        "start_time": "2022-01-08T07:13:29.432Z"
      },
      {
        "duration": 19,
        "start_time": "2022-01-08T07:13:33.520Z"
      },
      {
        "duration": 17,
        "start_time": "2022-01-08T07:13:34.497Z"
      },
      {
        "duration": 33,
        "start_time": "2022-01-08T07:13:35.631Z"
      },
      {
        "duration": 3667,
        "start_time": "2022-01-08T07:14:25.573Z"
      },
      {
        "duration": 275,
        "start_time": "2022-01-08T07:15:11.223Z"
      },
      {
        "duration": 19,
        "start_time": "2022-01-08T07:16:29.912Z"
      },
      {
        "duration": 8,
        "start_time": "2022-01-08T07:16:47.058Z"
      },
      {
        "duration": 30,
        "start_time": "2022-01-08T07:20:45.559Z"
      },
      {
        "duration": 21,
        "start_time": "2022-01-08T07:20:48.255Z"
      },
      {
        "duration": 9,
        "start_time": "2022-01-08T07:20:54.802Z"
      },
      {
        "duration": 23,
        "start_time": "2022-01-08T07:21:01.291Z"
      },
      {
        "duration": 23,
        "start_time": "2022-01-08T07:21:02.082Z"
      },
      {
        "duration": 22,
        "start_time": "2022-01-08T07:21:03.838Z"
      },
      {
        "duration": 7,
        "start_time": "2022-01-08T07:21:06.565Z"
      },
      {
        "duration": 8,
        "start_time": "2022-01-08T07:21:17.649Z"
      },
      {
        "duration": 8,
        "start_time": "2022-01-08T07:23:23.343Z"
      },
      {
        "duration": 7,
        "start_time": "2022-01-08T07:23:24.460Z"
      },
      {
        "duration": 8,
        "start_time": "2022-01-08T07:23:25.448Z"
      },
      {
        "duration": 21,
        "start_time": "2022-01-08T07:24:22.691Z"
      },
      {
        "duration": 8,
        "start_time": "2022-01-08T07:24:41.162Z"
      },
      {
        "duration": 22,
        "start_time": "2022-01-08T07:24:53.268Z"
      },
      {
        "duration": 10,
        "start_time": "2022-01-08T07:25:07.102Z"
      },
      {
        "duration": 348,
        "start_time": "2022-01-09T05:13:05.916Z"
      },
      {
        "duration": 833,
        "start_time": "2022-01-09T05:13:25.991Z"
      },
      {
        "duration": 14,
        "start_time": "2022-01-09T05:13:27.078Z"
      },
      {
        "duration": 8,
        "start_time": "2022-01-09T05:13:27.408Z"
      },
      {
        "duration": 8,
        "start_time": "2022-01-09T05:13:27.905Z"
      },
      {
        "duration": 7,
        "start_time": "2022-01-09T05:13:28.236Z"
      },
      {
        "duration": 10,
        "start_time": "2022-01-09T05:13:28.589Z"
      },
      {
        "duration": 8,
        "start_time": "2022-01-09T05:13:28.936Z"
      },
      {
        "duration": 10,
        "start_time": "2022-01-09T05:13:29.284Z"
      },
      {
        "duration": 9,
        "start_time": "2022-01-09T05:13:29.647Z"
      },
      {
        "duration": 8,
        "start_time": "2022-01-09T05:13:29.986Z"
      },
      {
        "duration": 11,
        "start_time": "2022-01-09T05:13:30.332Z"
      },
      {
        "duration": 11,
        "start_time": "2022-01-09T05:13:31.058Z"
      },
      {
        "duration": 23,
        "start_time": "2022-01-09T05:13:33.305Z"
      },
      {
        "duration": 9,
        "start_time": "2022-01-09T05:13:35.512Z"
      },
      {
        "duration": 28,
        "start_time": "2022-01-09T05:13:39.917Z"
      },
      {
        "duration": 11,
        "start_time": "2022-01-09T05:29:04.318Z"
      },
      {
        "duration": 319,
        "start_time": "2022-01-09T05:29:40.261Z"
      },
      {
        "duration": 11,
        "start_time": "2022-01-09T05:29:56.722Z"
      },
      {
        "duration": 9,
        "start_time": "2022-01-09T05:30:19.085Z"
      },
      {
        "duration": 13,
        "start_time": "2022-01-09T05:31:16.488Z"
      },
      {
        "duration": 283,
        "start_time": "2022-01-09T05:31:28.017Z"
      },
      {
        "duration": 9,
        "start_time": "2022-01-09T05:31:33.133Z"
      },
      {
        "duration": 11,
        "start_time": "2022-01-09T05:31:55.439Z"
      },
      {
        "duration": 10,
        "start_time": "2022-01-09T05:35:43.861Z"
      },
      {
        "duration": 15,
        "start_time": "2022-01-09T05:35:44.509Z"
      },
      {
        "duration": 10,
        "start_time": "2022-01-09T05:35:45.611Z"
      },
      {
        "duration": 8,
        "start_time": "2022-01-09T05:40:48.205Z"
      },
      {
        "duration": 90,
        "start_time": "2022-01-09T05:42:03.577Z"
      },
      {
        "duration": 103,
        "start_time": "2022-01-09T05:43:14.532Z"
      },
      {
        "duration": 8,
        "start_time": "2022-01-09T05:46:33.622Z"
      },
      {
        "duration": 18,
        "start_time": "2022-01-09T05:47:01.096Z"
      },
      {
        "duration": 12,
        "start_time": "2022-01-09T05:47:17.328Z"
      },
      {
        "duration": 19,
        "start_time": "2022-01-09T05:47:18.675Z"
      },
      {
        "duration": 19,
        "start_time": "2022-01-09T05:47:31.637Z"
      },
      {
        "duration": 17,
        "start_time": "2022-01-09T05:47:47.142Z"
      },
      {
        "duration": 832,
        "start_time": "2022-01-09T05:48:02.477Z"
      },
      {
        "duration": 15,
        "start_time": "2022-01-09T05:48:03.311Z"
      },
      {
        "duration": 9,
        "start_time": "2022-01-09T05:48:03.346Z"
      },
      {
        "duration": 9,
        "start_time": "2022-01-09T05:48:03.837Z"
      },
      {
        "duration": 11,
        "start_time": "2022-01-09T05:48:04.191Z"
      },
      {
        "duration": 10,
        "start_time": "2022-01-09T05:48:04.511Z"
      },
      {
        "duration": 8,
        "start_time": "2022-01-09T05:48:04.829Z"
      },
      {
        "duration": 10,
        "start_time": "2022-01-09T05:48:05.167Z"
      },
      {
        "duration": 12,
        "start_time": "2022-01-09T05:48:05.631Z"
      },
      {
        "duration": 9,
        "start_time": "2022-01-09T05:48:05.962Z"
      },
      {
        "duration": 10,
        "start_time": "2022-01-09T05:48:06.324Z"
      },
      {
        "duration": 11,
        "start_time": "2022-01-09T05:48:06.631Z"
      },
      {
        "duration": 23,
        "start_time": "2022-01-09T05:48:07.128Z"
      },
      {
        "duration": 8,
        "start_time": "2022-01-09T05:48:08.767Z"
      },
      {
        "duration": 29,
        "start_time": "2022-01-09T05:48:11.286Z"
      },
      {
        "duration": 11,
        "start_time": "2022-01-09T05:48:12.381Z"
      },
      {
        "duration": 14,
        "start_time": "2022-01-09T05:48:13.161Z"
      },
      {
        "duration": 10,
        "start_time": "2022-01-09T05:48:14.153Z"
      },
      {
        "duration": 20,
        "start_time": "2022-01-09T05:48:15.720Z"
      },
      {
        "duration": 88,
        "start_time": "2022-01-09T06:15:12.604Z"
      },
      {
        "duration": 22,
        "start_time": "2022-01-09T06:15:19.337Z"
      },
      {
        "duration": 34,
        "start_time": "2022-01-09T06:20:46.446Z"
      },
      {
        "duration": 10,
        "start_time": "2022-01-09T06:20:52.744Z"
      },
      {
        "duration": 16,
        "start_time": "2022-01-09T06:23:41.087Z"
      },
      {
        "duration": 197,
        "start_time": "2022-01-09T06:25:44.034Z"
      },
      {
        "duration": 195,
        "start_time": "2022-01-09T06:25:56.480Z"
      },
      {
        "duration": 482,
        "start_time": "2022-01-09T06:26:06.722Z"
      },
      {
        "duration": 446,
        "start_time": "2022-01-09T06:26:47.892Z"
      },
      {
        "duration": 141,
        "start_time": "2022-01-09T06:27:10.410Z"
      },
      {
        "duration": 461,
        "start_time": "2022-01-09T06:27:13.349Z"
      },
      {
        "duration": 25,
        "start_time": "2022-01-09T06:27:26.259Z"
      },
      {
        "duration": 19,
        "start_time": "2022-01-09T06:27:27.433Z"
      },
      {
        "duration": 27,
        "start_time": "2022-01-09T06:27:27.739Z"
      },
      {
        "duration": 29,
        "start_time": "2022-01-09T06:27:28.085Z"
      },
      {
        "duration": 30,
        "start_time": "2022-01-09T06:27:28.392Z"
      },
      {
        "duration": 50,
        "start_time": "2022-01-09T06:27:28.747Z"
      },
      {
        "duration": 4632,
        "start_time": "2022-01-09T06:27:29.772Z"
      },
      {
        "duration": 507,
        "start_time": "2022-01-09T06:27:34.407Z"
      },
      {
        "duration": 21,
        "start_time": "2022-01-09T06:27:34.917Z"
      },
      {
        "duration": 37,
        "start_time": "2022-01-09T06:27:39.793Z"
      },
      {
        "duration": 10,
        "start_time": "2022-01-09T06:27:41.187Z"
      },
      {
        "duration": 199,
        "start_time": "2022-01-09T06:27:43.748Z"
      },
      {
        "duration": 40,
        "start_time": "2022-01-09T06:27:45.245Z"
      },
      {
        "duration": 114,
        "start_time": "2022-01-09T06:28:23.082Z"
      },
      {
        "duration": 1399,
        "start_time": "2022-01-09T06:28:36.104Z"
      },
      {
        "duration": 39,
        "start_time": "2022-01-09T06:28:50.947Z"
      },
      {
        "duration": 16,
        "start_time": "2022-01-09T06:29:57.293Z"
      },
      {
        "duration": 14,
        "start_time": "2022-01-09T06:30:11.540Z"
      },
      {
        "duration": 11,
        "start_time": "2022-01-09T06:30:28.158Z"
      },
      {
        "duration": 13,
        "start_time": "2022-01-09T06:30:38.102Z"
      },
      {
        "duration": 298,
        "start_time": "2022-01-09T06:36:04.484Z"
      },
      {
        "duration": 13,
        "start_time": "2022-01-09T06:37:45.678Z"
      },
      {
        "duration": 12,
        "start_time": "2022-01-09T06:38:28.682Z"
      },
      {
        "duration": 11,
        "start_time": "2022-01-09T06:38:34.812Z"
      },
      {
        "duration": 105,
        "start_time": "2022-01-09T06:39:31.741Z"
      },
      {
        "duration": 12,
        "start_time": "2022-01-09T06:39:40.741Z"
      },
      {
        "duration": 120,
        "start_time": "2022-01-09T06:41:53.788Z"
      },
      {
        "duration": 13,
        "start_time": "2022-01-09T06:42:12.929Z"
      },
      {
        "duration": 8,
        "start_time": "2022-01-09T06:42:12.945Z"
      },
      {
        "duration": 14,
        "start_time": "2022-01-09T06:42:17.811Z"
      },
      {
        "duration": 14,
        "start_time": "2022-01-09T06:43:53.683Z"
      },
      {
        "duration": 13,
        "start_time": "2022-01-09T06:44:19.199Z"
      },
      {
        "duration": 176,
        "start_time": "2022-01-09T06:46:52.714Z"
      },
      {
        "duration": 105,
        "start_time": "2022-01-09T06:51:31.053Z"
      },
      {
        "duration": 11,
        "start_time": "2022-01-09T06:52:15.196Z"
      },
      {
        "duration": 212,
        "start_time": "2022-01-09T12:18:25.535Z"
      },
      {
        "duration": 626,
        "start_time": "2022-01-09T12:18:34.198Z"
      },
      {
        "duration": 11,
        "start_time": "2022-01-09T12:18:34.826Z"
      },
      {
        "duration": 5,
        "start_time": "2022-01-09T12:18:34.839Z"
      },
      {
        "duration": 7,
        "start_time": "2022-01-09T12:18:34.846Z"
      },
      {
        "duration": 5,
        "start_time": "2022-01-09T12:18:34.855Z"
      },
      {
        "duration": 33,
        "start_time": "2022-01-09T12:18:34.861Z"
      },
      {
        "duration": 11,
        "start_time": "2022-01-09T12:18:34.897Z"
      },
      {
        "duration": 7,
        "start_time": "2022-01-09T12:18:34.916Z"
      },
      {
        "duration": 11,
        "start_time": "2022-01-09T12:18:34.926Z"
      },
      {
        "duration": 6,
        "start_time": "2022-01-09T12:18:34.939Z"
      },
      {
        "duration": 13,
        "start_time": "2022-01-09T12:18:34.947Z"
      },
      {
        "duration": 34,
        "start_time": "2022-01-09T12:18:34.962Z"
      },
      {
        "duration": 17,
        "start_time": "2022-01-09T12:18:34.998Z"
      },
      {
        "duration": 8,
        "start_time": "2022-01-09T12:18:35.017Z"
      },
      {
        "duration": 22,
        "start_time": "2022-01-09T12:18:35.026Z"
      },
      {
        "duration": 43,
        "start_time": "2022-01-09T12:18:35.049Z"
      },
      {
        "duration": 7,
        "start_time": "2022-01-09T12:18:35.094Z"
      },
      {
        "duration": 7,
        "start_time": "2022-01-09T12:18:35.102Z"
      },
      {
        "duration": 12,
        "start_time": "2022-01-09T12:18:35.111Z"
      },
      {
        "duration": 13,
        "start_time": "2022-01-09T12:18:35.125Z"
      },
      {
        "duration": 13,
        "start_time": "2022-01-09T12:18:35.139Z"
      },
      {
        "duration": 52,
        "start_time": "2022-01-09T12:18:35.154Z"
      },
      {
        "duration": 17,
        "start_time": "2022-01-09T12:18:35.209Z"
      },
      {
        "duration": 18,
        "start_time": "2022-01-09T12:18:35.228Z"
      },
      {
        "duration": 56,
        "start_time": "2022-01-09T12:18:35.247Z"
      },
      {
        "duration": 3564,
        "start_time": "2022-01-09T12:18:35.305Z"
      },
      {
        "duration": 305,
        "start_time": "2022-01-09T12:18:38.871Z"
      },
      {
        "duration": 19,
        "start_time": "2022-01-09T12:18:39.178Z"
      },
      {
        "duration": 21,
        "start_time": "2022-01-09T12:18:39.198Z"
      },
      {
        "duration": 8,
        "start_time": "2022-01-09T12:18:39.221Z"
      },
      {
        "duration": 12,
        "start_time": "2022-01-09T12:18:39.230Z"
      },
      {
        "duration": 7,
        "start_time": "2022-01-09T12:18:39.244Z"
      },
      {
        "duration": 46,
        "start_time": "2022-01-09T12:18:39.252Z"
      },
      {
        "duration": 9,
        "start_time": "2022-01-09T12:18:39.299Z"
      },
      {
        "duration": 9,
        "start_time": "2022-01-09T12:18:39.309Z"
      },
      {
        "duration": 7,
        "start_time": "2022-01-09T12:18:39.320Z"
      },
      {
        "duration": 4,
        "start_time": "2022-01-09T12:18:39.328Z"
      },
      {
        "duration": 10,
        "start_time": "2022-01-09T12:18:49.593Z"
      },
      {
        "duration": 10,
        "start_time": "2022-01-09T12:22:28.199Z"
      },
      {
        "duration": 12,
        "start_time": "2022-01-09T12:24:16.257Z"
      },
      {
        "duration": 11,
        "start_time": "2022-01-09T12:27:13.583Z"
      },
      {
        "duration": 12,
        "start_time": "2022-01-09T12:30:20.028Z"
      },
      {
        "duration": 985,
        "start_time": "2022-01-09T14:24:01.358Z"
      },
      {
        "duration": 15,
        "start_time": "2022-01-09T14:24:02.345Z"
      },
      {
        "duration": 11,
        "start_time": "2022-01-09T14:24:02.515Z"
      },
      {
        "duration": 8,
        "start_time": "2022-01-09T14:24:03.309Z"
      },
      {
        "duration": 8,
        "start_time": "2022-01-09T14:24:03.827Z"
      },
      {
        "duration": 14,
        "start_time": "2022-01-09T14:24:04.327Z"
      },
      {
        "duration": 8,
        "start_time": "2022-01-09T14:24:04.721Z"
      },
      {
        "duration": 9,
        "start_time": "2022-01-09T14:24:05.138Z"
      },
      {
        "duration": 10,
        "start_time": "2022-01-09T14:24:05.670Z"
      },
      {
        "duration": 7,
        "start_time": "2022-01-09T14:24:06.197Z"
      },
      {
        "duration": 9,
        "start_time": "2022-01-09T14:24:06.760Z"
      },
      {
        "duration": 10,
        "start_time": "2022-01-09T14:24:07.317Z"
      },
      {
        "duration": 23,
        "start_time": "2022-01-09T14:24:09.926Z"
      },
      {
        "duration": 9,
        "start_time": "2022-01-09T14:24:11.026Z"
      },
      {
        "duration": 29,
        "start_time": "2022-01-09T14:24:23.649Z"
      },
      {
        "duration": 11,
        "start_time": "2022-01-09T14:24:31.810Z"
      },
      {
        "duration": 59,
        "start_time": "2022-01-09T14:24:44.706Z"
      },
      {
        "duration": 10,
        "start_time": "2022-01-09T14:24:45.799Z"
      },
      {
        "duration": 18,
        "start_time": "2022-01-09T14:24:47.056Z"
      },
      {
        "duration": 139,
        "start_time": "2022-01-09T14:25:51.248Z"
      },
      {
        "duration": 21,
        "start_time": "2022-01-09T14:26:20.168Z"
      },
      {
        "duration": 18,
        "start_time": "2022-01-09T14:26:22.637Z"
      },
      {
        "duration": 24,
        "start_time": "2022-01-09T14:26:24.958Z"
      },
      {
        "duration": 25,
        "start_time": "2022-01-09T14:26:26.018Z"
      },
      {
        "duration": 25,
        "start_time": "2022-01-09T14:26:27.236Z"
      },
      {
        "duration": 48,
        "start_time": "2022-01-09T14:26:28.590Z"
      },
      {
        "duration": 4441,
        "start_time": "2022-01-09T14:26:31.447Z"
      },
      {
        "duration": 463,
        "start_time": "2022-01-09T14:26:36.185Z"
      },
      {
        "duration": 20,
        "start_time": "2022-01-09T14:26:37.969Z"
      },
      {
        "duration": 31,
        "start_time": "2022-01-09T14:26:40.204Z"
      },
      {
        "duration": 9,
        "start_time": "2022-01-09T14:26:41.117Z"
      },
      {
        "duration": 15,
        "start_time": "2022-01-09T14:27:10.669Z"
      },
      {
        "duration": 9,
        "start_time": "2022-01-09T14:27:11.221Z"
      },
      {
        "duration": 11,
        "start_time": "2022-01-09T14:27:13.554Z"
      },
      {
        "duration": 10,
        "start_time": "2022-01-09T14:27:14.756Z"
      },
      {
        "duration": 13,
        "start_time": "2022-01-09T14:27:15.817Z"
      },
      {
        "duration": 11,
        "start_time": "2022-01-09T14:27:18.326Z"
      },
      {
        "duration": 15,
        "start_time": "2022-01-09T14:27:27.561Z"
      }
    ],
    "kernelspec": {
      "name": "python",
      "display_name": "Pyolite",
      "language": "python"
    },
    "language_info": {
      "codemirror_mode": {
        "name": "python",
        "version": 3
      },
      "file_extension": ".py",
      "mimetype": "text/x-python",
      "name": "python",
      "nbconvert_exporter": "python",
      "pygments_lexer": "ipython3",
      "version": "3.8"
    },
    "toc": {
      "base_numbering": 1,
      "nav_menu": {},
      "number_sections": true,
      "sideBar": true,
      "skip_h1_title": true,
      "title_cell": "Table of Contents",
      "title_sidebar": "Contents",
      "toc_cell": false,
      "toc_position": {},
      "toc_section_display": true,
      "toc_window_display": false
    }
  },
  "nbformat_minor": 4,
  "nbformat": 4,
  "cells": [
    {
      "cell_type": "markdown",
      "source": "# Исследование надёжности заёмщиков\n\nЗаказчик — кредитный отдел банка. Нужно разобраться, влияет ли семейное положение и количество детей клиента на факт погашения кредита в срок. Входные данные от банка — статистика о платёжеспособности клиентов.\n\nРезультаты исследования будут учтены при построении модели **кредитного скоринга** — специальной системы, которая оценивает способность потенциального заёмщика вернуть кредит банку.",
      "metadata": {}
    },
    {
      "cell_type": "markdown",
      "source": "**Цель исследования** - проверить следующие гипотезы:\n1. Есть ли зависимость между наличием детей и возвратом кредита в срок?\n2. Есть ли зависимость между семейным положением и возвратом кредита в срок?\n3. Есть ли зависимость между уровнем дохода и возвратом кредита в срок?\n4. Как разные цели кредита влияют на его возврат в срок?\n\n\nТаким образом, исследование пройдёт в четыре этапа:\n 1. Обзор данных.\n 2. Предобработка данных.\n 3. Проверка гипотез.\n 4. Общий вывод.\n",
      "metadata": {}
    },
    {
      "cell_type": "markdown",
      "source": "## Шаг 1. Откройте файл с данными и изучите общую информацию",
      "metadata": {}
    },
    {
      "cell_type": "markdown",
      "source": "Для начала импортируем библиотеку `pandas`. Прочитаем файл `data.csv`' и сохраним результат в переменной `df`. Для ознакомления со структурой таблицы и представлением данных, выведем последние 15 строк.",
      "metadata": {}
    },
    {
      "cell_type": "code",
      "source": "import pandas as pd #импотируем Pandas\ndf = pd.read_csv('/datasets/data.csv') #читаем файл с данными и сохраняем в df\ndisplay(df.tail(15)) #показываем последние 15 строк таблицы",
      "metadata": {},
      "execution_count": 1,
      "outputs": [
        {
          "output_type": "display_data",
          "data": {
            "text/html": [
              "<div>\n",
              "<style scoped>\n",
              "    .dataframe tbody tr th:only-of-type {\n",
              "        vertical-align: middle;\n",
              "    }\n",
              "\n",
              "    .dataframe tbody tr th {\n",
              "        vertical-align: top;\n",
              "    }\n",
              "\n",
              "    .dataframe thead th {\n",
              "        text-align: right;\n",
              "    }\n",
              "</style>\n",
              "<table border=\"1\" class=\"dataframe\">\n",
              "  <thead>\n",
              "    <tr style=\"text-align: right;\">\n",
              "      <th></th>\n",
              "      <th>children</th>\n",
              "      <th>days_employed</th>\n",
              "      <th>dob_years</th>\n",
              "      <th>education</th>\n",
              "      <th>education_id</th>\n",
              "      <th>family_status</th>\n",
              "      <th>family_status_id</th>\n",
              "      <th>gender</th>\n",
              "      <th>income_type</th>\n",
              "      <th>debt</th>\n",
              "      <th>total_income</th>\n",
              "      <th>purpose</th>\n",
              "    </tr>\n",
              "  </thead>\n",
              "  <tbody>\n",
              "    <tr>\n",
              "      <td>21510</td>\n",
              "      <td>2</td>\n",
              "      <td>NaN</td>\n",
              "      <td>28</td>\n",
              "      <td>среднее</td>\n",
              "      <td>1</td>\n",
              "      <td>женат / замужем</td>\n",
              "      <td>0</td>\n",
              "      <td>F</td>\n",
              "      <td>сотрудник</td>\n",
              "      <td>0</td>\n",
              "      <td>NaN</td>\n",
              "      <td>приобретение автомобиля</td>\n",
              "    </tr>\n",
              "    <tr>\n",
              "      <td>21511</td>\n",
              "      <td>0</td>\n",
              "      <td>-612.569129</td>\n",
              "      <td>29</td>\n",
              "      <td>высшее</td>\n",
              "      <td>0</td>\n",
              "      <td>гражданский брак</td>\n",
              "      <td>1</td>\n",
              "      <td>F</td>\n",
              "      <td>сотрудник</td>\n",
              "      <td>1</td>\n",
              "      <td>140068.472941</td>\n",
              "      <td>покупка жилья для сдачи</td>\n",
              "    </tr>\n",
              "    <tr>\n",
              "      <td>21512</td>\n",
              "      <td>0</td>\n",
              "      <td>-165.377752</td>\n",
              "      <td>26</td>\n",
              "      <td>высшее</td>\n",
              "      <td>0</td>\n",
              "      <td>Не женат / не замужем</td>\n",
              "      <td>4</td>\n",
              "      <td>M</td>\n",
              "      <td>компаньон</td>\n",
              "      <td>0</td>\n",
              "      <td>147301.457769</td>\n",
              "      <td>получение дополнительного образования</td>\n",
              "    </tr>\n",
              "    <tr>\n",
              "      <td>21513</td>\n",
              "      <td>0</td>\n",
              "      <td>-1166.216789</td>\n",
              "      <td>35</td>\n",
              "      <td>среднее</td>\n",
              "      <td>1</td>\n",
              "      <td>женат / замужем</td>\n",
              "      <td>0</td>\n",
              "      <td>F</td>\n",
              "      <td>сотрудник</td>\n",
              "      <td>0</td>\n",
              "      <td>250986.142309</td>\n",
              "      <td>покупка жилья</td>\n",
              "    </tr>\n",
              "    <tr>\n",
              "      <td>21514</td>\n",
              "      <td>0</td>\n",
              "      <td>-280.469996</td>\n",
              "      <td>27</td>\n",
              "      <td>неоконченное высшее</td>\n",
              "      <td>2</td>\n",
              "      <td>Не женат / не замужем</td>\n",
              "      <td>4</td>\n",
              "      <td>M</td>\n",
              "      <td>компаньон</td>\n",
              "      <td>0</td>\n",
              "      <td>355988.407188</td>\n",
              "      <td>строительство недвижимости</td>\n",
              "    </tr>\n",
              "    <tr>\n",
              "      <td>21515</td>\n",
              "      <td>1</td>\n",
              "      <td>-467.685130</td>\n",
              "      <td>28</td>\n",
              "      <td>среднее</td>\n",
              "      <td>1</td>\n",
              "      <td>женат / замужем</td>\n",
              "      <td>0</td>\n",
              "      <td>F</td>\n",
              "      <td>сотрудник</td>\n",
              "      <td>1</td>\n",
              "      <td>109486.327999</td>\n",
              "      <td>заняться образованием</td>\n",
              "    </tr>\n",
              "    <tr>\n",
              "      <td>21516</td>\n",
              "      <td>0</td>\n",
              "      <td>-914.391429</td>\n",
              "      <td>42</td>\n",
              "      <td>высшее</td>\n",
              "      <td>0</td>\n",
              "      <td>женат / замужем</td>\n",
              "      <td>0</td>\n",
              "      <td>F</td>\n",
              "      <td>компаньон</td>\n",
              "      <td>0</td>\n",
              "      <td>322807.776603</td>\n",
              "      <td>покупка своего жилья</td>\n",
              "    </tr>\n",
              "    <tr>\n",
              "      <td>21517</td>\n",
              "      <td>0</td>\n",
              "      <td>-404.679034</td>\n",
              "      <td>42</td>\n",
              "      <td>высшее</td>\n",
              "      <td>0</td>\n",
              "      <td>гражданский брак</td>\n",
              "      <td>1</td>\n",
              "      <td>F</td>\n",
              "      <td>компаньон</td>\n",
              "      <td>0</td>\n",
              "      <td>178059.553491</td>\n",
              "      <td>на покупку своего автомобиля</td>\n",
              "    </tr>\n",
              "    <tr>\n",
              "      <td>21518</td>\n",
              "      <td>0</td>\n",
              "      <td>373995.710838</td>\n",
              "      <td>59</td>\n",
              "      <td>СРЕДНЕЕ</td>\n",
              "      <td>1</td>\n",
              "      <td>женат / замужем</td>\n",
              "      <td>0</td>\n",
              "      <td>F</td>\n",
              "      <td>пенсионер</td>\n",
              "      <td>0</td>\n",
              "      <td>153864.650328</td>\n",
              "      <td>сделка с автомобилем</td>\n",
              "    </tr>\n",
              "    <tr>\n",
              "      <td>21519</td>\n",
              "      <td>1</td>\n",
              "      <td>-2351.431934</td>\n",
              "      <td>37</td>\n",
              "      <td>ученая степень</td>\n",
              "      <td>4</td>\n",
              "      <td>в разводе</td>\n",
              "      <td>3</td>\n",
              "      <td>M</td>\n",
              "      <td>сотрудник</td>\n",
              "      <td>0</td>\n",
              "      <td>115949.039788</td>\n",
              "      <td>покупка коммерческой недвижимости</td>\n",
              "    </tr>\n",
              "    <tr>\n",
              "      <td>21520</td>\n",
              "      <td>1</td>\n",
              "      <td>-4529.316663</td>\n",
              "      <td>43</td>\n",
              "      <td>среднее</td>\n",
              "      <td>1</td>\n",
              "      <td>гражданский брак</td>\n",
              "      <td>1</td>\n",
              "      <td>F</td>\n",
              "      <td>компаньон</td>\n",
              "      <td>0</td>\n",
              "      <td>224791.862382</td>\n",
              "      <td>операции с жильем</td>\n",
              "    </tr>\n",
              "    <tr>\n",
              "      <td>21521</td>\n",
              "      <td>0</td>\n",
              "      <td>343937.404131</td>\n",
              "      <td>67</td>\n",
              "      <td>среднее</td>\n",
              "      <td>1</td>\n",
              "      <td>женат / замужем</td>\n",
              "      <td>0</td>\n",
              "      <td>F</td>\n",
              "      <td>пенсионер</td>\n",
              "      <td>0</td>\n",
              "      <td>155999.806512</td>\n",
              "      <td>сделка с автомобилем</td>\n",
              "    </tr>\n",
              "    <tr>\n",
              "      <td>21522</td>\n",
              "      <td>1</td>\n",
              "      <td>-2113.346888</td>\n",
              "      <td>38</td>\n",
              "      <td>среднее</td>\n",
              "      <td>1</td>\n",
              "      <td>гражданский брак</td>\n",
              "      <td>1</td>\n",
              "      <td>M</td>\n",
              "      <td>сотрудник</td>\n",
              "      <td>1</td>\n",
              "      <td>89672.561153</td>\n",
              "      <td>недвижимость</td>\n",
              "    </tr>\n",
              "    <tr>\n",
              "      <td>21523</td>\n",
              "      <td>3</td>\n",
              "      <td>-3112.481705</td>\n",
              "      <td>38</td>\n",
              "      <td>среднее</td>\n",
              "      <td>1</td>\n",
              "      <td>женат / замужем</td>\n",
              "      <td>0</td>\n",
              "      <td>M</td>\n",
              "      <td>сотрудник</td>\n",
              "      <td>1</td>\n",
              "      <td>244093.050500</td>\n",
              "      <td>на покупку своего автомобиля</td>\n",
              "    </tr>\n",
              "    <tr>\n",
              "      <td>21524</td>\n",
              "      <td>2</td>\n",
              "      <td>-1984.507589</td>\n",
              "      <td>40</td>\n",
              "      <td>среднее</td>\n",
              "      <td>1</td>\n",
              "      <td>женат / замужем</td>\n",
              "      <td>0</td>\n",
              "      <td>F</td>\n",
              "      <td>сотрудник</td>\n",
              "      <td>0</td>\n",
              "      <td>82047.418899</td>\n",
              "      <td>на покупку автомобиля</td>\n",
              "    </tr>\n",
              "  </tbody>\n",
              "</table>\n",
              "</div>"
            ],
            "text/plain": [
              "       children  days_employed  dob_years            education  education_id  \\\n",
              "21510         2            NaN         28              среднее             1   \n",
              "21511         0    -612.569129         29               высшее             0   \n",
              "21512         0    -165.377752         26               высшее             0   \n",
              "21513         0   -1166.216789         35              среднее             1   \n",
              "21514         0    -280.469996         27  неоконченное высшее             2   \n",
              "21515         1    -467.685130         28              среднее             1   \n",
              "21516         0    -914.391429         42               высшее             0   \n",
              "21517         0    -404.679034         42               высшее             0   \n",
              "21518         0  373995.710838         59              СРЕДНЕЕ             1   \n",
              "21519         1   -2351.431934         37       ученая степень             4   \n",
              "21520         1   -4529.316663         43              среднее             1   \n",
              "21521         0  343937.404131         67              среднее             1   \n",
              "21522         1   -2113.346888         38              среднее             1   \n",
              "21523         3   -3112.481705         38              среднее             1   \n",
              "21524         2   -1984.507589         40              среднее             1   \n",
              "\n",
              "               family_status  family_status_id gender income_type  debt  \\\n",
              "21510        женат / замужем                 0      F   сотрудник     0   \n",
              "21511       гражданский брак                 1      F   сотрудник     1   \n",
              "21512  Не женат / не замужем                 4      M   компаньон     0   \n",
              "21513        женат / замужем                 0      F   сотрудник     0   \n",
              "21514  Не женат / не замужем                 4      M   компаньон     0   \n",
              "21515        женат / замужем                 0      F   сотрудник     1   \n",
              "21516        женат / замужем                 0      F   компаньон     0   \n",
              "21517       гражданский брак                 1      F   компаньон     0   \n",
              "21518        женат / замужем                 0      F   пенсионер     0   \n",
              "21519              в разводе                 3      M   сотрудник     0   \n",
              "21520       гражданский брак                 1      F   компаньон     0   \n",
              "21521        женат / замужем                 0      F   пенсионер     0   \n",
              "21522       гражданский брак                 1      M   сотрудник     1   \n",
              "21523        женат / замужем                 0      M   сотрудник     1   \n",
              "21524        женат / замужем                 0      F   сотрудник     0   \n",
              "\n",
              "        total_income                                purpose  \n",
              "21510            NaN                приобретение автомобиля  \n",
              "21511  140068.472941                покупка жилья для сдачи  \n",
              "21512  147301.457769  получение дополнительного образования  \n",
              "21513  250986.142309                          покупка жилья  \n",
              "21514  355988.407188             строительство недвижимости  \n",
              "21515  109486.327999                  заняться образованием  \n",
              "21516  322807.776603                   покупка своего жилья  \n",
              "21517  178059.553491           на покупку своего автомобиля  \n",
              "21518  153864.650328                   сделка с автомобилем  \n",
              "21519  115949.039788      покупка коммерческой недвижимости  \n",
              "21520  224791.862382                      операции с жильем  \n",
              "21521  155999.806512                   сделка с автомобилем  \n",
              "21522   89672.561153                           недвижимость  \n",
              "21523  244093.050500           на покупку своего автомобиля  \n",
              "21524   82047.418899                  на покупку автомобиля  "
            ]
          },
          "metadata": {}
        }
      ]
    },
    {
      "cell_type": "markdown",
      "source": "Согласно документацию имеем следующие столбцы:\n* children — количество детей в семье\n* days_employed — общий трудовой стаж в днях\n* dob_years — возраст клиента в годах\n* education — уровень образования клиента\n* education_id — идентификатор уровня образования\n* family_status — семейное положение\n* family_status_id — идентификатор семейного положения\n* gender — пол клиента\n* income_type — тип занятости\n* debt — имел ли задолженность по возврату кредитов\n* total_income — ежемесячный доход\n* purpose — цель получения кредита",
      "metadata": {}
    },
    {
      "cell_type": "markdown",
      "source": "Выведем на экран общую информацию о таблице:",
      "metadata": {}
    },
    {
      "cell_type": "code",
      "source": "df.info() #получение общей информации о таблице",
      "metadata": {},
      "execution_count": 2,
      "outputs": [
        {
          "name": "stdout",
          "output_type": "stream",
          "text": "<class 'pandas.core.frame.DataFrame'>\n\nRangeIndex: 21525 entries, 0 to 21524\n\nData columns (total 12 columns):\n\nchildren            21525 non-null int64\n\ndays_employed       19351 non-null float64\n\ndob_years           21525 non-null int64\n\neducation           21525 non-null object\n\neducation_id        21525 non-null int64\n\nfamily_status       21525 non-null object\n\nfamily_status_id    21525 non-null int64\n\ngender              21525 non-null object\n\nincome_type         21525 non-null object\n\ndebt                21525 non-null int64\n\ntotal_income        19351 non-null float64\n\npurpose             21525 non-null object\n\ndtypes: float64(2), int64(5), object(5)\n\nmemory usage: 2.0+ MB\n"
        }
      ]
    },
    {
      "cell_type": "markdown",
      "source": "Можно заметить, что таблица состоит из 12 столбцов, 21525 строк. В столбцах `days_employed` и `total_income` существуют пропуски данных.\n\nЗапросим для каждого столбца уникальные значения и их количество, для контроля на некорректные данные (за исключением `days_employed` и `total_income` так как они могут содержать множество значений) :",
      "metadata": {}
    },
    {
      "cell_type": "code",
      "source": "df['children'].value_counts() #получение уникальных значений и их количества столбца children",
      "metadata": {},
      "execution_count": 3,
      "outputs": [
        {
          "execution_count": 3,
          "output_type": "execute_result",
          "data": {
            "text/plain": [
              " 0     14149\n",
              " 1      4818\n",
              " 2      2055\n",
              " 3       330\n",
              " 20       76\n",
              "-1        47\n",
              " 4        41\n",
              " 5         9\n",
              "Name: children, dtype: int64"
            ]
          },
          "metadata": {}
        }
      ]
    },
    {
      "cell_type": "markdown",
      "source": "В столбце `children` можно заметить два параметра выбивающихся из общего ряда - это *20* и *-1*. О *-1* можно судить как об ошибочном вводе данных, так как количество детей не может быть отрицательным и налицо банальная опечатка. Также дела обстоят и со значением *20*, ведь если количество детей было бы истинно 20 (в количестве 76 единиц в выборке), то существовали было значения в промежутке от 6 до 20 с различными значениям. Но таких мы не наблюдаем, что наводит на мысль об ошибочном вводе.",
      "metadata": {}
    },
    {
      "cell_type": "markdown",
      "source": "В столбце `dob_years`, в отличии от других столбцов, запросим сортированные данные в виде списка, чтобы вычислить проблемы с указанием возраста:",
      "metadata": {}
    },
    {
      "cell_type": "code",
      "source": "df['dob_years'].sort_values().unique() #получение сортированных уникальных значений столбца dob_years",
      "metadata": {},
      "execution_count": 4,
      "outputs": [
        {
          "execution_count": 4,
          "output_type": "execute_result",
          "data": {
            "text/plain": [
              "array([ 0, 19, 20, 21, 22, 23, 24, 25, 26, 27, 28, 29, 30, 31, 32, 33, 34,\n",
              "       35, 36, 37, 38, 39, 40, 41, 42, 43, 44, 45, 46, 47, 48, 49, 50, 51,\n",
              "       52, 53, 54, 55, 56, 57, 58, 59, 60, 61, 62, 63, 64, 65, 66, 67, 68,\n",
              "       69, 70, 71, 72, 73, 74, 75])"
            ]
          },
          "metadata": {}
        }
      ]
    },
    {
      "cell_type": "markdown",
      "source": "Также можем увидеть ошибку ввода данных на примере значений возраста 0. Но так как данные по возрасту не участвуют в нашем исследовании пропустим их. \n\nПолучим уникальных значений и их количества столбца `education_id`:",
      "metadata": {}
    },
    {
      "cell_type": "code",
      "source": "df['education_id'].value_counts() #получение уникальных значений и их количества столбца education_id",
      "metadata": {},
      "execution_count": 5,
      "outputs": [
        {
          "execution_count": 5,
          "output_type": "execute_result",
          "data": {
            "text/plain": [
              "1    15233\n",
              "0     5260\n",
              "2      744\n",
              "3      282\n",
              "4        6\n",
              "Name: education_id, dtype: int64"
            ]
          },
          "metadata": {}
        }
      ]
    },
    {
      "cell_type": "markdown",
      "source": "Каких-либо подозрительных данных не обнаружено, продолжим анализ дальше, получим уникальные значения столбца `family_status`:",
      "metadata": {}
    },
    {
      "cell_type": "code",
      "source": "df['family_status'].value_counts() #получение уникальных значений и их количества столбца family_status",
      "metadata": {},
      "execution_count": 6,
      "outputs": [
        {
          "execution_count": 6,
          "output_type": "execute_result",
          "data": {
            "text/plain": [
              "женат / замужем          12380\n",
              "гражданский брак          4177\n",
              "Не женат / не замужем     2813\n",
              "в разводе                 1195\n",
              "вдовец / вдова             960\n",
              "Name: family_status, dtype: int64"
            ]
          },
          "metadata": {}
        }
      ]
    },
    {
      "cell_type": "markdown",
      "source": "Здесь замечаний по данным нет, кроме значения *Не женат / не замужем*, на следующем этапе приведем данное значение к нижнему регистру как у других. Запросим данные столбца `family_status_id`:",
      "metadata": {}
    },
    {
      "cell_type": "code",
      "source": "df['family_status_id'].value_counts() #получение уникальных значений и их количества столбца family_status_id",
      "metadata": {},
      "execution_count": 7,
      "outputs": [
        {
          "execution_count": 7,
          "output_type": "execute_result",
          "data": {
            "text/plain": [
              "0    12380\n",
              "1     4177\n",
              "4     2813\n",
              "3     1195\n",
              "2      960\n",
              "Name: family_status_id, dtype: int64"
            ]
          },
          "metadata": {}
        }
      ]
    },
    {
      "cell_type": "markdown",
      "source": "Замечаний нет, продолжаем анализ, смотрим значения в столбце `gender`:",
      "metadata": {}
    },
    {
      "cell_type": "code",
      "source": "df['gender'].value_counts() #получение уникальных значений и их количества столбца gender",
      "metadata": {},
      "execution_count": 8,
      "outputs": [
        {
          "execution_count": 8,
          "output_type": "execute_result",
          "data": {
            "text/plain": [
              "F      14236\n",
              "M       7288\n",
              "XNA        1\n",
              "Name: gender, dtype: int64"
            ]
          },
          "metadata": {}
        }
      ]
    },
    {
      "cell_type": "markdown",
      "source": "Здесь можно заметить, что существует одна запись с неуказанным полом, для нашего исследования оно не представляет значения, но тем, кто вносит данные следует на это обратить внимание. Продолжаем анализ в столбце `income_type`:",
      "metadata": {}
    },
    {
      "cell_type": "code",
      "source": "df['income_type'].value_counts()  #получение уникальных значений и их количества столбца income_type",
      "metadata": {},
      "execution_count": 9,
      "outputs": [
        {
          "execution_count": 9,
          "output_type": "execute_result",
          "data": {
            "text/plain": [
              "сотрудник          11119\n",
              "компаньон           5085\n",
              "пенсионер           3856\n",
              "госслужащий         1459\n",
              "безработный            2\n",
              "предприниматель        2\n",
              "студент                1\n",
              "в декрете              1\n",
              "Name: income_type, dtype: int64"
            ]
          },
          "metadata": {}
        }
      ]
    },
    {
      "cell_type": "markdown",
      "source": "Подозрительных значений не наблюдаем, продолжаем нанализ столбца `debt`:",
      "metadata": {}
    },
    {
      "cell_type": "code",
      "source": "df['debt'].value_counts()  #получение уникальных значений и их количества столбца debt",
      "metadata": {},
      "execution_count": 10,
      "outputs": [
        {
          "execution_count": 10,
          "output_type": "execute_result",
          "data": {
            "text/plain": [
              "0    19784\n",
              "1     1741\n",
              "Name: debt, dtype: int64"
            ]
          },
          "metadata": {}
        }
      ]
    },
    {
      "cell_type": "markdown",
      "source": "Тут тоже не наблюдается проблем, но можно заметить, что заемщики преимущественно (91,9%) не имели задолженности по возрату кредита. Посмотрим значения в столбце `education`:",
      "metadata": {}
    },
    {
      "cell_type": "code",
      "source": "df['education'].value_counts() #получение уникальных значений и их количества столбца education",
      "metadata": {},
      "execution_count": 11,
      "outputs": [
        {
          "execution_count": 11,
          "output_type": "execute_result",
          "data": {
            "text/plain": [
              "среднее                13750\n",
              "высшее                  4718\n",
              "СРЕДНЕЕ                  772\n",
              "Среднее                  711\n",
              "неоконченное высшее      668\n",
              "ВЫСШЕЕ                   274\n",
              "Высшее                   268\n",
              "начальное                250\n",
              "Неоконченное высшее       47\n",
              "НЕОКОНЧЕННОЕ ВЫСШЕЕ       29\n",
              "НАЧАЛЬНОЕ                 17\n",
              "Начальное                 15\n",
              "ученая степень             4\n",
              "УЧЕНАЯ СТЕПЕНЬ             1\n",
              "Ученая степень             1\n",
              "Name: education, dtype: int64"
            ]
          },
          "metadata": {}
        }
      ]
    },
    {
      "cell_type": "markdown",
      "source": "В данном столбце, можно заметить проблемы с регистром, один и тот же уровень образования написан разным регистром, для простоты оперирования данным на следующем этапе приведем эти значения к единообразию.\n\nЗапросим данные по целям кредита с количеством таких целей:",
      "metadata": {}
    },
    {
      "cell_type": "code",
      "source": "df['purpose'].value_counts() #получение уникальных значений и их количества столбца purpose",
      "metadata": {},
      "execution_count": 12,
      "outputs": [
        {
          "execution_count": 12,
          "output_type": "execute_result",
          "data": {
            "text/plain": [
              "свадьба                                   797\n",
              "на проведение свадьбы                     777\n",
              "сыграть свадьбу                           774\n",
              "операции с недвижимостью                  676\n",
              "покупка коммерческой недвижимости         664\n",
              "покупка жилья для сдачи                   653\n",
              "операции с жильем                         653\n",
              "операции с коммерческой недвижимостью     651\n",
              "жилье                                     647\n",
              "покупка жилья                             647\n",
              "покупка жилья для семьи                   641\n",
              "строительство собственной недвижимости    635\n",
              "недвижимость                              634\n",
              "операции со своей недвижимостью           630\n",
              "строительство жилой недвижимости          626\n",
              "покупка недвижимости                      624\n",
              "строительство недвижимости                620\n",
              "покупка своего жилья                      620\n",
              "ремонт жилью                              612\n",
              "покупка жилой недвижимости                607\n",
              "на покупку своего автомобиля              505\n",
              "заняться высшим образованием              496\n",
              "автомобиль                                495\n",
              "сделка с подержанным автомобилем          489\n",
              "свой автомобиль                           480\n",
              "на покупку подержанного автомобиля        479\n",
              "автомобили                                478\n",
              "на покупку автомобиля                     472\n",
              "дополнительное образование                462\n",
              "приобретение автомобиля                   462\n",
              "сделка с автомобилем                      455\n",
              "высшее образование                        453\n",
              "получение дополнительного образования     447\n",
              "образование                               447\n",
              "получение образования                     443\n",
              "профильное образование                    436\n",
              "получение высшего образования             426\n",
              "заняться образованием                     412\n",
              "Name: purpose, dtype: int64"
            ]
          },
          "metadata": {}
        }
      ]
    },
    {
      "cell_type": "markdown",
      "source": "Как можно увидеть топ 3 целей займа на проведение бракосочетания, ну а затем идут операции с недвижимостью.",
      "metadata": {}
    },
    {
      "cell_type": "markdown",
      "source": "При визуальном анализе бросается в глаза, что в столбце `days_employed` у пенсионеров дни трудового стажа имеют положительное  и аномально высокое значения, проверим наличие положительных значений дней трудового стажа у других категорий",
      "metadata": {}
    },
    {
      "cell_type": "code",
      "source": "df.loc[(df.loc[:,'days_employed'] > 0) & (df.loc[:,'income_type'] != 'пенсионер') ]",
      "metadata": {},
      "execution_count": 13,
      "outputs": [
        {
          "execution_count": 13,
          "output_type": "execute_result",
          "data": {
            "text/html": [
              "<div>\n",
              "<style scoped>\n",
              "    .dataframe tbody tr th:only-of-type {\n",
              "        vertical-align: middle;\n",
              "    }\n",
              "\n",
              "    .dataframe tbody tr th {\n",
              "        vertical-align: top;\n",
              "    }\n",
              "\n",
              "    .dataframe thead th {\n",
              "        text-align: right;\n",
              "    }\n",
              "</style>\n",
              "<table border=\"1\" class=\"dataframe\">\n",
              "  <thead>\n",
              "    <tr style=\"text-align: right;\">\n",
              "      <th></th>\n",
              "      <th>children</th>\n",
              "      <th>days_employed</th>\n",
              "      <th>dob_years</th>\n",
              "      <th>education</th>\n",
              "      <th>education_id</th>\n",
              "      <th>family_status</th>\n",
              "      <th>family_status_id</th>\n",
              "      <th>gender</th>\n",
              "      <th>income_type</th>\n",
              "      <th>debt</th>\n",
              "      <th>total_income</th>\n",
              "      <th>purpose</th>\n",
              "    </tr>\n",
              "  </thead>\n",
              "  <tbody>\n",
              "    <tr>\n",
              "      <td>3133</td>\n",
              "      <td>1</td>\n",
              "      <td>337524.466835</td>\n",
              "      <td>31</td>\n",
              "      <td>среднее</td>\n",
              "      <td>1</td>\n",
              "      <td>женат / замужем</td>\n",
              "      <td>0</td>\n",
              "      <td>M</td>\n",
              "      <td>безработный</td>\n",
              "      <td>1</td>\n",
              "      <td>59956.991984</td>\n",
              "      <td>покупка жилья для сдачи</td>\n",
              "    </tr>\n",
              "    <tr>\n",
              "      <td>14798</td>\n",
              "      <td>0</td>\n",
              "      <td>395302.838654</td>\n",
              "      <td>45</td>\n",
              "      <td>Высшее</td>\n",
              "      <td>0</td>\n",
              "      <td>гражданский брак</td>\n",
              "      <td>1</td>\n",
              "      <td>F</td>\n",
              "      <td>безработный</td>\n",
              "      <td>0</td>\n",
              "      <td>202722.511368</td>\n",
              "      <td>ремонт жилью</td>\n",
              "    </tr>\n",
              "  </tbody>\n",
              "</table>\n",
              "</div>"
            ],
            "text/plain": [
              "       children  days_employed  dob_years education  education_id  \\\n",
              "3133          1  337524.466835         31   среднее             1   \n",
              "14798         0  395302.838654         45    Высшее             0   \n",
              "\n",
              "          family_status  family_status_id gender  income_type  debt  \\\n",
              "3133    женат / замужем                 0      M  безработный     1   \n",
              "14798  гражданский брак                 1      F  безработный     0   \n",
              "\n",
              "        total_income                  purpose  \n",
              "3133    59956.991984  покупка жилья для сдачи  \n",
              "14798  202722.511368             ремонт жилью  "
            ]
          },
          "metadata": {}
        }
      ]
    },
    {
      "cell_type": "markdown",
      "source": "Не только у категории пенсионеров можно наблюдать аномальные значения, но и у безработных, следовательно можно сделать вывод, что положительные значения дней трудового стажа характерны для двух категорий: безработные и пенсионеры. Однако для нашего исследования данный столбец не имеет значения, тем не менее компетентным сотрудникам необходимо на это указать.",
      "metadata": {}
    },
    {
      "cell_type": "markdown",
      "source": "Проверим гипотезу об отсутствии одновременно в `days_employed` и `total_income`: ",
      "metadata": {}
    },
    {
      "cell_type": "code",
      "source": "columns_is_na = df[df['days_employed'].isna() & df['total_income'].isna()] #сделаем срез строк с пустыми значениями в columns_is_na\nprint('Количество пропусков значений одной строки в двух столбцах:',len(columns_is_na)) #выведем количество пропусков",
      "metadata": {},
      "execution_count": 14,
      "outputs": [
        {
          "name": "stdout",
          "output_type": "stream",
          "text": "Количество пропусков значений одной строки в двух столбцах: 2174\n"
        }
      ]
    },
    {
      "cell_type": "markdown",
      "source": "**Вывод**",
      "metadata": {}
    },
    {
      "cell_type": "markdown",
      "source": "Что получаем в итоге:\n\nВ таблице 21525 строк и 12 столбцов.\n\nНарушений в наименовании столбцов и типов данных в них - нет.\n\nГипотеза о одноврменном пропуске значений в `days_employed` и `total_income` подтвердилась. Так как значения в `total_income` важны для нашего исследования, заполним пропуски медианными значениями в дальнейших шагах. Но количество пропусков (10%) является достаточно большим, и в зависимости от целей исследования, объем потерянных данных может быть критическим, следует на это обратить внимание.\n\nВ столбце `children` было некорректно обозначено количество детей, в `dob_years` был указан нулевой возраст. Специалистам необходимо подумать над альтернативными способами ввода таких данных (например, экранная клавиатура) или добавить логические контроли, что повысит точность данных. \n\nВ столбцах `family_status_id` и `education` проблема с регистром значений, рекомендуется сделать выпадающий список, чтобы специалист не вносил вручную данные, а выбирал из предложенных значений. \n\nТакже можно заметить, что цели у заемщиков можно разделить на следующие группы:\n* операции с недвижимостью (жильем)\n* операции с автомобилем\n* получение образования\n* на проведение бракосочетания\n\nУстраним проблемы в данных, необходимых для нашего исследования.",
      "metadata": {}
    },
    {
      "cell_type": "markdown",
      "source": "## Шаг 2. Предобработка данных",
      "metadata": {}
    },
    {
      "cell_type": "markdown",
      "source": "### Обработка пропусков",
      "metadata": {}
    },
    {
      "cell_type": "markdown",
      "source": "По предыдущему анализу видно, что в столбцах `days_employed` и `total_income` одинаковое количество пропусков данных - по 2174. Наличие значения ежемесячного дохода критично в нашем исследовании (такие потерянные данные составляют 10% от всех данных), заменим пустые значения на медианные для каждого типа вида занятости (такие же действия проделаем для количества дней стажа):",
      "metadata": {}
    },
    {
      "cell_type": "code",
      "source": "df['total_income'] = df['total_income'].fillna(df.groupby('income_type')['total_income'].transform('median')) #заменим пустые значения на медианные для каждого типа занятости в total_income\ndf['days_employed'] = df['days_employed'].fillna(df.groupby('income_type')['days_employed'].transform('median')) #заменим пустые значения на медианные для каждого типа занятости в days_employed\ndisplay(df.info()) #проверим результаты",
      "metadata": {},
      "execution_count": 15,
      "outputs": [
        {
          "name": "stdout",
          "output_type": "stream",
          "text": "<class 'pandas.core.frame.DataFrame'>\n\nRangeIndex: 21525 entries, 0 to 21524\n\nData columns (total 12 columns):\n\nchildren            21525 non-null int64\n\ndays_employed       21525 non-null float64\n\ndob_years           21525 non-null int64\n\neducation           21525 non-null object\n\neducation_id        21525 non-null int64\n\nfamily_status       21525 non-null object\n\nfamily_status_id    21525 non-null int64\n\ngender              21525 non-null object\n\nincome_type         21525 non-null object\n\ndebt                21525 non-null int64\n\ntotal_income        21525 non-null float64\n\npurpose             21525 non-null object\n\ndtypes: float64(2), int64(5), object(5)\n\nmemory usage: 2.0+ MB\n"
        },
        {
          "output_type": "display_data",
          "data": {
            "text/plain": [
              "None"
            ]
          },
          "metadata": {}
        }
      ]
    },
    {
      "cell_type": "markdown",
      "source": "А теперь разберемся с данными в столбце `days_employed`. Вы определенно знаем, что такие данные больше 0, посмотрим начальное и конечное значение, для этого запросим сортированный массив по возрастанию:",
      "metadata": {}
    },
    {
      "cell_type": "code",
      "source": "df[df['days_employed']>0]['days_employed'].sort_values().unique() #запросим сортированный массив, с данными больше 0 в столюце стажа",
      "metadata": {},
      "execution_count": 16,
      "outputs": [
        {
          "execution_count": 16,
          "output_type": "execute_result",
          "data": {
            "text/plain": [
              "array([328728.72060452, 328734.92399633, 328771.3413868 , ...,\n",
              "       401675.09343386, 401715.81174889, 401755.40047533])"
            ]
          },
          "metadata": {}
        }
      ]
    },
    {
      "cell_type": "markdown",
      "source": "Начинается с 328 728 и заканчиваются на 401 755, а что если произошел сбой, и эти данные не в днях, а в часах? Попробуем првоерить такую гипотезу и разделим такие положительные значения на 24:",
      "metadata": {}
    },
    {
      "cell_type": "code",
      "source": "df.loc[df['days_employed'] > 0, 'days_employed'] = df['days_employed']/24 #разделим положительные значения в столбце days_employed на 24 часа",
      "metadata": {},
      "execution_count": 17,
      "outputs": []
    },
    {
      "cell_type": "markdown",
      "source": "Проверим значения в стоблце снова, таким же методом в сортированном массиве:",
      "metadata": {}
    },
    {
      "cell_type": "code",
      "source": "df[df['days_employed']>0]['days_employed'].sort_values().unique() #снова получим сортированный массив для контроля результатов",
      "metadata": {},
      "execution_count": 18,
      "outputs": [
        {
          "execution_count": 18,
          "output_type": "execute_result",
          "data": {
            "text/plain": [
              "array([13697.03002519, 13697.28849985, 13698.80589112, ...,\n",
              "       16736.46222641, 16738.15882287, 16739.80835314])"
            ]
          },
          "metadata": {}
        }
      ]
    },
    {
      "cell_type": "markdown",
      "source": "13697 разделим на 365 и получим 37 лет, что выглядит правдоподобно. А теперь приведем отричательные значения в положительные:",
      "metadata": {}
    },
    {
      "cell_type": "code",
      "source": "df['days_employed'] = df['days_employed'].abs() #представим все значения в столбце days_employed в положительном виде\ndisplay(df.head(5)) #вывыдем первые 5 строк таблицы, для контроля результата",
      "metadata": {},
      "execution_count": 19,
      "outputs": [
        {
          "output_type": "display_data",
          "data": {
            "text/html": [
              "<div>\n",
              "<style scoped>\n",
              "    .dataframe tbody tr th:only-of-type {\n",
              "        vertical-align: middle;\n",
              "    }\n",
              "\n",
              "    .dataframe tbody tr th {\n",
              "        vertical-align: top;\n",
              "    }\n",
              "\n",
              "    .dataframe thead th {\n",
              "        text-align: right;\n",
              "    }\n",
              "</style>\n",
              "<table border=\"1\" class=\"dataframe\">\n",
              "  <thead>\n",
              "    <tr style=\"text-align: right;\">\n",
              "      <th></th>\n",
              "      <th>children</th>\n",
              "      <th>days_employed</th>\n",
              "      <th>dob_years</th>\n",
              "      <th>education</th>\n",
              "      <th>education_id</th>\n",
              "      <th>family_status</th>\n",
              "      <th>family_status_id</th>\n",
              "      <th>gender</th>\n",
              "      <th>income_type</th>\n",
              "      <th>debt</th>\n",
              "      <th>total_income</th>\n",
              "      <th>purpose</th>\n",
              "    </tr>\n",
              "  </thead>\n",
              "  <tbody>\n",
              "    <tr>\n",
              "      <td>0</td>\n",
              "      <td>1</td>\n",
              "      <td>8437.673028</td>\n",
              "      <td>42</td>\n",
              "      <td>высшее</td>\n",
              "      <td>0</td>\n",
              "      <td>женат / замужем</td>\n",
              "      <td>0</td>\n",
              "      <td>F</td>\n",
              "      <td>сотрудник</td>\n",
              "      <td>0</td>\n",
              "      <td>253875.639453</td>\n",
              "      <td>покупка жилья</td>\n",
              "    </tr>\n",
              "    <tr>\n",
              "      <td>1</td>\n",
              "      <td>1</td>\n",
              "      <td>4024.803754</td>\n",
              "      <td>36</td>\n",
              "      <td>среднее</td>\n",
              "      <td>1</td>\n",
              "      <td>женат / замужем</td>\n",
              "      <td>0</td>\n",
              "      <td>F</td>\n",
              "      <td>сотрудник</td>\n",
              "      <td>0</td>\n",
              "      <td>112080.014102</td>\n",
              "      <td>приобретение автомобиля</td>\n",
              "    </tr>\n",
              "    <tr>\n",
              "      <td>2</td>\n",
              "      <td>0</td>\n",
              "      <td>5623.422610</td>\n",
              "      <td>33</td>\n",
              "      <td>Среднее</td>\n",
              "      <td>1</td>\n",
              "      <td>женат / замужем</td>\n",
              "      <td>0</td>\n",
              "      <td>M</td>\n",
              "      <td>сотрудник</td>\n",
              "      <td>0</td>\n",
              "      <td>145885.952297</td>\n",
              "      <td>покупка жилья</td>\n",
              "    </tr>\n",
              "    <tr>\n",
              "      <td>3</td>\n",
              "      <td>3</td>\n",
              "      <td>4124.747207</td>\n",
              "      <td>32</td>\n",
              "      <td>среднее</td>\n",
              "      <td>1</td>\n",
              "      <td>женат / замужем</td>\n",
              "      <td>0</td>\n",
              "      <td>M</td>\n",
              "      <td>сотрудник</td>\n",
              "      <td>0</td>\n",
              "      <td>267628.550329</td>\n",
              "      <td>дополнительное образование</td>\n",
              "    </tr>\n",
              "    <tr>\n",
              "      <td>4</td>\n",
              "      <td>0</td>\n",
              "      <td>14177.753002</td>\n",
              "      <td>53</td>\n",
              "      <td>среднее</td>\n",
              "      <td>1</td>\n",
              "      <td>гражданский брак</td>\n",
              "      <td>1</td>\n",
              "      <td>F</td>\n",
              "      <td>пенсионер</td>\n",
              "      <td>0</td>\n",
              "      <td>158616.077870</td>\n",
              "      <td>сыграть свадьбу</td>\n",
              "    </tr>\n",
              "  </tbody>\n",
              "</table>\n",
              "</div>"
            ],
            "text/plain": [
              "   children  days_employed  dob_years education  education_id  \\\n",
              "0         1    8437.673028         42    высшее             0   \n",
              "1         1    4024.803754         36   среднее             1   \n",
              "2         0    5623.422610         33   Среднее             1   \n",
              "3         3    4124.747207         32   среднее             1   \n",
              "4         0   14177.753002         53   среднее             1   \n",
              "\n",
              "      family_status  family_status_id gender income_type  debt   total_income  \\\n",
              "0   женат / замужем                 0      F   сотрудник     0  253875.639453   \n",
              "1   женат / замужем                 0      F   сотрудник     0  112080.014102   \n",
              "2   женат / замужем                 0      M   сотрудник     0  145885.952297   \n",
              "3   женат / замужем                 0      M   сотрудник     0  267628.550329   \n",
              "4  гражданский брак                 1      F   пенсионер     0  158616.077870   \n",
              "\n",
              "                      purpose  \n",
              "0               покупка жилья  \n",
              "1     приобретение автомобиля  \n",
              "2               покупка жилья  \n",
              "3  дополнительное образование  \n",
              "4             сыграть свадьбу  "
            ]
          },
          "metadata": {}
        }
      ]
    },
    {
      "cell_type": "markdown",
      "source": "**Вывод**",
      "metadata": {}
    },
    {
      "cell_type": "markdown",
      "source": "Заменили пустые значения в `total_income`, но не одним медианным значениям для всех (ведь у каждого типа занятости своя заработная плата), а медианным значениям для каждого типа занятости. Также поступили с данными в стоблце `days_employed`, но помимо этого разобрались с аномалией высоких дней стажа (которые оказались часами) и привели отрицательные значения в положительные и  можем продолжить наше исследование дальше.",
      "metadata": {}
    },
    {
      "cell_type": "markdown",
      "source": "### Замена типа данных",
      "metadata": {}
    },
    {
      "cell_type": "markdown",
      "source": "Для дальнейшего анализа и лучшего восприятия данных (большое количество знаков после запятой не влияет на исследование), изменим тип данных в столбцах `days_employed` и `total_income` с float на int. Так как это позволит проще проводить различные операции над данными. Используется метод `astype`, так как оба этих столбца имеют данные *float64*, а не *object* и ошибок при конвертации быть не должно (и не потребуется их обработка методом **try except**).",
      "metadata": {}
    },
    {
      "cell_type": "code",
      "source": "df['days_employed'] = df['days_employed'].astype('int') #переведем значения в days_employed с float в int\ndf['total_income'] = df['total_income'].astype('int') #переведем значения в total_income с float в int\ndisplay(df.head(10)) #отобразим первые 10 строк для контроля правильного выполпнения кода",
      "metadata": {},
      "execution_count": 21,
      "outputs": [
        {
          "output_type": "display_data",
          "data": {
            "text/html": [
              "<div>\n",
              "<style scoped>\n",
              "    .dataframe tbody tr th:only-of-type {\n",
              "        vertical-align: middle;\n",
              "    }\n",
              "\n",
              "    .dataframe tbody tr th {\n",
              "        vertical-align: top;\n",
              "    }\n",
              "\n",
              "    .dataframe thead th {\n",
              "        text-align: right;\n",
              "    }\n",
              "</style>\n",
              "<table border=\"1\" class=\"dataframe\">\n",
              "  <thead>\n",
              "    <tr style=\"text-align: right;\">\n",
              "      <th></th>\n",
              "      <th>children</th>\n",
              "      <th>days_employed</th>\n",
              "      <th>dob_years</th>\n",
              "      <th>education</th>\n",
              "      <th>education_id</th>\n",
              "      <th>family_status</th>\n",
              "      <th>family_status_id</th>\n",
              "      <th>gender</th>\n",
              "      <th>income_type</th>\n",
              "      <th>debt</th>\n",
              "      <th>total_income</th>\n",
              "      <th>purpose</th>\n",
              "    </tr>\n",
              "  </thead>\n",
              "  <tbody>\n",
              "    <tr>\n",
              "      <td>0</td>\n",
              "      <td>1</td>\n",
              "      <td>8437</td>\n",
              "      <td>42</td>\n",
              "      <td>высшее</td>\n",
              "      <td>0</td>\n",
              "      <td>женат / замужем</td>\n",
              "      <td>0</td>\n",
              "      <td>F</td>\n",
              "      <td>сотрудник</td>\n",
              "      <td>0</td>\n",
              "      <td>253875</td>\n",
              "      <td>покупка жилья</td>\n",
              "    </tr>\n",
              "    <tr>\n",
              "      <td>1</td>\n",
              "      <td>1</td>\n",
              "      <td>4024</td>\n",
              "      <td>36</td>\n",
              "      <td>среднее</td>\n",
              "      <td>1</td>\n",
              "      <td>женат / замужем</td>\n",
              "      <td>0</td>\n",
              "      <td>F</td>\n",
              "      <td>сотрудник</td>\n",
              "      <td>0</td>\n",
              "      <td>112080</td>\n",
              "      <td>приобретение автомобиля</td>\n",
              "    </tr>\n",
              "    <tr>\n",
              "      <td>2</td>\n",
              "      <td>0</td>\n",
              "      <td>5623</td>\n",
              "      <td>33</td>\n",
              "      <td>Среднее</td>\n",
              "      <td>1</td>\n",
              "      <td>женат / замужем</td>\n",
              "      <td>0</td>\n",
              "      <td>M</td>\n",
              "      <td>сотрудник</td>\n",
              "      <td>0</td>\n",
              "      <td>145885</td>\n",
              "      <td>покупка жилья</td>\n",
              "    </tr>\n",
              "    <tr>\n",
              "      <td>3</td>\n",
              "      <td>3</td>\n",
              "      <td>4124</td>\n",
              "      <td>32</td>\n",
              "      <td>среднее</td>\n",
              "      <td>1</td>\n",
              "      <td>женат / замужем</td>\n",
              "      <td>0</td>\n",
              "      <td>M</td>\n",
              "      <td>сотрудник</td>\n",
              "      <td>0</td>\n",
              "      <td>267628</td>\n",
              "      <td>дополнительное образование</td>\n",
              "    </tr>\n",
              "    <tr>\n",
              "      <td>4</td>\n",
              "      <td>0</td>\n",
              "      <td>14177</td>\n",
              "      <td>53</td>\n",
              "      <td>среднее</td>\n",
              "      <td>1</td>\n",
              "      <td>гражданский брак</td>\n",
              "      <td>1</td>\n",
              "      <td>F</td>\n",
              "      <td>пенсионер</td>\n",
              "      <td>0</td>\n",
              "      <td>158616</td>\n",
              "      <td>сыграть свадьбу</td>\n",
              "    </tr>\n",
              "    <tr>\n",
              "      <td>5</td>\n",
              "      <td>0</td>\n",
              "      <td>926</td>\n",
              "      <td>27</td>\n",
              "      <td>высшее</td>\n",
              "      <td>0</td>\n",
              "      <td>гражданский брак</td>\n",
              "      <td>1</td>\n",
              "      <td>M</td>\n",
              "      <td>компаньон</td>\n",
              "      <td>0</td>\n",
              "      <td>255763</td>\n",
              "      <td>покупка жилья</td>\n",
              "    </tr>\n",
              "    <tr>\n",
              "      <td>6</td>\n",
              "      <td>0</td>\n",
              "      <td>2879</td>\n",
              "      <td>43</td>\n",
              "      <td>высшее</td>\n",
              "      <td>0</td>\n",
              "      <td>женат / замужем</td>\n",
              "      <td>0</td>\n",
              "      <td>F</td>\n",
              "      <td>компаньон</td>\n",
              "      <td>0</td>\n",
              "      <td>240525</td>\n",
              "      <td>операции с жильем</td>\n",
              "    </tr>\n",
              "    <tr>\n",
              "      <td>7</td>\n",
              "      <td>0</td>\n",
              "      <td>152</td>\n",
              "      <td>50</td>\n",
              "      <td>СРЕДНЕЕ</td>\n",
              "      <td>1</td>\n",
              "      <td>женат / замужем</td>\n",
              "      <td>0</td>\n",
              "      <td>M</td>\n",
              "      <td>сотрудник</td>\n",
              "      <td>0</td>\n",
              "      <td>135823</td>\n",
              "      <td>образование</td>\n",
              "    </tr>\n",
              "    <tr>\n",
              "      <td>8</td>\n",
              "      <td>2</td>\n",
              "      <td>6929</td>\n",
              "      <td>35</td>\n",
              "      <td>ВЫСШЕЕ</td>\n",
              "      <td>0</td>\n",
              "      <td>гражданский брак</td>\n",
              "      <td>1</td>\n",
              "      <td>F</td>\n",
              "      <td>сотрудник</td>\n",
              "      <td>0</td>\n",
              "      <td>95856</td>\n",
              "      <td>на проведение свадьбы</td>\n",
              "    </tr>\n",
              "    <tr>\n",
              "      <td>9</td>\n",
              "      <td>0</td>\n",
              "      <td>2188</td>\n",
              "      <td>41</td>\n",
              "      <td>среднее</td>\n",
              "      <td>1</td>\n",
              "      <td>женат / замужем</td>\n",
              "      <td>0</td>\n",
              "      <td>M</td>\n",
              "      <td>сотрудник</td>\n",
              "      <td>0</td>\n",
              "      <td>144425</td>\n",
              "      <td>покупка жилья для семьи</td>\n",
              "    </tr>\n",
              "  </tbody>\n",
              "</table>\n",
              "</div>"
            ],
            "text/plain": [
              "   children  days_employed  dob_years education  education_id  \\\n",
              "0         1           8437         42    высшее             0   \n",
              "1         1           4024         36   среднее             1   \n",
              "2         0           5623         33   Среднее             1   \n",
              "3         3           4124         32   среднее             1   \n",
              "4         0          14177         53   среднее             1   \n",
              "5         0            926         27    высшее             0   \n",
              "6         0           2879         43    высшее             0   \n",
              "7         0            152         50   СРЕДНЕЕ             1   \n",
              "8         2           6929         35    ВЫСШЕЕ             0   \n",
              "9         0           2188         41   среднее             1   \n",
              "\n",
              "      family_status  family_status_id gender income_type  debt  total_income  \\\n",
              "0   женат / замужем                 0      F   сотрудник     0        253875   \n",
              "1   женат / замужем                 0      F   сотрудник     0        112080   \n",
              "2   женат / замужем                 0      M   сотрудник     0        145885   \n",
              "3   женат / замужем                 0      M   сотрудник     0        267628   \n",
              "4  гражданский брак                 1      F   пенсионер     0        158616   \n",
              "5  гражданский брак                 1      M   компаньон     0        255763   \n",
              "6   женат / замужем                 0      F   компаньон     0        240525   \n",
              "7   женат / замужем                 0      M   сотрудник     0        135823   \n",
              "8  гражданский брак                 1      F   сотрудник     0         95856   \n",
              "9   женат / замужем                 0      M   сотрудник     0        144425   \n",
              "\n",
              "                      purpose  \n",
              "0               покупка жилья  \n",
              "1     приобретение автомобиля  \n",
              "2               покупка жилья  \n",
              "3  дополнительное образование  \n",
              "4             сыграть свадьбу  \n",
              "5               покупка жилья  \n",
              "6           операции с жильем  \n",
              "7                 образование  \n",
              "8       на проведение свадьбы  \n",
              "9     покупка жилья для семьи  "
            ]
          },
          "metadata": {}
        }
      ]
    },
    {
      "cell_type": "markdown",
      "source": "**Вывод**",
      "metadata": {}
    },
    {
      "cell_type": "markdown",
      "source": "В этом шаге мы преобразовали данные из float64 в int в столбцах `days_employed` и `total_income`, с такими данными легче будет производить различные манипуляции и подсчеты и визуально они не оттягощают таблицу.\n",
      "metadata": {}
    },
    {
      "cell_type": "markdown",
      "source": "### Обработка дубликатов",
      "metadata": {}
    },
    {
      "cell_type": "markdown",
      "source": "При анализе , мы увидели, что в столбце `children` можно заметить два параметра выбивающихся из общего ряда - это 20 и -1. Приведем эти некорректные значения в корректные, и запросим для проверки уникальные значения и их количество.",
      "metadata": {}
    },
    {
      "cell_type": "code",
      "source": "df.loc[df['children'] == -1,'children'] = 1 #исправляем значение -1 на правильное в стоблце children\ndf.loc[df['children'] == 20,'children'] = 2 #исправляем значение 20 на правильное в стоблце children\ndf['children'].value_counts()  #получим количество уникальных значений и их количество в стоблце children",
      "metadata": {},
      "execution_count": 22,
      "outputs": [
        {
          "execution_count": 22,
          "output_type": "execute_result",
          "data": {
            "text/plain": [
              "0    14149\n",
              "1     4865\n",
              "2     2131\n",
              "3      330\n",
              "4       41\n",
              "5        9\n",
              "Name: children, dtype: int64"
            ]
          },
          "metadata": {}
        }
      ]
    },
    {
      "cell_type": "markdown",
      "source": "При первичном знакомстве с таблицей, в столбце `education` мы выявили одинаковые данные, но записанные разным регистром. Исправим это, приведем все виды написания значений к нижнему регистру и выполним проверку, запросив уникальные значения и их количество:",
      "metadata": {}
    },
    {
      "cell_type": "code",
      "source": "df['education'] = df['education'].str.lower() #переведем значения в столбце education к нижнему регистру\ndf['education'].value_counts() #получим количество уникальных значений и их количество в стоблце education",
      "metadata": {},
      "execution_count": 23,
      "outputs": [
        {
          "execution_count": 23,
          "output_type": "execute_result",
          "data": {
            "text/plain": [
              "среднее                15233\n",
              "высшее                  5260\n",
              "неоконченное высшее      744\n",
              "начальное                282\n",
              "ученая степень             6\n",
              "Name: education, dtype: int64"
            ]
          },
          "metadata": {}
        }
      ]
    },
    {
      "cell_type": "markdown",
      "source": "Также поправим значение *Не женат / не замужем*  в столбце `family_status`, чтобы его написание соответствеовало другим:",
      "metadata": {}
    },
    {
      "cell_type": "code",
      "source": "df['family_status'] = df['family_status'].str.lower() #переведем значения в столбце education к нижнему регистру\ndf['family_status'].unique() #выведем массив уникальных значений",
      "metadata": {},
      "execution_count": 24,
      "outputs": [
        {
          "execution_count": 24,
          "output_type": "execute_result",
          "data": {
            "text/plain": [
              "array(['женат / замужем', 'гражданский брак', 'вдовец / вдова',\n",
              "       'в разводе', 'не женат / не замужем'], dtype=object)"
            ]
          },
          "metadata": {}
        }
      ]
    },
    {
      "cell_type": "markdown",
      "source": "Значение *Не женат / не замужем*, как и другие теперь в нижнем регистре. Проверим всю таблицу на наличие явных дубликатов:",
      "metadata": {}
    },
    {
      "cell_type": "code",
      "source": "df.duplicated().sum() #запрашиваем количество дубликатов строк в массиве",
      "metadata": {},
      "execution_count": 25,
      "outputs": [
        {
          "execution_count": 25,
          "output_type": "execute_result",
          "data": {
            "text/plain": [
              "71"
            ]
          },
          "metadata": {}
        }
      ]
    },
    {
      "cell_type": "markdown",
      "source": "71 дублирующая строка - 0,33% от всего массива данных. В рамках нашего исследования это очень небольшая величина, и ей можно пренебречь. Удалим дублирующие строки, сбросим индексацию строк и заново запросим количество дублей:",
      "metadata": {}
    },
    {
      "cell_type": "code",
      "source": "df = df.drop_duplicates().reset_index(drop = True) #удаляем дубликаты строк и сбрасываем индексацию у таблицы\ndf.duplicated().sum() #запрашиваем количество дубликатов строк в массиве",
      "metadata": {},
      "execution_count": 26,
      "outputs": [
        {
          "execution_count": 26,
          "output_type": "execute_result",
          "data": {
            "text/plain": [
              "0"
            ]
          },
          "metadata": {}
        }
      ]
    },
    {
      "cell_type": "markdown",
      "source": "**Вывод**",
      "metadata": {}
    },
    {
      "cell_type": "markdown",
      "source": "Воспользовавшись методом приведения значений к нижнему регистру, нам удалось уменьшить количество записей одного и того же параметра, благодаря этому улучшилось восприятие и читаемость таблицы. \n\nОпеределили дубликаты строк, удалили их. Такие дубликаты возможны, когда данные не привязаны к ID пользователя. Например в один период времени человек брал заем для одних целей (возраст был, предположим 30 лет), а позже, когда возраст изменился - для других. Следует взять этот нюанс в разработку.\n\nПродолжим исследование дальше. ",
      "metadata": {}
    },
    {
      "cell_type": "markdown",
      "source": "### Лемматизация",
      "metadata": {}
    },
    {
      "cell_type": "markdown",
      "source": "Цели у заемщиков в большинстве одинаковые, но как мы увидели в первичном анализе, сформулированы и записаны по-разному. Чтобы привести их к \"общему знаменателю\" из первичного анализа сформируем слова-ключи, напишем функцию, которая будет искать ключевые слова и затем создадим новый стобец с логически правильно сформулированной целью заемщика.",
      "metadata": {}
    },
    {
      "cell_type": "code",
      "source": "from pymystem3 import Mystem #импортируем библиотеку для лемматизации\nm = Mystem()\n'''Преобразуем цели с помощью библиотеки PyMystem, она лемматизирует слова в список слов-\"инфинитивов\".\n В полученном списке найдем ключевое слово, которое нас интересует, и вернет корректное название категории'''\ndef purpose_change(purpose):\n    row = m.lemmatize(purpose)\n    for aim in row:\n        if 'автомобиль' in aim:\n            return 'операции с автомобилем'\n        if ('жилье' in aim) or ('недвижимость' in aim):\n            return 'операции с недвижимостью'\n        if 'образование' in aim:\n            return 'получение образования'\n        if 'свадьба' in aim:\n            return 'бракосочетание'\n\ndf['purpose_def'] = df['purpose'].apply(purpose_change) #применим нашу функцию для поиска цели и создадим новый столбец purpose_def\ndisplay(df['purpose_def'].value_counts()) #получим список с общими целями и их количеством в столбце purpose_def",
      "metadata": {},
      "execution_count": 27,
      "outputs": [
        {
          "output_type": "display_data",
          "data": {
            "text/plain": [
              "операции с недвижимостью    10811\n",
              "операции с автомобилем       4306\n",
              "получение образования        4013\n",
              "бракосочетание               2324\n",
              "Name: purpose_def, dtype: int64"
            ]
          },
          "metadata": {}
        }
      ]
    },
    {
      "cell_type": "markdown",
      "source": "**Вывод**",
      "metadata": {}
    },
    {
      "cell_type": "markdown",
      "source": "Преобразовав по ключевым словам цели заемщиков, нам удалось избежать повторений и тем самым количество вариаций целей уменьшилось с 38 до 4 основных. Рекомендуется при внесении данных, создать список с формализованными целями, чтобы избежать искажений в формулировке и двусмысленности.",
      "metadata": {}
    },
    {
      "cell_type": "markdown",
      "source": "### Категоризация данных",
      "metadata": {}
    },
    {
      "cell_type": "markdown",
      "source": "Но вернемся к главным вопросам нашего анализа. Первый звучит так **Есть ли зависимость между наличием детей и возвратом кредита в срок?**. \n\nВ нашей таблице есть сведения о количестве детей, сформируем два варианта ответа на этот вопрос, первый - наличие детей и отсутствие вместе с задолженностью, второй - зависимость количества детей и задолженности. \n\nС помощью функции ответим на первую часть, пусть такая функция будет возвращать сведения о наличии детей, если в соответствующем столбце `children` значение больше 1. И пусть все эти значения будут оформлены в отдельный столбец `ch_available`:",
      "metadata": {}
    },
    {
      "cell_type": "code",
      "source": "def credit_return_child(row):\n    '''Функция принимает значение столбца children, если оно положительно, то возращает\n    значение о наличии детей и наоборот'''\n    if row['children'] == 0:\n        return 'детей нет'\n    if row['children'] > 0:\n        return 'дети есть'\ndf['ch_available'] = df.apply(credit_return_child, axis = 1) #объявим столбец 'ch_available' куда пойдут итоги работы функции\ndisplay(df.head(5)) #отобразим первые 5 строк для контроля работы функции",
      "metadata": {},
      "execution_count": 28,
      "outputs": [
        {
          "output_type": "display_data",
          "data": {
            "text/html": [
              "<div>\n",
              "<style scoped>\n",
              "    .dataframe tbody tr th:only-of-type {\n",
              "        vertical-align: middle;\n",
              "    }\n",
              "\n",
              "    .dataframe tbody tr th {\n",
              "        vertical-align: top;\n",
              "    }\n",
              "\n",
              "    .dataframe thead th {\n",
              "        text-align: right;\n",
              "    }\n",
              "</style>\n",
              "<table border=\"1\" class=\"dataframe\">\n",
              "  <thead>\n",
              "    <tr style=\"text-align: right;\">\n",
              "      <th></th>\n",
              "      <th>children</th>\n",
              "      <th>days_employed</th>\n",
              "      <th>dob_years</th>\n",
              "      <th>education</th>\n",
              "      <th>education_id</th>\n",
              "      <th>family_status</th>\n",
              "      <th>family_status_id</th>\n",
              "      <th>gender</th>\n",
              "      <th>income_type</th>\n",
              "      <th>debt</th>\n",
              "      <th>total_income</th>\n",
              "      <th>purpose</th>\n",
              "      <th>purpose_def</th>\n",
              "      <th>ch_available</th>\n",
              "    </tr>\n",
              "  </thead>\n",
              "  <tbody>\n",
              "    <tr>\n",
              "      <td>0</td>\n",
              "      <td>1</td>\n",
              "      <td>8437</td>\n",
              "      <td>42</td>\n",
              "      <td>высшее</td>\n",
              "      <td>0</td>\n",
              "      <td>женат / замужем</td>\n",
              "      <td>0</td>\n",
              "      <td>F</td>\n",
              "      <td>сотрудник</td>\n",
              "      <td>0</td>\n",
              "      <td>253875</td>\n",
              "      <td>покупка жилья</td>\n",
              "      <td>операции с недвижимостью</td>\n",
              "      <td>дети есть</td>\n",
              "    </tr>\n",
              "    <tr>\n",
              "      <td>1</td>\n",
              "      <td>1</td>\n",
              "      <td>4024</td>\n",
              "      <td>36</td>\n",
              "      <td>среднее</td>\n",
              "      <td>1</td>\n",
              "      <td>женат / замужем</td>\n",
              "      <td>0</td>\n",
              "      <td>F</td>\n",
              "      <td>сотрудник</td>\n",
              "      <td>0</td>\n",
              "      <td>112080</td>\n",
              "      <td>приобретение автомобиля</td>\n",
              "      <td>операции с автомобилем</td>\n",
              "      <td>дети есть</td>\n",
              "    </tr>\n",
              "    <tr>\n",
              "      <td>2</td>\n",
              "      <td>0</td>\n",
              "      <td>5623</td>\n",
              "      <td>33</td>\n",
              "      <td>среднее</td>\n",
              "      <td>1</td>\n",
              "      <td>женат / замужем</td>\n",
              "      <td>0</td>\n",
              "      <td>M</td>\n",
              "      <td>сотрудник</td>\n",
              "      <td>0</td>\n",
              "      <td>145885</td>\n",
              "      <td>покупка жилья</td>\n",
              "      <td>операции с недвижимостью</td>\n",
              "      <td>детей нет</td>\n",
              "    </tr>\n",
              "    <tr>\n",
              "      <td>3</td>\n",
              "      <td>3</td>\n",
              "      <td>4124</td>\n",
              "      <td>32</td>\n",
              "      <td>среднее</td>\n",
              "      <td>1</td>\n",
              "      <td>женат / замужем</td>\n",
              "      <td>0</td>\n",
              "      <td>M</td>\n",
              "      <td>сотрудник</td>\n",
              "      <td>0</td>\n",
              "      <td>267628</td>\n",
              "      <td>дополнительное образование</td>\n",
              "      <td>получение образования</td>\n",
              "      <td>дети есть</td>\n",
              "    </tr>\n",
              "    <tr>\n",
              "      <td>4</td>\n",
              "      <td>0</td>\n",
              "      <td>14177</td>\n",
              "      <td>53</td>\n",
              "      <td>среднее</td>\n",
              "      <td>1</td>\n",
              "      <td>гражданский брак</td>\n",
              "      <td>1</td>\n",
              "      <td>F</td>\n",
              "      <td>пенсионер</td>\n",
              "      <td>0</td>\n",
              "      <td>158616</td>\n",
              "      <td>сыграть свадьбу</td>\n",
              "      <td>бракосочетание</td>\n",
              "      <td>детей нет</td>\n",
              "    </tr>\n",
              "  </tbody>\n",
              "</table>\n",
              "</div>"
            ],
            "text/plain": [
              "   children  days_employed  dob_years education  education_id  \\\n",
              "0         1           8437         42    высшее             0   \n",
              "1         1           4024         36   среднее             1   \n",
              "2         0           5623         33   среднее             1   \n",
              "3         3           4124         32   среднее             1   \n",
              "4         0          14177         53   среднее             1   \n",
              "\n",
              "      family_status  family_status_id gender income_type  debt  total_income  \\\n",
              "0   женат / замужем                 0      F   сотрудник     0        253875   \n",
              "1   женат / замужем                 0      F   сотрудник     0        112080   \n",
              "2   женат / замужем                 0      M   сотрудник     0        145885   \n",
              "3   женат / замужем                 0      M   сотрудник     0        267628   \n",
              "4  гражданский брак                 1      F   пенсионер     0        158616   \n",
              "\n",
              "                      purpose               purpose_def ch_available  \n",
              "0               покупка жилья  операции с недвижимостью    дети есть  \n",
              "1     приобретение автомобиля    операции с автомобилем    дети есть  \n",
              "2               покупка жилья  операции с недвижимостью    детей нет  \n",
              "3  дополнительное образование     получение образования    дети есть  \n",
              "4             сыграть свадьбу            бракосочетание    детей нет  "
            ]
          },
          "metadata": {}
        }
      ]
    },
    {
      "cell_type": "markdown",
      "source": "Теперь столбец `ch_available` позволит сделать соответствующую группировку и ответить на этот вопрос. Таким же способом \"отфильтруем\" заработную плату, чтобы ответить на третий вопрос, где фигурирует уровень дохода. Но в описании к таблице не сказано о какой валюте или стране идет речь, на какие группы делить работающих. <a href='https://zavtra.ru/blogs/eto_interesno_i_polezno_znat_'>Деление на группы мы посмотрим здесь, их будет 5:</a> \n1. Нищие\n\n2. Бедные\n\n3. Выше бедности\n\n4. Средний класс\n\n5. Высший класс (богатые и сверхбогатые)\n\nОпределим уровни заработной платы, чтобы отнести работников в определенному классу, для этого воспользуемся функцией `qcut()`",
      "metadata": {}
    },
    {
      "cell_type": "code",
      "source": "pd.qcut(x=df['total_income'], q=5)",
      "metadata": {},
      "execution_count": 29,
      "outputs": [
        {
          "execution_count": 29,
          "output_type": "execute_result",
          "data": {
            "text/plain": [
              "0        (214618.2, 2265604.0]\n",
              "1          (98537.6, 132134.4]\n",
              "2         (132134.4, 161335.0]\n",
              "3        (214618.2, 2265604.0]\n",
              "4         (132134.4, 161335.0]\n",
              "                 ...          \n",
              "21449    (214618.2, 2265604.0]\n",
              "21450     (132134.4, 161335.0]\n",
              "21451     (20666.999, 98537.6]\n",
              "21452    (214618.2, 2265604.0]\n",
              "21453     (20666.999, 98537.6]\n",
              "Name: total_income, Length: 21454, dtype: category\n",
              "Categories (5, interval[float64]): [(20666.999, 98537.6] < (98537.6, 132134.4] < (132134.4, 161335.0] < (161335.0, 214618.2] < (214618.2, 2265604.0]]"
            ]
          },
          "metadata": {}
        }
      ]
    },
    {
      "cell_type": "markdown",
      "source": "Соответственно получаем:\n1. Нищие - до 98662 у.е.\n\n2. Бедные - от 98663 до 132142 у.е.\n\n3. Выше бедности - от 132143 до 161151 у.е.\n\n4. Средний класс - от 161152 до 214269 у.е.\n\n5. Высший класс (богатые и сверхбогатые) - свыше 214270 у.е.\n\nС помощью фукнции обработаем значения заработной платы и вернем сведения с градацией в столбец `income_level`:",
      "metadata": {}
    },
    {
      "cell_type": "code",
      "source": "def credit_return_income(income):\n    '''Функция принимает значение столбца total_income, и в зависимости от уровня, \n    возращает соответствующее значение в столбец income_level '''\n    if income <= 98662:\n        return 'нищие'\n    if 98663 < income  <= 132142:\n        return 'бедные'\n    if 132143 < income <= 161151:\n        return 'выше бедности'\n    if 161152 < income <= 214269:\n        return 'средний класс'\n    if income  > 214270:\n        return 'высший класс'\ndf['income_level'] = df['total_income'].apply(credit_return_income) #объявим столбец 'income_level' куда пойдут итоги работы функции\ndisplay(df.head(5)) #отобразим первые 5 строк для контроля работы функции",
      "metadata": {},
      "execution_count": 30,
      "outputs": [
        {
          "output_type": "display_data",
          "data": {
            "text/html": [
              "<div>\n",
              "<style scoped>\n",
              "    .dataframe tbody tr th:only-of-type {\n",
              "        vertical-align: middle;\n",
              "    }\n",
              "\n",
              "    .dataframe tbody tr th {\n",
              "        vertical-align: top;\n",
              "    }\n",
              "\n",
              "    .dataframe thead th {\n",
              "        text-align: right;\n",
              "    }\n",
              "</style>\n",
              "<table border=\"1\" class=\"dataframe\">\n",
              "  <thead>\n",
              "    <tr style=\"text-align: right;\">\n",
              "      <th></th>\n",
              "      <th>children</th>\n",
              "      <th>days_employed</th>\n",
              "      <th>dob_years</th>\n",
              "      <th>education</th>\n",
              "      <th>education_id</th>\n",
              "      <th>family_status</th>\n",
              "      <th>family_status_id</th>\n",
              "      <th>gender</th>\n",
              "      <th>income_type</th>\n",
              "      <th>debt</th>\n",
              "      <th>total_income</th>\n",
              "      <th>purpose</th>\n",
              "      <th>purpose_def</th>\n",
              "      <th>ch_available</th>\n",
              "      <th>income_level</th>\n",
              "    </tr>\n",
              "  </thead>\n",
              "  <tbody>\n",
              "    <tr>\n",
              "      <td>0</td>\n",
              "      <td>1</td>\n",
              "      <td>8437</td>\n",
              "      <td>42</td>\n",
              "      <td>высшее</td>\n",
              "      <td>0</td>\n",
              "      <td>женат / замужем</td>\n",
              "      <td>0</td>\n",
              "      <td>F</td>\n",
              "      <td>сотрудник</td>\n",
              "      <td>0</td>\n",
              "      <td>253875</td>\n",
              "      <td>покупка жилья</td>\n",
              "      <td>операции с недвижимостью</td>\n",
              "      <td>дети есть</td>\n",
              "      <td>высший класс</td>\n",
              "    </tr>\n",
              "    <tr>\n",
              "      <td>1</td>\n",
              "      <td>1</td>\n",
              "      <td>4024</td>\n",
              "      <td>36</td>\n",
              "      <td>среднее</td>\n",
              "      <td>1</td>\n",
              "      <td>женат / замужем</td>\n",
              "      <td>0</td>\n",
              "      <td>F</td>\n",
              "      <td>сотрудник</td>\n",
              "      <td>0</td>\n",
              "      <td>112080</td>\n",
              "      <td>приобретение автомобиля</td>\n",
              "      <td>операции с автомобилем</td>\n",
              "      <td>дети есть</td>\n",
              "      <td>бедные</td>\n",
              "    </tr>\n",
              "    <tr>\n",
              "      <td>2</td>\n",
              "      <td>0</td>\n",
              "      <td>5623</td>\n",
              "      <td>33</td>\n",
              "      <td>среднее</td>\n",
              "      <td>1</td>\n",
              "      <td>женат / замужем</td>\n",
              "      <td>0</td>\n",
              "      <td>M</td>\n",
              "      <td>сотрудник</td>\n",
              "      <td>0</td>\n",
              "      <td>145885</td>\n",
              "      <td>покупка жилья</td>\n",
              "      <td>операции с недвижимостью</td>\n",
              "      <td>детей нет</td>\n",
              "      <td>выше бедности</td>\n",
              "    </tr>\n",
              "    <tr>\n",
              "      <td>3</td>\n",
              "      <td>3</td>\n",
              "      <td>4124</td>\n",
              "      <td>32</td>\n",
              "      <td>среднее</td>\n",
              "      <td>1</td>\n",
              "      <td>женат / замужем</td>\n",
              "      <td>0</td>\n",
              "      <td>M</td>\n",
              "      <td>сотрудник</td>\n",
              "      <td>0</td>\n",
              "      <td>267628</td>\n",
              "      <td>дополнительное образование</td>\n",
              "      <td>получение образования</td>\n",
              "      <td>дети есть</td>\n",
              "      <td>высший класс</td>\n",
              "    </tr>\n",
              "    <tr>\n",
              "      <td>4</td>\n",
              "      <td>0</td>\n",
              "      <td>14177</td>\n",
              "      <td>53</td>\n",
              "      <td>среднее</td>\n",
              "      <td>1</td>\n",
              "      <td>гражданский брак</td>\n",
              "      <td>1</td>\n",
              "      <td>F</td>\n",
              "      <td>пенсионер</td>\n",
              "      <td>0</td>\n",
              "      <td>158616</td>\n",
              "      <td>сыграть свадьбу</td>\n",
              "      <td>бракосочетание</td>\n",
              "      <td>детей нет</td>\n",
              "      <td>выше бедности</td>\n",
              "    </tr>\n",
              "  </tbody>\n",
              "</table>\n",
              "</div>"
            ],
            "text/plain": [
              "   children  days_employed  dob_years education  education_id  \\\n",
              "0         1           8437         42    высшее             0   \n",
              "1         1           4024         36   среднее             1   \n",
              "2         0           5623         33   среднее             1   \n",
              "3         3           4124         32   среднее             1   \n",
              "4         0          14177         53   среднее             1   \n",
              "\n",
              "      family_status  family_status_id gender income_type  debt  total_income  \\\n",
              "0   женат / замужем                 0      F   сотрудник     0        253875   \n",
              "1   женат / замужем                 0      F   сотрудник     0        112080   \n",
              "2   женат / замужем                 0      M   сотрудник     0        145885   \n",
              "3   женат / замужем                 0      M   сотрудник     0        267628   \n",
              "4  гражданский брак                 1      F   пенсионер     0        158616   \n",
              "\n",
              "                      purpose               purpose_def ch_available  \\\n",
              "0               покупка жилья  операции с недвижимостью    дети есть   \n",
              "1     приобретение автомобиля    операции с автомобилем    дети есть   \n",
              "2               покупка жилья  операции с недвижимостью    детей нет   \n",
              "3  дополнительное образование     получение образования    дети есть   \n",
              "4             сыграть свадьбу            бракосочетание    детей нет   \n",
              "\n",
              "    income_level  \n",
              "0   высший класс  \n",
              "1         бедные  \n",
              "2  выше бедности  \n",
              "3   высший класс  \n",
              "4  выше бедности  "
            ]
          },
          "metadata": {}
        }
      ]
    },
    {
      "cell_type": "code",
      "source": "df['income_level'].value_counts()",
      "metadata": {},
      "execution_count": 31,
      "outputs": [
        {
          "execution_count": 31,
          "output_type": "execute_result",
          "data": {
            "text/plain": [
              "высший класс     4305\n",
              "нищие            4305\n",
              "средний класс    4298\n",
              "бедные           4278\n",
              "выше бедности    4267\n",
              "Name: income_level, dtype: int64"
            ]
          },
          "metadata": {}
        }
      ]
    },
    {
      "cell_type": "markdown",
      "source": "**Вывод**\n\nА теперь попробуем ответить на поставленные вопросы. ",
      "metadata": {}
    },
    {
      "cell_type": "markdown",
      "source": "## Шаг 3. Ответьте на вопросы",
      "metadata": {}
    },
    {
      "cell_type": "markdown",
      "source": "- Есть ли зависимость между наличием детей и возвратом кредита в срок?",
      "metadata": {}
    },
    {
      "cell_type": "markdown",
      "source": "Для ответа на этот выведем для наглядности таблицу *а* из предыдущих шагов:",
      "metadata": {}
    },
    {
      "cell_type": "code",
      "source": "round(df.groupby('ch_available')['debt'].mean()*100,2) #выведем на экран данные по наличию детей/задолженность",
      "metadata": {},
      "execution_count": 32,
      "outputs": [
        {
          "execution_count": 32,
          "output_type": "execute_result",
          "data": {
            "text/plain": [
              "ch_available\n",
              "детей нет    7.54\n",
              "дети есть    9.21\n",
              "Name: debt, dtype: float64"
            ]
          },
          "metadata": {}
        }
      ]
    },
    {
      "cell_type": "markdown",
      "source": "В разрезе присутствия в семье детей и их отсутствия, можно сказать следующее:\n* Процент наличия задолженности оп возврату займа, в семьях где **есть** дети составляет - 9,21%\n* Процент наличия задолженности оп возврату займа, в семьях где **нет** детей - 7,54%\nНо значит ли, что наличие детей заставляет копить задолженность? Может быть в семьях с разным количеством детей, эти показатели разные? \n\nПроверим это:",
      "metadata": {}
    },
    {
      "cell_type": "code",
      "source": "round(df.groupby('children')['debt'].mean()*100,2) #выведем на экран данные по количеству детей/задолженность",
      "metadata": {},
      "execution_count": 33,
      "outputs": [
        {
          "execution_count": 33,
          "output_type": "execute_result",
          "data": {
            "text/plain": [
              "children\n",
              "0    7.54\n",
              "1    9.17\n",
              "2    9.49\n",
              "3    8.18\n",
              "4    9.76\n",
              "5    0.00\n",
              "Name: debt, dtype: float64"
            ]
          },
          "metadata": {}
        }
      ]
    },
    {
      "cell_type": "markdown",
      "source": "Тут можно наблюдать следующую картину:\n* в семьях с 1 ребенком, процент задолженности в своей группе составляет 9,17%\n* с 2мя детьми, такой процент чуть выше - 9,49%\n* с 3мя детьми, мы должны были увидеть небольшой рост (как в двух категориях выше), но тут падение на 1,3% и такой процент составляет 8,18%\n* в семьях с 4мя детьми, процент задолженности снова выше, и выше он всех предудщих категорий - 9,76%\n* ну а самая неождианность - семьи с 5ю детьми. У таких семей задолженность отсутствует вприципе.",
      "metadata": {}
    },
    {
      "cell_type": "markdown",
      "source": "**Вывод**",
      "metadata": {}
    },
    {
      "cell_type": "markdown",
      "source": "В целом, наличие детей влияет на появление задолженности по займу. И чем больше детей, тем выше этот процент становится. Но у нас есть абсолютно выбивающийся показатель семей с 5ю детьми, как так вышло? Тут можно оценить добросовестность заемщиков. Но не стоит забывать, таких заемщиков в выборке всего 9 и появление одной задолженности, резко увеличит этот процент с 0 до 10%, тем самым еще раз подтвердя нашу гипотезу.",
      "metadata": {}
    },
    {
      "cell_type": "markdown",
      "source": "- Есть ли зависимость между семейным положением и возвратом кредита в срок?",
      "metadata": {}
    },
    {
      "cell_type": "code",
      "source": "round(df.groupby('family_status')['debt'].mean()*100,2) #выведем на экран данные по семейному положению/задолженность",
      "metadata": {},
      "execution_count": 34,
      "outputs": [
        {
          "execution_count": 34,
          "output_type": "execute_result",
          "data": {
            "text/plain": [
              "family_status\n",
              "в разводе                7.11\n",
              "вдовец / вдова           6.57\n",
              "гражданский брак         9.35\n",
              "женат / замужем          7.55\n",
              "не женат / не замужем    9.75\n",
              "Name: debt, dtype: float64"
            ]
          },
          "metadata": {}
        }
      ]
    },
    {
      "cell_type": "markdown",
      "source": "**Вывод**",
      "metadata": {}
    },
    {
      "cell_type": "markdown",
      "source": "Начнем от выского к низкому:\n* самый высокий процент задолженности в группе *не женат / не замужем* - 9,75%\n* незначительно меньше у людей в *гражданском браке* - 9,35%\n* ниже процент становится в группе *женат / замужем* - 7,55%\n* немного меньше у тех, кто *в разводе* - 7,11%\n* ну и самая низкая задолженность у *вдовцов* - 6,57%\n\nМожно заметить закономерность, что у людей после вступления в брак (имеется ввиду и люди в нем состоявшие) процент задолженности значительно падает, и их можно рассматривать как благонадежных заемщиков.",
      "metadata": {}
    },
    {
      "cell_type": "markdown",
      "source": "- Есть ли зависимость между уровнем дохода и возвратом кредита в срок?",
      "metadata": {}
    },
    {
      "cell_type": "code",
      "source": "round(df.groupby('income_level')['debt'].mean()*100.,2) #выведем на экран данные по уровеню дохода/задолженность",
      "metadata": {},
      "execution_count": 35,
      "outputs": [
        {
          "execution_count": 35,
          "output_type": "execute_result",
          "data": {
            "text/plain": [
              "income_level\n",
              "бедные           8.42\n",
              "высший класс     7.02\n",
              "выше бедности    8.76\n",
              "нищие            8.01\n",
              "средний класс    8.38\n",
              "Name: debt, dtype: float64"
            ]
          },
          "metadata": {}
        }
      ]
    },
    {
      "cell_type": "markdown",
      "source": "**Вывод**",
      "metadata": {}
    },
    {
      "cell_type": "markdown",
      "source": "В разрезе классов, мы получили следующие результаты :\n1. Нищие - 8,01%\n\n2. Бедные - 8,42%\n\n3. Выше бедности- 8,76%\n\n4. Средний класс - 8,38%\n\n5. Высший класс (богатые и сверхбогатые) - 7,02%\n\nМожно заметить, что люди в классе \"нищие\" и \"выскшие класс\" стараются избегать задолженности *(она у них в группе составляет 8,01% и 7,02% соответственно)*. Самая высокая задолженность в классе \"выше бедности\" *(8,76%)*. К среднему уровню задолженности можно отнести класс \"бедные\" - 8,42% и \"средний класс\" - 8,38%.\n\nМожно рассматривать как более благонадженых заемщиков людей в высшем классе, менее - в классе \"выше бедности\". Однако, можно отметить, что практически все значения (в четрыех группах из 5) колеблются в районе 8%, это связано с тем, что Заказчик не передал для анализа свой вариант разделения на классы по уровню заработной платы. И по сути мы усреднили эти 5 групп по количеству человек в нихи на вызоде получили те же самые \"средние\" результаты у всех.",
      "metadata": {}
    },
    {
      "cell_type": "markdown",
      "source": "- Как разные цели кредита влияют на его возврат в срок?",
      "metadata": {}
    },
    {
      "cell_type": "markdown",
      "source": "Также обратимся к сводной таблице *d* из предыдущего шага:",
      "metadata": {}
    },
    {
      "cell_type": "code",
      "source": "round(df.groupby('purpose_def')['debt'].mean()*100,2) #выведем на экран данные по цели кредита/задолженность",
      "metadata": {},
      "execution_count": 36,
      "outputs": [
        {
          "execution_count": 36,
          "output_type": "execute_result",
          "data": {
            "text/plain": [
              "purpose_def\n",
              "бракосочетание              8.00\n",
              "операции с автомобилем      9.36\n",
              "операции с недвижимостью    7.23\n",
              "получение образования       9.22\n",
              "Name: debt, dtype: float64"
            ]
          },
          "metadata": {}
        }
      ]
    },
    {
      "cell_type": "markdown",
      "source": "**Вывод**",
      "metadata": {}
    },
    {
      "cell_type": "markdown",
      "source": "Пойдем по нисходящей:\n* большой процент задолженности в группе *операции с автомобилем* - 9,36%\n* затем идет группа *получение образования* - 9,22%\n* на *бракосочетание* приходится - 8%\n* а на *операции с недвижимостью* - 7,23%\n\nКак можно увидеть наиболее рискованные, с точки зрения задолженности, являются операции с автомобилем, а наименее - операции с недвижимостью.",
      "metadata": {}
    },
    {
      "cell_type": "code",
      "source": "df.groupby('family_status')['debt'].mean()*100",
      "metadata": {},
      "execution_count": 37,
      "outputs": [
        {
          "execution_count": 37,
          "output_type": "execute_result",
          "data": {
            "text/plain": [
              "family_status\n",
              "в разводе                7.112971\n",
              "вдовец / вдова           6.569343\n",
              "гражданский брак         9.347145\n",
              "женат / замужем          7.545182\n",
              "не женат / не замужем    9.750890\n",
              "Name: debt, dtype: float64"
            ]
          },
          "metadata": {}
        }
      ]
    },
    {
      "cell_type": "markdown",
      "source": "## Шаг 4. Общий вывод",
      "metadata": {}
    },
    {
      "cell_type": "markdown",
      "source": "Сделав предвариательный анализ и рассмотрев исходные данные, можем отметить, что существует проблема наполнения данных и качества. В кредитном отделе на этапе ввода необходимо  сделать логические контроли, чтобы не мог был возраст человека нулевым, цели кредита и семейное положение были формализованы и не требовали набора вручную. Стоит обратить внимание на выгрузку данных, так как в наше датасете были потеряны 10% данных о стаже и заработной плате, ведь эти проценты могут легко увеличиться, и исследование уже не будет корректным, будет потрачено время на восстановление данных.\n\nЧто касается наших вопросов, несомненно каждый аспект влияет на появление задолженности. Выведем сводную таблицу оценки портрета заемщика, таких портретов будет 5. Где 1 - самый худший вариант (вероятно возникнет задолженность), а 5 - самый лучший вариант (маловероятно, что возникнет задолженность):\n",
      "metadata": {}
    },
    {
      "cell_type": "code",
      "source": "data_research = [['Количество детей', '4 ребенка и более', '2 ребенка', '1 ребенок', '3 ребенка', 'детей нет'],\n          ['Семейное положение', 'не женат / не замужем', 'граждаский брак', 'женат / замужем', 'в разводе', 'вдовец / вдова'],\n         ['Класс по заработку','выше бедности','бедные','средний класс','нищие','высший класс'],\n         ['Цель займа','операции с автомобилем','операции с автомобилем','получение образования','бракосочетание ','операции с недвижимостью']]\ncolumns_end = ['Параметры', '1 (хуже)','2','3','4','5 (лучше)']\nconclusion = pd.DataFrame(data = data_research, columns = columns_end)\ndisplay(conclusion)",
      "metadata": {},
      "execution_count": 38,
      "outputs": [
        {
          "output_type": "display_data",
          "data": {
            "text/html": [
              "<div>\n",
              "<style scoped>\n",
              "    .dataframe tbody tr th:only-of-type {\n",
              "        vertical-align: middle;\n",
              "    }\n",
              "\n",
              "    .dataframe tbody tr th {\n",
              "        vertical-align: top;\n",
              "    }\n",
              "\n",
              "    .dataframe thead th {\n",
              "        text-align: right;\n",
              "    }\n",
              "</style>\n",
              "<table border=\"1\" class=\"dataframe\">\n",
              "  <thead>\n",
              "    <tr style=\"text-align: right;\">\n",
              "      <th></th>\n",
              "      <th>Параметры</th>\n",
              "      <th>1 (хуже)</th>\n",
              "      <th>2</th>\n",
              "      <th>3</th>\n",
              "      <th>4</th>\n",
              "      <th>5 (лучше)</th>\n",
              "    </tr>\n",
              "  </thead>\n",
              "  <tbody>\n",
              "    <tr>\n",
              "      <td>0</td>\n",
              "      <td>Количество детей</td>\n",
              "      <td>4 ребенка и более</td>\n",
              "      <td>2 ребенка</td>\n",
              "      <td>1 ребенок</td>\n",
              "      <td>3 ребенка</td>\n",
              "      <td>детей нет</td>\n",
              "    </tr>\n",
              "    <tr>\n",
              "      <td>1</td>\n",
              "      <td>Семейное положение</td>\n",
              "      <td>не женат / не замужем</td>\n",
              "      <td>граждаский брак</td>\n",
              "      <td>женат / замужем</td>\n",
              "      <td>в разводе</td>\n",
              "      <td>вдовец / вдова</td>\n",
              "    </tr>\n",
              "    <tr>\n",
              "      <td>2</td>\n",
              "      <td>Класс по заработку</td>\n",
              "      <td>выше бедности</td>\n",
              "      <td>бедные</td>\n",
              "      <td>средний класс</td>\n",
              "      <td>нищие</td>\n",
              "      <td>высший класс</td>\n",
              "    </tr>\n",
              "    <tr>\n",
              "      <td>3</td>\n",
              "      <td>Цель займа</td>\n",
              "      <td>операции с автомобилем</td>\n",
              "      <td>операции с автомобилем</td>\n",
              "      <td>получение образования</td>\n",
              "      <td>бракосочетание</td>\n",
              "      <td>операции с недвижимостью</td>\n",
              "    </tr>\n",
              "  </tbody>\n",
              "</table>\n",
              "</div>"
            ],
            "text/plain": [
              "            Параметры                1 (хуже)                       2  \\\n",
              "0    Количество детей       4 ребенка и более               2 ребенка   \n",
              "1  Семейное положение   не женат / не замужем         граждаский брак   \n",
              "2  Класс по заработку           выше бедности                  бедные   \n",
              "3          Цель займа  операции с автомобилем  операции с автомобилем   \n",
              "\n",
              "                       3                4                 5 (лучше)  \n",
              "0              1 ребенок        3 ребенка                 детей нет  \n",
              "1        женат / замужем        в разводе            вдовец / вдова  \n",
              "2          средний класс            нищие              высший класс  \n",
              "3  получение образования  бракосочетание   операции с недвижимостью  "
            ]
          },
          "metadata": {}
        }
      ]
    },
    {
      "cell_type": "markdown",
      "source": "Однако следует заметить, что для получения более объективного анализа, от Заказчика необходимо получить критерии по уровню заработной платы, чтобы точно определить класс заемщика. И тогда конечный итог может несколько другим.",
      "metadata": {}
    }
  ]
}