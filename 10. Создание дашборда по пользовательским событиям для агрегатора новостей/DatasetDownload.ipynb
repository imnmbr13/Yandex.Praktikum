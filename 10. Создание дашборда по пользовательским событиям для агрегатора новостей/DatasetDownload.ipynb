{
 "cells": [
  {
   "cell_type": "markdown",
   "id": "680bb958",
   "metadata": {},
   "source": [
    "# Импорт данных для построения дашборда"
   ]
  },
  {
   "cell_type": "markdown",
   "id": "bd4d4d76",
   "metadata": {},
   "source": [
    "Создадим подключение к базе, и сохраним полученный резлуьтат в переменную"
   ]
  },
  {
   "cell_type": "code",
   "execution_count": 2,
   "id": "f366b6b8",
   "metadata": {},
   "outputs": [
    {
     "name": "stdout",
     "output_type": "stream",
     "text": [
      "Collecting psycopg2\n",
      "  Downloading psycopg2-2.9.3-cp39-cp39-win_amd64.whl (1.2 MB)\n",
      "Installing collected packages: psycopg2\n",
      "Successfully installed psycopg2-2.9.3\n"
     ]
    }
   ],
   "source": [
    "# импортируем библиотеки\n",
    "!pip install psycopg2\n",
    "import pandas as pd\n",
    "from sqlalchemy import create_engine\n",
    "\n",
    "db_config = {'user': 'praktikum_student', # имя пользователя\n",
    "            'pwd': 'Sdf4$2;d-d30pp', # пароль\n",
    "            'host': 'rc1b-wcoijxj3yxfsf3fs.mdb.yandexcloud.net',\n",
    "            'port': 6432, # порт подключения\n",
    "            'db': 'data-analyst-zen-project-db'} # название базы данных\n",
    "\n",
    "connection_string = 'postgresql://{}:{}@{}:{}/{}'.format(db_config['user'],\n",
    "                                                db_config['pwd'],\n",
    "                                                db_config['host'],\n",
    "                                                db_config['port'],\n",
    "                                                db_config['db'])\n",
    "\n",
    "engine = create_engine(connection_string)\n",
    "\n",
    "query = ''' SELECT *\n",
    "            FROM dash_visits\n",
    "        '''\n",
    "\n",
    "dash_visits = pd.io.sql.read_sql(query, con = engine)"
   ]
  },
  {
   "cell_type": "markdown",
   "id": "3f48547d",
   "metadata": {},
   "source": [
    "Выведем на экран полученный датасет"
   ]
  },
  {
   "cell_type": "code",
   "execution_count": 3,
   "id": "f8cc6eea",
   "metadata": {
    "scrolled": false
   },
   "outputs": [
    {
     "data": {
      "text/html": [
       "<div>\n",
       "<style scoped>\n",
       "    .dataframe tbody tr th:only-of-type {\n",
       "        vertical-align: middle;\n",
       "    }\n",
       "\n",
       "    .dataframe tbody tr th {\n",
       "        vertical-align: top;\n",
       "    }\n",
       "\n",
       "    .dataframe thead th {\n",
       "        text-align: right;\n",
       "    }\n",
       "</style>\n",
       "<table border=\"1\" class=\"dataframe\">\n",
       "  <thead>\n",
       "    <tr style=\"text-align: right;\">\n",
       "      <th></th>\n",
       "      <th>record_id</th>\n",
       "      <th>item_topic</th>\n",
       "      <th>source_topic</th>\n",
       "      <th>age_segment</th>\n",
       "      <th>dt</th>\n",
       "      <th>visits</th>\n",
       "    </tr>\n",
       "  </thead>\n",
       "  <tbody>\n",
       "    <tr>\n",
       "      <th>0</th>\n",
       "      <td>1040597</td>\n",
       "      <td>Деньги</td>\n",
       "      <td>Авто</td>\n",
       "      <td>18-25</td>\n",
       "      <td>2019-09-24 18:32:00</td>\n",
       "      <td>3</td>\n",
       "    </tr>\n",
       "    <tr>\n",
       "      <th>1</th>\n",
       "      <td>1040598</td>\n",
       "      <td>Деньги</td>\n",
       "      <td>Авто</td>\n",
       "      <td>18-25</td>\n",
       "      <td>2019-09-24 18:35:00</td>\n",
       "      <td>1</td>\n",
       "    </tr>\n",
       "    <tr>\n",
       "      <th>2</th>\n",
       "      <td>1040599</td>\n",
       "      <td>Деньги</td>\n",
       "      <td>Авто</td>\n",
       "      <td>18-25</td>\n",
       "      <td>2019-09-24 18:54:00</td>\n",
       "      <td>4</td>\n",
       "    </tr>\n",
       "    <tr>\n",
       "      <th>3</th>\n",
       "      <td>1040600</td>\n",
       "      <td>Деньги</td>\n",
       "      <td>Авто</td>\n",
       "      <td>18-25</td>\n",
       "      <td>2019-09-24 18:55:00</td>\n",
       "      <td>17</td>\n",
       "    </tr>\n",
       "    <tr>\n",
       "      <th>4</th>\n",
       "      <td>1040601</td>\n",
       "      <td>Деньги</td>\n",
       "      <td>Авто</td>\n",
       "      <td>18-25</td>\n",
       "      <td>2019-09-24 18:56:00</td>\n",
       "      <td>27</td>\n",
       "    </tr>\n",
       "    <tr>\n",
       "      <th>...</th>\n",
       "      <td>...</td>\n",
       "      <td>...</td>\n",
       "      <td>...</td>\n",
       "      <td>...</td>\n",
       "      <td>...</td>\n",
       "      <td>...</td>\n",
       "    </tr>\n",
       "    <tr>\n",
       "      <th>30740</th>\n",
       "      <td>1071337</td>\n",
       "      <td>Юмор</td>\n",
       "      <td>Финансы</td>\n",
       "      <td>36-40</td>\n",
       "      <td>2019-09-24 18:57:00</td>\n",
       "      <td>2</td>\n",
       "    </tr>\n",
       "    <tr>\n",
       "      <th>30741</th>\n",
       "      <td>1071338</td>\n",
       "      <td>Юмор</td>\n",
       "      <td>Финансы</td>\n",
       "      <td>36-40</td>\n",
       "      <td>2019-09-24 19:00:00</td>\n",
       "      <td>1</td>\n",
       "    </tr>\n",
       "    <tr>\n",
       "      <th>30742</th>\n",
       "      <td>1071339</td>\n",
       "      <td>Юмор</td>\n",
       "      <td>Финансы</td>\n",
       "      <td>41-45</td>\n",
       "      <td>2019-09-24 18:54:00</td>\n",
       "      <td>1</td>\n",
       "    </tr>\n",
       "    <tr>\n",
       "      <th>30743</th>\n",
       "      <td>1071340</td>\n",
       "      <td>Юмор</td>\n",
       "      <td>Финансы</td>\n",
       "      <td>41-45</td>\n",
       "      <td>2019-09-24 18:56:00</td>\n",
       "      <td>1</td>\n",
       "    </tr>\n",
       "    <tr>\n",
       "      <th>30744</th>\n",
       "      <td>1071341</td>\n",
       "      <td>Юмор</td>\n",
       "      <td>Финансы</td>\n",
       "      <td>41-45</td>\n",
       "      <td>2019-09-24 19:00:00</td>\n",
       "      <td>1</td>\n",
       "    </tr>\n",
       "  </tbody>\n",
       "</table>\n",
       "<p>30745 rows × 6 columns</p>\n",
       "</div>"
      ],
      "text/plain": [
       "       record_id item_topic source_topic age_segment                  dt  \\\n",
       "0        1040597     Деньги         Авто       18-25 2019-09-24 18:32:00   \n",
       "1        1040598     Деньги         Авто       18-25 2019-09-24 18:35:00   \n",
       "2        1040599     Деньги         Авто       18-25 2019-09-24 18:54:00   \n",
       "3        1040600     Деньги         Авто       18-25 2019-09-24 18:55:00   \n",
       "4        1040601     Деньги         Авто       18-25 2019-09-24 18:56:00   \n",
       "...          ...        ...          ...         ...                 ...   \n",
       "30740    1071337       Юмор      Финансы       36-40 2019-09-24 18:57:00   \n",
       "30741    1071338       Юмор      Финансы       36-40 2019-09-24 19:00:00   \n",
       "30742    1071339       Юмор      Финансы       41-45 2019-09-24 18:54:00   \n",
       "30743    1071340       Юмор      Финансы       41-45 2019-09-24 18:56:00   \n",
       "30744    1071341       Юмор      Финансы       41-45 2019-09-24 19:00:00   \n",
       "\n",
       "       visits  \n",
       "0           3  \n",
       "1           1  \n",
       "2           4  \n",
       "3          17  \n",
       "4          27  \n",
       "...       ...  \n",
       "30740       2  \n",
       "30741       1  \n",
       "30742       1  \n",
       "30743       1  \n",
       "30744       1  \n",
       "\n",
       "[30745 rows x 6 columns]"
      ]
     },
     "execution_count": 3,
     "metadata": {},
     "output_type": "execute_result"
    }
   ],
   "source": [
    "dash_visits"
   ]
  },
  {
   "cell_type": "markdown",
   "id": "600e5bb0",
   "metadata": {},
   "source": [
    "# Предобработка данных"
   ]
  },
  {
   "cell_type": "markdown",
   "id": "df248c25",
   "metadata": {},
   "source": [
    "С помощью функции выполним автоматическую проверку данных в датасете"
   ]
  },
  {
   "cell_type": "code",
   "execution_count": 9,
   "id": "edbccd25",
   "metadata": {},
   "outputs": [],
   "source": [
    "#функцие будем передавать датасет, в цикле будем перебирать столбцы\n",
    "def dataset_info(dataset):\n",
    "    count = 0\n",
    "    for column in dataset.columns:\n",
    "        count += 1\n",
    "        print('Название столбца:     ',column)                          #покажет как называется столбец\n",
    "        print('Длина столбца:        ',len(dataset[column]))            #отобразит длину столбца\n",
    "        print('Количество пропусков: ',dataset[column].isna().sum())    #отобразит количество пропусков\n",
    "        print('Тип данных в столбце: ',dataset[column].dtype)           #покажет тип данных в столбце\n",
    "        print('Пример значений:      ')                                 \n",
    "        print(dataset[column].unique())                                 #отобразит уникальные значения\n",
    "        print('Количество уникальных значений',dataset[column].nunique()) #отобразит количество уникальных значений\n",
    "        print('----------------')\n",
    "    print('Всего столбцов в датасете:', count)                          #подсчитаем количество столбцов в датасете\n",
    "    print('Количество полных дубликатов строк: ',dataset.duplicated().sum()) "
   ]
  },
  {
   "cell_type": "code",
   "execution_count": 10,
   "id": "f9c7d1f3",
   "metadata": {},
   "outputs": [
    {
     "name": "stdout",
     "output_type": "stream",
     "text": [
      "Название столбца:      record_id\n",
      "Длина столбца:         30745\n",
      "Количество пропусков:  0\n",
      "Тип данных в столбце:  int64\n",
      "Пример значений:      \n",
      "[1040597 1040598 1040599 ... 1071339 1071340 1071341]\n",
      "Количество уникальных значений 30745\n",
      "----------------\n",
      "Название столбца:      item_topic\n",
      "Длина столбца:         30745\n",
      "Количество пропусков:  0\n",
      "Тип данных в столбце:  object\n",
      "Пример значений:      \n",
      "['Деньги' 'Дети' 'Женская психология' 'Женщины' 'Здоровье' 'Знаменитости'\n",
      " 'Интересные факты' 'Искусство' 'История' 'Красота' 'Культура' 'Наука'\n",
      " 'Общество' 'Отношения' 'Подборки' 'Полезные советы' 'Психология'\n",
      " 'Путешествия' 'Рассказы' 'Россия' 'Семья' 'Скандалы' 'Туризм' 'Шоу'\n",
      " 'Юмор']\n",
      "Количество уникальных значений 25\n",
      "----------------\n",
      "Название столбца:      source_topic\n",
      "Длина столбца:         30745\n",
      "Количество пропусков:  0\n",
      "Тип данных в столбце:  object\n",
      "Пример значений:      \n",
      "['Авто' 'Деньги' 'Дети' 'Еда' 'Здоровье' 'Знаменитости' 'Интерьеры'\n",
      " 'Искусство' 'История' 'Кино' 'Музыка' 'Одежда' 'Полезные советы'\n",
      " 'Политика' 'Психология' 'Путешествия' 'Ремонт' 'Россия' 'Сад и дача'\n",
      " 'Сделай сам' 'Семейные отношения' 'Семья' 'Спорт' 'Строительство'\n",
      " 'Технологии' 'Финансы']\n",
      "Количество уникальных значений 26\n",
      "----------------\n",
      "Название столбца:      age_segment\n",
      "Длина столбца:         30745\n",
      "Количество пропусков:  0\n",
      "Тип данных в столбце:  object\n",
      "Пример значений:      \n",
      "['18-25' '26-30' '31-35' '36-40' '41-45' '45+']\n",
      "Количество уникальных значений 6\n",
      "----------------\n",
      "Название столбца:      dt\n",
      "Длина столбца:         30745\n",
      "Количество пропусков:  0\n",
      "Тип данных в столбце:  datetime64[ns]\n",
      "Пример значений:      \n",
      "['2019-09-24T18:32:00.000000000' '2019-09-24T18:35:00.000000000'\n",
      " '2019-09-24T18:54:00.000000000' '2019-09-24T18:55:00.000000000'\n",
      " '2019-09-24T18:56:00.000000000' '2019-09-24T18:57:00.000000000'\n",
      " '2019-09-24T18:58:00.000000000' '2019-09-24T18:59:00.000000000'\n",
      " '2019-09-24T19:00:00.000000000' '2019-09-24T18:29:00.000000000'\n",
      " '2019-09-24T18:30:00.000000000' '2019-09-24T18:31:00.000000000'\n",
      " '2019-09-24T18:52:00.000000000' '2019-09-24T18:33:00.000000000'\n",
      " '2019-09-24T18:53:00.000000000' '2019-09-24T18:28:00.000000000'\n",
      " '2019-09-24T18:34:00.000000000']\n",
      "Количество уникальных значений 17\n",
      "----------------\n",
      "Название столбца:      visits\n",
      "Длина столбца:         30745\n",
      "Количество пропусков:  0\n",
      "Тип данных в столбце:  int64\n",
      "Пример значений:      \n",
      "[  3   1   4  17  27  22  24  20   5  13  18  15  10   9  14  11   6   8\n",
      "   7   2  23  33  66  72  71  61  12  25  42  30  16  21  38  43  44  19\n",
      "  79  74  82  47  46  57  29  34  31  51  98  89  41  77  96  86  85  35\n",
      "  32  36  28  60  63  55  65 101  92  95  26  56  49  54  69  78  75  68\n",
      "  50  94 119 111  53  58  59  45  40 165 164 136 128  48  39  52  37  88\n",
      " 133 106 108 149 169 178 153  64  70  80  83 102  90 142 152 182 143  73\n",
      " 104  62  67 121 209 228 218 183  76 186 200 206 219  84 185 207 100 110\n",
      " 105 202 184 168 132 126 211 197 180 113 107 115 103 141 235 177  91 123\n",
      " 135 116 125 127  97 130 114  99  87 139 145 147 124 137 264 276 231 112\n",
      " 163 138 158 160 166 155 118  81 120 109 173 266 331 291 324 144 190 201\n",
      " 216 175 170 199 192 117 256 297 283 236 194 171  93 210 240 243 134 151\n",
      " 129 176 225 349 364 371 312 161 167 270 246 232 181 146]\n",
      "Количество уникальных значений 212\n",
      "----------------\n",
      "Всего столбцов в датасете: 6\n",
      "Количество полных дубликатов строк:  0\n"
     ]
    }
   ],
   "source": [
    "dataset_info(dash_visits)"
   ]
  },
  {
   "cell_type": "markdown",
   "id": "27a30c67",
   "metadata": {},
   "source": [
    "После проверки имеем следующее:\n",
    "Всего в датасете 6 столбцов, 30745 строк, полных дубликатов строк нет.\n",
    "\n",
    "столбец `record_id`:\n",
    "* число строк -30745;\n",
    "* пропуски отсутствуют;\n",
    "* тип данных корректный;\n",
    "* все записи уникальны.\n",
    "\n",
    "столбец `item_topic`:\n",
    "* число строк -30745;\n",
    "* пропуски отсутствуют;\n",
    "* тип данных корректный;\n",
    "* содержит 25 уникальных значений.\n",
    "\n",
    "столбец `source_topic`:\n",
    "* число строк -30745;\n",
    "* пропуски отсутствуют;\n",
    "* тип данных корректный;\n",
    "* содержит 26 уникальных значений.\n",
    "\n",
    "столбец `age_segment`:\n",
    "* число строк -30745;\n",
    "* пропуски отсутствуют;\n",
    "* тип данных корректный;\n",
    "* содержит 6 уникальных значений.\n",
    "\n",
    "столбец `dt`:\n",
    "* число строк -30745;\n",
    "* пропуски отсутствуют;\n",
    "* тип данных корректный;\n",
    "* содержит 17 уникальных значений.\n",
    "\n",
    "столбец `visits`:\n",
    "* число строк -30745;\n",
    "* пропуски отсутствуют;\n",
    "* тип данных корректный;\n",
    "* содержит 212 уникальных значений.\n",
    "\n",
    "Данные в хорошем состоянии, можно использовать для дальнейшего анализа."
   ]
  },
  {
   "cell_type": "markdown",
   "id": "8b21d9ea",
   "metadata": {},
   "source": [
    "Дополнительно посмотрим количество уникаьных значений их количество с столбцах `item_topic`, `source_topic`, `age_segment`"
   ]
  },
  {
   "cell_type": "code",
   "execution_count": 11,
   "id": "bec06905",
   "metadata": {},
   "outputs": [
    {
     "data": {
      "text/plain": [
       "Отношения             1536\n",
       "Интересные факты      1535\n",
       "Наука                 1505\n",
       "Подборки              1456\n",
       "Полезные советы       1424\n",
       "Общество              1422\n",
       "Россия                1385\n",
       "История               1363\n",
       "Семья                 1287\n",
       "Путешествия           1247\n",
       "Деньги                1234\n",
       "Женщины               1230\n",
       "Дети                  1229\n",
       "Туризм                1206\n",
       "Здоровье              1203\n",
       "Красота               1193\n",
       "Культура              1160\n",
       "Юмор                  1129\n",
       "Искусство             1119\n",
       "Рассказы              1109\n",
       "Психология            1056\n",
       "Скандалы              1023\n",
       "Знаменитости           976\n",
       "Женская психология     914\n",
       "Шоу                    804\n",
       "Name: item_topic, dtype: int64"
      ]
     },
     "execution_count": 11,
     "metadata": {},
     "output_type": "execute_result"
    }
   ],
   "source": [
    "dash_visits['item_topic'].value_counts()"
   ]
  },
  {
   "cell_type": "markdown",
   "id": "5424140f",
   "metadata": {},
   "source": [
    "Мы имеем топ-3 популярных тем: Отношения, Интересные факты, Наука.\n",
    "\n",
    "Посмотрим топ-3 источников:"
   ]
  },
  {
   "cell_type": "code",
   "execution_count": 12,
   "id": "d5dcae1a",
   "metadata": {
    "scrolled": false
   },
   "outputs": [
    {
     "data": {
      "text/plain": [
       "Семейные отношения    1822\n",
       "Россия                1687\n",
       "Знаменитости          1650\n",
       "Полезные советы       1578\n",
       "Путешествия           1563\n",
       "Кино                  1505\n",
       "Дети                  1459\n",
       "История               1437\n",
       "Семья                 1405\n",
       "Одежда                1379\n",
       "Здоровье              1243\n",
       "Искусство             1228\n",
       "Авто                  1077\n",
       "Психология            1055\n",
       "Сад и дача            1036\n",
       "Политика              1024\n",
       "Спорт                 1007\n",
       "Сделай сам             995\n",
       "Ремонт                 985\n",
       "Деньги                 973\n",
       "Еда                    912\n",
       "Интерьеры              809\n",
       "Строительство          758\n",
       "Музыка                 750\n",
       "Технологии             741\n",
       "Финансы                667\n",
       "Name: source_topic, dtype: int64"
      ]
     },
     "execution_count": 12,
     "metadata": {},
     "output_type": "execute_result"
    }
   ],
   "source": [
    "dash_visits['source_topic'].value_counts()"
   ]
  },
  {
   "cell_type": "markdown",
   "id": "652ac67d",
   "metadata": {},
   "source": [
    "Топ-3 источников выглядит так: Семейные отношения, Россия, Знаменитости.\n",
    "\n",
    "Посмотрим на сегменты по возрасту:"
   ]
  },
  {
   "cell_type": "code",
   "execution_count": 13,
   "id": "4ae18edf",
   "metadata": {},
   "outputs": [
    {
     "data": {
      "text/plain": [
       "18-25    7056\n",
       "26-30    5875\n",
       "31-35    5552\n",
       "36-40    5105\n",
       "41-45    3903\n",
       "45+      3254\n",
       "Name: age_segment, dtype: int64"
      ]
     },
     "execution_count": 13,
     "metadata": {},
     "output_type": "execute_result"
    }
   ],
   "source": [
    "dash_visits['age_segment'].value_counts()"
   ]
  },
  {
   "cell_type": "markdown",
   "id": "ce9c28a4",
   "metadata": {},
   "source": [
    "Большую массу пользоватлей составляют люди возраста: 18-25 лет, затем идут 26-30 и лишь потом 31-35."
   ]
  },
  {
   "cell_type": "markdown",
   "id": "e84b8edb",
   "metadata": {},
   "source": [
    "Посмотрим за какой период у нас имеются данные"
   ]
  },
  {
   "cell_type": "code",
   "execution_count": 16,
   "id": "8112d24f",
   "metadata": {},
   "outputs": [
    {
     "name": "stdout",
     "output_type": "stream",
     "text": [
      "Минимальная дата в данных: 2019-09-24 18:28:00 \n",
      "Максимальная дата в данных: 2019-09-24 19:00:00 \n",
      "Имеем данные за период: 0 days 00:32:00\n"
     ]
    }
   ],
   "source": [
    "print('Минимальная дата в данных:',dash_visits['dt'].min(),\\\n",
    "      '\\nМаксимальная дата в данных:',dash_visits['dt'].max(),\n",
    "     '\\nИмеем данные за период:',dash_visits['dt'].max()-dash_visits['dt'].min())"
   ]
  },
  {
   "cell_type": "markdown",
   "id": "3d32c2c7",
   "metadata": {},
   "source": [
    "Данные мы имеем в периоде 32 минут 24 сентября 2019 года, с 18:28 до 19:00."
   ]
  },
  {
   "cell_type": "markdown",
   "id": "01bde74d",
   "metadata": {},
   "source": [
    "Взглянем на частоту посещений:"
   ]
  },
  {
   "cell_type": "code",
   "execution_count": 24,
   "id": "48a6ee92",
   "metadata": {
    "scrolled": true
   },
   "outputs": [
    {
     "data": {
      "image/png": "[encoded data removed]",
      "text/plain": [
       "<Figure size 1080x288 with 1 Axes>"
      ]
     },
     "metadata": {
      "needs_background": "light"
     },
     "output_type": "display_data"
    }
   ],
   "source": [
    "dash_visits['visits'].hist(bins=100, figsize=(15,4), range=(0,50)); "
   ]
  },
  {
   "cell_type": "code",
   "execution_count": 25,
   "id": "f10ce5ee",
   "metadata": {},
   "outputs": [
    {
     "data": {
      "image/png": "[encoded data removed]",
      "text/plain": [
       "<Figure size 1080x288 with 1 Axes>"
      ]
     },
     "metadata": {
      "needs_background": "light"
     },
     "output_type": "display_data"
    }
   ],
   "source": [
    "dash_visits['visits'].hist(bins=100, figsize=(15,4), range=(50,300));"
   ]
  },
  {
   "cell_type": "markdown",
   "id": "c3407879",
   "metadata": {},
   "source": [
    "В основной своей массе, лди совершают до 50 действий."
   ]
  },
  {
   "cell_type": "code",
   "execution_count": 17,
   "id": "e8876d3d",
   "metadata": {},
   "outputs": [],
   "source": [
    "dash_visits.to_csv('dash_visits.csv', index=False)"
   ]
  },
  {
   "cell_type": "markdown",
   "id": "802be576",
   "metadata": {},
   "source": [
    "Проверим успешность записи данных:"
   ]
  },
  {
   "cell_type": "code",
   "execution_count": 18,
   "id": "50555808",
   "metadata": {},
   "outputs": [
    {
     "data": {
      "text/html": [
       "<div>\n",
       "<style scoped>\n",
       "    .dataframe tbody tr th:only-of-type {\n",
       "        vertical-align: middle;\n",
       "    }\n",
       "\n",
       "    .dataframe tbody tr th {\n",
       "        vertical-align: top;\n",
       "    }\n",
       "\n",
       "    .dataframe thead th {\n",
       "        text-align: right;\n",
       "    }\n",
       "</style>\n",
       "<table border=\"1\" class=\"dataframe\">\n",
       "  <thead>\n",
       "    <tr style=\"text-align: right;\">\n",
       "      <th></th>\n",
       "      <th>record_id</th>\n",
       "      <th>item_topic</th>\n",
       "      <th>source_topic</th>\n",
       "      <th>age_segment</th>\n",
       "      <th>dt</th>\n",
       "      <th>visits</th>\n",
       "    </tr>\n",
       "  </thead>\n",
       "  <tbody>\n",
       "    <tr>\n",
       "      <th>0</th>\n",
       "      <td>1040597</td>\n",
       "      <td>Деньги</td>\n",
       "      <td>Авто</td>\n",
       "      <td>18-25</td>\n",
       "      <td>2019-09-24 18:32:00</td>\n",
       "      <td>3</td>\n",
       "    </tr>\n",
       "    <tr>\n",
       "      <th>1</th>\n",
       "      <td>1040598</td>\n",
       "      <td>Деньги</td>\n",
       "      <td>Авто</td>\n",
       "      <td>18-25</td>\n",
       "      <td>2019-09-24 18:35:00</td>\n",
       "      <td>1</td>\n",
       "    </tr>\n",
       "    <tr>\n",
       "      <th>2</th>\n",
       "      <td>1040599</td>\n",
       "      <td>Деньги</td>\n",
       "      <td>Авто</td>\n",
       "      <td>18-25</td>\n",
       "      <td>2019-09-24 18:54:00</td>\n",
       "      <td>4</td>\n",
       "    </tr>\n",
       "    <tr>\n",
       "      <th>3</th>\n",
       "      <td>1040600</td>\n",
       "      <td>Деньги</td>\n",
       "      <td>Авто</td>\n",
       "      <td>18-25</td>\n",
       "      <td>2019-09-24 18:55:00</td>\n",
       "      <td>17</td>\n",
       "    </tr>\n",
       "    <tr>\n",
       "      <th>4</th>\n",
       "      <td>1040601</td>\n",
       "      <td>Деньги</td>\n",
       "      <td>Авто</td>\n",
       "      <td>18-25</td>\n",
       "      <td>2019-09-24 18:56:00</td>\n",
       "      <td>27</td>\n",
       "    </tr>\n",
       "    <tr>\n",
       "      <th>5</th>\n",
       "      <td>1040602</td>\n",
       "      <td>Деньги</td>\n",
       "      <td>Авто</td>\n",
       "      <td>18-25</td>\n",
       "      <td>2019-09-24 18:57:00</td>\n",
       "      <td>22</td>\n",
       "    </tr>\n",
       "    <tr>\n",
       "      <th>6</th>\n",
       "      <td>1040603</td>\n",
       "      <td>Деньги</td>\n",
       "      <td>Авто</td>\n",
       "      <td>18-25</td>\n",
       "      <td>2019-09-24 18:58:00</td>\n",
       "      <td>24</td>\n",
       "    </tr>\n",
       "    <tr>\n",
       "      <th>7</th>\n",
       "      <td>1040604</td>\n",
       "      <td>Деньги</td>\n",
       "      <td>Авто</td>\n",
       "      <td>18-25</td>\n",
       "      <td>2019-09-24 18:59:00</td>\n",
       "      <td>20</td>\n",
       "    </tr>\n",
       "    <tr>\n",
       "      <th>8</th>\n",
       "      <td>1040605</td>\n",
       "      <td>Деньги</td>\n",
       "      <td>Авто</td>\n",
       "      <td>18-25</td>\n",
       "      <td>2019-09-24 19:00:00</td>\n",
       "      <td>5</td>\n",
       "    </tr>\n",
       "    <tr>\n",
       "      <th>9</th>\n",
       "      <td>1040606</td>\n",
       "      <td>Деньги</td>\n",
       "      <td>Авто</td>\n",
       "      <td>26-30</td>\n",
       "      <td>2019-09-24 18:29:00</td>\n",
       "      <td>1</td>\n",
       "    </tr>\n",
       "  </tbody>\n",
       "</table>\n",
       "</div>"
      ],
      "text/plain": [
       "   record_id item_topic source_topic age_segment                   dt  visits\n",
       "0    1040597     Деньги         Авто       18-25  2019-09-24 18:32:00       3\n",
       "1    1040598     Деньги         Авто       18-25  2019-09-24 18:35:00       1\n",
       "2    1040599     Деньги         Авто       18-25  2019-09-24 18:54:00       4\n",
       "3    1040600     Деньги         Авто       18-25  2019-09-24 18:55:00      17\n",
       "4    1040601     Деньги         Авто       18-25  2019-09-24 18:56:00      27\n",
       "5    1040602     Деньги         Авто       18-25  2019-09-24 18:57:00      22\n",
       "6    1040603     Деньги         Авто       18-25  2019-09-24 18:58:00      24\n",
       "7    1040604     Деньги         Авто       18-25  2019-09-24 18:59:00      20\n",
       "8    1040605     Деньги         Авто       18-25  2019-09-24 19:00:00       5\n",
       "9    1040606     Деньги         Авто       26-30  2019-09-24 18:29:00       1"
      ]
     },
     "metadata": {},
     "output_type": "display_data"
    }
   ],
   "source": [
    "display(pd.read_csv('dash_visits.csv').head(10))"
   ]
  },
  {
   "cell_type": "markdown",
   "id": "c3b0da08",
   "metadata": {},
   "source": [
    "# Вывод"
   ]
  },
  {
   "cell_type": "markdown",
   "id": "25e5570e",
   "metadata": {},
   "source": [
    "Данные успешно импортированы, изучены и сохранены. В данных пропусков, можем переходить к построению дашборда."
   ]
  },
  {
   "cell_type": "code",
   "execution_count": null,
   "id": "170aba42",
   "metadata": {},
   "outputs": [],
   "source": []
  }
 ],
 "metadata": {
  "kernelspec": {
   "display_name": "Python 3 (ipykernel)",
   "language": "python",
   "name": "python3"
  },
  "language_info": {
   "codemirror_mode": {
    "name": "ipython",
    "version": 3
   },
   "file_extension": ".py",
   "mimetype": "text/x-python",
   "name": "python",
   "nbconvert_exporter": "python",
   "pygments_lexer": "ipython3",
   "version": "3.9.7"
  },
  "toc": {
   "base_numbering": 1,
   "nav_menu": {},
   "number_sections": true,
   "sideBar": true,
   "skip_h1_title": false,
   "title_cell": "Table of Contents",
   "title_sidebar": "Contents",
   "toc_cell": false,
   "toc_position": {},
   "toc_section_display": true,
   "toc_window_display": false
  }
 },
 "nbformat": 4,
 "nbformat_minor": 5
}
